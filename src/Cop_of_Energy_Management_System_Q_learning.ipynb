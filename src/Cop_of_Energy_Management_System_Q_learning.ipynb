{
  "cells": [
    {
      "cell_type": "markdown",
      "metadata": {
        "id": "tO8oNCeyvbtQ"
      },
      "source": [
        "# **Reinforcement Learning Project INF8250EA**\n",
        "# Deep Q-Learning for Energy Management Systems in Microgrid\n",
        "---\n",
        "---\n",
        "\n",
        "This notebook has 4 parts. The goals of these parts are:\n",
        "- **Part 1**:\n",
        "- **Part 2**:\n",
        "- **Part 3**:\n",
        "- **Part 4**:\n",
        "\n",
        "### Installing Dependencies"
      ]
    },
    {
      "cell_type": "markdown",
      "metadata": {
        "id": "DqQtQeTewnA3"
      },
      "source": [
        "Microgrids – self-contained electrical grids that are capable of disconnecting from the main grid – hold potential in both tackling climate change mitigation via reducing CO\n",
        " emissions and adaptation by increasing infrastructure resiliency. Due to their distributed nature, microgrids are often idiosyncratic; as a result, control of these systems is nontrivial.\n",
        "\n",
        " While microgrid simulators exist, many are limited in scope and in the variety of microgrids they can simulate. We propose pymgrid, an open-source Python package to generate and simulate a large number of microgrids, and the first open-source tool that can generate more than 600 different microgrids. pymgrid abstracts most of the domain expertise, allowing users to focus on control algorithms.\n",
        "\n",
        " In particular, pymgrid is built to be a reinforcement learning (RL) platform, and includes the ability to model microgrids as Markov decision processes\n",
        " pymgrid also introduces two pre-computed list of microgrids, intended to allow for research reproducibility in the microgrid setting."
      ]
    },
    {
      "cell_type": "code",
      "source": [
        "!git  clone --depth=1 https://github.com/wa7med/HEM-DeepRL-v2.git\n"
      ],
      "metadata": {
        "colab": {
          "base_uri": "https://localhost:8080/"
        },
        "id": "GY3DKH0wMYaw",
        "outputId": "c13e72f1-90d7-418a-e52f-c8dd15248839"
      },
      "execution_count": 58,
      "outputs": [
        {
          "output_type": "stream",
          "name": "stdout",
          "text": [
            "Cloning into 'HEM-DeepRL-v2'...\n",
            "remote: Enumerating objects: 50, done.\u001b[K\n",
            "remote: Counting objects: 100% (50/50), done.\u001b[K\n",
            "remote: Compressing objects: 100% (49/49), done.\u001b[K\n",
            "remote: Total 50 (delta 0), reused 45 (delta 0), pack-reused 0\u001b[K\n",
            "Receiving objects: 100% (50/50), 6.03 MiB | 9.79 MiB/s, done.\n"
          ]
        }
      ]
    },
    {
      "cell_type": "code",
      "source": [
        "!mv /content/HEM-DeepRL-v2/data/ /content/data"
      ],
      "metadata": {
        "id": "dJtj4HdAMht3"
      },
      "execution_count": 59,
      "outputs": []
    },
    {
      "cell_type": "code",
      "source": [
        "!rm --r /content/HEM-DeepRL-v2"
      ],
      "metadata": {
        "id": "gkw0Q0euMg7Y"
      },
      "execution_count": 60,
      "outputs": []
    },
    {
      "cell_type": "markdown",
      "metadata": {
        "id": "uMseuk_5xVoN"
      },
      "source": [
        "### Env : Smart Home\n"
      ]
    },
    {
      "cell_type": "markdown",
      "source": [
        "### Constants"
      ],
      "metadata": {
        "id": "ItrlQkMM8C0D"
      }
    },
    {
      "cell_type": "code",
      "source": [
        "#Constant that indicates which actions is taken\n",
        "class Actions:\n",
        "\tNO_ACTION = 0\n",
        "\tCHARGE_HOME_wPV = 1         #Charging Home with Photovoltaic\n",
        "\tCHARGE_HOME_wSG = 2         #Charging Home with SmartGrid\n",
        "\n",
        "\tCHARGE_EV_wPV = 3           #Charging EV with Photovoltaic\n",
        "\tCHARGE_EV_wSG = 4           #Charging EV with SmartGrid\n",
        "\n",
        "class Specifications:\n",
        "\tHOME_CAPACITY = 100\n",
        "\tEV_CAPACITY = 100\n",
        "\tEV_DAILY_CONSUME = 11\n",
        "\tEV_CHARGE_WINDOW = [18, 6]      #Charging when the EV is at home and not use\n",
        "\tMAX_CHARGE_FOR_HOUR = 11\n",
        "\n",
        "class Constant:\n",
        "\tMONTHS_LEN = [31, 28, 31, 30, 31, 30, 31, 31, 30, 31, 30, 31]\n",
        "\tMAX_STEP_HOURS = 24 * 30\n"
      ],
      "metadata": {
        "id": "bhCVkUIb4VyV"
      },
      "execution_count": 61,
      "outputs": []
    },
    {
      "cell_type": "markdown",
      "source": [
        "### Class to preprocess PV entry, SG prices and H4 consumes"
      ],
      "metadata": {
        "id": "vgs184d98NBl"
      }
    },
    {
      "cell_type": "code",
      "source": [
        "class ProcessedData:\n",
        "\tdef __init__(self):\n",
        "\t\tself.PV_production = []                       #Production of Photovoltaic\n",
        "\t\tself.SG_prices = []                           #Price of SmartGrid Electricity\n",
        "\t\tself.H4_consumes = []                         #The consumption/need of the home\n",
        "\n",
        "\t# Methods to add the elements in the specific arrays\n",
        "\tdef add_PV_entry(self, el): self.PV_production.append( el )\n",
        "\tdef add_SG_prices(self, el): self.SG_prices.append( el )\n",
        "\tdef add_H4_consumes(self, el): self.H4_consumes.append( el )\n",
        "\n",
        "\t# Get Methods (given month and time return the value)\n",
        "  # To get the element it converts every day in hours\n",
        "\tdef get_PV_entry(self, month, day, day_time): return self.PV_production[ (sum(Constant.MONTHS_LEN[:month-1]) + day - 1) * 24  + day_time ]\n",
        "\tdef get_SG_prices(self, month, day, day_time): return self.SG_prices[ (sum(Constant.MONTHS_LEN[:month-1]) + day - 1) * 24  + day_time ]\n",
        "\tdef get_H4_consumes(self, month, day, day_time): return self.H4_consumes[ (sum(Constant.MONTHS_LEN[:month-1]) + day - 1) * 24  + day_time ]"
      ],
      "metadata": {
        "id": "DfyWZyFx7RnK"
      },
      "execution_count": 62,
      "outputs": []
    },
    {
      "cell_type": "markdown",
      "source": [
        "### Function for plotting"
      ],
      "metadata": {
        "id": "N92Qs24c8y1Q"
      }
    },
    {
      "cell_type": "code",
      "source": [
        "import matplotlib.pyplot as plt\n",
        "import numpy as np\n",
        "from collections import deque\n",
        "\n",
        "class LinePlotter:\n",
        "\n",
        "\tdef __init__(self, x_label=\"X Label\", y_label=\"Y Label\", title=\"No Title\"):\n",
        "\t\tself.fig, self.ax = plt.subplots(1)\n",
        "\t\tself.ax.spines[\"top\"].set_visible(False)\n",
        "\t\tself.ax.spines[\"bottom\"].set_visible(False)\n",
        "\t\tself.ax.spines[\"right\"].set_visible(False)\n",
        "\t\tself.ax.spines[\"left\"].set_visible(False)\n",
        "\t\tself.ax.set_facecolor('#eaeaf2')\n",
        "\t\tplt.grid(color='#ffffff', linestyle='-', linewidth=1)\n",
        "\t\tplt.xticks(fontsize=12)\n",
        "\t\tplt.yticks(fontsize=12)\n",
        "\t\tplt.xlabel(x_label, fontsize=12)\n",
        "\t\tplt.ylabel(y_label, fontsize=12)\n",
        "\t\tplt.title(title, fontsize=16)\n",
        "\t\tself.data_arrays = []\n",
        "\t\tself.array_len = -1\n",
        "\t\tself.mean_array = []\n",
        "\t\tself.var_array =  []\n",
        "\t\tself.max_array = []\n",
        "\t\tself.min_array = []\n",
        "\n",
        "\tdef load_array(self, file_name_arrays, early_stop=None):\n",
        "\t\tdata_arrays = [[np.loadtxt(name, delimiter=' ', unpack=True) for name in array_set] for array_set in file_name_arrays]\n",
        "\t\tif(early_stop == None): self.array_len = min([min([len(el) for el in array_set]) for array_set in data_arrays])\n",
        "\t\telse: self.array_len = early_stop\n",
        "\t\tself.data_arrays = np.array([[el[:self.array_len] for el in array_set] for array_set in data_arrays], dtype=object)\n",
        "\n",
        "\tdef render(self, labels, colors):\n",
        "\t\terr_msg = \"load some data before the render!\"\n",
        "\t\tassert self.array_len > 0, err_msg\n",
        "\t\tfor mean_values, max_values, min_values, label, color in zip(self.mean_array, self.max_array, self.min_array, labels, colors):\n",
        "\t\t\tself.ax.plot(self.x_axes, mean_values, label=label, color=color, linestyle='-', linewidth=1.2 )\n",
        "\t\t\tself.ax.fill_between(self.x_axes, max_values, min_values, facecolor=color, alpha=0.3)\n",
        "\t\tself.ax.legend(loc='lower right', bbox_to_anchor=(1, 0), fontsize=14)\n",
        "\t\tplt.show()\n",
        "\n",
        "\tdef process_data(self, rolling_window=1, starting_pointer=0, early_stop=None):\n",
        "\t\trolling_queue = deque(maxlen=rolling_window)\n",
        "\t\tself.x_axes = [i for i in range(self.array_len-starting_pointer)]\n",
        "\t\tfor array_set in self.data_arrays:\n",
        "\t\t\tfor array in array_set:\n",
        "\t\t\t\tfor i in range(self.array_len):\n",
        "\t\t\t\t\trolling_queue.append(array[i])\n",
        "\t\t\t\t\tarray[i] = np.mean(rolling_queue)\n",
        "\t\t\t\trolling_queue.clear()\n",
        "\t\t# Fix for different array size\n",
        "\t\tself.data_arrays = np.array([np.array(el) for el in self.data_arrays], dtype=object)\n",
        "\t\tself.mean_array = np.array([[np.mean(array_set[:, i]) for i in range(self.array_len)][starting_pointer:] for array_set in self.data_arrays])\n",
        "\t\tself.var_array =  np.array([[np.std(array_set[:, i]) for i in range(self.array_len)][starting_pointer:] for array_set in self.data_arrays])\n",
        "\t\tself.max_array = [[np.max(array_set[:, i]) for i in range(self.array_len)][starting_pointer:] for array_set in self.data_arrays]\n",
        "\t\tself.min_array = [[np.min(array_set[:, i]) for i in range(self.array_len)][starting_pointer:] for array_set in self.data_arrays]\n",
        "\n",
        "\n",
        "class HistoPlotter():\n",
        "\n",
        "\tdef __init__(self):\n",
        "\t\tself.trained_list = []\n",
        "\t\tself.random_list = []\n",
        "\n",
        "\tdef plot( self ):\n",
        "\t\tfig = plt.figure()\n",
        "\t\tax = fig.add_subplot(111)\n",
        "\t\tN = len(self.trained_list)\n",
        "\t\tind = np.arange(N)\n",
        "\t\twidth = 0.35\n",
        "\t\trects1 = ax.bar(ind, self.trained_list, width,\n",
        "\t\t\t\t\t\tcolor='black',\n",
        "\t\t\t\t\t\terror_kw=dict(elinewidth=2,ecolor='Red'))\n",
        "\t\trects2 = ax.bar(ind+width, self.random_list, width,\n",
        "\t\t\t\t\t\t\tcolor='red',\n",
        "\t\t\t\t\t\t\terror_kw=dict(elinewidth=2,ecolor='Blue'))\n",
        "\t\tax.set_xlim(-width,len(ind)+width)\n",
        "\t\tax.set_ylabel('Money Spent (euros)', fontsize=12)\n",
        "\t\tax.set_title('Smart Home')\n",
        "\t\txTickMarks = ['January', 'February', 'March', 'April', 'May', 'June', 'July', 'August', 'September', 'October', 'November', 'December']\n",
        "\t\tax.set_xticks(ind+width)\n",
        "\t\txtickNames = ax.set_xticklabels(xTickMarks)\n",
        "\t\tplt.setp(xtickNames, rotation=45, fontsize=12)\n",
        "\t\tax.legend( (rects1[0], rects2[0]), (f\"Trained Network (total={sum(self.trained_list):6.2f})\", f\"Random Actions (total={sum(self.random_list):6.2f})\"), fontsize=14 )\n",
        "\t\tplt.show()\n",
        "\n",
        "\n",
        "class DoubleLinePlotter():\n",
        "\n",
        "\tdef __init__(self, battery_level=[10, 20, 30], ev_level= [0, 0, 0], price=[30, 20, 10], hourly_charge_sg=[0, 0, 0], hourly_charge_pv=[0, 0, 0] ):\n",
        "\t\tself.battery_level = battery_level\n",
        "\t\tself.ev_level = ev_level\n",
        "\t\tself.charge_sg = hourly_charge_sg\n",
        "\t\tself.charge_pv = hourly_charge_pv\n",
        "\t\tself.price = price\n",
        "\n",
        "\tdef plot( self ):\n",
        "\t\tfig, ax = plt.subplots()\n",
        "\t\taxes = [ax, ax.twinx()]\n",
        "\t\tfig.subplots_adjust(right=0.86)\n",
        "\t\tax.set_xlabel('Time (h)')\n",
        "\n",
        "\t\t# Plot on Axis 1: Battery consupmtion\n",
        "\t\tX = [str(i) for i in range(24)]\n",
        "\t\taxes[0].bar(X, self.charge_sg, color='green', label=\"from SG\")\n",
        "\t\taxes[0].bar(X, self.charge_pv, color='blue', label=\"from PV\")\n",
        "\t\taxes[0].set_ylabel(\"Charge (kWh)\", color='black')\n",
        "\t\taxes[0].tick_params(axis='y', colors='black')\n",
        "\t\taxes[0].legend(loc='upper right', fontsize=14)\n",
        "\n",
        "\t\t# Plot on Axis 2: Price\n",
        "\t\taxes[1].plot(self.price, linestyle='-', color='red', linewidth=1.2)\n",
        "\t\taxes[1].set_ylabel('Price (kWh)', color='red')\n",
        "\t\taxes[1].tick_params(axis='y', colors='red')\n",
        "\n",
        "\t\t# Final Plot\n",
        "\t\tplt.show()\n",
        "\n",
        "\n",
        "class GenerationPlotter():\n",
        "\n",
        "\tdef __init__(self, pv, grid, battery_charge):\n",
        "\t\tself.pv = pv\n",
        "\t\tself.grid = grid\n",
        "\t\tself.battery_charge = battery_charge\n",
        "\n",
        "\tdef plot( self ):\n",
        "\t\tfig, ax = plt.subplots()\n",
        "\t\taxes = [ax, ax.twinx()]\n",
        "\t\tfig.subplots_adjust(right=0.86)\n",
        "\t\tax.set_xlabel('Time (h)')\n",
        "\n",
        "\t\t# Plot on Axis 1: Battery consupmtion\n",
        "\t\tX = [str(i) for i in range(24)]\n",
        "\t\taxes[0].bar(X, self.battery_charge, color='blue', label=\"Battery Discharge\")\n",
        "\t\taxes[0].bar(X, self.pv, color='red', label=\"PV\")\n",
        "\t\taxes[0].bar(X, self.grid, color='green', label=\"Grid\")\n",
        "\t\taxes[0].set_ylabel(\"Energy (kWh)\", color='black')\n",
        "\t\taxes[0].tick_params(axis='y', colors='black')\n",
        "\t\taxes[0].legend(loc='upper right', fontsize=14)\n",
        "\n",
        "\t\t# Plot on Axis 2: Price\n",
        "\t\t#axes[1].plot(self.price, linestyle='-', color='red', linewidth=1.2)\n",
        "\t\t#axes[1].set_ylabel('Price (kWh)', color='red')\n",
        "\t\t#axes[1].tick_params(axis='y', colors='red')\n",
        "\n",
        "\t\t# Final Plot\n",
        "\t\tplt.show()\n",
        "\n",
        "class DemandsPlotter():\n",
        "\n",
        "\tdef __init__(self, house_demands, battery_charge):\n",
        "\t\tself.house_demands = house_demands\n",
        "\t\tself.battery_charge = battery_charge\n",
        "\n",
        "\tdef plot( self ):\n",
        "\t\tfig, ax = plt.subplots()\n",
        "\t\taxes = [ax, ax.twinx()]\n",
        "\t\tfig.subplots_adjust(right=0.86)\n",
        "\t\tax.set_xlabel('Time (h)')\n",
        "\n",
        "\t\t# Plot on Axis 1: Battery consupmtion\n",
        "\t\tX = [str(i) for i in range(24)]\n",
        "\t\taxes[0].bar(X, self.battery_charge, color='green', label=\"Battery Charge\")\n",
        "\t\taxes[0].bar(X, self.house_demands, color='blue', label=\"House Demands\")\n",
        "\t\taxes[0].set_ylabel(\"Energy (kWh)\", color='black')\n",
        "\t\taxes[0].tick_params(axis='y', colors='black')\n",
        "\t\taxes[0].legend(loc='upper right', fontsize=14)\n",
        "\n",
        "\t\t# Plot on Axis 2: Price\n",
        "\t\t#axes[1].plot(self.price, linestyle='-', color='red', linewidth=1.2)\n",
        "\t\t#axes[1].set_ylabel('Price (kWh)', color='red')\n",
        "\t\t#axes[1].tick_params(axis='y', colors='red')\n",
        "\n",
        "\t\t# Final Plot\n",
        "\t\tplt.show()"
      ],
      "metadata": {
        "id": "ThfAjg9q8mL-"
      },
      "execution_count": 63,
      "outputs": []
    },
    {
      "cell_type": "markdown",
      "source": [
        "### Env : Smart Home"
      ],
      "metadata": {
        "id": "gUaGFbbZ8WuC"
      }
    },
    {
      "cell_type": "code",
      "source": [
        "from gym import spaces, logger\n",
        "from gym.utils import seeding\n",
        "import pandas as pd\n",
        "import numpy as np\n",
        "\n",
        "class SmartHome:\n",
        "\n",
        "\tdef __init__(self):\n",
        "\t\t# Initial battery state\n",
        "\t\tself.home_battery_state = 0\n",
        "\t\tself.ev_battery_state = 0\n",
        "\n",
        "\t\t# Initial date and time\n",
        "\t\tself.month = 1\n",
        "\t\tself.day = 1\n",
        "\t\tself.time = 0\n",
        "\n",
        "\t\t# Initial episode length\n",
        "\t\tself.max_step_hours = 0\n",
        "\n",
        "\t\t# Load the data tables and data processing in the ProcessedData class\n",
        "\t\tself.processed_data = ProcessedData()\n",
        "\t\tself.__load_data_tables()\n",
        "\n",
        "\t\t# Define gym actions and env\n",
        "\t\tself.action_space = spaces.Discrete(5)     \t\t\t\t\t\t\t\t\t\t\t\t\t#Discret space of action\n",
        "\t\tlow = np.array([0 for _ in range(5)], dtype=np.float64)\n",
        "\t\thigh = np.array([1 for _ in range(5)], dtype=np.float64)\n",
        "\t\tself.observation_space = spaces.Box(low, high, dtype=np.float64)\t\t#Continuous space of observations (1/0)\n",
        "\n",
        "\n",
        "\t#####################\n",
        "\t#### GYM METHODS ####\n",
        "\t#####################\n",
        "\n",
        "\n",
        "\tdef reset(self):\n",
        "\t\t# Generate random home battery and ev battery level\n",
        "\t\tself.home_battery_state = np.random.rand() * Specifications.HOME_CAPACITY\n",
        "\t\tself.ev_battery_state = np.random.rand() * Specifications.EV_CAPACITY\n",
        "\n",
        "\t\t# Generate random datetime\n",
        "\t\tself.month = np.random.random_integers(1, 12)\n",
        "\t\tself.day = np.random.random_integers(1, Constant.MONTHS_LEN[self.month-1])\n",
        "\t\tself.time = np.random.random_integers(0, 23)\n",
        "\n",
        "\t\t# Reset environment parameters\n",
        "\t\tself.total_euros_spent = 0\n",
        "\n",
        "\t\t# Reset learning parameters\n",
        "\t\tself.max_step_hours = Constant.MAX_STEP_HOURS\n",
        "\n",
        "\t\treturn self.__get_normalized_state()\n",
        "\n",
        "\n",
        "\tdef step(self, action):\n",
        "\t\t# Define local variables\n",
        "\t\treward = 0\n",
        "\t\tdone = False\n",
        "\t\tcurrent_spent = 0\n",
        "\t\tinfo = {'use_ev_fail':0, 'charge_ev_fail':0}\n",
        "\n",
        "\t\t# Get processed data of the current datetime\n",
        "\t\tusers_demand = self.processed_data.get_H4_consumes(self.month, self.day, self.time)\n",
        "\t\tpv_potential = self.processed_data.get_PV_entry(self.month, self.day, self.time)\n",
        "\t\tsg_cost = self.processed_data.get_SG_prices(self.month, self.day, self.time)\n",
        "\n",
        "\t\t# Case 1: enough energy on the home battery, use it to meet the request\n",
        "\t\tif self.home_battery_state > users_demand: self.home_battery_state -= users_demand\n",
        "\n",
        "\t\t# Case 2: not enough energy on the home battery but enough from the PV\n",
        "\t\telif pv_potential > users_demand: pv_potential -= users_demand\n",
        "\n",
        "\t\t# Case 3: take the energy from the smart grid\n",
        "\t\telse: current_spent += (sg_cost * users_demand)\n",
        "\n",
        "\t\t# Perform Action\n",
        "\t\tif action == Actions.CHARGE_HOME_wPV:\n",
        "\t\t\tself.home_battery_state += pv_potential\n",
        "\t\tif action == Actions.CHARGE_HOME_wSG:\n",
        "\t\t\tself.home_battery_state += Specifications.MAX_CHARGE_FOR_HOUR\n",
        "\t\t\tcurrent_spent += (Specifications.MAX_CHARGE_FOR_HOUR * sg_cost)\n",
        "\t\tif action == Actions.CHARGE_EV_wPV:\n",
        "\t\t\tself.ev_battery_state += pv_potential\n",
        "\t\tif action == Actions.CHARGE_EV_wSG:\n",
        "\t\t\tself.ev_battery_state += Specifications.MAX_CHARGE_FOR_HOUR\n",
        "\t\t\tcurrent_spent += (Specifications.MAX_CHARGE_FOR_HOUR * sg_cost)\n",
        "\n",
        "\t\t# Fix Values with the max battery capacity\n",
        "\t\tself.home_battery_state = min(self.home_battery_state, Specifications.HOME_CAPACITY)\n",
        "\t\tself.ev_battery_state = min(self.ev_battery_state, Specifications.EV_CAPACITY)\n",
        "\n",
        "\t\t# Negative reward for euros spent\n",
        "\t\treward = -current_spent\n",
        "\t\t# Negative reward if the EV is not ready in the morning\n",
        "\t\tif self.time == 6 and self.ev_battery_state < Specifications.EV_DAILY_CONSUME:\n",
        "\t\t\treward -= 10\n",
        "\t\t\tinfo['use_ev_fail'] = 1\n",
        "\t\t# Negative reward if try to charge the car in the working times\n",
        "\t\tif self.time >= 6 and self.time <= 18 and (action == Actions.CHARGE_EV_wPV or action == Actions.CHARGE_EV_wSG):\n",
        "\t\t\treward -= 10\n",
        "\t\t\tinfo['charge_ev_fail'] = 1\n",
        "\n",
        "\t\t# Use the daily requirement of the EV at 6am\n",
        "\t\tif self.time == 6 and self.ev_battery_state >= Specifications.EV_DAILY_CONSUME: self.ev_battery_state -= Specifications.EV_DAILY_CONSUME\n",
        "\t\t# Compute the total cost of the episode\n",
        "\t\tself.total_euros_spent += current_spent\n",
        "\n",
        "\t\t# Increase datetime by 1 hour and fix day and month\n",
        "\t\tself.max_step_hours -= 1\n",
        "\t\tself.time += 1\n",
        "\t\tif self.time > 23:\n",
        "\t\t\tself.time = 0\n",
        "\t\t\tself.day += 1\n",
        "\t\tif self.day > Constant.MONTHS_LEN[self.month-1]:\n",
        "\t\t\tself.day = 1\n",
        "\t\t\tself.month += 1\n",
        "\t\tif self.month > 12:\n",
        "\t\t\tself.month = 1\n",
        "\t\t\tself.day = 1\n",
        "\t\t\tself.time = 0\n",
        "\n",
        "\t\t# Check Done state\n",
        "\t\tif self.max_step_hours <= 0: done = True\n",
        "\n",
        "\t\treturn self.__get_normalized_state(), reward, done, info\n",
        "\n",
        "\n",
        "\tdef seed(self, seed=None):\n",
        "\t\tself.np_random, seed = seeding.np_random(seed)\n",
        "\t\treturn [seed]\n",
        "\n",
        "\n",
        "\t#####################\n",
        "\t## PRIVATE METHODS ##\n",
        "\t#####################\n",
        "\n",
        "\n",
        "\tdef __load_data_tables(self):\n",
        "\t\tPV_production_df = pd.read_csv('data/PV.csv', sep=';')\n",
        "\t\tSG_prices_df = pd.read_csv('data/Prices.csv', sep=';')\n",
        "\t\tH4_consumes_df = pd.read_csv('data/H4.csv', sep=';')\n",
        "\n",
        "\t\tPV_production = PV_production_df['P_PV_'].apply(lambda x:  x.replace(',','.')  ).to_numpy( dtype=float )\n",
        "\t\tSG_prices = SG_prices_df['Price'].apply(lambda x:  x.replace(',','.')  ).to_numpy( dtype=float )\n",
        "\t\tH4_consumes = H4_consumes_df['Power'].apply(lambda x:  x.replace(',', '.')).to_numpy( dtype=float )\n",
        "\n",
        "\t\tfor el in PV_production:\n",
        "\t\t\tself.processed_data.add_PV_entry( el )\n",
        "\t\tfor el in SG_prices:\n",
        "\t\t\tself.processed_data.add_SG_prices( el / 1000 )\n",
        "\t\tfor i in range(0, H4_consumes.shape[0], 60):\n",
        "\t\t\tel = H4_consumes[i:i+60]\n",
        "\t\t\tself.processed_data.add_H4_consumes( sum(el) )\n",
        "\n",
        "\n",
        "\tdef __get_normalized_state(self):\n",
        "\t\tnorm_month = (self.month-1) / 11\n",
        "\t\tnorm_day = (self.day-1) / 31\n",
        "\t\tnorm_time = self.time / 23\n",
        "\t\tnorm_home_battery_state = self.home_battery_state / Specifications.HOME_CAPACITY\n",
        "\t\tnorm_ev_battery_state = self.ev_battery_state / Specifications.EV_CAPACITY\n",
        "\t\treturn np.array([norm_month, norm_day, norm_time, norm_home_battery_state, norm_ev_battery_state])\n",
        "\n"
      ],
      "metadata": {
        "id": "0ywxOcUN4NwQ"
      },
      "execution_count": 64,
      "outputs": []
    },
    {
      "cell_type": "markdown",
      "source": [
        "### RL Algorithm : DQN"
      ],
      "metadata": {
        "id": "DR6yJP1U9Gbj"
      }
    },
    {
      "cell_type": "markdown",
      "source": [
        "### DQN"
      ],
      "metadata": {
        "id": "FVTnc-Vk9S4A"
      }
    },
    {
      "cell_type": "code",
      "source": [
        "from tensorflow import keras\n",
        "from collections import deque\n",
        "import tensorflow as tf\n",
        "import numpy as np\n",
        "import gym\n",
        "import random\n",
        "\n",
        "class DQN:\n",
        "\tdef __init__(self, env, verbose):\n",
        "\t\tself.env = env\n",
        "\t\tself.verbose = verbose\n",
        "\n",
        "\t\tself.input_shape = self.env.observation_space.shape\n",
        "\t\tself.action_space = env.action_space.n\n",
        "\t\tself.actor = self.get_actor_model(self.input_shape, self.action_space)\n",
        "\t\tself.actor_target = self.get_actor_model(self.input_shape, self.action_space)\n",
        "\t\tself.actor_target.set_weights(self.actor.get_weights())\n",
        "\n",
        "\t\tself.optimizer = keras.optimizers.Adam()\n",
        "\t\tself.gamma = 0.95\n",
        "\t\tself.memory_size = 2000\n",
        "\t\tself.batch_size = 32\n",
        "\t\tself.exploration_rate = 1.0\n",
        "\t\tself.exploration_decay = 0.995\n",
        "\t\tself.tau = 0.005\n",
        "\n",
        "\t\tself.run_id = np.random.randint(0, 1000)\n",
        "\n",
        "\n",
        "\tdef loop( self, num_episodes=1000 ):\n",
        "\t\treward_list = []\n",
        "\t\tep_reward_mean = deque(maxlen=100)\n",
        "\t\treplay_buffer = deque(maxlen=self.memory_size)\n",
        "\n",
        "\t\tfor episode in range(num_episodes):\n",
        "\t\t\tstate = self.env.reset()\n",
        "\t\t\tep_reward = 0\n",
        "\n",
        "\t\t\twhile True:\n",
        "\t\t\t\taction = self.get_action(state)\n",
        "\t\t\t\tnew_state, reward, done, _ = self.env.step(action)\n",
        "\t\t\t\tep_reward += reward\n",
        "\n",
        "\t\t\t\treplay_buffer.append([state, action, reward, new_state, done])\n",
        "\t\t\t\tif done: break\n",
        "\t\t\t\tstate = new_state\n",
        "\n",
        "\t\t\t\tself.update_networks(replay_buffer)\n",
        "\t\t\t\tself._update_target(self.actor.variables, self.actor_target.variables, tau=self.tau)\n",
        "\n",
        "\t\t\tself.exploration_rate = self.exploration_rate * self.exploration_decay if self.exploration_rate > 0.05 else 0.05\n",
        "\t\t\tep_reward_mean.append(ep_reward)\n",
        "\t\t\treward_list.append(ep_reward)\n",
        "\t\t\tif self.verbose > 0: print(f\"Episode: {episode:7.0f}, reward: {ep_reward:8.2f}, mean_last_100: {np.mean(ep_reward_mean):8.2f}, exploration: {self.exploration_rate:0.2f}\")\n",
        "\t\t\tif self.verbose > 1: np.savetxt(f\"data/reward_DQN_{self.run_id}.txt\", reward_list)\n",
        "\t\t\t\"\"\"\n",
        "\t\t\t\tif(episode % 5 == 0): self.update_networks(np.array(memory_buffer, dtype=object), self.epoch, self.batch_size)\n",
        "\t\t\t\tif(episode % 5 == 0): memory_buffer.clear()\n",
        "\t\t\t\tif(episode % 5 == 0): self.sigma = self.sigma * self.exploration_decay if self.sigma > 0.05 else 0.05\n",
        "\n",
        "\t\t\t\tep_reward_mean.append(ep_reward)\n",
        "\t\t\t\treward_list.append(ep_reward)\n",
        "\t\t\t\tif self.verbose > 0 and not self.discrete: print(f\"Episode: {episode:3.0f}, reward: {ep_reward:6.2f}, mean_last_100: {np.mean(ep_reward_mean):6.2f}, sigma: {self.sigma:0.2f}\")\n",
        "\t\t\t\tif self.verbose > 0 and self.discrete: print(f\"Episode: {episode:3.0f}, reward: {ep_reward:6.2f}, mean_last_100: {np.mean(ep_reward_mean):6.2f}\")\n",
        "\t\t\t\tif self.verbose > 1: np.savetxt(f\"generated/reward_PPO_{self.run_id}.txt\", reward_list)\n",
        "\t\t\t\"\"\"\n",
        "\n",
        "\tdef _update_target(self, weights, target_weights, tau):\n",
        "\t\tfor (a, b) in zip(target_weights, weights):\n",
        "\t\t\ta.assign(b * tau + a * (1 - tau))\n",
        "\n",
        "\n",
        "\tdef get_action(self, state):\n",
        "\t\tif np.random.random() < self.exploration_rate:\n",
        "\t\t\treturn np.random.choice(self.action_space)\n",
        "\t\treturn np.argmax(self.actor(state.reshape((1, -1))))\n",
        "\n",
        "\n",
        "\tdef update_networks(self, replay_buffer):\n",
        "\t\tsamples = np.array(random.sample(replay_buffer, min(len(replay_buffer), self.batch_size)), dtype=object)\n",
        "\t\twith tf.GradientTape() as tape:\n",
        "\t\t\tobjective_function = self.actor_objective_function_double(samples) #Compute loss with custom loss function\n",
        "\t\t\tgrads = tape.gradient(objective_function, self.actor.trainable_variables) #Compute gradients actor for network\n",
        "\t\t\tself.optimizer.apply_gradients( zip(grads, self.actor.trainable_variables) ) #Apply gradients to update network weights\n",
        "\n",
        "\n",
        "\tdef actor_objective_function_double(self, replay_buffer):\n",
        "\t\tstate = np.vstack(replay_buffer[:, 0])\n",
        "\t\taction = replay_buffer[:, 1]\n",
        "\t\treward = np.vstack(replay_buffer[:, 2])\n",
        "\t\tnew_state = np.vstack(replay_buffer[:, 3])\n",
        "\t\tdone = np.vstack(replay_buffer[:, 4])\n",
        "\n",
        "\t\tnext_state_action = np.argmax(self.actor(new_state), axis=1)\n",
        "\t\ttarget_mask = self.actor_target(new_state) * tf.one_hot(next_state_action, self.action_space)\n",
        "\t\ttarget_mask = tf.reduce_sum(target_mask, axis=1, keepdims=True)\n",
        "\n",
        "\t\ttarget_value = reward + (1 - done.astype(int)) * self.gamma * target_mask\n",
        "\t\tmask = self.actor(state) * tf.one_hot(action, self.action_space)\n",
        "\t\tprediction_value = tf.reduce_sum(mask, axis=1, keepdims=True)\n",
        "\n",
        "\t\tmse = tf.math.square(prediction_value - target_value)\n",
        "\t\treturn tf.math.reduce_mean(mse)\n",
        "\n",
        "\n",
        "\tdef get_actor_model(self, input_shape, output_size):\n",
        "\t\tinputs = keras.layers.Input(shape=input_shape)\n",
        "\t\thidden_0 = keras.layers.Dense(64, activation='relu')(inputs)\n",
        "\t\thidden_1 = keras.layers.Dense(64, activation='relu')(hidden_0)\n",
        "\t\toutputs = keras.layers.Dense(output_size, activation='linear')(hidden_1)\n",
        "\n",
        "\t\treturn keras.Model(inputs, outputs)\n",
        "\n",
        "\n",
        "\t  ##########################\n",
        "    #### VANILLA METHODS #####\n",
        "    ##########################\n",
        "\n",
        "\n",
        "\tdef actor_objective_function_fixed_target(self, replay_buffer):\n",
        "\t\tstate = np.vstack(replay_buffer[:, 0])\n",
        "\t\taction = replay_buffer[:, 1]\n",
        "\t\treward = np.vstack(replay_buffer[:, 2])\n",
        "\t\tnew_state = np.vstack(replay_buffer[:, 3])\n",
        "\t\tdone = np.vstack(replay_buffer[:, 4])\n",
        "\n",
        "\t\ttarget_value = reward + (1 - done.astype(int)) * self.gamma * np.amax(self.actor_target(new_state), axis=1, keepdims=True)\n",
        "\t\tmask = self.actor(state) * tf.one_hot(action, self.action_space)\n",
        "\t\tprediction_value = tf.reduce_sum(mask, axis=1, keepdims=True)\n",
        "\n",
        "\t\tmse = tf.math.square(prediction_value - target_value)\n",
        "\t\treturn tf.math.reduce_mean(mse)\n",
        "\n",
        "\n",
        "\tdef actor_objective_function_std(self, replay_buffer):\n",
        "\t\tstate = np.vstack(replay_buffer[:, 0])\n",
        "\t\taction = replay_buffer[:, 1]\n",
        "\t\treward = np.vstack(replay_buffer[:, 2])\n",
        "\t\tnew_state = np.vstack(replay_buffer[:, 3])\n",
        "\t\tdone = np.vstack(replay_buffer[:, 4])\n",
        "\n",
        "\t\ttarget_value = reward + (1 - done.astype(int)) * self.gamma * np.amax(self.actor(new_state), axis=1, keepdims=True)\n",
        "\t\tmask = self.actor(state) * tf.one_hot(action, self.action_space)\n",
        "\t\tprediction_value = tf.reduce_sum(mask, axis=1, keepdims=True)\n",
        "\n",
        "\t\tmse = tf.math.square(prediction_value - target_value)\n",
        "\t\treturn tf.math.reduce_mean(mse)"
      ],
      "metadata": {
        "id": "mTwm_1Al9LLG"
      },
      "execution_count": 66,
      "outputs": []
    },
    {
      "cell_type": "markdown",
      "source": [
        "### Train the model"
      ],
      "metadata": {
        "id": "ky1vw7W18cib"
      }
    },
    {
      "cell_type": "markdown",
      "source": [
        "#### Train DQN"
      ],
      "metadata": {
        "id": "I9FOxf2PAjp3"
      }
    },
    {
      "cell_type": "code",
      "source": [
        "import sys, os; os; os.environ[\"TF_CPP_MIN_LOG_LEVEL\"] = \"2\" # ?\n",
        "import tensorflow, numpy, glob\n",
        "\n",
        "import numpy as np\n",
        "\n",
        "#Train mcDQN on the env and save the model\n",
        "def train_DQN( epoch=200, save_model=True ):\n",
        "\tenv = SmartHome()\n",
        "\talgo = DQN( env, verbose=2 )\n",
        "\talgo.loop( num_episodes=epoch )\n",
        "\tif save_model: algo.actor.save( f\"trained_models/neural_network_trained.h5\" )\n",
        ""
      ],
      "metadata": {
        "id": "wJXKVVpR_8x-"
      },
      "execution_count": 67,
      "outputs": []
    },
    {
      "cell_type": "markdown",
      "source": [
        "#### Test model (à revoir)"
      ],
      "metadata": {
        "id": "MeHNojfPAoiH"
      }
    },
    {
      "cell_type": "code",
      "source": [
        "\n",
        "#Function that test a model\n",
        "def test_models( _get_action, network_name, debug=False ):\n",
        "\tenv = SmartHome()\n",
        "\tneural_network = tensorflow.keras.models.load_model( network_name, compile=False )\n",
        "\tstate = env.reset()\n",
        "\n",
        "\t# Set first day of the year\n",
        "\tenv.month = 1\n",
        "\tenv.day = 1\n",
        "\tenv.time = 0\n",
        "\tenv.ev_battery_state = 0\n",
        "\tenv.home_battery_state = 0\n",
        "\n",
        "\t# Cycle for the full year\n",
        "\tcurrent_total_spent = 0\n",
        "\tcurrent_month = 1\n",
        "\tmonthly_total_list = []\n",
        "\thourly_action_list = [[] for _ in range(24)]\n",
        "\thourly_home_battery_list = [[] for _ in range(24)]\n",
        "\thourly_ev_battery_list = [[] for _ in range(24)]\n",
        "\thourly_price_list = [[] for _ in range(24)]\n",
        "\thourly_pv_list = [[] for _ in range(24)]\n",
        "\n",
        "\thourly_demands = [[] for _ in range(24)]\t# emarche\n",
        "\n",
        "\tuse_ev_fail_total = 0\n",
        "\tcharge_ev_fail_total = 0\n",
        "\n",
        "\twhile True:\n",
        "\t\taction = _get_action( neural_network, state, env )\n",
        "\t\tstate, _, _, info = env.step( action )\n",
        "\t\tuse_ev_fail_total += info['use_ev_fail']\n",
        "\t\tcharge_ev_fail_total += info['charge_ev_fail']\n",
        "\n",
        "\t\thourly_action_list[ env.time ].append(action)\n",
        "\t\thourly_home_battery_list[ env.time ].append(env.home_battery_state)\n",
        "\t\thourly_ev_battery_list[ env.time ].append(env.ev_battery_state)\n",
        "\t\thourly_price_list[ env.time ].append(env.processed_data.get_SG_prices(env.month, env.day, env.time))\n",
        "\t\thourly_pv_list[ env.time ].append(env.processed_data.get_PV_entry(env.month, env.day, env.time))\n",
        "\n",
        "\t\thourly_demands[ env.time ].append(env.processed_data.get_H4_consumes(env.month, env.day, env.time))\t# emarche\n",
        "\n",
        "\t\tif env.month > current_month:\n",
        "\t\t\tmonthly_total_list.append( env.total_euros_spent - current_total_spent )\n",
        "\t\t\tcurrent_month = env.month\n",
        "\t\t\tcurrent_total_spent = env.total_euros_spent\n",
        "\n",
        "\t\tif ( env.month == 1 and env.day == 1 and env.time == 0 ):\n",
        "\t\t\tmonthly_total_list.append( env.total_euros_spent - current_total_spent )\n",
        "\t\t\tbreak\n",
        "\n",
        "\tif debug:\n",
        "\t\tprint( f\"This years spent: {env.total_euros_spent:6.2f} euros\" )\n",
        "\t\tprint( f\"Total days with not enough charge on the EV: {use_ev_fail_total}\" )\n",
        "\t\tprint( f\"Total try to charge while EV is away: {charge_ev_fail_total}\\n\" )\n",
        "\n",
        "\thourly_home_battery = [numpy.mean( total ) for total in hourly_home_battery_list]\n",
        "\thourly_ev_battery = [numpy.mean( total ) for total in hourly_ev_battery_list]\n",
        "\thourly_price = [numpy.mean( total ) for total in hourly_price_list]\n",
        "\thourly_pv = [numpy.mean( total ) for total in hourly_pv_list]\n",
        "\thourly_mean_charge_battery = []\n",
        "\thourly_mean_charge_pv = []\n",
        "\n",
        "\tfor idx, time in enumerate(hourly_action_list):\n",
        "\t\thourly_mean_charge_battery.append( time.count(2) / len(time) * 11 )\n",
        "\t\thourly_mean_charge_battery[-1] += ( time.count(4) / len(time) * 11 )\n",
        "\n",
        "\t\thourly_mean_charge_pv.append( time.count(1) / len(time) * hourly_pv[idx] )\n",
        "\t\thourly_mean_charge_pv[-1] += ( time.count(3) / len(time) * hourly_pv[idx] )\n",
        "\n",
        "\thourly_demands = [np.mean(total) for total in hourly_demands]\n",
        "\treturn monthly_total_list, use_ev_fail_total, hourly_home_battery, hourly_ev_battery, hourly_price, hourly_mean_charge_battery, hourly_mean_charge_pv, hourly_demands\n",
        "\n"
      ],
      "metadata": {
        "id": "lqXtAr7PARBW"
      },
      "execution_count": 68,
      "outputs": []
    },
    {
      "cell_type": "code",
      "source": [
        "import tensorflow as tf\n",
        "import numpy as np\n",
        "\n",
        "\n",
        "#return action for random action which is the baseline\n",
        "def _get_action_random( net, state, env ):\n",
        "\treturn env.action_space.sample()\n",
        "\n",
        "\n",
        "#return action for DQN\n",
        "def _get_action_DQN(net, state, env):\n",
        "    softmax_out = net(state.reshape((1, -1)))\n",
        "    action_probs = tf.nn.softmax(softmax_out, axis=1).numpy()[0]\n",
        "    return np.random.choice(len(action_probs), p=action_probs)\n",
        "\n",
        "\n",
        "\n",
        "\n",
        "\n",
        "\n"
      ],
      "metadata": {
        "id": "ajG7TqJcAz_U"
      },
      "execution_count": 44,
      "outputs": []
    },
    {
      "cell_type": "markdown",
      "source": [],
      "metadata": {
        "id": "r_NR2jQvBEdt"
      }
    },
    {
      "cell_type": "markdown",
      "source": [
        "#### To launch the training"
      ],
      "metadata": {
        "id": "zdBJPHAyBOE_"
      }
    },
    {
      "cell_type": "code",
      "source": [
        "print('Starting training !')\n",
        "epoch = 200\n",
        "train_DQN(epoch=epoch, save_model=True )"
      ],
      "metadata": {
        "colab": {
          "base_uri": "https://localhost:8080/"
        },
        "id": "7GUOo5qCBRmn",
        "outputId": "50cca339-7df5-440c-e0e5-4c37d925db77"
      },
      "execution_count": 69,
      "outputs": [
        {
          "output_type": "stream",
          "name": "stdout",
          "text": [
            "Starting training !\n"
          ]
        },
        {
          "output_type": "stream",
          "name": "stderr",
          "text": [
            "<ipython-input-64-7e18a2be0358>:43: DeprecationWarning: This function is deprecated. Please call randint(1, 12 + 1) instead\n",
            "  self.month = np.random.random_integers(1, 12)\n",
            "<ipython-input-64-7e18a2be0358>:44: DeprecationWarning: This function is deprecated. Please call randint(1, 30 + 1) instead\n",
            "  self.day = np.random.random_integers(1, Constant.MONTHS_LEN[self.month-1])\n",
            "<ipython-input-64-7e18a2be0358>:45: DeprecationWarning: This function is deprecated. Please call randint(0, 23 + 1) instead\n",
            "  self.time = np.random.random_integers(0, 23)\n"
          ]
        },
        {
          "output_type": "stream",
          "name": "stdout",
          "text": [
            "Episode:       0, reward: -1531.49, mean_last_100: -1531.49, exploration: 0.99\n"
          ]
        },
        {
          "output_type": "stream",
          "name": "stderr",
          "text": [
            "<ipython-input-64-7e18a2be0358>:44: DeprecationWarning: This function is deprecated. Please call randint(1, 31 + 1) instead\n",
            "  self.day = np.random.random_integers(1, Constant.MONTHS_LEN[self.month-1])\n"
          ]
        },
        {
          "output_type": "stream",
          "name": "stdout",
          "text": [
            "Episode:       1, reward: -1713.37, mean_last_100: -1622.43, exploration: 0.99\n",
            "Episode:       2, reward: -1661.52, mean_last_100: -1635.46, exploration: 0.99\n",
            "Episode:       3, reward: -1598.03, mean_last_100: -1626.10, exploration: 0.98\n",
            "Episode:       4, reward: -1658.04, mean_last_100: -1632.49, exploration: 0.98\n",
            "Episode:       5, reward: -1492.24, mean_last_100: -1609.11, exploration: 0.97\n",
            "Episode:       6, reward: -1673.83, mean_last_100: -1618.36, exploration: 0.97\n",
            "Episode:       7, reward: -1588.68, mean_last_100: -1614.65, exploration: 0.96\n",
            "Episode:       8, reward: -1833.19, mean_last_100: -1638.93, exploration: 0.96\n",
            "Episode:       9, reward: -1638.39, mean_last_100: -1638.88, exploration: 0.95\n",
            "Episode:      10, reward: -1506.05, mean_last_100: -1626.80, exploration: 0.95\n",
            "Episode:      11, reward: -1559.61, mean_last_100: -1621.20, exploration: 0.94\n",
            "Episode:      12, reward: -1727.15, mean_last_100: -1629.35, exploration: 0.94\n",
            "Episode:      13, reward: -1523.55, mean_last_100: -1621.79, exploration: 0.93\n",
            "Episode:      14, reward: -1606.87, mean_last_100: -1620.80, exploration: 0.93\n",
            "Episode:      15, reward: -1652.50, mean_last_100: -1622.78, exploration: 0.92\n",
            "Episode:      16, reward: -1422.74, mean_last_100: -1611.01, exploration: 0.92\n",
            "Episode:      17, reward: -1499.33, mean_last_100: -1604.81, exploration: 0.91\n",
            "Episode:      18, reward: -1613.41, mean_last_100: -1605.26, exploration: 0.91\n",
            "Episode:      19, reward: -1456.41, mean_last_100: -1597.82, exploration: 0.90\n",
            "Episode:      20, reward: -1529.99, mean_last_100: -1594.59, exploration: 0.90\n",
            "Episode:      21, reward: -1438.52, mean_last_100: -1587.50, exploration: 0.90\n",
            "Episode:      22, reward: -1375.95, mean_last_100: -1578.30, exploration: 0.89\n",
            "Episode:      23, reward: -1408.78, mean_last_100: -1571.23, exploration: 0.89\n",
            "Episode:      24, reward: -1629.86, mean_last_100: -1573.58, exploration: 0.88\n",
            "Episode:      25, reward: -1467.01, mean_last_100: -1569.48, exploration: 0.88\n",
            "Episode:      26, reward: -1384.24, mean_last_100: -1562.62, exploration: 0.87\n",
            "Episode:      27, reward: -1460.34, mean_last_100: -1558.97, exploration: 0.87\n",
            "Episode:      28, reward: -1253.44, mean_last_100: -1548.43, exploration: 0.86\n",
            "Episode:      29, reward: -1515.48, mean_last_100: -1547.33, exploration: 0.86\n",
            "Episode:      30, reward: -1481.25, mean_last_100: -1545.20, exploration: 0.86\n",
            "Episode:      31, reward: -1418.96, mean_last_100: -1541.26, exploration: 0.85\n",
            "Episode:      32, reward: -1413.27, mean_last_100: -1537.38, exploration: 0.85\n",
            "Episode:      33, reward: -1274.85, mean_last_100: -1529.66, exploration: 0.84\n",
            "Episode:      34, reward: -1087.03, mean_last_100: -1517.01, exploration: 0.84\n",
            "Episode:      35, reward: -1325.37, mean_last_100: -1511.69, exploration: 0.83\n",
            "Episode:      36, reward: -1339.31, mean_last_100: -1507.03, exploration: 0.83\n",
            "Episode:      37, reward: -1376.45, mean_last_100: -1503.59, exploration: 0.83\n",
            "Episode:      38, reward: -1340.93, mean_last_100: -1499.42, exploration: 0.82\n",
            "Episode:      39, reward: -1502.92, mean_last_100: -1499.51, exploration: 0.82\n",
            "Episode:      40, reward: -1403.87, mean_last_100: -1497.18, exploration: 0.81\n",
            "Episode:      41, reward: -1324.13, mean_last_100: -1493.06, exploration: 0.81\n",
            "Episode:      42, reward: -1431.16, mean_last_100: -1491.62, exploration: 0.81\n",
            "Episode:      43, reward: -1351.18, mean_last_100: -1488.42, exploration: 0.80\n",
            "Episode:      44, reward: -1196.06, mean_last_100: -1481.93, exploration: 0.80\n",
            "Episode:      45, reward: -1246.53, mean_last_100: -1476.81, exploration: 0.79\n",
            "Episode:      46, reward: -1260.08, mean_last_100: -1472.20, exploration: 0.79\n",
            "Episode:      47, reward: -1300.18, mean_last_100: -1468.62, exploration: 0.79\n",
            "Episode:      48, reward: -1352.11, mean_last_100: -1466.24, exploration: 0.78\n",
            "Episode:      49, reward: -1298.19, mean_last_100: -1462.88, exploration: 0.78\n",
            "Episode:      50, reward: -1442.48, mean_last_100: -1462.48, exploration: 0.77\n",
            "Episode:      51, reward: -1191.33, mean_last_100: -1457.26, exploration: 0.77\n",
            "Episode:      52, reward: -1374.81, mean_last_100: -1455.71, exploration: 0.77\n",
            "Episode:      53, reward: -1140.63, mean_last_100: -1449.87, exploration: 0.76\n",
            "Episode:      54, reward: -1237.37, mean_last_100: -1446.01, exploration: 0.76\n",
            "Episode:      55, reward: -1257.04, mean_last_100: -1442.63, exploration: 0.76\n"
          ]
        },
        {
          "output_type": "stream",
          "name": "stderr",
          "text": [
            "<ipython-input-64-7e18a2be0358>:44: DeprecationWarning: This function is deprecated. Please call randint(1, 28 + 1) instead\n",
            "  self.day = np.random.random_integers(1, Constant.MONTHS_LEN[self.month-1])\n"
          ]
        },
        {
          "output_type": "stream",
          "name": "stdout",
          "text": [
            "Episode:      56, reward: -1148.22, mean_last_100: -1437.47, exploration: 0.75\n",
            "Episode:      57, reward: -1328.96, mean_last_100: -1435.60, exploration: 0.75\n",
            "Episode:      58, reward: -1187.75, mean_last_100: -1431.40, exploration: 0.74\n",
            "Episode:      59, reward: -1199.07, mean_last_100: -1427.52, exploration: 0.74\n",
            "Episode:      60, reward: -1366.55, mean_last_100: -1426.53, exploration: 0.74\n",
            "Episode:      61, reward: -1126.92, mean_last_100: -1421.69, exploration: 0.73\n",
            "Episode:      62, reward: -1272.25, mean_last_100: -1419.32, exploration: 0.73\n",
            "Episode:      63, reward: -1256.13, mean_last_100: -1416.77, exploration: 0.73\n",
            "Episode:      64, reward: -1268.89, mean_last_100: -1414.50, exploration: 0.72\n",
            "Episode:      65, reward: -1168.44, mean_last_100: -1410.77, exploration: 0.72\n",
            "Episode:      66, reward: -1041.25, mean_last_100: -1405.25, exploration: 0.71\n",
            "Episode:      67, reward: -1356.38, mean_last_100: -1404.53, exploration: 0.71\n",
            "Episode:      68, reward: -1138.00, mean_last_100: -1400.67, exploration: 0.71\n",
            "Episode:      69, reward: -1209.37, mean_last_100: -1397.94, exploration: 0.70\n",
            "Episode:      70, reward: -1147.97, mean_last_100: -1394.42, exploration: 0.70\n",
            "Episode:      71, reward: -1199.08, mean_last_100: -1391.70, exploration: 0.70\n",
            "Episode:      72, reward: -1210.80, mean_last_100: -1389.23, exploration: 0.69\n",
            "Episode:      73, reward: -1115.77, mean_last_100: -1385.53, exploration: 0.69\n",
            "Episode:      74, reward: -1105.07, mean_last_100: -1381.79, exploration: 0.69\n",
            "Episode:      75, reward: -1151.52, mean_last_100: -1378.76, exploration: 0.68\n",
            "Episode:      76, reward:  -992.07, mean_last_100: -1373.74, exploration: 0.68\n",
            "Episode:      77, reward: -1103.58, mean_last_100: -1370.28, exploration: 0.68\n",
            "Episode:      78, reward: -1168.71, mean_last_100: -1367.72, exploration: 0.67\n",
            "Episode:      79, reward: -1070.06, mean_last_100: -1364.00, exploration: 0.67\n",
            "Episode:      80, reward: -1098.20, mean_last_100: -1360.72, exploration: 0.67\n",
            "Episode:      81, reward: -1222.81, mean_last_100: -1359.04, exploration: 0.66\n",
            "Episode:      82, reward: -1149.15, mean_last_100: -1356.51, exploration: 0.66\n",
            "Episode:      83, reward:  -976.33, mean_last_100: -1351.99, exploration: 0.66\n",
            "Episode:      84, reward: -1195.40, mean_last_100: -1350.14, exploration: 0.65\n",
            "Episode:      85, reward: -1166.47, mean_last_100: -1348.01, exploration: 0.65\n",
            "Episode:      86, reward: -1048.15, mean_last_100: -1344.56, exploration: 0.65\n",
            "Episode:      87, reward: -1094.39, mean_last_100: -1341.72, exploration: 0.64\n",
            "Episode:      88, reward: -1133.27, mean_last_100: -1339.38, exploration: 0.64\n",
            "Episode:      89, reward: -1102.54, mean_last_100: -1336.74, exploration: 0.64\n",
            "Episode:      90, reward: -1104.29, mean_last_100: -1334.19, exploration: 0.63\n",
            "Episode:      91, reward: -1112.21, mean_last_100: -1331.78, exploration: 0.63\n",
            "Episode:      92, reward:  -940.50, mean_last_100: -1327.57, exploration: 0.63\n",
            "Episode:      93, reward: -1055.24, mean_last_100: -1324.67, exploration: 0.62\n",
            "Episode:      94, reward: -1082.17, mean_last_100: -1322.12, exploration: 0.62\n",
            "Episode:      95, reward: -1159.91, mean_last_100: -1320.43, exploration: 0.62\n",
            "Episode:      96, reward:  -992.89, mean_last_100: -1317.05, exploration: 0.61\n",
            "Episode:      97, reward:  -998.08, mean_last_100: -1313.80, exploration: 0.61\n",
            "Episode:      98, reward:  -909.33, mean_last_100: -1309.71, exploration: 0.61\n",
            "Episode:      99, reward:  -941.68, mean_last_100: -1306.03, exploration: 0.61\n",
            "Episode:     100, reward:  -886.93, mean_last_100: -1299.59, exploration: 0.60\n",
            "Episode:     101, reward: -1125.41, mean_last_100: -1293.71, exploration: 0.60\n",
            "Episode:     102, reward:  -963.76, mean_last_100: -1286.73, exploration: 0.60\n",
            "Episode:     103, reward:  -950.84, mean_last_100: -1280.26, exploration: 0.59\n",
            "Episode:     104, reward:  -981.42, mean_last_100: -1273.49, exploration: 0.59\n",
            "Episode:     105, reward: -1103.56, mean_last_100: -1269.61, exploration: 0.59\n",
            "Episode:     106, reward:  -718.72, mean_last_100: -1260.05, exploration: 0.58\n",
            "Episode:     107, reward:  -987.93, mean_last_100: -1254.05, exploration: 0.58\n",
            "Episode:     108, reward:  -951.35, mean_last_100: -1245.23, exploration: 0.58\n",
            "Episode:     109, reward:  -812.09, mean_last_100: -1236.97, exploration: 0.58\n",
            "Episode:     110, reward:  -999.13, mean_last_100: -1231.90, exploration: 0.57\n",
            "Episode:     111, reward: -1058.19, mean_last_100: -1226.88, exploration: 0.57\n",
            "Episode:     112, reward:  -952.13, mean_last_100: -1219.13, exploration: 0.57\n",
            "Episode:     113, reward: -1048.24, mean_last_100: -1214.38, exploration: 0.56\n",
            "Episode:     114, reward:  -802.99, mean_last_100: -1206.34, exploration: 0.56\n",
            "Episode:     115, reward:  -982.91, mean_last_100: -1199.64, exploration: 0.56\n",
            "Episode:     116, reward:  -968.84, mean_last_100: -1195.11, exploration: 0.56\n",
            "Episode:     117, reward:  -715.03, mean_last_100: -1187.26, exploration: 0.55\n",
            "Episode:     118, reward:  -931.34, mean_last_100: -1180.44, exploration: 0.55\n",
            "Episode:     119, reward:  -954.01, mean_last_100: -1175.42, exploration: 0.55\n",
            "Episode:     120, reward:  -881.33, mean_last_100: -1168.93, exploration: 0.55\n",
            "Episode:     121, reward:  -889.30, mean_last_100: -1163.44, exploration: 0.54\n",
            "Episode:     122, reward:  -890.09, mean_last_100: -1158.58, exploration: 0.54\n",
            "Episode:     123, reward:  -779.26, mean_last_100: -1152.28, exploration: 0.54\n",
            "Episode:     124, reward:  -915.28, mean_last_100: -1145.14, exploration: 0.53\n",
            "Episode:     125, reward:  -983.72, mean_last_100: -1140.31, exploration: 0.53\n",
            "Episode:     126, reward:  -970.37, mean_last_100: -1136.17, exploration: 0.53\n",
            "Episode:     127, reward:  -848.11, mean_last_100: -1130.05, exploration: 0.53\n",
            "Episode:     128, reward:  -863.20, mean_last_100: -1126.14, exploration: 0.52\n",
            "Episode:     129, reward:  -775.99, mean_last_100: -1118.75, exploration: 0.52\n",
            "Episode:     130, reward:  -834.31, mean_last_100: -1112.28, exploration: 0.52\n",
            "Episode:     131, reward: -1079.13, mean_last_100: -1108.88, exploration: 0.52\n",
            "Episode:     132, reward:  -775.17, mean_last_100: -1102.50, exploration: 0.51\n",
            "Episode:     133, reward:  -901.31, mean_last_100: -1098.76, exploration: 0.51\n",
            "Episode:     134, reward:  -662.65, mean_last_100: -1094.52, exploration: 0.51\n",
            "Episode:     135, reward:  -889.77, mean_last_100: -1090.16, exploration: 0.51\n",
            "Episode:     136, reward:  -728.66, mean_last_100: -1084.06, exploration: 0.50\n",
            "Episode:     137, reward:  -947.43, mean_last_100: -1079.77, exploration: 0.50\n",
            "Episode:     138, reward:  -873.64, mean_last_100: -1075.09, exploration: 0.50\n",
            "Episode:     139, reward:  -761.94, mean_last_100: -1067.68, exploration: 0.50\n",
            "Episode:     140, reward:  -868.66, mean_last_100: -1062.33, exploration: 0.49\n",
            "Episode:     141, reward:  -792.23, mean_last_100: -1057.01, exploration: 0.49\n",
            "Episode:     142, reward:  -695.33, mean_last_100: -1049.66, exploration: 0.49\n",
            "Episode:     143, reward:  -879.66, mean_last_100: -1044.94, exploration: 0.49\n",
            "Episode:     144, reward:  -722.34, mean_last_100: -1040.20, exploration: 0.48\n",
            "Episode:     145, reward:  -899.22, mean_last_100: -1036.73, exploration: 0.48\n",
            "Episode:     146, reward:  -734.60, mean_last_100: -1031.47, exploration: 0.48\n",
            "Episode:     147, reward:  -706.05, mean_last_100: -1025.53, exploration: 0.48\n",
            "Episode:     148, reward:  -665.28, mean_last_100: -1018.67, exploration: 0.47\n",
            "Episode:     149, reward:  -782.03, mean_last_100: -1013.50, exploration: 0.47\n",
            "Episode:     150, reward:  -859.31, mean_last_100: -1007.67, exploration: 0.47\n",
            "Episode:     151, reward:  -728.15, mean_last_100: -1003.04, exploration: 0.47\n",
            "Episode:     152, reward:  -731.62, mean_last_100:  -996.61, exploration: 0.46\n",
            "Episode:     153, reward:  -780.66, mean_last_100:  -993.01, exploration: 0.46\n",
            "Episode:     154, reward:  -898.40, mean_last_100:  -989.62, exploration: 0.46\n",
            "Episode:     155, reward:  -701.20, mean_last_100:  -984.06, exploration: 0.46\n",
            "Episode:     156, reward:  -766.55, mean_last_100:  -980.24, exploration: 0.46\n",
            "Episode:     157, reward:  -692.62, mean_last_100:  -973.88, exploration: 0.45\n",
            "Episode:     158, reward:  -736.48, mean_last_100:  -969.37, exploration: 0.45\n",
            "Episode:     159, reward:  -743.85, mean_last_100:  -964.82, exploration: 0.45\n",
            "Episode:     160, reward:  -851.89, mean_last_100:  -959.67, exploration: 0.45\n",
            "Episode:     161, reward:  -702.98, mean_last_100:  -955.43, exploration: 0.44\n",
            "Episode:     162, reward:  -894.47, mean_last_100:  -951.65, exploration: 0.44\n",
            "Episode:     163, reward:  -868.65, mean_last_100:  -947.78, exploration: 0.44\n",
            "Episode:     164, reward:  -597.79, mean_last_100:  -941.07, exploration: 0.44\n",
            "Episode:     165, reward:  -694.79, mean_last_100:  -936.33, exploration: 0.44\n",
            "Episode:     166, reward:  -684.99, mean_last_100:  -932.77, exploration: 0.43\n",
            "Episode:     167, reward:  -576.30, mean_last_100:  -924.97, exploration: 0.43\n",
            "Episode:     168, reward:  -771.94, mean_last_100:  -921.31, exploration: 0.43\n",
            "Episode:     169, reward:  -662.50, mean_last_100:  -915.84, exploration: 0.43\n",
            "Episode:     170, reward:  -743.70, mean_last_100:  -911.79, exploration: 0.42\n",
            "Episode:     171, reward:  -617.53, mean_last_100:  -905.98, exploration: 0.42\n",
            "Episode:     172, reward:  -766.08, mean_last_100:  -901.53, exploration: 0.42\n",
            "Episode:     173, reward:  -619.43, mean_last_100:  -896.57, exploration: 0.42\n",
            "Episode:     174, reward:  -692.55, mean_last_100:  -892.44, exploration: 0.42\n",
            "Episode:     175, reward:  -778.57, mean_last_100:  -888.71, exploration: 0.41\n",
            "Episode:     176, reward:  -711.50, mean_last_100:  -885.91, exploration: 0.41\n",
            "Episode:     177, reward:  -512.50, mean_last_100:  -880.00, exploration: 0.41\n",
            "Episode:     178, reward:  -645.60, mean_last_100:  -874.77, exploration: 0.41\n",
            "Episode:     179, reward:  -691.19, mean_last_100:  -870.98, exploration: 0.41\n",
            "Episode:     180, reward:  -726.65, mean_last_100:  -867.26, exploration: 0.40\n",
            "Episode:     181, reward:  -652.73, mean_last_100:  -861.56, exploration: 0.40\n",
            "Episode:     182, reward:  -719.76, mean_last_100:  -857.27, exploration: 0.40\n",
            "Episode:     183, reward:  -631.92, mean_last_100:  -853.82, exploration: 0.40\n",
            "Episode:     184, reward:  -555.25, mean_last_100:  -847.42, exploration: 0.40\n",
            "Episode:     185, reward:  -618.78, mean_last_100:  -841.94, exploration: 0.39\n",
            "Episode:     186, reward:  -585.48, mean_last_100:  -837.32, exploration: 0.39\n",
            "Episode:     187, reward:  -673.07, mean_last_100:  -833.10, exploration: 0.39\n",
            "Episode:     188, reward:  -617.47, mean_last_100:  -827.95, exploration: 0.39\n",
            "Episode:     189, reward:  -588.06, mean_last_100:  -822.80, exploration: 0.39\n",
            "Episode:     190, reward:  -621.58, mean_last_100:  -817.97, exploration: 0.38\n",
            "Episode:     191, reward:  -524.78, mean_last_100:  -812.10, exploration: 0.38\n",
            "Episode:     192, reward:  -675.28, mean_last_100:  -809.45, exploration: 0.38\n",
            "Episode:     193, reward:  -701.73, mean_last_100:  -805.91, exploration: 0.38\n",
            "Episode:     194, reward:  -660.02, mean_last_100:  -801.69, exploration: 0.38\n",
            "Episode:     195, reward:  -625.46, mean_last_100:  -796.35, exploration: 0.37\n",
            "Episode:     196, reward:  -526.41, mean_last_100:  -791.68, exploration: 0.37\n",
            "Episode:     197, reward:  -590.80, mean_last_100:  -787.61, exploration: 0.37\n",
            "Episode:     198, reward:  -533.96, mean_last_100:  -783.86, exploration: 0.37\n"
          ]
        },
        {
          "output_type": "stream",
          "name": "stderr",
          "text": [
            "/usr/local/lib/python3.10/dist-packages/keras/src/engine/training.py:3079: UserWarning: You are saving your model as an HDF5 file via `model.save()`. This file format is considered legacy. We recommend using instead the native Keras format, e.g. `model.save('my_model.keras')`.\n",
            "  saving_api.save_model(\n",
            "WARNING:tensorflow:Compiled the loaded model, but the compiled metrics have yet to be built. `model.compile_metrics` will be empty until you train or evaluate the model.\n"
          ]
        },
        {
          "output_type": "stream",
          "name": "stdout",
          "text": [
            "Episode:     199, reward:  -594.22, mean_last_100:  -780.38, exploration: 0.37\n"
          ]
        }
      ]
    },
    {
      "cell_type": "markdown",
      "source": [
        "#### To load and test a model"
      ],
      "metadata": {
        "id": "IV_bf5qRBdjR"
      }
    },
    {
      "cell_type": "code",
      "source": [
        "%matplotlib inline"
      ],
      "metadata": {
        "id": "NkPiSt03M6Y4"
      },
      "execution_count": 77,
      "outputs": []
    },
    {
      "cell_type": "code",
      "source": [
        "print('Starting testing !')\n",
        "#testing on the saved model with action get_action_DQN\n",
        "test_models(_get_action_DQN, network_name=\"trained_models/neural_network_trained.h5\", debug=True )"
      ],
      "metadata": {
        "id": "AWof_CWjBj58",
        "colab": {
          "base_uri": "https://localhost:8080/"
        },
        "outputId": "a2e0a2f7-2ec9-4875-fb9d-65fc503ca9e9"
      },
      "execution_count": 78,
      "outputs": [
        {
          "output_type": "stream",
          "name": "stdout",
          "text": [
            "Starting testing !\n"
          ]
        },
        {
          "output_type": "stream",
          "name": "stderr",
          "text": [
            "<ipython-input-64-7e18a2be0358>:43: DeprecationWarning: This function is deprecated. Please call randint(1, 12 + 1) instead\n",
            "  self.month = np.random.random_integers(1, 12)\n",
            "<ipython-input-64-7e18a2be0358>:44: DeprecationWarning: This function is deprecated. Please call randint(1, 31 + 1) instead\n",
            "  self.day = np.random.random_integers(1, Constant.MONTHS_LEN[self.month-1])\n",
            "<ipython-input-64-7e18a2be0358>:45: DeprecationWarning: This function is deprecated. Please call randint(0, 23 + 1) instead\n",
            "  self.time = np.random.random_integers(0, 23)\n"
          ]
        },
        {
          "output_type": "stream",
          "name": "stdout",
          "text": [
            "This years spent: 793.67 euros\n",
            "Total days with not enough charge on the EV: 0\n",
            "Total try to charge while EV is away: 1\n",
            "\n"
          ]
        },
        {
          "output_type": "execute_result",
          "data": {
            "text/plain": [
              "([66.75210748784833,\n",
              "  48.40693000000006,\n",
              "  58.698750000000075,\n",
              "  55.38269000000005,\n",
              "  59.88543000000004,\n",
              "  59.543990000000065,\n",
              "  69.16051999999974,\n",
              "  57.099129999999946,\n",
              "  61.943530000000294,\n",
              "  87.42228000000057,\n",
              "  83.79250000000127,\n",
              "  85.57856999999979],\n",
              " 0,\n",
              " [98.6510643210375,\n",
              "  98.48848404521996,\n",
              "  98.61087495852335,\n",
              "  98.65549035026356,\n",
              "  98.7052937127395,\n",
              "  98.7746839267795,\n",
              "  98.76648045000802,\n",
              "  98.67102240321907,\n",
              "  98.50933785286873,\n",
              "  98.33753042504325,\n",
              "  98.26338118780316,\n",
              "  98.06011957812076,\n",
              "  98.28731892710391,\n",
              "  98.39189628983279,\n",
              "  98.38213259292343,\n",
              "  98.5282206411503,\n",
              "  98.77624749922053,\n",
              "  99.08360123385957,\n",
              "  99.18918151974859,\n",
              "  99.0959540333316,\n",
              "  98.67033023410302,\n",
              "  98.48371588658405,\n",
              "  98.47623154393382,\n",
              "  98.58333222041841],\n",
              " [92.16712876712329,\n",
              "  92.95756438356165,\n",
              "  93.8191205479452,\n",
              "  94.50873698630137,\n",
              "  94.90502739726027,\n",
              "  95.4791287671233,\n",
              "  95.7178602739726,\n",
              "  84.7178602739726,\n",
              "  84.7178602739726,\n",
              "  84.7178602739726,\n",
              "  84.7178602739726,\n",
              "  84.7178602739726,\n",
              "  84.7178602739726,\n",
              "  84.7178602739726,\n",
              "  84.7178602739726,\n",
              "  84.7178602739726,\n",
              "  84.72108767123288,\n",
              "  84.72108767123288,\n",
              "  84.72108767123288,\n",
              "  84.72108767123288,\n",
              "  86.83810410958905,\n",
              "  88.08567671232878,\n",
              "  89.65692328767123,\n",
              "  91.05717260273973],\n",
              " [0.02176676712328767,\n",
              "  0.02076712328767123,\n",
              "  0.020646821917808218,\n",
              "  0.021775753424657533,\n",
              "  0.02525731506849315,\n",
              "  0.029944109589041097,\n",
              "  0.034098219178082194,\n",
              "  0.034090684931506854,\n",
              "  0.03277468493150685,\n",
              "  0.03177712328767123,\n",
              "  0.03021295890410959,\n",
              "  0.028285397260273973,\n",
              "  0.027278684931506852,\n",
              "  0.02764235616438356,\n",
              "  0.02887142465753425,\n",
              "  0.03199104109589041,\n",
              "  0.036843616438356167,\n",
              "  0.038324000000000004,\n",
              "  0.036384931506849315,\n",
              "  0.03264389041095891,\n",
              "  0.029800027397260273,\n",
              "  0.027333917808219182,\n",
              "  0.024447643835616442,\n",
              "  0.022935506849315064],\n",
              " [3.495890410958904,\n",
              "  3.7671232876712324,\n",
              "  3.917808219178082,\n",
              "  3.375342465753424,\n",
              "  3.9178082191780828,\n",
              "  3.8273972602739725,\n",
              "  3.315068493150685,\n",
              "  2.8328767123287673,\n",
              "  2.802739726027397,\n",
              "  2.8931506849315065,\n",
              "  3.1643835616438354,\n",
              "  2.7424657534246575,\n",
              "  3.194520547945205,\n",
              "  3.104109589041096,\n",
              "  2.8328767123287673,\n",
              "  2.923287671232877,\n",
              "  2.7424657534246575,\n",
              "  2.5315068493150683,\n",
              "  2.3205479452054796,\n",
              "  2.7424657534246575,\n",
              "  3.767123287671233,\n",
              "  3.1945205479452055,\n",
              "  3.676712328767123,\n",
              "  3.9479452054794524],\n",
              " [0.0,\n",
              "  0.0,\n",
              "  0.0,\n",
              "  0.0,\n",
              "  0.0,\n",
              "  0.0,\n",
              "  0.0,\n",
              "  0.0,\n",
              "  0.0,\n",
              "  0.0005107149559016701,\n",
              "  0.008248106586601616,\n",
              "  0.04462609870519797,\n",
              "  0.11074726215049728,\n",
              "  0.1884800150121974,\n",
              "  0.29591232876712326,\n",
              "  0.3494555226121223,\n",
              "  0.34173029086132484,\n",
              "  0.35879821354850816,\n",
              "  0.319498052167386,\n",
              "  0.2365878926627885,\n",
              "  0.1779417076374554,\n",
              "  0.08435624695064742,\n",
              "  0.02576878213548508,\n",
              "  0.004018952899230625],\n",
              " [0.10866806793332863,\n",
              "  0.10588878848990689,\n",
              "  0.10437052588271185,\n",
              "  0.11310353184458287,\n",
              "  0.14468404600621346,\n",
              "  0.16483731266171903,\n",
              "  0.48507992774432823,\n",
              "  0.5664248871340402,\n",
              "  0.6257087243185014,\n",
              "  0.7770918499567134,\n",
              "  0.778576529833973,\n",
              "  0.5633735142318538,\n",
              "  0.5773972508327347,\n",
              "  0.7291978122709017,\n",
              "  0.6426954351537141,\n",
              "  0.3890126772880633,\n",
              "  0.2774077426796083,\n",
              "  0.3049213888013896,\n",
              "  0.6722795718150393,\n",
              "  0.8555087462256473,\n",
              "  0.5388233383116842,\n",
              "  0.3154225179685883,\n",
              "  0.18829219102867456,\n",
              "  0.11776507550261064])"
            ]
          },
          "metadata": {},
          "execution_count": 78
        }
      ]
    },
    {
      "cell_type": "markdown",
      "source": [
        "#### Plot graph of money spent"
      ],
      "metadata": {
        "id": "9L993AhSCCSV"
      }
    },
    {
      "cell_type": "code",
      "source": [
        "\n",
        "histo_plotter = HistoPlotter()\n",
        "monthly_total_list_DQN, _, _, _, _, _, _, _ = test_models( _get_action_DQN, network_name=\"trained_models/neural_network_trained.h5\" )\n",
        "monthly_total_list_random, _, _, _, _, _, _, _ = test_models( _get_action_random, network_name=\"trained_models/neural_network_trained.h5\" )\n",
        "histo_plotter.trained_list = monthly_total_list_DQN\n",
        "histo_plotter.random_list = monthly_total_list_random\n",
        "histo_plotter.plot()\n"
      ],
      "metadata": {
        "colab": {
          "base_uri": "https://localhost:8080/",
          "height": 744
        },
        "id": "hLgDcqTuCVul",
        "outputId": "9b4d3f78-a42e-4efd-ef0d-6a6465829b5e"
      },
      "execution_count": 79,
      "outputs": [
        {
          "output_type": "stream",
          "name": "stderr",
          "text": [
            "<ipython-input-64-7e18a2be0358>:43: DeprecationWarning: This function is deprecated. Please call randint(1, 12 + 1) instead\n",
            "  self.month = np.random.random_integers(1, 12)\n",
            "<ipython-input-64-7e18a2be0358>:44: DeprecationWarning: This function is deprecated. Please call randint(1, 31 + 1) instead\n",
            "  self.day = np.random.random_integers(1, Constant.MONTHS_LEN[self.month-1])\n",
            "<ipython-input-64-7e18a2be0358>:45: DeprecationWarning: This function is deprecated. Please call randint(0, 23 + 1) instead\n",
            "  self.time = np.random.random_integers(0, 23)\n",
            "<ipython-input-64-7e18a2be0358>:43: DeprecationWarning: This function is deprecated. Please call randint(1, 12 + 1) instead\n",
            "  self.month = np.random.random_integers(1, 12)\n",
            "<ipython-input-64-7e18a2be0358>:44: DeprecationWarning: This function is deprecated. Please call randint(1, 31 + 1) instead\n",
            "  self.day = np.random.random_integers(1, Constant.MONTHS_LEN[self.month-1])\n",
            "<ipython-input-64-7e18a2be0358>:45: DeprecationWarning: This function is deprecated. Please call randint(0, 23 + 1) instead\n",
            "  self.time = np.random.random_integers(0, 23)\n"
          ]
        },
        {
          "output_type": "display_data",
          "data": {
            "text/plain": [
              "<Figure size 640x480 with 1 Axes>"
            ],
            "image/png": "[encoded data removed]"
          },
          "metadata": {}
        }
      ]
    },
    {
      "cell_type": "markdown",
      "source": [
        "#### Plot graph of battery_charge"
      ],
      "metadata": {
        "id": "9JVZPLBLCI8l"
      }
    },
    {
      "cell_type": "code",
      "source": [
        "\n",
        "_, _, hourly_home_battery__DQN, hourly_ev_battery__DQN, hourly_price_DQN, hourly_charge_DQN_sg, hourly_charge_DQN_pv, _ = test_models( _get_action_DQN, network_name=\"trained_models/neural_network_trained.h5\" )\n",
        "line_plotter = DoubleLinePlotter( hourly_home_battery__DQN, hourly_ev_battery__DQN, hourly_price_DQN, hourly_charge_DQN_sg, hourly_charge_DQN_pv )\n",
        "line_plotter.plot()\n"
      ],
      "metadata": {
        "colab": {
          "base_uri": "https://localhost:8080/",
          "height": 573
        },
        "id": "NwymbZmFCcBw",
        "outputId": "483f937f-d22f-4e69-a1f5-c7e73f0fe880"
      },
      "execution_count": 80,
      "outputs": [
        {
          "output_type": "stream",
          "name": "stderr",
          "text": [
            "<ipython-input-64-7e18a2be0358>:43: DeprecationWarning: This function is deprecated. Please call randint(1, 12 + 1) instead\n",
            "  self.month = np.random.random_integers(1, 12)\n",
            "<ipython-input-64-7e18a2be0358>:44: DeprecationWarning: This function is deprecated. Please call randint(1, 30 + 1) instead\n",
            "  self.day = np.random.random_integers(1, Constant.MONTHS_LEN[self.month-1])\n",
            "<ipython-input-64-7e18a2be0358>:45: DeprecationWarning: This function is deprecated. Please call randint(0, 23 + 1) instead\n",
            "  self.time = np.random.random_integers(0, 23)\n"
          ]
        },
        {
          "output_type": "display_data",
          "data": {
            "text/plain": [
              "<Figure size 640x480 with 2 Axes>"
            ],
            "image/png": "[encoded data removed]"
          },
          "metadata": {}
        }
      ]
    },
    {
      "cell_type": "markdown",
      "source": [
        "#### Plot graph of reward function"
      ],
      "metadata": {
        "id": "8-_1UMzMCLKP"
      }
    },
    {
      "cell_type": "code",
      "source": [
        "\n",
        "plotter = LinePlotter(x_label=\"Episode\", y_label=\"Reward\", title=\"Reward Function\")\n",
        "plotter.load_array([ glob.glob(\"data/reward_DQN_*.txt\") ])\n",
        "plotter.process_data( rolling_window=100, starting_pointer=0 )\n",
        "plotter.render( labels=[\"DQN\"], colors=[\"r\"] )\n"
      ],
      "metadata": {
        "colab": {
          "base_uri": "https://localhost:8080/",
          "height": 482
        },
        "id": "OnmzcEFCCmIf",
        "outputId": "c1007f07-3d23-41f0-a12f-47ad5ff7e7a5"
      },
      "execution_count": 81,
      "outputs": [
        {
          "output_type": "display_data",
          "data": {
            "text/plain": [
              "<Figure size 640x480 with 1 Axes>"
            ],
            "image/png": "[encoded data removed]"
          },
          "metadata": {}
        }
      ]
    },
    {
      "cell_type": "markdown",
      "source": [
        "#### Plot graph of consumer demands"
      ],
      "metadata": {
        "id": "xx_zH5DaCOxl"
      }
    },
    {
      "cell_type": "code",
      "source": [
        "\n",
        "_, _, hourly_home_battery__DQN, hourly_ev_battery__DQN, hourly_price_DQN, hourly_charge_DQN_sg, hourly_charge_DQN_pv, house_demands = test_models( _get_action_DQN, network_name=\"trained_models/neural_network_trained.h5\" )\n",
        "\n",
        "line_plotter = DemandsPlotter(house_demands, hourly_charge_DQN_pv)\n",
        "line_plotter.plot()\n"
      ],
      "metadata": {
        "colab": {
          "base_uri": "https://localhost:8080/",
          "height": 579
        },
        "id": "Pze4DObdCrSR",
        "outputId": "2beadd63-59b2-4db8-91a7-2787685c50ce"
      },
      "execution_count": 82,
      "outputs": [
        {
          "output_type": "stream",
          "name": "stderr",
          "text": [
            "<ipython-input-64-7e18a2be0358>:43: DeprecationWarning: This function is deprecated. Please call randint(1, 12 + 1) instead\n",
            "  self.month = np.random.random_integers(1, 12)\n",
            "<ipython-input-64-7e18a2be0358>:44: DeprecationWarning: This function is deprecated. Please call randint(1, 31 + 1) instead\n",
            "  self.day = np.random.random_integers(1, Constant.MONTHS_LEN[self.month-1])\n",
            "<ipython-input-64-7e18a2be0358>:45: DeprecationWarning: This function is deprecated. Please call randint(0, 23 + 1) instead\n",
            "  self.time = np.random.random_integers(0, 23)\n"
          ]
        },
        {
          "output_type": "display_data",
          "data": {
            "text/plain": [
              "<Figure size 640x480 with 2 Axes>"
            ],
            "image/png": "[encoded data removed]"
          },
          "metadata": {}
        }
      ]
    },
    {
      "cell_type": "markdown",
      "source": [
        "#### Plot graph of generation"
      ],
      "metadata": {
        "id": "G2k42BX1CSWJ"
      }
    },
    {
      "cell_type": "code",
      "source": [
        "\n",
        "_, _, hourly_home_battery__DQN, hourly_ev_battery__DQN, hourly_price_DQN, hourly_charge_DQN_sg, hourly_charge_DQN_pv, house_demands = test_models( _get_action_DQN, network_name=\"trained_models/neural_network_trained.h5\" )\n",
        "\n",
        "for i in range(len(hourly_home_battery__DQN)):\n",
        "  hourly_home_battery__DQN[i] -= 50\n",
        "print(hourly_home_battery__DQN)\n",
        "print(np.array(hourly_home_battery__DQN).shape)\n",
        "print(np.array(hourly_charge_DQN_pv).shape)\n",
        "print(np.array(hourly_charge_DQN_sg).shape)\n",
        "line_plotter = GenerationPlotter(hourly_charge_DQN_pv, hourly_charge_DQN_sg, hourly_home_battery__DQN)\n",
        "line_plotter.plot()\n",
        "\n"
      ],
      "metadata": {
        "id": "IxKdAY8C4RS2",
        "colab": {
          "base_uri": "https://localhost:8080/",
          "height": 649
        },
        "outputId": "fd8516a5-ffd5-40f2-c2a4-b0c8a4fd0ca1"
      },
      "execution_count": 83,
      "outputs": [
        {
          "output_type": "stream",
          "name": "stderr",
          "text": [
            "<ipython-input-64-7e18a2be0358>:43: DeprecationWarning: This function is deprecated. Please call randint(1, 12 + 1) instead\n",
            "  self.month = np.random.random_integers(1, 12)\n",
            "<ipython-input-64-7e18a2be0358>:44: DeprecationWarning: This function is deprecated. Please call randint(1, 31 + 1) instead\n",
            "  self.day = np.random.random_integers(1, Constant.MONTHS_LEN[self.month-1])\n",
            "<ipython-input-64-7e18a2be0358>:45: DeprecationWarning: This function is deprecated. Please call randint(0, 23 + 1) instead\n",
            "  self.time = np.random.random_integers(0, 23)\n"
          ]
        },
        {
          "output_type": "stream",
          "name": "stdout",
          "text": [
            "[48.78390787659258, 48.55296169008922, 48.699014041664185, 48.68432004191483, 48.784135615902954, 48.82519609666221, 48.79899553633649, 48.753093781400366, 48.60260756393748, 48.51167506519903, 48.33891392728043, 48.20641625349401, 48.330348140376216, 48.39786734415733, 48.382288503638065, 48.49567455348014, 48.77072354458693, 49.02783671029751, 49.20956591695416, 49.1169598799227, 48.665724541833995, 48.4300701823103, 48.48989302506992, 48.703151617321524]\n",
            "(24,)\n",
            "(24,)\n",
            "(24,)\n"
          ]
        },
        {
          "output_type": "display_data",
          "data": {
            "text/plain": [
              "<Figure size 640x480 with 2 Axes>"
            ],
            "image/png": "[encoded data removed]"
          },
          "metadata": {}
        }
      ]
    },
    {
      "cell_type": "code",
      "source": [],
      "metadata": {
        "id": "T6dpF117ODKG"
      },
      "execution_count": null,
      "outputs": []
    }
  ],
  "metadata": {
    "colab": {
      "provenance": []
    },
    "kernelspec": {
      "display_name": "Python 3",
      "name": "python3"
    },
    "language_info": {
      "name": "python"
    }
  },
  "nbformat": 4,
  "nbformat_minor": 0
}