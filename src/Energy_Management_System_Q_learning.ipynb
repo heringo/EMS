{
  "cells": [
    {
      "cell_type": "markdown",
      "metadata": {
        "id": "tO8oNCeyvbtQ"
      },
      "source": [
        "# **Reinforcement Learning Project**\n",
        "# Deep reinforcement learning for energy management systems in a microgrid\n",
        "---\n",
        "---\n",
        "\n",
        "This notebook has 4 parts. The goals of these parts are:\n",
        "- **Part 1**:\n",
        "- **Part 2**:\n",
        "- **Part 3**:\n",
        "- **Part 4**:\n",
        "\n",
        "### Installing Dependencies"
      ]
    },
    {
      "cell_type": "markdown",
      "metadata": {
        "id": "DqQtQeTewnA3"
      },
      "source": [
        "Microgrids – self-contained electrical grids that are capable of disconnecting from the main grid – hold potential in both tackling climate change mitigation via reducing CO\n",
        " emissions and adaptation by increasing infrastructure resiliency. Due to their distributed nature, microgrids are often idiosyncratic; as a result, control of these systems is nontrivial.\n",
        "\n",
        " While microgrid simulators exist, many are limited in scope and in the variety of microgrids they can simulate. We propose pymgrid, an open-source Python package to generate and simulate a large number of microgrids, and the first open-source tool that can generate more than 600 different microgrids. pymgrid abstracts most of the domain expertise, allowing users to focus on control algorithms.\n",
        "\n",
        " In particular, pymgrid is built to be a reinforcement learning (RL) platform, and includes the ability to model microgrids as Markov decision processes\n",
        " pymgrid also introduces two pre-computed list of microgrids, intended to allow for research reproducibility in the microgrid setting."
      ]
    },
    {
      "cell_type": "code",
      "source": [
        "import zipfile\n",
        "import io\n",
        "\n",
        "# Specify the name of the uploaded zip file\n",
        "zip_file_name = 'data.zip'\n",
        "\n",
        "# Extract the contents\n",
        "with zipfile.ZipFile(zip_file_name, 'r') as zip_ref:\n",
        "    zip_ref.extractall('/content/')"
      ],
      "metadata": {
        "id": "uSEcSVvHL2BB"
      },
      "execution_count": null,
      "outputs": []
    },
    {
      "cell_type": "markdown",
      "metadata": {
        "id": "uMseuk_5xVoN"
      },
      "source": [
        "### Env : Smart Home\n"
      ]
    },
    {
      "cell_type": "markdown",
      "source": [
        "### Constants"
      ],
      "metadata": {
        "id": "ItrlQkMM8C0D"
      }
    },
    {
      "cell_type": "code",
      "source": [
        "#Constant that indicates which actions is taken\n",
        "class Actions:\n",
        "\tNO_ACTION = 0\n",
        "\tCHARGE_HOME_wPV = 1         #Charging Home with Photovoltaic\n",
        "\tCHARGE_HOME_wSG = 2         #Charging Home with SmartGrid\n",
        "\n",
        "\tCHARGE_EV_wPV = 3           #Charging EV with Photovoltaic\n",
        "\tCHARGE_EV_wSG = 4           #Charging EV with SmartGrid\n",
        "\n",
        "class Specifications:\n",
        "\tHOME_CAPACITY = 100\n",
        "\tEV_CAPACITY = 100\n",
        "\tEV_DAILY_CONSUME = 11\n",
        "\tEV_CHARGE_WINDOW = [18, 6]      #Charging when the EV is at home and not use\n",
        "\tMAX_CHARGE_FOR_HOUR = 11\n",
        "\n",
        "class Constant:\n",
        "\tMONTHS_LEN = [31, 28, 31, 30, 31, 30, 31, 31, 30, 31, 30, 31]\n",
        "\tMAX_STEP_HOURS = 24 * 30\n"
      ],
      "metadata": {
        "id": "bhCVkUIb4VyV"
      },
      "execution_count": null,
      "outputs": []
    },
    {
      "cell_type": "markdown",
      "source": [
        "### Class to preprocess PV entry, SG prices and H4 consumes"
      ],
      "metadata": {
        "id": "vgs184d98NBl"
      }
    },
    {
      "cell_type": "code",
      "source": [
        "class ProcessedData:\n",
        "\tdef __init__(self):\n",
        "\t\tself.PV_production = []                       #Production of Photovoltaic\n",
        "\t\tself.SG_prices = []                           #Price of SmartGrid Electricity\n",
        "\t\tself.H4_consumes = []                         #The consumption/need of the home\n",
        "\n",
        "\t# Methods to add the elements in the specific arrays\n",
        "\tdef add_PV_entry(self, el): self.PV_production.append( el )\n",
        "\tdef add_SG_prices(self, el): self.SG_prices.append( el )\n",
        "\tdef add_H4_consumes(self, el): self.H4_consumes.append( el )\n",
        "\n",
        "\t# Get Methods (given month and time return the value)\n",
        "  # To get the element it converts every day in hours\n",
        "\tdef get_PV_entry(self, month, day, day_time): return self.PV_production[ (sum(Constant.MONTHS_LEN[:month-1]) + day - 1) * 24  + day_time ]\n",
        "\tdef get_SG_prices(self, month, day, day_time): return self.SG_prices[ (sum(Constant.MONTHS_LEN[:month-1]) + day - 1) * 24  + day_time ]\n",
        "\tdef get_H4_consumes(self, month, day, day_time): return self.H4_consumes[ (sum(Constant.MONTHS_LEN[:month-1]) + day - 1) * 24  + day_time ]"
      ],
      "metadata": {
        "id": "DfyWZyFx7RnK"
      },
      "execution_count": null,
      "outputs": []
    },
    {
      "cell_type": "markdown",
      "source": [
        "### Function for plotting"
      ],
      "metadata": {
        "id": "N92Qs24c8y1Q"
      }
    },
    {
      "cell_type": "code",
      "source": [
        "import matplotlib.pyplot as plt\n",
        "import numpy as np\n",
        "from collections import deque\n",
        "\n",
        "class LinePlotter:\n",
        "\n",
        "\tdef __init__(self, x_label=\"X Label\", y_label=\"Y Label\", title=\"No Title\"):\n",
        "\t\tself.fig, self.ax = plt.subplots(1)\n",
        "\t\tself.ax.spines[\"top\"].set_visible(False)\n",
        "\t\tself.ax.spines[\"bottom\"].set_visible(False)\n",
        "\t\tself.ax.spines[\"right\"].set_visible(False)\n",
        "\t\tself.ax.spines[\"left\"].set_visible(False)\n",
        "\t\tself.ax.set_facecolor('#eaeaf2')\n",
        "\t\tplt.grid(color='#ffffff', linestyle='-', linewidth=1)\n",
        "\t\tplt.xticks(fontsize=12)\n",
        "\t\tplt.yticks(fontsize=12)\n",
        "\t\tplt.xlabel(x_label, fontsize=12)\n",
        "\t\tplt.ylabel(y_label, fontsize=12)\n",
        "\t\tplt.title(title, fontsize=16)\n",
        "\t\tself.data_arrays = []\n",
        "\t\tself.array_len = -1\n",
        "\t\tself.mean_array = []\n",
        "\t\tself.var_array =  []\n",
        "\t\tself.max_array = []\n",
        "\t\tself.min_array = []\n",
        "\n",
        "\tdef load_array(self, file_name_arrays, early_stop=None):\n",
        "\t\tdata_arrays = [[np.loadtxt(name, delimiter='\\n', unpack=True) for name in array_set] for array_set in file_name_arrays]\n",
        "\t\tif(early_stop == None): self.array_len = min([min([len(el) for el in array_set]) for array_set in data_arrays])\n",
        "\t\telse: self.array_len = early_stop\n",
        "\t\tself.data_arrays = np.array([[el[:self.array_len] for el in array_set] for array_set in data_arrays], dtype=object)\n",
        "\n",
        "\tdef render(self, labels, colors):\n",
        "\t\terr_msg = \"load some data before the render!\"\n",
        "\t\tassert self.array_len > 0, err_msg\n",
        "\t\tfor mean_values, max_values, min_values, label, color in zip(self.mean_array, self.max_array, self.min_array, labels, colors):\n",
        "\t\t\tself.ax.plot(self.x_axes, mean_values, label=label, color=color, linestyle='-', linewidth=1.2 )\n",
        "\t\t\tself.ax.fill_between(self.x_axes, max_values, min_values, facecolor=color, alpha=0.3)\n",
        "\t\tself.ax.legend(loc='lower right', bbox_to_anchor=(1, 0), fontsize=14)\n",
        "\t\tplt.show()\n",
        "\n",
        "\tdef process_data(self, rolling_window=1, starting_pointer=0, early_stop=None):\n",
        "\t\trolling_queue = deque(maxlen=rolling_window)\n",
        "\t\tself.x_axes = [i for i in range(self.array_len-starting_pointer)]\n",
        "\t\tfor array_set in self.data_arrays:\n",
        "\t\t\tfor array in array_set:\n",
        "\t\t\t\tfor i in range(self.array_len):\n",
        "\t\t\t\t\trolling_queue.append(array[i])\n",
        "\t\t\t\t\tarray[i] = np.mean(rolling_queue)\n",
        "\t\t\t\trolling_queue.clear()\n",
        "\t\t# Fix for different array size\n",
        "\t\tself.data_arrays = np.array([np.array(el) for el in self.data_arrays], dtype=object)\n",
        "\t\tself.mean_array = np.array([[np.mean(array_set[:, i]) for i in range(self.array_len)][starting_pointer:] for array_set in self.data_arrays])\n",
        "\t\tself.var_array =  np.array([[np.std(array_set[:, i]) for i in range(self.array_len)][starting_pointer:] for array_set in self.data_arrays])\n",
        "\t\tself.max_array = [[np.max(array_set[:, i]) for i in range(self.array_len)][starting_pointer:] for array_set in self.data_arrays]\n",
        "\t\tself.min_array = [[np.min(array_set[:, i]) for i in range(self.array_len)][starting_pointer:] for array_set in self.data_arrays]\n",
        "\n",
        "\n",
        "class HistoPlotter():\n",
        "\n",
        "\tdef __init__(self):\n",
        "\t\tself.trained_list = []\n",
        "\t\tself.random_list = []\n",
        "\n",
        "\tdef plot( self ):\n",
        "\t\tfig = plt.figure()\n",
        "\t\tax = fig.add_subplot(111)\n",
        "\t\tN = len(self.trained_list)\n",
        "\t\tind = np.arange(N)\n",
        "\t\twidth = 0.35\n",
        "\t\trects1 = ax.bar(ind, self.trained_list, width,\n",
        "\t\t\t\t\t\tcolor='black',\n",
        "\t\t\t\t\t\terror_kw=dict(elinewidth=2,ecolor='Red'))\n",
        "\t\trects2 = ax.bar(ind+width, self.random_list, width,\n",
        "\t\t\t\t\t\t\tcolor='red',\n",
        "\t\t\t\t\t\t\terror_kw=dict(elinewidth=2,ecolor='Blue'))\n",
        "\t\tax.set_xlim(-width,len(ind)+width)\n",
        "\t\tax.set_ylabel('Money Spent (euros)', fontsize=12)\n",
        "\t\tax.set_title('Smart Home')\n",
        "\t\txTickMarks = ['January', 'February', 'March', 'April', 'May', 'June', 'July', 'August', 'September', 'October', 'November', 'December']\n",
        "\t\tax.set_xticks(ind+width)\n",
        "\t\txtickNames = ax.set_xticklabels(xTickMarks)\n",
        "\t\tplt.setp(xtickNames, rotation=45, fontsize=12)\n",
        "\t\tax.legend( (rects1[0], rects2[0]), (f\"Trained Network (total={sum(self.trained_list):6.2f})\", f\"Random Actions (total={sum(self.random_list):6.2f})\"), fontsize=14 )\n",
        "\t\tplt.show()\n",
        "\n",
        "\n",
        "class DoubleLinePlotter():\n",
        "\n",
        "\tdef __init__(self, battery_level=[10, 20, 30], ev_level= [0, 0, 0], price=[30, 20, 10], hourly_charge_sg=[0, 0, 0], hourly_charge_pv=[0, 0, 0] ):\n",
        "\t\tself.battery_level = battery_level\n",
        "\t\tself.ev_level = ev_level\n",
        "\t\tself.charge_sg = hourly_charge_sg\n",
        "\t\tself.charge_pv = hourly_charge_pv\n",
        "\t\tself.price = price\n",
        "\n",
        "\tdef plot( self ):\n",
        "\t\tfig, ax = plt.subplots()\n",
        "\t\taxes = [ax, ax.twinx()]\n",
        "\t\tfig.subplots_adjust(right=0.86)\n",
        "\t\tax.set_xlabel('Time (h)')\n",
        "\n",
        "\t\t# Plot on Axis 1: Battery consupmtion\n",
        "\t\tX = [str(i) for i in range(24)]\n",
        "\t\taxes[0].bar(X, self.charge_sg, color='green', label=\"from SG\")\n",
        "\t\taxes[0].bar(X, self.charge_pv, color='blue', label=\"from PV\")\n",
        "\t\taxes[0].set_ylabel(\"Charge (kWh)\", color='black')\n",
        "\t\taxes[0].tick_params(axis='y', colors='black')\n",
        "\t\taxes[0].legend(loc='upper right', fontsize=14)\n",
        "\n",
        "\t\t# Plot on Axis 2: Price\n",
        "\t\taxes[1].plot(self.price, linestyle='-', color='red', linewidth=1.2)\n",
        "\t\taxes[1].set_ylabel('Price (kWh)', color='red')\n",
        "\t\taxes[1].tick_params(axis='y', colors='red')\n",
        "\n",
        "\t\t# Final Plot\n",
        "\t\tplt.show()\n",
        "\n",
        "\n",
        "class GenerationPlotter():\n",
        "\n",
        "\tdef __init__(self, pv, grid, battery_charge):\n",
        "\t\tself.pv = pv\n",
        "\t\tself.grid = grid\n",
        "\t\tself.battery_charge = battery_charge\n",
        "\n",
        "\tdef plot( self ):\n",
        "\t\tfig, ax = plt.subplots()\n",
        "\t\taxes = [ax, ax.twinx()]\n",
        "\t\tfig.subplots_adjust(right=0.86)\n",
        "\t\tax.set_xlabel('Time (h)')\n",
        "\n",
        "\t\t# Plot on Axis 1: Battery consupmtion\n",
        "\t\tX = [str(i) for i in range(24)]\n",
        "\t\taxes[0].bar(X, self.battery_charge, color='blue', label=\"Battery Discharge\")\n",
        "\t\taxes[0].bar(X, self.pv, color='red', label=\"PV\")\n",
        "\t\taxes[0].bar(X, self.grid, color='green', label=\"Grid\")\n",
        "\t\taxes[0].set_ylabel(\"Energy (kWh)\", color='black')\n",
        "\t\taxes[0].tick_params(axis='y', colors='black')\n",
        "\t\taxes[0].legend(loc='upper right', fontsize=14)\n",
        "\n",
        "\t\t# Plot on Axis 2: Price\n",
        "\t\t#axes[1].plot(self.price, linestyle='-', color='red', linewidth=1.2)\n",
        "\t\t#axes[1].set_ylabel('Price (kWh)', color='red')\n",
        "\t\t#axes[1].tick_params(axis='y', colors='red')\n",
        "\n",
        "\t\t# Final Plot\n",
        "\t\tplt.show()\n",
        "\n",
        "class DemandsPlotter():\n",
        "\n",
        "\tdef __init__(self, house_demands, battery_charge):\n",
        "\t\tself.house_demands = house_demands\n",
        "\t\tself.battery_charge = battery_charge\n",
        "\n",
        "\tdef plot( self ):\n",
        "\t\tfig, ax = plt.subplots()\n",
        "\t\taxes = [ax, ax.twinx()]\n",
        "\t\tfig.subplots_adjust(right=0.86)\n",
        "\t\tax.set_xlabel('Time (h)')\n",
        "\n",
        "\t\t# Plot on Axis 1: Battery consupmtion\n",
        "\t\tX = [str(i) for i in range(24)]\n",
        "\t\taxes[0].bar(X, self.battery_charge, color='green', label=\"Battery Charge\")\n",
        "\t\taxes[0].bar(X, self.house_demands, color='blue', label=\"House Demands\")\n",
        "\t\taxes[0].set_ylabel(\"Energy (kWh)\", color='black')\n",
        "\t\taxes[0].tick_params(axis='y', colors='black')\n",
        "\t\taxes[0].legend(loc='upper right', fontsize=14)\n",
        "\n",
        "\t\t# Plot on Axis 2: Price\n",
        "\t\t#axes[1].plot(self.price, linestyle='-', color='red', linewidth=1.2)\n",
        "\t\t#axes[1].set_ylabel('Price (kWh)', color='red')\n",
        "\t\t#axes[1].tick_params(axis='y', colors='red')\n",
        "\n",
        "\t\t# Final Plot\n",
        "\t\tplt.show()"
      ],
      "metadata": {
        "id": "ThfAjg9q8mL-"
      },
      "execution_count": null,
      "outputs": []
    },
    {
      "cell_type": "markdown",
      "source": [
        "### Env : Smart Home"
      ],
      "metadata": {
        "id": "gUaGFbbZ8WuC"
      }
    },
    {
      "cell_type": "code",
      "source": [
        "from gym import spaces, logger\n",
        "from gym.utils import seeding\n",
        "import pandas as pd\n",
        "import numpy as np\n",
        "\n",
        "class SmartHome:\n",
        "\n",
        "\tdef __init__(self):\n",
        "\t\t# Initial battery state\n",
        "\t\tself.home_battery_state = 0\n",
        "\t\tself.ev_battery_state = 0\n",
        "\n",
        "\t\t# Initial date and time\n",
        "\t\tself.month = 1\n",
        "\t\tself.day = 1\n",
        "\t\tself.time = 0\n",
        "\n",
        "\t\t# Initial episode length\n",
        "\t\tself.max_step_hours = 0\n",
        "\n",
        "\t\t# Load the data tables and data processing in the ProcessedData class\n",
        "\t\tself.processed_data = ProcessedData()\n",
        "\t\tself.__load_data_tables()\n",
        "\n",
        "\t\t# Define gym actions and env\n",
        "\t\tself.action_space = spaces.Discrete(5)     \t\t\t\t\t\t\t\t\t\t\t\t\t#Discret space of action\n",
        "\t\tlow = np.array([0 for _ in range(5)], dtype=np.float64)\n",
        "\t\thigh = np.array([1 for _ in range(5)], dtype=np.float64)\n",
        "\t\tself.observation_space = spaces.Box(low, high, dtype=np.float64)\t\t#Continuous space of observations (1/0)\n",
        "\n",
        "\n",
        "\t#####################\n",
        "\t#### GYM METHODS ####\n",
        "\t#####################\n",
        "\n",
        "\n",
        "\tdef reset(self):\n",
        "\t\t# Generate random home battery and ev battery level\n",
        "\t\tself.home_battery_state = np.random.rand() * Specifications.HOME_CAPACITY\n",
        "\t\tself.ev_battery_state = np.random.rand() * Specifications.EV_CAPACITY\n",
        "\n",
        "\t\t# Generate random datetime\n",
        "\t\tself.month = np.random.random_integers(1, 12)\n",
        "\t\tself.day = np.random.random_integers(1, Constant.MONTHS_LEN[self.month-1])\n",
        "\t\tself.time = np.random.random_integers(0, 23)\n",
        "\n",
        "\t\t# Reset environment parameters\n",
        "\t\tself.total_euros_spent = 0\n",
        "\n",
        "\t\t# Reset learning parameters\n",
        "\t\tself.max_step_hours = Constant.MAX_STEP_HOURS\n",
        "\n",
        "\t\treturn self.__get_normalized_state()\n",
        "\n",
        "\n",
        "\tdef step(self, action):\n",
        "\t\t# Define local variables\n",
        "\t\treward = 0\n",
        "\t\tdone = False\n",
        "\t\tcurrent_spent = 0\n",
        "\t\tinfo = {'use_ev_fail':0, 'charge_ev_fail':0}\n",
        "\n",
        "\t\t# Get processed data of the current datetime\n",
        "\t\tusers_demand = self.processed_data.get_H4_consumes(self.month, self.day, self.time)\n",
        "\t\tpv_potential = self.processed_data.get_PV_entry(self.month, self.day, self.time)\n",
        "\t\tsg_cost = self.processed_data.get_SG_prices(self.month, self.day, self.time)\n",
        "\n",
        "\t\t# Case 1: enough energy on the home battery, use it to meet the request\n",
        "\t\tif self.home_battery_state > users_demand: self.home_battery_state -= users_demand\n",
        "\n",
        "\t\t# Case 2: not enough energy on the home battery but enough from the PV\n",
        "\t\telif pv_potential > users_demand: pv_potential -= users_demand\n",
        "\n",
        "\t\t# Case 3: take the energy from the smart grid\n",
        "\t\telse: current_spent += (sg_cost * users_demand)\n",
        "\n",
        "\t\t# Perform Action\n",
        "\t\tif action == Actions.CHARGE_HOME_wPV:\n",
        "\t\t\tself.home_battery_state += pv_potential\n",
        "\t\tif action == Actions.CHARGE_HOME_wSG:\n",
        "\t\t\tself.home_battery_state += Specifications.MAX_CHARGE_FOR_HOUR\n",
        "\t\t\tcurrent_spent += (Specifications.MAX_CHARGE_FOR_HOUR * sg_cost)\n",
        "\t\tif action == Actions.CHARGE_EV_wPV:\n",
        "\t\t\tself.ev_battery_state += pv_potential\n",
        "\t\tif action == Actions.CHARGE_EV_wSG:\n",
        "\t\t\tself.ev_battery_state += Specifications.MAX_CHARGE_FOR_HOUR\n",
        "\t\t\tcurrent_spent += (Specifications.MAX_CHARGE_FOR_HOUR * sg_cost)\n",
        "\n",
        "\t\t# Fix Values with the max battery capacity\n",
        "\t\tself.home_battery_state = min(self.home_battery_state, Specifications.HOME_CAPACITY)\n",
        "\t\tself.ev_battery_state = min(self.ev_battery_state, Specifications.EV_CAPACITY)\n",
        "\n",
        "\t\t# Negative reward for euros spent\n",
        "\t\treward = -current_spent\n",
        "\t\t# Negative reward if the EV is not ready in the morning\n",
        "\t\tif self.time == 6 and self.ev_battery_state < Specifications.EV_DAILY_CONSUME:\n",
        "\t\t\treward -= 10\n",
        "\t\t\tinfo['use_ev_fail'] = 1\n",
        "\t\t# Negative reward if try to charge the car in the working times\n",
        "\t\tif self.time >= 6 and self.time <= 18 and (action == Actions.CHARGE_EV_wPV or action == Actions.CHARGE_EV_wSG):\n",
        "\t\t\treward -= 10\n",
        "\t\t\tinfo['charge_ev_fail'] = 1\n",
        "\n",
        "\t\t# Use the daily requirement of the EV at 6am\n",
        "\t\tif self.time == 6 and self.ev_battery_state >= Specifications.EV_DAILY_CONSUME: self.ev_battery_state -= Specifications.EV_DAILY_CONSUME\n",
        "\t\t# Compute the total cost of the episode\n",
        "\t\tself.total_euros_spent += current_spent\n",
        "\n",
        "\t\t# Increase datetime by 1 hour and fix day and month\n",
        "\t\tself.max_step_hours -= 1\n",
        "\t\tself.time += 1\n",
        "\t\tif self.time > 23:\n",
        "\t\t\tself.time = 0\n",
        "\t\t\tself.day += 1\n",
        "\t\tif self.day > Constant.MONTHS_LEN[self.month-1]:\n",
        "\t\t\tself.day = 1\n",
        "\t\t\tself.month += 1\n",
        "\t\tif self.month > 12:\n",
        "\t\t\tself.month = 1\n",
        "\t\t\tself.day = 1\n",
        "\t\t\tself.time = 0\n",
        "\n",
        "\t\t# Check Done state\n",
        "\t\tif self.max_step_hours <= 0: done = True\n",
        "\n",
        "\t\treturn self.__get_normalized_state(), reward, done, info\n",
        "\n",
        "\n",
        "\tdef seed(self, seed=None):\n",
        "\t\tself.np_random, seed = seeding.np_random(seed)\n",
        "\t\treturn [seed]\n",
        "\n",
        "\n",
        "\t#####################\n",
        "\t## PRIVATE METHODS ##\n",
        "\t#####################\n",
        "\n",
        "\n",
        "\tdef __load_data_tables(self):\n",
        "\t\tPV_production_df = pd.read_csv('data/PV.csv', sep=';')\n",
        "\t\tSG_prices_df = pd.read_csv('data/Prices.csv', sep=';')\n",
        "\t\tH4_consumes_df = pd.read_csv('data/H4.csv', sep=';')\n",
        "\n",
        "\t\tPV_production = PV_production_df['P_PV_'].apply(lambda x:  x.replace(',','.')  ).to_numpy( dtype=float )\n",
        "\t\tSG_prices = SG_prices_df['Price'].apply(lambda x:  x.replace(',','.')  ).to_numpy( dtype=float )\n",
        "\t\tH4_consumes = H4_consumes_df['Power'].apply(lambda x:  x.replace(',', '.')).to_numpy( dtype=float )\n",
        "\n",
        "\t\tfor el in PV_production:\n",
        "\t\t\tself.processed_data.add_PV_entry( el )\n",
        "\t\tfor el in SG_prices:\n",
        "\t\t\tself.processed_data.add_SG_prices( el / 1000 )\n",
        "\t\tfor i in range(0, H4_consumes.shape[0], 60):\n",
        "\t\t\tel = H4_consumes[i:i+60]\n",
        "\t\t\tself.processed_data.add_H4_consumes( sum(el) )\n",
        "\n",
        "\n",
        "\tdef __get_normalized_state(self):\n",
        "\t\tnorm_month = (self.month-1) / 11\n",
        "\t\tnorm_day = (self.day-1) / 31\n",
        "\t\tnorm_time = self.time / 23\n",
        "\t\tnorm_home_battery_state = self.home_battery_state / Specifications.HOME_CAPACITY\n",
        "\t\tnorm_ev_battery_state = self.ev_battery_state / Specifications.EV_CAPACITY\n",
        "\t\treturn np.array([norm_month, norm_day, norm_time, norm_home_battery_state, norm_ev_battery_state])\n",
        "\n"
      ],
      "metadata": {
        "id": "0ywxOcUN4NwQ"
      },
      "execution_count": null,
      "outputs": []
    },
    {
      "cell_type": "markdown",
      "source": [
        "### RL Algorithm : DQN and mcPPO"
      ],
      "metadata": {
        "id": "DR6yJP1U9Gbj"
      }
    },
    {
      "cell_type": "markdown",
      "source": [
        "### DQN"
      ],
      "metadata": {
        "id": "FVTnc-Vk9S4A"
      }
    },
    {
      "cell_type": "code",
      "source": [
        "from tensorflow import keras\n",
        "from collections import deque\n",
        "import tensorflow as tf\n",
        "import numpy as np\n",
        "import gym\n",
        "import random\n",
        "\n",
        "class DQN:\n",
        "\tdef __init__(self, env, verbose):\n",
        "\t\tself.env = env\n",
        "\t\tself.verbose = verbose\n",
        "\n",
        "\t\tself.input_shape = self.env.observation_space.shape\n",
        "\t\tself.action_space = env.action_space.n\n",
        "\t\tself.actor = self.get_actor_model(self.input_shape, self.action_space)\n",
        "\t\tself.actor_target = self.get_actor_model(self.input_shape, self.action_space)\n",
        "\t\tself.actor_target.set_weights(self.actor.get_weights())\n",
        "\n",
        "\t\tself.optimizer = keras.optimizers.Adam()\n",
        "\t\tself.gamma = 0.95\n",
        "\t\tself.memory_size = 2000\n",
        "\t\tself.batch_size = 32\n",
        "\t\tself.exploration_rate = 1.0\n",
        "\t\tself.exploration_decay = 0.995\n",
        "\t\tself.tau = 0.005\n",
        "\n",
        "\t\tself.run_id = np.random.randint(0, 1000)\n",
        "\n",
        "\n",
        "\tdef loop( self, num_episodes=1000 ):\n",
        "\t\treward_list = []\n",
        "\t\tep_reward_mean = deque(maxlen=100)\n",
        "\t\treplay_buffer = deque(maxlen=self.memory_size)\n",
        "\n",
        "\t\tfor episode in range(num_episodes):\n",
        "\t\t\tstate = self.env.reset()\n",
        "\t\t\tep_reward = 0\n",
        "\n",
        "\t\t\twhile True:\n",
        "\t\t\t\taction = self.get_action(state)\n",
        "\t\t\t\tnew_state, reward, done, _ = self.env.step(action)\n",
        "\t\t\t\tep_reward += reward\n",
        "\n",
        "\t\t\t\treplay_buffer.append([state, action, reward, new_state, done])\n",
        "\t\t\t\tif done: break\n",
        "\t\t\t\tstate = new_state\n",
        "\n",
        "\t\t\t\tself.update_networks(replay_buffer)\n",
        "\t\t\t\tself._update_target(self.actor.variables, self.actor_target.variables, tau=self.tau)\n",
        "\n",
        "\t\t\tself.exploration_rate = self.exploration_rate * self.exploration_decay if self.exploration_rate > 0.05 else 0.05\n",
        "\t\t\tep_reward_mean.append(ep_reward)\n",
        "\t\t\treward_list.append(ep_reward)\n",
        "\t\t\tif self.verbose > 0: print(f\"Episode: {episode:7.0f}, reward: {ep_reward:8.2f}, mean_last_100: {np.mean(ep_reward_mean):8.2f}, exploration: {self.exploration_rate:0.2f}\")\n",
        "\t\t\tif self.verbose > 1: np.savetxt(f\"data/reward_DQN_{self.run_id}.txt\", reward_list)\n",
        "\n",
        "\n",
        "\tdef _update_target(self, weights, target_weights, tau):\n",
        "\t\tfor (a, b) in zip(target_weights, weights):\n",
        "\t\t\ta.assign(b * tau + a * (1 - tau))\n",
        "\n",
        "\n",
        "\tdef get_action(self, state):\n",
        "\t\tif np.random.random() < self.exploration_rate:\n",
        "\t\t\treturn np.random.choice(self.action_space)\n",
        "\t\treturn np.argmax(self.actor(state.reshape((1, -1))))\n",
        "\n",
        "\n",
        "\tdef update_networks(self, replay_buffer):\n",
        "\t\tsamples = np.array(random.sample(replay_buffer, min(len(replay_buffer), self.batch_size)), dtype=object)\n",
        "\t\twith tf.GradientTape() as tape:\n",
        "\t\t\tobjective_function = self.actor_objective_function_double(samples) #Compute loss with custom loss function\n",
        "\t\t\tgrads = tape.gradient(objective_function, self.actor.trainable_variables) #Compute gradients actor for network\n",
        "\t\t\tself.optimizer.apply_gradients( zip(grads, self.actor.trainable_variables) ) #Apply gradients to update network weights\n",
        "\n",
        "\n",
        "\tdef actor_objective_function_double(self, replay_buffer):\n",
        "\t\tstate = np.vstack(replay_buffer[:, 0])\n",
        "\t\taction = replay_buffer[:, 1]\n",
        "\t\treward = np.vstack(replay_buffer[:, 2])\n",
        "\t\tnew_state = np.vstack(replay_buffer[:, 3])\n",
        "\t\tdone = np.vstack(replay_buffer[:, 4])\n",
        "\n",
        "\t\tnext_state_action = np.argmax(self.actor(new_state), axis=1)\n",
        "\t\ttarget_mask = self.actor_target(new_state) * tf.one_hot(next_state_action, self.action_space)\n",
        "\t\ttarget_mask = tf.reduce_sum(target_mask, axis=1, keepdims=True)\n",
        "\n",
        "\t\ttarget_value = reward + (1 - done.astype(int)) * self.gamma * target_mask\n",
        "\t\tmask = self.actor(state) * tf.one_hot(action, self.action_space)\n",
        "\t\tprediction_value = tf.reduce_sum(mask, axis=1, keepdims=True)\n",
        "\n",
        "\t\tmse = tf.math.square(prediction_value - target_value)\n",
        "\t\treturn tf.math.reduce_mean(mse)\n",
        "\n",
        "\n",
        "\tdef get_actor_model(self, input_shape, output_size):\n",
        "\t\tinputs = keras.layers.Input(shape=input_shape)\n",
        "\t\thidden_0 = keras.layers.Dense(64, activation='relu')(inputs)\n",
        "\t\thidden_1 = keras.layers.Dense(64, activation='relu')(hidden_0)\n",
        "\t\toutputs = keras.layers.Dense(output_size, activation='linear')(hidden_1)\n",
        "\n",
        "\t\treturn keras.Model(inputs, outputs)\n",
        "\n",
        "\n",
        "\t  ##########################\n",
        "    #### VANILLA METHODS #####\n",
        "    ##########################\n",
        "\n",
        "\n",
        "\tdef actor_objective_function_fixed_target(self, replay_buffer):\n",
        "\t\tstate = np.vstack(replay_buffer[:, 0])\n",
        "\t\taction = replay_buffer[:, 1]\n",
        "\t\treward = np.vstack(replay_buffer[:, 2])\n",
        "\t\tnew_state = np.vstack(replay_buffer[:, 3])\n",
        "\t\tdone = np.vstack(replay_buffer[:, 4])\n",
        "\n",
        "\t\ttarget_value = reward + (1 - done.astype(int)) * self.gamma * np.amax(self.actor_target(new_state), axis=1, keepdims=True)\n",
        "\t\tmask = self.actor(state) * tf.one_hot(action, self.action_space)\n",
        "\t\tprediction_value = tf.reduce_sum(mask, axis=1, keepdims=True)\n",
        "\n",
        "\t\tmse = tf.math.square(prediction_value - target_value)\n",
        "\t\treturn tf.math.reduce_mean(mse)\n",
        "\n",
        "\n",
        "\tdef actor_objective_function_std(self, replay_buffer):\n",
        "\t\tstate = np.vstack(replay_buffer[:, 0])\n",
        "\t\taction = replay_buffer[:, 1]\n",
        "\t\treward = np.vstack(replay_buffer[:, 2])\n",
        "\t\tnew_state = np.vstack(replay_buffer[:, 3])\n",
        "\t\tdone = np.vstack(replay_buffer[:, 4])\n",
        "\n",
        "\t\ttarget_value = reward + (1 - done.astype(int)) * self.gamma * np.amax(self.actor(new_state), axis=1, keepdims=True)\n",
        "\t\tmask = self.actor(state) * tf.one_hot(action, self.action_space)\n",
        "\t\tprediction_value = tf.reduce_sum(mask, axis=1, keepdims=True)\n",
        "\n",
        "\t\tmse = tf.math.square(prediction_value - target_value)\n",
        "\t\treturn tf.math.reduce_mean(mse)"
      ],
      "metadata": {
        "colab": {
          "base_uri": "https://localhost:8080/"
        },
        "id": "mTwm_1Al9LLG",
        "outputId": "09a1264d-cb02-4561-ca54-95306ec3f9aa"
      },
      "execution_count": null,
      "outputs": [
        {
          "output_type": "stream",
          "name": "stderr",
          "text": [
            "/usr/local/lib/python3.10/dist-packages/tensorflow/python/framework/dtypes.py:35: DeprecationWarning: ml_dtypes.float8_e4m3b11 is deprecated. Use ml_dtypes.float8_e4m3b11fnuz\n",
            "  from tensorflow.tsl.python.lib.core import pywrap_ml_dtypes\n"
          ]
        }
      ]
    },
    {
      "cell_type": "markdown",
      "source": [
        "### mcPPO"
      ],
      "metadata": {
        "id": "cs8wCoMQ9WQ5"
      }
    },
    {
      "cell_type": "code",
      "source": [
        "from tensorflow import keras\n",
        "from collections import deque\n",
        "import tensorflow as tf\n",
        "import numpy as np\n",
        "import gym\n",
        "import random\n",
        "\n",
        "class mcPPO:\n",
        "\tdef __init__(self, env, verbose, discrete=True):\n",
        "\t\tself.env = env\n",
        "\t\tself.discrete = discrete\n",
        "\t\tself.verbose = verbose\n",
        "\n",
        "\t\tself.input_shape = self.env.observation_space.shape\n",
        "\t\tif(self.discrete): self.action_space = env.action_space.n\n",
        "\t\telse: self.action_space = env.action_space.shape[0]\n",
        "\n",
        "\t\tif(self.discrete):\n",
        "\t\t\tself.actor = self.get_actor_model_disc(self.input_shape, self.action_space)\n",
        "\t\t\tself.get_action = self.get_action_disc\n",
        "\t\t\tself.actor_objective_function = self.actor_objective_function_disc\n",
        "\t\telse:\n",
        "\t\t\tself.actor = self.get_actor_model_cont(self.input_shape, self.action_space, [env.action_space.low, env.action_space.high])\n",
        "\t\t\tself.get_action = self.get_action_cont\n",
        "\t\t\tself.actor_objective_function = self.actor_objective_function_cont\n",
        "\n",
        "\t\tself.critic = self.get_critic_model(self.input_shape)\n",
        "\n",
        "\t\tself.actor_optimizer = keras.optimizers.Adam()\n",
        "\t\tself.critic_optimizer = keras.optimizers.Adam()\n",
        "\t\tself.gamma = 0.99\n",
        "\t\tself.sigma = 1.0\n",
        "\t\tself.exploration_decay = 1\n",
        "\t\tself.batch_size = 128\n",
        "\t\tself.epoch = 10\n",
        "\n",
        "\t\tself.run_id = np.random.randint(0, 1000)\n",
        "\n",
        "\n",
        "\tdef loop( self, num_episodes=1000 ):\n",
        "\t\treward_list = []\n",
        "\t\tep_reward_mean = deque(maxlen=100)\n",
        "\t\tmemory_buffer = deque()\n",
        "\n",
        "\t\tfor episode in range(num_episodes):\n",
        "\t\t\tstate = self.env.reset()\n",
        "\t\t\tep_reward = 0\n",
        "\n",
        "\t\t\twhile True:\n",
        "\t\t\t\taction, action_prob = self.get_action(state)\n",
        "\t\t\t\tnew_state, reward, done, _ = self.env.step(action)\n",
        "\t\t\t\tep_reward += reward\n",
        "\n",
        "\t\t\t\tmemory_buffer.append([state, action, action_prob, reward, new_state, done])\n",
        "\t\t\t\tif done: break\n",
        "\t\t\t\tstate = new_state\n",
        "\n",
        "\t\t\tif(episode % 5 == 0): self.update_networks(np.array(memory_buffer, dtype=object), self.epoch, self.batch_size)\n",
        "\t\t\tif(episode % 5 == 0): memory_buffer.clear()\n",
        "\t\t\tif(episode % 5 == 0): self.sigma = self.sigma * self.exploration_decay if self.sigma > 0.05 else 0.05\n",
        "\n",
        "\t\t\tep_reward_mean.append(ep_reward)\n",
        "\t\t\treward_list.append(ep_reward)\n",
        "\t\t\tif self.verbose > 0 and not self.discrete: print(f\"Episode: {episode:3.0f}, reward: {ep_reward:6.2f}, mean_last_100: {np.mean(ep_reward_mean):6.2f}, sigma: {self.sigma:0.2f}\")\n",
        "\t\t\tif self.verbose > 0 and self.discrete: print(f\"Episode: {episode:3.0f}, reward: {ep_reward:6.2f}, mean_last_100: {np.mean(ep_reward_mean):6.2f}\")\n",
        "\t\t\tif self.verbose > 1: np.savetxt(f\"generated/reward_PPO_{self.run_id}.txt\", reward_list)\n",
        "\n",
        "\n",
        "\tdef update_networks(self, memory_buffer, epoch, batch_size):\n",
        "\t\t# Fix cumulative reward on multiple episodes\n",
        "\t\tcounter = 0\n",
        "\t\tfor i in range(len(memory_buffer)):\n",
        "\t\t\tif(memory_buffer[:, 5][i]):\n",
        "\t\t\t\tmemory_buffer[:, 3][counter:i] = self.discount_reward(memory_buffer[:, 3][counter:i])\n",
        "\t\t\t\tcounter = i\n",
        "\n",
        "\n",
        "\t\tbatch_size = min(len(memory_buffer), batch_size)\n",
        "\t\tmini_batch_n = int(len(memory_buffer) / batch_size)\n",
        "\t\tbatch_list = np.array_split(memory_buffer, mini_batch_n)\n",
        "\n",
        "\t\tfor _ in range(epoch):\n",
        "\t\t\tfor current_batch in batch_list:\n",
        "\t\t\t\twith tf.GradientTape() as tape_a, tf.GradientTape() as tape_c:\n",
        "\t\t\t\t\tobjective_function_c = self.critic_objective_function(current_batch) #Compute loss with custom loss function\n",
        "\t\t\t\t\tobjective_function_a = self.actor_objective_function(current_batch) #Compute loss with custom loss function\n",
        "\n",
        "\t\t\t\t\tgrads_c = tape_c.gradient(objective_function_c, self.critic.trainable_variables) #Compute gradients critic for network\n",
        "\t\t\t\t\tgrads_a = tape_a.gradient(objective_function_a, self.actor.trainable_variables) #Compute gradients actor for network\n",
        "\n",
        "\t\t\t\t\tself.critic_optimizer.apply_gradients( zip(grads_c, self.critic.trainable_variables) ) #Apply gradients to update network weights\n",
        "\t\t\t\t\tself.actor_optimizer.apply_gradients( zip(grads_a, self.actor.trainable_variables) ) #Apply gradients to update network weights\n",
        "\n",
        "\t\t\trandom.shuffle(batch_list)\n",
        "\n",
        "\n",
        "\tdef discount_reward(self, rewards):\n",
        "\t\tsum_reward = 0\n",
        "\t\tdiscounted_rewards = []\n",
        "\n",
        "\t\tfor r in rewards[::-1]:\n",
        "\t\t\tsum_reward = r + self.gamma * sum_reward\n",
        "\t\t\tdiscounted_rewards.append(sum_reward)\n",
        "\t\tdiscounted_rewards.reverse()\n",
        "\n",
        "\t\t# Normalize\n",
        "\t\teps = np.finfo(np.float64).eps.item()  # Smallest number such that 1.0 + eps != 1.0\n",
        "\t\tdiscounted_rewards = np.array(discounted_rewards)\n",
        "\t\tdiscounted_rewards = (discounted_rewards - np.mean(discounted_rewards)) / (np.std(discounted_rewards) + eps)\n",
        "\n",
        "\t\treturn discounted_rewards\n",
        "\n",
        "\n",
        "\t##########################\n",
        "\t##### CRITIC METHODS #####\n",
        "\t##########################\n",
        "\n",
        "\n",
        "\tdef get_critic_model(self, input_shape):\n",
        "\t\tinputs = keras.layers.Input(shape=input_shape)\n",
        "\t\thidden_0 = keras.layers.Dense(64, activation='relu')(inputs)\n",
        "\t\thidden_1 = keras.layers.Dense(64, activation='relu')(hidden_0)\n",
        "\t\toutputs = keras.layers.Dense(1, activation='linear')(hidden_1)\n",
        "\n",
        "\t\treturn keras.Model(inputs, outputs)\n",
        "\n",
        "\n",
        "\tdef critic_objective_function(self, memory_buffer):\n",
        "\t\t# Extract values from buffer\n",
        "\t\tstate = np.vstack(memory_buffer[:, 0])\n",
        "\t\tdiscounted_reward = np.vstack(memory_buffer[:, 3])\n",
        "\t\tnew_state = np.vstack(memory_buffer[:, 4])\n",
        "\t\tdone = np.vstack(memory_buffer[:, 5])\n",
        "\n",
        "\t\tpredicted_value = self.critic(state)\n",
        "\t\ttarget = discounted_reward\n",
        "\t\tmse = tf.math.square(predicted_value - target)\n",
        "\n",
        "\t\treturn tf.math.reduce_mean(mse)\n",
        "\n",
        "\n",
        "\t##########################\n",
        "\t#### DISCRETE METHODS ####\n",
        "\t##########################\n",
        "\n",
        "\n",
        "\tdef get_action_disc(self, state):\n",
        "\t\tsoftmax_out = self.actor(state.reshape((1, -1)))\n",
        "\t\tselected_action = np.random.choice(self.action_space, p=softmax_out.numpy()[0])\n",
        "\t\treturn selected_action, softmax_out[0][selected_action]\n",
        "\n",
        "\n",
        "\tdef actor_objective_function_disc(self, memory_buffer):\n",
        "\t\t# Extract values from buffer\n",
        "\t\tstate = np.vstack(memory_buffer[:, 0])\n",
        "\t\taction = memory_buffer[:, 1]\n",
        "\t\taction_prob = np.vstack(memory_buffer[:, 2])\n",
        "\t\tdiscounted_reward = np.vstack(memory_buffer[:, 3])\n",
        "\t\tnew_state = np.vstack(memory_buffer[:, 4])\n",
        "\t\tdone = np.vstack(memory_buffer[:, 5])\n",
        "\n",
        "\t\tbaseline = self.critic(state)\n",
        "\t\tadv = discounted_reward - baseline # Advantage = MC - baseline\n",
        "\n",
        "\t\tprob = self.actor(state)\n",
        "\n",
        "\t\taction_idx = [[counter, val] for counter, val in enumerate(action)] #Trick to obatin the coordinates of each desired action\n",
        "\t\tprob = tf.expand_dims(tf.gather_nd(prob, action_idx), axis=-1)\n",
        "\t\tr_theta = tf.math.divide(prob, action_prob) #prob/old_prob\n",
        "\n",
        "\t\tclip_val = 0.2\n",
        "\t\tobj_1 = r_theta * adv\n",
        "\t\tobj_2 = tf.clip_by_value(r_theta, 1-clip_val, 1+clip_val) * adv\n",
        "\t\tpartial_objective = tf.math.minimum(obj_1, obj_2)\n",
        "\n",
        "\t\treturn -tf.math.reduce_mean(partial_objective)\n",
        "\n",
        "\n",
        "\tdef get_actor_model_disc(self, input_shape, output_size):\n",
        "\t\tinputs = keras.layers.Input(shape=input_shape)\n",
        "\t\thidden_0 = keras.layers.Dense(64, activation='relu')(inputs)\n",
        "\t\thidden_1 = keras.layers.Dense(64, activation='relu')(hidden_0)\n",
        "\t\toutputs = keras.layers.Dense(output_size, activation='softmax')(hidden_1)\n",
        "\n",
        "\t\treturn keras.Model(inputs, outputs)\n",
        "\n",
        "\n",
        "\t##########################\n",
        "\t### CONTINUOUS METHODS ###\n",
        "\t##########################\n",
        "\n",
        "\n",
        "\tdef get_action_cont(self, state):\n",
        "\t\tmu = self.actor(state.reshape((1, -1)))\n",
        "\t\taction = np.random.normal(loc=mu, scale=self.sigma)\n",
        "\t\treturn action[0], mu[0]\n",
        "\n",
        "\n",
        "\tdef actor_objective_function_cont(self, memory_buffer):\n",
        "\t\t# Extract values from buffer\n",
        "\t\tstate = np.vstack(memory_buffer[:, 0])\n",
        "\t\taction = np.vstack(memory_buffer[:, 1])\n",
        "\t\tmu = np.vstack(memory_buffer[:, 2])\n",
        "\t\tdiscounted_reward = np.vstack(memory_buffer[:, 3])\n",
        "\t\tnew_state = np.vstack(memory_buffer[:, 4])\n",
        "\t\tdone = np.vstack(memory_buffer[:, 5])\n",
        "\n",
        "\t\tbaseline = self.critic(state)\n",
        "\t\tadv = discounted_reward - baseline # Advantage = MC - baseline\n",
        "\n",
        "\t\tpredictions_mu = self.actor(state)\n",
        "\n",
        "\t\tprob = tf.sqrt(1/(2 * np.pi * self.sigma**2)) * tf.exp(-(action - predictions_mu)**2/(2 * self.sigma**2))\n",
        "\t\told_prob = tf.sqrt(1/(2 * np.pi * self.sigma**2)) * np.math.e ** (-(action - mu)**2/(2 * self.sigma**2))\n",
        "\t\tprob = tf.math.reduce_mean(prob, axis=1, keepdims=True)\n",
        "\t\told_prob = tf.math.reduce_mean(old_prob, axis=1, keepdims=True)\n",
        "\n",
        "\t\tr_theta = tf.math.divide(prob, old_prob.numpy()) #prob/old_prob\n",
        "\n",
        "\t\tclip_val = 0.2\n",
        "\t\tobj_1 = r_theta * adv\n",
        "\t\tobj_2 = tf.clip_by_value(r_theta, 1-clip_val, 1+clip_val) * adv\n",
        "\t\tpartial_objective = tf.math.minimum(obj_1, obj_2)\n",
        "\n",
        "\t\treturn -tf.math.reduce_mean(partial_objective)\n",
        "\n",
        "\n",
        "\tdef get_actor_model_cont(self, input_shape, output_size, output_range):\n",
        "\t\t# Initialize weights between -3e-3 and 3-e3\n",
        "\t\tlast_init = tf.random_uniform_initializer(minval=-0.003, maxval=0.003)\n",
        "\n",
        "\t\tinputs = keras.layers.Input(shape=input_shape)\n",
        "\t\thidden_0 = keras.layers.Dense(64, activation='relu')(inputs)\n",
        "\t\thidden_1 = keras.layers.Dense(64, activation='relu')(hidden_0)\n",
        "\t\toutputs = keras.layers.Dense(output_size, activation='sigmoid', kernel_initializer=last_init)(hidden_1)\n",
        "\n",
        "\t\t# Fix output range with the range of the action\n",
        "\t\toutputs = outputs * (output_range[1] - output_range[0]) + output_range[0]\n",
        "\n",
        "\t\treturn keras.Model(inputs, outputs)\n"
      ],
      "metadata": {
        "colab": {
          "base_uri": "https://localhost:8080/"
        },
        "id": "7R5wISP39cxN",
        "outputId": "7c364e29-1a14-47d8-f653-49ee87fb911f"
      },
      "execution_count": null,
      "outputs": [
        {
          "output_type": "stream",
          "name": "stderr",
          "text": [
            "/usr/local/lib/python3.10/dist-packages/ipykernel/ipkernel.py:283: DeprecationWarning: `should_run_async` will not call `transform_cell` automatically in the future. Please pass the result to `transformed_cell` argument and any exception that happen during thetransform in `preprocessing_exc_tuple` in IPython 7.17 and above.\n",
            "  and should_run_async(code)\n"
          ]
        }
      ]
    },
    {
      "cell_type": "markdown",
      "source": [
        "### Train the model"
      ],
      "metadata": {
        "id": "ky1vw7W18cib"
      }
    },
    {
      "cell_type": "markdown",
      "source": [
        "#### Train mcPPO"
      ],
      "metadata": {
        "id": "I9FOxf2PAjp3"
      }
    },
    {
      "cell_type": "code",
      "source": [
        "import sys, os; os; os.environ[\"TF_CPP_MIN_LOG_LEVEL\"] = \"2\" # ?\n",
        "import tensorflow, numpy, glob\n",
        "\n",
        "import numpy as np\n",
        "\n",
        "#Train mcPPO on the env and save the model\n",
        "def train_ppo( epoch=200, save_model=True ):\n",
        "\tenv = SmartHome()\n",
        "\talgo = mcPPO( env, verbose=1 )\n",
        "\talgo.loop( num_episodes=epoch )\n",
        "\tif save_model: algo.actor.save( f\"trained_models/neural_network_trained.h5\" )"
      ],
      "metadata": {
        "id": "wJXKVVpR_8x-"
      },
      "execution_count": null,
      "outputs": []
    },
    {
      "cell_type": "markdown",
      "source": [
        "#### Test model (à revoir)"
      ],
      "metadata": {
        "id": "MeHNojfPAoiH"
      }
    },
    {
      "cell_type": "code",
      "source": [
        "\n",
        "#Function that test a model\n",
        "def test_models( _get_action, network_name, debug=False ):\n",
        "\tenv = SmartHome()\n",
        "\tneural_network = tensorflow.keras.models.load_model( network_name, compile=False )\n",
        "\tstate = env.reset()\n",
        "\n",
        "\t# Set first day of the year\n",
        "\tenv.month = 1\n",
        "\tenv.day = 1\n",
        "\tenv.time = 0\n",
        "\tenv.ev_battery_state = 0\n",
        "\tenv.home_battery_state = 0\n",
        "\n",
        "\t# Cycle for the full year\n",
        "\tcurrent_total_spent = 0\n",
        "\tcurrent_month = 1\n",
        "\tmonthly_total_list = []\n",
        "\thourly_action_list = [[] for _ in range(24)]\n",
        "\thourly_home_battery_list = [[] for _ in range(24)]\n",
        "\thourly_ev_battery_list = [[] for _ in range(24)]\n",
        "\thourly_price_list = [[] for _ in range(24)]\n",
        "\thourly_pv_list = [[] for _ in range(24)]\n",
        "\n",
        "\thourly_demands = [[] for _ in range(24)]\t# emarche\n",
        "\n",
        "\tuse_ev_fail_total = 0\n",
        "\tcharge_ev_fail_total = 0\n",
        "\n",
        "\twhile True:\n",
        "\t\taction = _get_action( neural_network, state, env )\n",
        "\t\tstate, _, _, info = env.step( action )\n",
        "\t\tuse_ev_fail_total += info['use_ev_fail']\n",
        "\t\tcharge_ev_fail_total += info['charge_ev_fail']\n",
        "\n",
        "\t\thourly_action_list[ env.time ].append(action)\n",
        "\t\thourly_home_battery_list[ env.time ].append(env.home_battery_state)\n",
        "\t\thourly_ev_battery_list[ env.time ].append(env.ev_battery_state)\n",
        "\t\thourly_price_list[ env.time ].append(env.processed_data.get_SG_prices(env.month, env.day, env.time))\n",
        "\t\thourly_pv_list[ env.time ].append(env.processed_data.get_PV_entry(env.month, env.day, env.time))\n",
        "\n",
        "\t\thourly_demands[ env.time ].append(env.processed_data.get_H4_consumes(env.month, env.day, env.time))\t# emarche\n",
        "\n",
        "\t\tif env.month > current_month:\n",
        "\t\t\tmonthly_total_list.append( env.total_euros_spent - current_total_spent )\n",
        "\t\t\tcurrent_month = env.month\n",
        "\t\t\tcurrent_total_spent = env.total_euros_spent\n",
        "\n",
        "\t\tif ( env.month == 1 and env.day == 1 and env.time == 0 ):\n",
        "\t\t\tmonthly_total_list.append( env.total_euros_spent - current_total_spent )\n",
        "\t\t\tbreak\n",
        "\n",
        "\tif debug:\n",
        "\t\tprint( f\"This years spent: {env.total_euros_spent:6.2f} euros\" )\n",
        "\t\tprint( f\"Total days with not enough charge on the EV: {use_ev_fail_total}\" )\n",
        "\t\tprint( f\"Total try to charge while EV is away: {charge_ev_fail_total}\\n\" )\n",
        "\n",
        "\thourly_home_battery = [numpy.mean( total ) for total in hourly_home_battery_list]\n",
        "\thourly_ev_battery = [numpy.mean( total ) for total in hourly_ev_battery_list]\n",
        "\thourly_price = [numpy.mean( total ) for total in hourly_price_list]\n",
        "\thourly_pv = [numpy.mean( total ) for total in hourly_pv_list]\n",
        "\thourly_mean_charge_battery = []\n",
        "\thourly_mean_charge_pv = []\n",
        "\n",
        "\tfor idx, time in enumerate(hourly_action_list):\n",
        "\t\thourly_mean_charge_battery.append( time.count(2) / len(time) * 11 )\n",
        "\t\thourly_mean_charge_battery[-1] += ( time.count(4) / len(time) * 11 )\n",
        "\n",
        "\t\thourly_mean_charge_pv.append( time.count(1) / len(time) * hourly_pv[idx] )\n",
        "\t\thourly_mean_charge_pv[-1] += ( time.count(3) / len(time) * hourly_pv[idx] )\n",
        "\n",
        "\thourly_demands = [np.mean(total) for total in hourly_demands]\n",
        "\treturn monthly_total_list, use_ev_fail_total, hourly_home_battery, hourly_ev_battery, hourly_price, hourly_mean_charge_battery, hourly_mean_charge_pv, hourly_demands\n",
        "\n"
      ],
      "metadata": {
        "id": "lqXtAr7PARBW"
      },
      "execution_count": null,
      "outputs": []
    },
    {
      "cell_type": "code",
      "source": [
        "#return action for mcPPO\n",
        "def _get_action_ppo( net, state, env ):\n",
        "\tsoftmax_out = net(state.reshape((1, -1)))\n",
        "\treturn numpy.random.choice(5, p=softmax_out.numpy()[0])\n",
        "\n",
        "#return action for random action which is the baseline\n",
        "def _get_action_random( net, state, env ):\n",
        "\treturn env.action_space.sample()\n"
      ],
      "metadata": {
        "id": "ajG7TqJcAz_U"
      },
      "execution_count": null,
      "outputs": []
    },
    {
      "cell_type": "markdown",
      "source": [],
      "metadata": {
        "id": "r_NR2jQvBEdt"
      }
    },
    {
      "cell_type": "markdown",
      "source": [
        "#### To launch the training"
      ],
      "metadata": {
        "id": "zdBJPHAyBOE_"
      }
    },
    {
      "cell_type": "code",
      "source": [
        "print('Starting training !')\n",
        "epoch = 20\n",
        "train_ppo(epoch=epoch, save_model=True )"
      ],
      "metadata": {
        "colab": {
          "base_uri": "https://localhost:8080/"
        },
        "id": "7GUOo5qCBRmn",
        "outputId": "24df457f-63d4-483f-8d6e-83d04a9337fd"
      },
      "execution_count": null,
      "outputs": [
        {
          "output_type": "stream",
          "name": "stdout",
          "text": [
            "Starting training !\n"
          ]
        },
        {
          "output_type": "stream",
          "name": "stderr",
          "text": [
            "<ipython-input-4-82dbdf4edec6>:43: DeprecationWarning: This function is deprecated. Please call randint(1, 12 + 1) instead\n",
            "  self.month = np.random.random_integers(1, 12)\n",
            "<ipython-input-4-82dbdf4edec6>:44: DeprecationWarning: This function is deprecated. Please call randint(1, 31 + 1) instead\n",
            "  self.day = np.random.random_integers(1, Constant.MONTHS_LEN[self.month-1])\n",
            "<ipython-input-4-82dbdf4edec6>:45: DeprecationWarning: This function is deprecated. Please call randint(0, 23 + 1) instead\n",
            "  self.time = np.random.random_integers(0, 23)\n"
          ]
        },
        {
          "output_type": "stream",
          "name": "stdout",
          "text": [
            "Episode:   0, reward: -1492.88, mean_last_100: -1492.88\n",
            "Episode:   1, reward: -1559.58, mean_last_100: -1526.23\n"
          ]
        },
        {
          "output_type": "stream",
          "name": "stderr",
          "text": [
            "<ipython-input-4-82dbdf4edec6>:44: DeprecationWarning: This function is deprecated. Please call randint(1, 30 + 1) instead\n",
            "  self.day = np.random.random_integers(1, Constant.MONTHS_LEN[self.month-1])\n"
          ]
        },
        {
          "output_type": "stream",
          "name": "stdout",
          "text": [
            "Episode:   2, reward: -1454.41, mean_last_100: -1502.29\n",
            "Episode:   3, reward: -1520.26, mean_last_100: -1506.78\n",
            "Episode:   4, reward: -1405.44, mean_last_100: -1486.52\n",
            "Episode:   5, reward: -1420.85, mean_last_100: -1475.57\n",
            "Episode:   6, reward: -1245.82, mean_last_100: -1442.75\n",
            "Episode:   7, reward: -1208.46, mean_last_100: -1413.46\n",
            "Episode:   8, reward: -1029.02, mean_last_100: -1370.75\n",
            "Episode:   9, reward: -1343.39, mean_last_100: -1368.01\n",
            "Episode:  10, reward: -1338.38, mean_last_100: -1365.32\n",
            "Episode:  11, reward: -992.04, mean_last_100: -1334.21\n",
            "Episode:  12, reward: -1138.67, mean_last_100: -1319.17\n",
            "Episode:  13, reward: -1121.21, mean_last_100: -1305.03\n",
            "Episode:  14, reward: -1065.84, mean_last_100: -1289.08\n",
            "Episode:  15, reward: -1074.70, mean_last_100: -1275.69\n",
            "Episode:  16, reward: -824.77, mean_last_100: -1249.16\n",
            "Episode:  17, reward: -875.50, mean_last_100: -1228.40\n",
            "Episode:  18, reward: -865.45, mean_last_100: -1209.30\n"
          ]
        },
        {
          "output_type": "stream",
          "name": "stderr",
          "text": [
            "/usr/local/lib/python3.10/dist-packages/keras/src/engine/training.py:3079: UserWarning: You are saving your model as an HDF5 file via `model.save()`. This file format is considered legacy. We recommend using instead the native Keras format, e.g. `model.save('my_model.keras')`.\n",
            "  saving_api.save_model(\n",
            "WARNING:tensorflow:Compiled the loaded model, but the compiled metrics have yet to be built. `model.compile_metrics` will be empty until you train or evaluate the model.\n"
          ]
        },
        {
          "output_type": "stream",
          "name": "stdout",
          "text": [
            "Episode:  19, reward: -815.27, mean_last_100: -1189.60\n"
          ]
        }
      ]
    },
    {
      "cell_type": "markdown",
      "source": [
        "#### To load and test a model"
      ],
      "metadata": {
        "id": "IV_bf5qRBdjR"
      }
    },
    {
      "cell_type": "code",
      "source": [
        "%matplotlib inline"
      ],
      "metadata": {
        "colab": {
          "base_uri": "https://localhost:8080/"
        },
        "id": "NkPiSt03M6Y4",
        "outputId": "5e58887e-73fa-44bf-fad1-2c43683d0f58"
      },
      "execution_count": null,
      "outputs": [
        {
          "output_type": "stream",
          "name": "stderr",
          "text": [
            "/usr/local/lib/python3.10/dist-packages/ipykernel/ipkernel.py:283: DeprecationWarning: `should_run_async` will not call `transform_cell` automatically in the future. Please pass the result to `transformed_cell` argument and any exception that happen during thetransform in `preprocessing_exc_tuple` in IPython 7.17 and above.\n",
            "  and should_run_async(code)\n"
          ]
        }
      ]
    },
    {
      "cell_type": "code",
      "source": [
        "print('Starting testing !')\n",
        "#testing on the saved model with action get_action_ppo\n",
        "test_models(_get_action_ppo, network_name=\"trained_models/neural_network_trained.h5\", debug=True )"
      ],
      "metadata": {
        "id": "AWof_CWjBj58"
      },
      "execution_count": null,
      "outputs": []
    },
    {
      "cell_type": "markdown",
      "source": [
        "#### Plot graph of money spent"
      ],
      "metadata": {
        "id": "9L993AhSCCSV"
      }
    },
    {
      "cell_type": "code",
      "source": [
        "\n",
        "histo_plotter = HistoPlotter()\n",
        "monthly_total_list_ppo, _, _, _, _, _, _, _ = test_models( _get_action_ppo, network_name=\"trained_models/neural_network_trained.h5\" )\n",
        "monthly_total_list_random, _, _, _, _, _, _, _ = test_models( _get_action_random, network_name=\"trained_models/neural_network_trained.h5\" )\n",
        "histo_plotter.trained_list = monthly_total_list_ppo\n",
        "histo_plotter.random_list = monthly_total_list_random\n",
        "histo_plotter.plot()\n"
      ],
      "metadata": {
        "colab": {
          "base_uri": "https://localhost:8080/",
          "height": 724
        },
        "id": "hLgDcqTuCVul",
        "outputId": "c35991b1-6213-4797-e6fa-32cc94343e1f"
      },
      "execution_count": null,
      "outputs": [
        {
          "output_type": "stream",
          "name": "stderr",
          "text": [
            "<ipython-input-4-82dbdf4edec6>:43: DeprecationWarning: This function is deprecated. Please call randint(1, 12 + 1) instead\n",
            "  self.month = np.random.random_integers(1, 12)\n",
            "<ipython-input-4-82dbdf4edec6>:44: DeprecationWarning: This function is deprecated. Please call randint(1, 31 + 1) instead\n",
            "  self.day = np.random.random_integers(1, Constant.MONTHS_LEN[self.month-1])\n",
            "<ipython-input-4-82dbdf4edec6>:45: DeprecationWarning: This function is deprecated. Please call randint(0, 23 + 1) instead\n",
            "  self.time = np.random.random_integers(0, 23)\n",
            "<ipython-input-4-82dbdf4edec6>:43: DeprecationWarning: This function is deprecated. Please call randint(1, 12 + 1) instead\n",
            "  self.month = np.random.random_integers(1, 12)\n",
            "<ipython-input-4-82dbdf4edec6>:44: DeprecationWarning: This function is deprecated. Please call randint(1, 31 + 1) instead\n",
            "  self.day = np.random.random_integers(1, Constant.MONTHS_LEN[self.month-1])\n",
            "<ipython-input-4-82dbdf4edec6>:45: DeprecationWarning: This function is deprecated. Please call randint(0, 23 + 1) instead\n",
            "  self.time = np.random.random_integers(0, 23)\n"
          ]
        },
        {
          "output_type": "display_data",
          "data": {
            "text/plain": [
              "<Figure size 640x480 with 1 Axes>"
            ],
            "image/png": "[encoded data removed]"
          },
          "metadata": {}
        }
      ]
    },
    {
      "cell_type": "markdown",
      "source": [
        "#### Plot graph of battery_charge"
      ],
      "metadata": {
        "id": "9JVZPLBLCI8l"
      }
    },
    {
      "cell_type": "code",
      "source": [
        "\n",
        "_, _, hourly_home_battery__ppo, hourly_ev_battery__ppo, hourly_price_ppo, hourly_charge_ppo_sg, hourly_charge_ppo_pv, _ = test_models( _get_action_ppo, network_name=\"trained_models/neural_network_trained.h5\" )\n",
        "line_plotter = DoubleLinePlotter( hourly_home_battery__ppo, hourly_ev_battery__ppo, hourly_price_ppo, hourly_charge_ppo_sg, hourly_charge_ppo_pv )\n",
        "line_plotter.plot()\n"
      ],
      "metadata": {
        "colab": {
          "base_uri": "https://localhost:8080/",
          "height": 608
        },
        "id": "NwymbZmFCcBw",
        "outputId": "cacab01d-03c4-42b4-d7e7-8ba948b5f8ba"
      },
      "execution_count": null,
      "outputs": [
        {
          "output_type": "stream",
          "name": "stderr",
          "text": [
            "/usr/local/lib/python3.10/dist-packages/ipykernel/ipkernel.py:283: DeprecationWarning: `should_run_async` will not call `transform_cell` automatically in the future. Please pass the result to `transformed_cell` argument and any exception that happen during thetransform in `preprocessing_exc_tuple` in IPython 7.17 and above.\n",
            "  and should_run_async(code)\n",
            "<ipython-input-4-82dbdf4edec6>:43: DeprecationWarning: This function is deprecated. Please call randint(1, 12 + 1) instead\n",
            "  self.month = np.random.random_integers(1, 12)\n",
            "<ipython-input-4-82dbdf4edec6>:44: DeprecationWarning: This function is deprecated. Please call randint(1, 31 + 1) instead\n",
            "  self.day = np.random.random_integers(1, Constant.MONTHS_LEN[self.month-1])\n",
            "<ipython-input-4-82dbdf4edec6>:45: DeprecationWarning: This function is deprecated. Please call randint(0, 23 + 1) instead\n",
            "  self.time = np.random.random_integers(0, 23)\n"
          ]
        },
        {
          "output_type": "display_data",
          "data": {
            "text/plain": [
              "<Figure size 640x480 with 2 Axes>"
            ],
            "image/png": "[encoded data removed]"
          },
          "metadata": {}
        }
      ]
    },
    {
      "cell_type": "markdown",
      "source": [
        "#### Plot graph of reward function"
      ],
      "metadata": {
        "id": "8-_1UMzMCLKP"
      }
    },
    {
      "cell_type": "code",
      "source": [
        "\n",
        "plotter = LinePlotter(x_label=\"Episode\", y_label=\"Reward\", title=\"Reward Function\")\n",
        "plotter.load_array([ glob.glob(\"generated/reward_PPO_*.txt\") ])\n",
        "plotter.process_data( rolling_window=100, starting_pointer=0 )\n",
        "plotter.render( labels=[\"PPO\"], colors=[\"r\"] )\n"
      ],
      "metadata": {
        "colab": {
          "base_uri": "https://localhost:8080/",
          "height": 893
        },
        "id": "OnmzcEFCCmIf",
        "outputId": "6df4a527-64b5-47ad-aca4-b629112ec0ec"
      },
      "execution_count": null,
      "outputs": [
        {
          "output_type": "stream",
          "name": "stderr",
          "text": [
            "/usr/local/lib/python3.10/dist-packages/ipykernel/ipkernel.py:283: DeprecationWarning: `should_run_async` will not call `transform_cell` automatically in the future. Please pass the result to `transformed_cell` argument and any exception that happen during thetransform in `preprocessing_exc_tuple` in IPython 7.17 and above.\n",
            "  and should_run_async(code)\n"
          ]
        },
        {
          "output_type": "error",
          "ename": "ValueError",
          "evalue": "ignored",
          "traceback": [
            "\u001b[0;31m---------------------------------------------------------------------------\u001b[0m",
            "\u001b[0;31mValueError\u001b[0m                                Traceback (most recent call last)",
            "\u001b[0;32m<ipython-input-25-19f3dc71448c>\u001b[0m in \u001b[0;36m<cell line: 2>\u001b[0;34m()\u001b[0m\n\u001b[1;32m      1\u001b[0m \u001b[0mplotter\u001b[0m \u001b[0;34m=\u001b[0m \u001b[0mLinePlotter\u001b[0m\u001b[0;34m(\u001b[0m\u001b[0mx_label\u001b[0m\u001b[0;34m=\u001b[0m\u001b[0;34m\"Episode\"\u001b[0m\u001b[0;34m,\u001b[0m \u001b[0my_label\u001b[0m\u001b[0;34m=\u001b[0m\u001b[0;34m\"Reward\"\u001b[0m\u001b[0;34m,\u001b[0m \u001b[0mtitle\u001b[0m\u001b[0;34m=\u001b[0m\u001b[0;34m\"Reward Function\"\u001b[0m\u001b[0;34m)\u001b[0m\u001b[0;34m\u001b[0m\u001b[0;34m\u001b[0m\u001b[0m\n\u001b[0;32m----> 2\u001b[0;31m \u001b[0mplotter\u001b[0m\u001b[0;34m.\u001b[0m\u001b[0mload_array\u001b[0m\u001b[0;34m(\u001b[0m\u001b[0;34m[\u001b[0m \u001b[0mglob\u001b[0m\u001b[0;34m.\u001b[0m\u001b[0mglob\u001b[0m\u001b[0;34m(\u001b[0m\u001b[0;34m\"generated/reward_PPO_*.txt\"\u001b[0m\u001b[0;34m)\u001b[0m \u001b[0;34m]\u001b[0m\u001b[0;34m)\u001b[0m\u001b[0;34m\u001b[0m\u001b[0;34m\u001b[0m\u001b[0m\n\u001b[0m\u001b[1;32m      3\u001b[0m \u001b[0mplotter\u001b[0m\u001b[0;34m.\u001b[0m\u001b[0mprocess_data\u001b[0m\u001b[0;34m(\u001b[0m \u001b[0mrolling_window\u001b[0m\u001b[0;34m=\u001b[0m\u001b[0;36m100\u001b[0m\u001b[0;34m,\u001b[0m \u001b[0mstarting_pointer\u001b[0m\u001b[0;34m=\u001b[0m\u001b[0;36m0\u001b[0m \u001b[0;34m)\u001b[0m\u001b[0;34m\u001b[0m\u001b[0;34m\u001b[0m\u001b[0m\n\u001b[1;32m      4\u001b[0m \u001b[0mplotter\u001b[0m\u001b[0;34m.\u001b[0m\u001b[0mrender\u001b[0m\u001b[0;34m(\u001b[0m \u001b[0mlabels\u001b[0m\u001b[0;34m=\u001b[0m\u001b[0;34m[\u001b[0m\u001b[0;34m\"PPO\"\u001b[0m\u001b[0;34m]\u001b[0m\u001b[0;34m,\u001b[0m \u001b[0mcolors\u001b[0m\u001b[0;34m=\u001b[0m\u001b[0;34m[\u001b[0m\u001b[0;34m\"r\"\u001b[0m\u001b[0;34m]\u001b[0m \u001b[0;34m)\u001b[0m\u001b[0;34m\u001b[0m\u001b[0;34m\u001b[0m\u001b[0m\n",
            "\u001b[0;32m<ipython-input-3-c2d1cf476b98>\u001b[0m in \u001b[0;36mload_array\u001b[0;34m(self, file_name_arrays, early_stop)\u001b[0m\n\u001b[1;32m     27\u001b[0m         \u001b[0;32mdef\u001b[0m \u001b[0mload_array\u001b[0m\u001b[0;34m(\u001b[0m\u001b[0mself\u001b[0m\u001b[0;34m,\u001b[0m \u001b[0mfile_name_arrays\u001b[0m\u001b[0;34m,\u001b[0m \u001b[0mearly_stop\u001b[0m\u001b[0;34m=\u001b[0m\u001b[0;32mNone\u001b[0m\u001b[0;34m)\u001b[0m\u001b[0;34m:\u001b[0m\u001b[0;34m\u001b[0m\u001b[0;34m\u001b[0m\u001b[0m\n\u001b[1;32m     28\u001b[0m                 \u001b[0mdata_arrays\u001b[0m \u001b[0;34m=\u001b[0m \u001b[0;34m[\u001b[0m\u001b[0;34m[\u001b[0m\u001b[0mnp\u001b[0m\u001b[0;34m.\u001b[0m\u001b[0mloadtxt\u001b[0m\u001b[0;34m(\u001b[0m\u001b[0mname\u001b[0m\u001b[0;34m,\u001b[0m \u001b[0mdelimiter\u001b[0m\u001b[0;34m=\u001b[0m\u001b[0;34m'\\n'\u001b[0m\u001b[0;34m,\u001b[0m \u001b[0munpack\u001b[0m\u001b[0;34m=\u001b[0m\u001b[0;32mTrue\u001b[0m\u001b[0;34m)\u001b[0m \u001b[0;32mfor\u001b[0m \u001b[0mname\u001b[0m \u001b[0;32min\u001b[0m \u001b[0marray_set\u001b[0m\u001b[0;34m]\u001b[0m \u001b[0;32mfor\u001b[0m \u001b[0marray_set\u001b[0m \u001b[0;32min\u001b[0m \u001b[0mfile_name_arrays\u001b[0m\u001b[0;34m]\u001b[0m\u001b[0;34m\u001b[0m\u001b[0;34m\u001b[0m\u001b[0m\n\u001b[0;32m---> 29\u001b[0;31m                 \u001b[0;32mif\u001b[0m\u001b[0;34m(\u001b[0m\u001b[0mearly_stop\u001b[0m \u001b[0;34m==\u001b[0m \u001b[0;32mNone\u001b[0m\u001b[0;34m)\u001b[0m\u001b[0;34m:\u001b[0m \u001b[0mself\u001b[0m\u001b[0;34m.\u001b[0m\u001b[0marray_len\u001b[0m \u001b[0;34m=\u001b[0m \u001b[0mmin\u001b[0m\u001b[0;34m(\u001b[0m\u001b[0;34m[\u001b[0m\u001b[0mmin\u001b[0m\u001b[0;34m(\u001b[0m\u001b[0;34m[\u001b[0m\u001b[0mlen\u001b[0m\u001b[0;34m(\u001b[0m\u001b[0mel\u001b[0m\u001b[0;34m)\u001b[0m \u001b[0;32mfor\u001b[0m \u001b[0mel\u001b[0m \u001b[0;32min\u001b[0m \u001b[0marray_set\u001b[0m\u001b[0;34m]\u001b[0m\u001b[0;34m)\u001b[0m \u001b[0;32mfor\u001b[0m \u001b[0marray_set\u001b[0m \u001b[0;32min\u001b[0m \u001b[0mdata_arrays\u001b[0m\u001b[0;34m]\u001b[0m\u001b[0;34m)\u001b[0m\u001b[0;34m\u001b[0m\u001b[0;34m\u001b[0m\u001b[0m\n\u001b[0m\u001b[1;32m     30\u001b[0m                 \u001b[0;32melse\u001b[0m\u001b[0;34m:\u001b[0m \u001b[0mself\u001b[0m\u001b[0;34m.\u001b[0m\u001b[0marray_len\u001b[0m \u001b[0;34m=\u001b[0m \u001b[0mearly_stop\u001b[0m\u001b[0;34m\u001b[0m\u001b[0;34m\u001b[0m\u001b[0m\n\u001b[1;32m     31\u001b[0m                 \u001b[0mself\u001b[0m\u001b[0;34m.\u001b[0m\u001b[0mdata_arrays\u001b[0m \u001b[0;34m=\u001b[0m \u001b[0mnp\u001b[0m\u001b[0;34m.\u001b[0m\u001b[0marray\u001b[0m\u001b[0;34m(\u001b[0m\u001b[0;34m[\u001b[0m\u001b[0;34m[\u001b[0m\u001b[0mel\u001b[0m\u001b[0;34m[\u001b[0m\u001b[0;34m:\u001b[0m\u001b[0mself\u001b[0m\u001b[0;34m.\u001b[0m\u001b[0marray_len\u001b[0m\u001b[0;34m]\u001b[0m \u001b[0;32mfor\u001b[0m \u001b[0mel\u001b[0m \u001b[0;32min\u001b[0m \u001b[0marray_set\u001b[0m\u001b[0;34m]\u001b[0m \u001b[0;32mfor\u001b[0m \u001b[0marray_set\u001b[0m \u001b[0;32min\u001b[0m \u001b[0mdata_arrays\u001b[0m\u001b[0;34m]\u001b[0m\u001b[0;34m,\u001b[0m \u001b[0mdtype\u001b[0m\u001b[0;34m=\u001b[0m\u001b[0mobject\u001b[0m\u001b[0;34m)\u001b[0m\u001b[0;34m\u001b[0m\u001b[0;34m\u001b[0m\u001b[0m\n",
            "\u001b[0;32m<ipython-input-3-c2d1cf476b98>\u001b[0m in \u001b[0;36m<listcomp>\u001b[0;34m(.0)\u001b[0m\n\u001b[1;32m     27\u001b[0m         \u001b[0;32mdef\u001b[0m \u001b[0mload_array\u001b[0m\u001b[0;34m(\u001b[0m\u001b[0mself\u001b[0m\u001b[0;34m,\u001b[0m \u001b[0mfile_name_arrays\u001b[0m\u001b[0;34m,\u001b[0m \u001b[0mearly_stop\u001b[0m\u001b[0;34m=\u001b[0m\u001b[0;32mNone\u001b[0m\u001b[0;34m)\u001b[0m\u001b[0;34m:\u001b[0m\u001b[0;34m\u001b[0m\u001b[0;34m\u001b[0m\u001b[0m\n\u001b[1;32m     28\u001b[0m                 \u001b[0mdata_arrays\u001b[0m \u001b[0;34m=\u001b[0m \u001b[0;34m[\u001b[0m\u001b[0;34m[\u001b[0m\u001b[0mnp\u001b[0m\u001b[0;34m.\u001b[0m\u001b[0mloadtxt\u001b[0m\u001b[0;34m(\u001b[0m\u001b[0mname\u001b[0m\u001b[0;34m,\u001b[0m \u001b[0mdelimiter\u001b[0m\u001b[0;34m=\u001b[0m\u001b[0;34m'\\n'\u001b[0m\u001b[0;34m,\u001b[0m \u001b[0munpack\u001b[0m\u001b[0;34m=\u001b[0m\u001b[0;32mTrue\u001b[0m\u001b[0;34m)\u001b[0m \u001b[0;32mfor\u001b[0m \u001b[0mname\u001b[0m \u001b[0;32min\u001b[0m \u001b[0marray_set\u001b[0m\u001b[0;34m]\u001b[0m \u001b[0;32mfor\u001b[0m \u001b[0marray_set\u001b[0m \u001b[0;32min\u001b[0m \u001b[0mfile_name_arrays\u001b[0m\u001b[0;34m]\u001b[0m\u001b[0;34m\u001b[0m\u001b[0;34m\u001b[0m\u001b[0m\n\u001b[0;32m---> 29\u001b[0;31m                 \u001b[0;32mif\u001b[0m\u001b[0;34m(\u001b[0m\u001b[0mearly_stop\u001b[0m \u001b[0;34m==\u001b[0m \u001b[0;32mNone\u001b[0m\u001b[0;34m)\u001b[0m\u001b[0;34m:\u001b[0m \u001b[0mself\u001b[0m\u001b[0;34m.\u001b[0m\u001b[0marray_len\u001b[0m \u001b[0;34m=\u001b[0m \u001b[0mmin\u001b[0m\u001b[0;34m(\u001b[0m\u001b[0;34m[\u001b[0m\u001b[0mmin\u001b[0m\u001b[0;34m(\u001b[0m\u001b[0;34m[\u001b[0m\u001b[0mlen\u001b[0m\u001b[0;34m(\u001b[0m\u001b[0mel\u001b[0m\u001b[0;34m)\u001b[0m \u001b[0;32mfor\u001b[0m \u001b[0mel\u001b[0m \u001b[0;32min\u001b[0m \u001b[0marray_set\u001b[0m\u001b[0;34m]\u001b[0m\u001b[0;34m)\u001b[0m \u001b[0;32mfor\u001b[0m \u001b[0marray_set\u001b[0m \u001b[0;32min\u001b[0m \u001b[0mdata_arrays\u001b[0m\u001b[0;34m]\u001b[0m\u001b[0;34m)\u001b[0m\u001b[0;34m\u001b[0m\u001b[0;34m\u001b[0m\u001b[0m\n\u001b[0m\u001b[1;32m     30\u001b[0m                 \u001b[0;32melse\u001b[0m\u001b[0;34m:\u001b[0m \u001b[0mself\u001b[0m\u001b[0;34m.\u001b[0m\u001b[0marray_len\u001b[0m \u001b[0;34m=\u001b[0m \u001b[0mearly_stop\u001b[0m\u001b[0;34m\u001b[0m\u001b[0;34m\u001b[0m\u001b[0m\n\u001b[1;32m     31\u001b[0m                 \u001b[0mself\u001b[0m\u001b[0;34m.\u001b[0m\u001b[0mdata_arrays\u001b[0m \u001b[0;34m=\u001b[0m \u001b[0mnp\u001b[0m\u001b[0;34m.\u001b[0m\u001b[0marray\u001b[0m\u001b[0;34m(\u001b[0m\u001b[0;34m[\u001b[0m\u001b[0;34m[\u001b[0m\u001b[0mel\u001b[0m\u001b[0;34m[\u001b[0m\u001b[0;34m:\u001b[0m\u001b[0mself\u001b[0m\u001b[0;34m.\u001b[0m\u001b[0marray_len\u001b[0m\u001b[0;34m]\u001b[0m \u001b[0;32mfor\u001b[0m \u001b[0mel\u001b[0m \u001b[0;32min\u001b[0m \u001b[0marray_set\u001b[0m\u001b[0;34m]\u001b[0m \u001b[0;32mfor\u001b[0m \u001b[0marray_set\u001b[0m \u001b[0;32min\u001b[0m \u001b[0mdata_arrays\u001b[0m\u001b[0;34m]\u001b[0m\u001b[0;34m,\u001b[0m \u001b[0mdtype\u001b[0m\u001b[0;34m=\u001b[0m\u001b[0mobject\u001b[0m\u001b[0;34m)\u001b[0m\u001b[0;34m\u001b[0m\u001b[0;34m\u001b[0m\u001b[0m\n",
            "\u001b[0;31mValueError\u001b[0m: min() arg is an empty sequence"
          ]
        },
        {
          "output_type": "display_data",
          "data": {
            "text/plain": [
              "<Figure size 640x480 with 1 Axes>"
            ],
            "image/png": "[encoded data removed]"
          },
          "metadata": {}
        }
      ]
    },
    {
      "cell_type": "markdown",
      "source": [
        "#### Plot graph of consumer demands"
      ],
      "metadata": {
        "id": "xx_zH5DaCOxl"
      }
    },
    {
      "cell_type": "code",
      "source": [
        "\n",
        "_, _, hourly_home_battery__ppo, hourly_ev_battery__ppo, hourly_price_ppo, hourly_charge_ppo_sg, hourly_charge_ppo_pv, house_demands = test_models( _get_action_ppo, network_name=\"trained_models/neural_network_trained.h5\" )\n",
        "\n",
        "line_plotter = DemandsPlotter(house_demands, hourly_charge_ppo_pv)\n",
        "line_plotter.plot()\n"
      ],
      "metadata": {
        "colab": {
          "base_uri": "https://localhost:8080/",
          "height": 559
        },
        "id": "Pze4DObdCrSR",
        "outputId": "d7b3ba3d-5d3f-436f-cbf0-98f52ff50640"
      },
      "execution_count": null,
      "outputs": [
        {
          "output_type": "stream",
          "name": "stderr",
          "text": [
            "<ipython-input-4-82dbdf4edec6>:43: DeprecationWarning: This function is deprecated. Please call randint(1, 12 + 1) instead\n",
            "  self.month = np.random.random_integers(1, 12)\n",
            "<ipython-input-4-82dbdf4edec6>:44: DeprecationWarning: This function is deprecated. Please call randint(1, 31 + 1) instead\n",
            "  self.day = np.random.random_integers(1, Constant.MONTHS_LEN[self.month-1])\n",
            "<ipython-input-4-82dbdf4edec6>:45: DeprecationWarning: This function is deprecated. Please call randint(0, 23 + 1) instead\n",
            "  self.time = np.random.random_integers(0, 23)\n"
          ]
        },
        {
          "output_type": "display_data",
          "data": {
            "text/plain": [
              "<Figure size 640x480 with 2 Axes>"
            ],
            "image/png": "[encoded data removed]"
          },
          "metadata": {}
        }
      ]
    },
    {
      "cell_type": "markdown",
      "source": [
        "#### Plot graph of generation"
      ],
      "metadata": {
        "id": "G2k42BX1CSWJ"
      }
    },
    {
      "cell_type": "code",
      "source": [
        "\n",
        "_, _, hourly_home_battery__ppo, hourly_ev_battery__ppo, hourly_price_ppo, hourly_charge_ppo_sg, hourly_charge_ppo_pv, house_demands = test_models( _get_action_ppo, network_name=\"trained_models/neural_network_trained.h5\" )\n",
        "\n",
        "for i in range(len(hourly_home_battery__ppo)):\n",
        "  hourly_home_battery__ppo[i] -= 50\n",
        "print(hourly_home_battery__ppo)\n",
        "print(np.array(hourly_home_battery__ppo).shape)\n",
        "print(np.array(hourly_charge_ppo_pv).shape)\n",
        "print(np.array(hourly_charge_ppo_sg).shape)\n",
        "line_plotter = GenerationPlotter(hourly_charge_ppo_pv, hourly_charge_ppo_sg, hourly_home_battery__ppo)\n",
        "line_plotter.plot()\n",
        "\n"
      ],
      "metadata": {
        "id": "IxKdAY8C4RS2",
        "colab": {
          "base_uri": "https://localhost:8080/",
          "height": 683
        },
        "outputId": "4db8072f-ca9c-4c4d-907c-4967f9ff50b7"
      },
      "execution_count": null,
      "outputs": [
        {
          "output_type": "stream",
          "name": "stderr",
          "text": [
            "/usr/local/lib/python3.10/dist-packages/ipykernel/ipkernel.py:283: DeprecationWarning: `should_run_async` will not call `transform_cell` automatically in the future. Please pass the result to `transformed_cell` argument and any exception that happen during thetransform in `preprocessing_exc_tuple` in IPython 7.17 and above.\n",
            "  and should_run_async(code)\n",
            "<ipython-input-4-82dbdf4edec6>:43: DeprecationWarning: This function is deprecated. Please call randint(1, 12 + 1) instead\n",
            "  self.month = np.random.random_integers(1, 12)\n",
            "<ipython-input-4-82dbdf4edec6>:44: DeprecationWarning: This function is deprecated. Please call randint(1, 31 + 1) instead\n",
            "  self.day = np.random.random_integers(1, Constant.MONTHS_LEN[self.month-1])\n",
            "<ipython-input-4-82dbdf4edec6>:45: DeprecationWarning: This function is deprecated. Please call randint(0, 23 + 1) instead\n",
            "  self.time = np.random.random_integers(0, 23)\n"
          ]
        },
        {
          "output_type": "stream",
          "name": "stdout",
          "text": [
            "[48.73417448747644, 48.65025770585986, 48.6288384303635, 48.733024903008854, 48.78854820342278, 48.872956954773215, 48.88562823637484, 48.69371932051958, 48.41699142603683, 48.238694896135314, 47.85722719948559, 47.72644582242741, 47.739880359112945, 47.793792378645165, 47.77982020991911, 47.84844290559198, 48.06054732639065, 48.3911782877788, 48.53987138572086, 48.46923950957614, 48.164526033558644, 48.336240072881324, 48.405020920627535, 48.51493728594875]\n",
            "(24,)\n",
            "(24,)\n",
            "(24,)\n"
          ]
        },
        {
          "output_type": "display_data",
          "data": {
            "text/plain": [
              "<Figure size 640x480 with 2 Axes>"
            ],
            "image/png": "[encoded data removed]"
          },
          "metadata": {}
        }
      ]
    },
    {
      "cell_type": "code",
      "source": [],
      "metadata": {
        "id": "T6dpF117ODKG"
      },
      "execution_count": null,
      "outputs": []
    }
  ],
  "metadata": {
    "colab": {
      "provenance": []
    },
    "kernelspec": {
      "display_name": "Python 3",
      "name": "python3"
    },
    "language_info": {
      "name": "python"
    }
  },
  "nbformat": 4,
  "nbformat_minor": 0
}