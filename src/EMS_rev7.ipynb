{
  "cells": [
    {
      "cell_type": "markdown",
      "metadata": {
        "id": "tO8oNCeyvbtQ"
      },
      "source": [
        "# **Reinforcement Learning Project**\n",
        "# Deep reinforcement learning for energy management systems in a microgrid\n",
        "---\n",
        "---\n",
        "### Installing Dependencies"
      ]
    },
    {
      "cell_type": "code",
      "execution_count": 1,
      "metadata": {
        "id": "OkQdmZAQsCFi"
      },
      "outputs": [],
      "source": [
        "import matplotlib.pyplot as plt\n",
        "import numpy as np\n",
        "from collections import deque\n",
        "\n",
        "from gym import spaces\n",
        "from gym.utils import seeding\n",
        "import pandas as pd\n",
        "\n",
        "from tensorflow import keras\n",
        "import tensorflow as tf\n",
        "\n",
        "import sys, os; os; os.environ[\"TF_CPP_MIN_LOG_LEVEL\"] = \"2\"\n",
        "import tensorflow, numpy, glob\n",
        "import numpy as np\n",
        "import random"
      ]
    },
    {
      "cell_type": "markdown",
      "metadata": {
        "id": "VcRjXkE0mXmI"
      },
      "source": [
        "### **1. INTRODUCTION**\n",
        "\n",
        "Inadequate control over residential electrical energy usage can result in many adverse consequences, which extend beyond individual residences and have implications for the broader environmental and societal spheres. The negative effects may encompass environmental, economic, and social ramifications.\n",
        "\n",
        "Mismanagement of residential electrical energy consumption can result in escalated household energy expenses from an economic standpoint. It can cause financial strain and tension, particularly for low-income families, by straining household budgets. Moreover, it can potentially exacerbate energy poverty, a condition in which households cannot afford sufficient energy services, negatively affecting their overall well-being and quality of life (Boeri et al., 2020). Therefore, an energy management system becomes an urgent need.\n",
        "\n",
        "The question is, how can we optimize the use of household electrical energy intelligently and efficiently? We must utilize artificial intelligence in energy management, especially reinforcement learning, with a Deep Q-Network (DQN) approach. Reinforcement learning can study the interactions that occur in home energy use by understanding home occupants' habits and producing appropriate energy consumption policies.\n",
        "\n",
        "In this tutorial, we will explore practical steps using Python to build a DQN algorithm to determine appropriate household energy consumption actions. Through this approach, we seek efficient solutions to reduce electricity bills and contribute positively to overall electricity resource management. Let's start by understanding the environment and the steps necessary to achieve this goal."
      ]
    },
    {
      "cell_type": "markdown",
      "metadata": {
        "id": "DqQtQeTewnA3"
      },
      "source": [
        "**1.1 WHAT IS MICROGRIDS?**\n",
        "\n",
        "Microgrids – self-contained electrical grids that are capable of disconnecting from the main grid – hold potential in both tackling climate change mitigation via reducing CO\n",
        " emissions and adaptation by increasing infrastructure resiliency. Due to their distributed nature, microgrids are often idiosyncratic; as a result, control of these systems is nontrivial.\n",
        "\n",
        " While microgrid simulators exist, many are limited in scope and in the variety of microgrids they can simulate. We propose pymgrid, an open-source Python package to generate and simulate a large number of microgrids, and the first open-source tool that can generate more than 600 different microgrids. pymgrid abstracts most of the domain expertise, allowing users to focus on control algorithms.\n",
        "\n",
        " In particular, pymgrid is built to be a reinforcement learning (RL) platform, and includes the ability to model microgrids as Markov decision processes\n",
        " pymgrid also introduces two pre-computed list of microgrids, intended to allow for research reproducibility in the microgrid setting."
      ]
    },
    {
      "cell_type": "markdown",
      "metadata": {
        "id": "JrZebCqimXmJ"
      },
      "source": [
        "**1.2. DATA PREPARATION**\n",
        "\n",
        "The first step in this tutorial is to extract the file named 'data.zip' and then extract the entire contents into the '/content/' directory, so that if there are files or folders in the zip, they will all be placed in the '/content/' directory."
      ]
    },
    {
      "cell_type": "code",
      "execution_count": 2,
      "metadata": {
        "colab": {
          "base_uri": "https://localhost:8080/"
        },
        "id": "t2xPWzB9kAF3",
        "outputId": "516b8a84-7721-4075-aaa7-4f0b63555ff3"
      },
      "outputs": [
        {
          "output_type": "stream",
          "name": "stderr",
          "text": [
            "/usr/local/lib/python3.10/dist-packages/ipykernel/ipkernel.py:283: DeprecationWarning: `should_run_async` will not call `transform_cell` automatically in the future. Please pass the result to `transformed_cell` argument and any exception that happen during thetransform in `preprocessing_exc_tuple` in IPython 7.17 and above.\n",
            "  and should_run_async(code)\n"
          ]
        },
        {
          "output_type": "stream",
          "name": "stdout",
          "text": [
            "Cloning into 'EMS'...\n",
            "remote: Enumerating objects: 22, done.\u001b[K\n",
            "remote: Counting objects: 100% (22/22), done.\u001b[K\n",
            "remote: Compressing objects: 100% (20/20), done.\u001b[K\n",
            "remote: Total 22 (delta 4), reused 12 (delta 0), pack-reused 0\u001b[K\n",
            "Receiving objects: 100% (22/22), 6.42 MiB | 4.91 MiB/s, done.\n",
            "Resolving deltas: 100% (4/4), done.\n"
          ]
        }
      ],
      "source": [
        "!git  clone --depth=1 https://github.com/heringo/EMS.git\n",
        "!mv /content/EMS/data/ /content/data\n",
        "!rm --r /content/EMS\n"
      ]
    },
    {
      "cell_type": "markdown",
      "metadata": {
        "id": "u629LVyesCFl"
      },
      "source": [
        "### **2. MODELING THE PROBLEM**\n",
        "\n",
        "\n",
        "**2.1. HOME ENERGY MANAGEMENT SYSTEM**\n",
        "\n",
        "To enhance realism, we address a household's Energy Management System (EMS). In this stage, we define the problem as involving two available power sources for the Reinforcement Learning (RL) agent:\n",
        "- Microgrid\n",
        "- Photovoltaic\n",
        "\n",
        "Utilizing these power sources, the RL agent can opt to charge two types of batteries:\n",
        "- House battery\n",
        "- Electric Vehicle (EV) battery\n",
        "\n",
        "Home constraints include:\n",
        "- Energy demand for the house varies based on the time of day.\n",
        "\n",
        "Electric Vehicle Constraints:\n",
        "- The EV cannot be charged between 7 am and 10 pm daily, reflecting the owner's consistent use throughout the day. (Negative Reward : -10 for charging during the day)\n",
        "- The EV must have a minimum charge of 11% daily to be operational. (Negative reward : -10 for not enough battery)\n",
        "\n",
        "Charging Constraints:\n",
        "- One hour of charging results in an 11% increase in battery charge. (Negative reward : -1 for each dollar)\n",
        "\n"
      ]
    },
    {
      "cell_type": "markdown",
      "metadata": {
        "id": "ItrlQkMM8C0D"
      },
      "source": [
        "**2.2. DEFINING CONSTANTS**\n",
        "\n",
        "Next step is defining three classes that store constants or specifications in a simulation or model.\n",
        "1. **Actions class:** provides constants representing various actions to be taken in a simulation. A numeric value, such as NO_ACTION, CHARGE_HOME_wPV, CHARGE_HOME_wSG, CHARGE_EV_wPV, and CHARGE_EV_wSG represent each action. For example, CHARGE_HOME_wPV can be interpreted as the action of charging at home using photovoltaic (PV).\n",
        "\n",
        "2. **Specifications class:** provides constants and specifications used in the simulation or model. Some of the constants include HOME_CAPACITY, which indicates the power capacity of the home, EV_CAPACITY which means the power capacity of the electric vehicle (EV), EV_DAILY_CONSUME which is the daily consumption of the EV, EV_CHARGE_WINDOW which indicates the EV charging time window, and MAX_CHARGE_FOR_HOUR which is the maximum limit of charging for an hour.\n",
        "\n",
        "3. **Constant class:** provides other constants used in the simulation. For example, MONTHS_LEN contains the number of days each month, and MAX_STEP_HOURS is the number of monthly hours. These constants can be used to set parameters and conditions in the simulation."
      ]
    },
    {
      "cell_type": "code",
      "execution_count": 3,
      "metadata": {
        "id": "bhCVkUIb4VyV"
      },
      "outputs": [],
      "source": [
        "#Constant that indicates which actions is taken\n",
        "class Actions:\n",
        "\tNO_ACTION = 0\n",
        "\tCHARGE_HOME_wPV = 1         #Charging Home with Photovoltaic\n",
        "\tCHARGE_HOME_wSG = 2         #Charging Home with SmartGrid\n",
        "\n",
        "\tCHARGE_EV_wPV = 3           #Charging EV with Photovoltaic\n",
        "\tCHARGE_EV_wSG = 4           #Charging EV with SmartGrid\n",
        "\n",
        "class Specifications:\n",
        "\tHOME_CAPACITY = 100\n",
        "\tEV_CAPACITY = 100\n",
        "\tEV_DAILY_CONSUME = 11\n",
        "\tEV_CHARGE_WINDOW = [18, 6]      #Charging when the EV is at home and not use\n",
        "\tMAX_CHARGE_FOR_HOUR = 11\n",
        "\n",
        "class Constant:\n",
        "\tMONTHS_LEN = [31, 28, 31, 30, 31, 30, 31, 31, 30, 31, 30, 31]\n",
        "\tMAX_STEP_HOURS = 24 * 30\n"
      ]
    },
    {
      "cell_type": "markdown",
      "metadata": {
        "id": "vgs184d98NBl"
      },
      "source": [
        "**2.3. DATA PREPROCESSING**\n",
        "\n",
        "This step will use the ProcessedData class for managing data related to photovoltaic production, SmartGrid electricity prices, and household consumption/needs at specified time intervals. Here is an explanation for each part of this class:\n",
        "\n",
        "**Class Attributes:**\n",
        "\n",
        "PV_production: A list attribute used to store photovoltaic production data.\n",
        "\n",
        "SG_prices: A list attribute used to store SmartGrid electricity price data.\n",
        "\n",
        "H4_consumes: A list attribute used to store consumption or household needs data.\n",
        "\n",
        "**Class Methods:**\n",
        "\n",
        "__init__(self): Initialization method (constructor) that is called when a class object is created. This method initializes the PV_production, SG_price, and H4_usage list attributes as an empty list.\n",
        "\n",
        "add_PV(self, el): Method for adding elements to the PV_production list.\n",
        "\n",
        "add_SG(self, el): Method for adding elements to the SG_price list.\n",
        "\n",
        "add_H4(self, el): Method for adding elements to the usage_H4 list.\n",
        "\n",
        "get_PV(self, month, day, hour): Method for getting photovoltaic production values for a specific month, day and hour.\n",
        "\n",
        "get_SG(self, month, day, hour): Method for getting SmartGrid electricity price values for a specific month, day and hour.\n",
        "\n",
        "get_H4_consumes(self, month, day, hour): Method for getting consumption values/household needs for a certain month, day and hour.\n",
        "\n",
        "The get_PV, get_SG, and get_H4_consumes methods take month, day, and hour parameters to calculate the appropriate index in the data list based on a specific date and time. The formula used to calculate the index involves the total number of hours before a specific date and time. In this context, we assume that Constant.Month_length contains the number of days in each month, so sum(Constant.Month_length[:month-1]) can provide the total number of days of the previous months. So, this formula is used to calculate the appropriate index in the data list for a certain date and time."
      ]
    },
    {
      "cell_type": "code",
      "execution_count": 4,
      "metadata": {
        "id": "DfyWZyFx7RnK"
      },
      "outputs": [],
      "source": [
        "class ProcessedData:\n",
        "\tdef __init__(self):\n",
        "\t\tself.PV_production = []                       #Production of Photovoltaic\n",
        "\t\tself.SG_prices = []                           #Price of SmartGrid Electricity\n",
        "\t\tself.H4_consumes = []                         #The consumption/need of the home\n",
        "\n",
        "\t# Methods to add the elements in the specific arrays\n",
        "\tdef add_PV_entry(self, el): self.PV_production.append( el )\n",
        "\tdef add_SG_prices(self, el): self.SG_prices.append( el )\n",
        "\tdef add_H4_consumes(self, el): self.H4_consumes.append( el )\n",
        "\n",
        "\t# Get Methods (given month and time return the value)\n",
        "  # To get the element it converts every day in hours\n",
        "\tdef get_PV_entry(self, month, day, day_time): return self.PV_production[ (sum(Constant.MONTHS_LEN[:month-1]) + day - 1) * 24  + day_time ]\n",
        "\tdef get_SG_prices(self, month, day, day_time): return self.SG_prices[ (sum(Constant.MONTHS_LEN[:month-1]) + day - 1) * 24  + day_time ]\n",
        "\tdef get_H4_consumes(self, month, day, day_time): return self.H4_consumes[ (sum(Constant.MONTHS_LEN[:month-1]) + day - 1) * 24  + day_time ]"
      ]
    },
    {
      "cell_type": "markdown",
      "metadata": {
        "id": "N92Qs24c8y1Q"
      },
      "source": [
        "### **3. PLOTTING FUNCTIONS**\n",
        "\n",
        "Apart from processing data, we also have to be able to display data visualization results from the DQN agent training to find out whether the algorithm we are using meets expectations or not. Initializing this part, we use the LinePlotter class creates and renders line plots with several additional features. The following is an explanation for each part of the class:\n",
        "\n",
        "**Constructor (__init__)**:\n",
        "Initializes the object with an x-axis label (x_label), y-axis label (y_label), and plot title (title).\n",
        "Create a subplot object using plt.subplot(1).\n",
        "It hides the top and right edges of the plot.\n",
        "Sets the background color of the plot.\n",
        "Adds a grid to the plot with white lines.\n",
        "Set the font size for the x and y axes, axis labels, and titles.\n",
        "\n",
        "**load_array**:\n",
        "Loads some array of data from the given files.\n",
        "Sets the array's length (shortest of all arrays) as array_len.\n",
        "Store data arrays as data_arrays.\n",
        "\n",
        "**render**:\n",
        "Render a line plot with the mean, maximum value, and minimum value of each data array.\n",
        "Use fill_between to display the area between the maximum and minimum values.\n",
        "A legend was added at the bottom right of the plot.\n",
        "Displays plots.\n",
        "\n",
        "**process_data**:\n",
        "Processing data, including calculating the rolling mean, standard deviation, maximum, and minimum values.\n",
        "Using a rolling window to calculate the rolling mean.\n",
        "Determines the x-axis (x_axes) based on the length of the data array.\n",
        "Stores each data array's average value, standard deviation, maximum value, and minimum value.\n",
        "\n",
        "**Variables**\n",
        "\n",
        "fig and ax: Variables that store subplot objects.\n",
        "data_arrays: Multidimensional arrays that store data.\n",
        "array_len: Length of the data array.\n",
        "mean_array, var_array, max_array, min_array: Arrays that store the mean, standard deviation, maximum value, and minimum value.\n",
        "x_axes: Variable that stores the x-axis for the plot."
      ]
    },
    {
      "cell_type": "code",
      "execution_count": 5,
      "metadata": {
        "id": "v8H9RN2EmXmN"
      },
      "outputs": [],
      "source": [
        "class LinePlotter:\n",
        "\n",
        "\tdef __init__(self, x_label=\"X Label\", y_label=\"Y Label\", title=\"No Title\"):\n",
        "\t\tself.fig, self.ax = plt.subplots(1)\n",
        "\t\tself.ax.spines[\"top\"].set_visible(False)\n",
        "\t\tself.ax.spines[\"bottom\"].set_visible(False)\n",
        "\t\tself.ax.spines[\"right\"].set_visible(False)\n",
        "\t\tself.ax.spines[\"left\"].set_visible(False)\n",
        "\t\tself.ax.set_facecolor('#eaeaf2')\n",
        "\t\tplt.grid(color='#ffffff', linestyle='-', linewidth=1)\n",
        "\t\tplt.xticks(fontsize=12)\n",
        "\t\tplt.yticks(fontsize=12)\n",
        "\t\tplt.xlabel(x_label, fontsize=12)\n",
        "\t\tplt.ylabel(y_label, fontsize=12)\n",
        "\t\tplt.title(title, fontsize=16)\n",
        "\t\tself.data_arrays = []\n",
        "\t\tself.array_len = -1\n",
        "\t\tself.mean_array = []\n",
        "\t\tself.var_array =  []\n",
        "\t\tself.max_array = []\n",
        "\t\tself.min_array = []\n",
        "\n",
        "\tdef load_array(self, file_name_arrays, early_stop=None):\n",
        "\t\tdata_arrays = [[np.loadtxt(name, delimiter=' ', unpack=True) for name in array_set] for array_set in file_name_arrays]\n",
        "\t\tif(early_stop == None): self.array_len = min([min([len(el) for el in array_set]) for array_set in data_arrays])\n",
        "\t\telse: self.array_len = early_stop\n",
        "\t\tself.data_arrays = np.array([[el[:self.array_len] for el in array_set] for array_set in data_arrays], dtype=object)\n",
        "\n",
        "\tdef render(self, labels, colors):\n",
        "\t\terr_msg = \"load some data before the render!\"\n",
        "\t\tassert self.array_len > 0, err_msg\n",
        "\t\tfor mean_values, max_values, min_values, label, color in zip(self.mean_array, self.max_array, self.min_array, labels, colors):\n",
        "\t\t\tself.ax.plot(self.x_axes, mean_values, label=label, color=color, linestyle='-', linewidth=1.2 )\n",
        "\t\t\tself.ax.fill_between(self.x_axes, max_values, min_values, facecolor=color, alpha=0.3)\n",
        "\t\tself.ax.legend(loc='lower right', bbox_to_anchor=(1, 0), fontsize=14)\n",
        "\t\tplt.show()\n",
        "\n",
        "\tdef process_data(self, rolling_window=1, starting_pointer=0, early_stop=None):\n",
        "\t\trolling_queue = deque(maxlen=rolling_window)\n",
        "\t\tself.x_axes = [i for i in range(self.array_len-starting_pointer)]\n",
        "\t\tfor array_set in self.data_arrays:\n",
        "\t\t\tfor array in array_set:\n",
        "\t\t\t\tfor i in range(self.array_len):\n",
        "\t\t\t\t\trolling_queue.append(array[i])\n",
        "\t\t\t\t\tarray[i] = np.mean(rolling_queue)\n",
        "\t\t\t\trolling_queue.clear()\n",
        "\t\t# Fix for different array size\n",
        "\t\tself.data_arrays = np.array([np.array(el) for el in self.data_arrays], dtype=object)\n",
        "\t\tself.mean_array = np.array([[np.mean(array_set[:, i]) for i in range(self.array_len)][starting_pointer:] for array_set in self.data_arrays])\n",
        "\t\tself.var_array =  np.array([[np.std(array_set[:, i]) for i in range(self.array_len)][starting_pointer:] for array_set in self.data_arrays])\n",
        "\t\tself.max_array = [[np.max(array_set[:, i]) for i in range(self.array_len)][starting_pointer:] for array_set in self.data_arrays]\n",
        "\t\tself.min_array = [[np.min(array_set[:, i]) for i in range(self.array_len)][starting_pointer:] for array_set in self.data_arrays]\n"
      ]
    },
    {
      "cell_type": "markdown",
      "metadata": {
        "id": "FNPLZepvJjOS"
      },
      "source": [
        "**3.1. PLOTTING THE DATA COMPARATION**\n",
        "\n",
        "This plot displays histograms based on two datasets, train_list containing trained data and random_list containing random data, to visually represent the differences or alignment of these datasets based on HistoPlotter classes. The class constructor (__init__) is used to initialize the class objects, with two attributes (trained_list and random_list) which are initialized as empty lists. They will be used to store data that will be plotted in a histogram. The plot method creates and displays a histogram plot that compares two data sets (trained_list and random_list) for individual months (\"January\" to \"December\") with the following functionality:\n",
        "*   Create an image (fig) and a subplot (ax) using Matplotlib.\n",
        "*   Count the number of elements in the trained_list and create an index array (indices) using NumPy.\n",
        "*   Create two histogram bars (rects1 and rects2) using data from trained_list and random_list.\n",
        "*   Use prepared data to set several properties on the plot, such as axis labels and title.\n",
        "\n",
        "\n"
      ]
    },
    {
      "cell_type": "code",
      "execution_count": 6,
      "metadata": {
        "id": "ub2dNW8RFKM2"
      },
      "outputs": [],
      "source": [
        "class HistoPlotter():\n",
        "\n",
        "\tdef __init__(self):\n",
        "\t\tself.trained_list = []\n",
        "\t\tself.random_list = []\n",
        "\n",
        "\tdef plot( self ):\n",
        "\t\tfig = plt.figure()\n",
        "\t\tax = fig.add_subplot(111)\n",
        "\t\tN = len(self.trained_list)\n",
        "\t\tind = np.arange(N)\n",
        "\t\twidth = 0.35\n",
        "\t\trects1 = ax.bar(ind, self.trained_list, width,\n",
        "\t\t\t\t\t\tcolor='black',\n",
        "\t\t\t\t\t\terror_kw=dict(elinewidth=2,ecolor='Red'))\n",
        "\t\trects2 = ax.bar(ind+width, self.random_list, width,\n",
        "\t\t\t\t\t\t\tcolor='red',\n",
        "\t\t\t\t\t\t\terror_kw=dict(elinewidth=2,ecolor='Blue'))\n",
        "\t\tax.set_xlim(-width,len(ind)+width)\n",
        "\t\tax.set_ylabel('Money Spent (euros)', fontsize=12)\n",
        "\t\tax.set_title('Smart Home')\n",
        "\t\txTickMarks = ['January', 'February', 'March', 'April', 'May', 'June', 'July', 'August', 'September', 'October', 'November', 'December']\n",
        "\t\tax.set_xticks(ind+width)\n",
        "\t\txtickNames = ax.set_xticklabels(xTickMarks)\n",
        "\t\tplt.setp(xtickNames, rotation=45, fontsize=12)\n",
        "\t\tax.legend( (rects1[0], rects2[0]), (f\"Trained Network (total={sum(self.trained_list):6.2f})\", f\"Random Actions (total={sum(self.random_list):6.2f})\"), fontsize=14 )\n",
        "\t\tplt.show()"
      ]
    },
    {
      "cell_type": "markdown",
      "metadata": {
        "id": "1vTTjqktLxw0"
      },
      "source": [
        "**3.2. PLOT THE BATTERY CONSUMPTION**\n",
        "\n",
        "The DoubleLinePlotter class visualizes the battery consumption of Smart Grid (SG) and Photovoltaic (PV) resources against time, including the cost per kWh. This class contains of two parts, constructor and plot method:\n",
        "\n",
        "\n",
        "*   The constructor initializes the objects with some default parameters that are given and initialized as object attributes, including battery level (battery_level), electric vehicle level (ev_level), energy price (price), hourly cost of SG (hourly_charge_sg), and hourly cost of PV (hourly_charge_pv).\n",
        "*   The plot method creates and displays plots with two y axes. The subplot (ax) and twin axes (ax.twinx()) objects represent two y-axes that share the x-axis to provide additional space for the legend.\n",
        "\n"
      ]
    },
    {
      "cell_type": "code",
      "execution_count": 7,
      "metadata": {
        "id": "GnFFUATVFRF7"
      },
      "outputs": [],
      "source": [
        "class DoubleLinePlotter():\n",
        "\n",
        "\tdef __init__(self, battery_level=[10, 20, 30], ev_level= [0, 0, 0], price=[30, 20, 10], hourly_charge_sg=[0, 0, 0], hourly_charge_pv=[0, 0, 0] ):\n",
        "\t\tself.battery_level = battery_level\n",
        "\t\tself.ev_level = ev_level\n",
        "\t\tself.charge_sg = hourly_charge_sg\n",
        "\t\tself.charge_pv = hourly_charge_pv\n",
        "\t\tself.price = price\n",
        "\n",
        "\tdef plot( self ):\n",
        "\t\tfig, ax = plt.subplots()\n",
        "\t\taxes = [ax, ax.twinx()]\n",
        "\t\tfig.subplots_adjust(right=0.86)\n",
        "\t\tax.set_xlabel('Time (h)')\n",
        "\n",
        "\t\t# Plot on Axis 1: Battery consupmtion\n",
        "\t\tX = [str(i) for i in range(24)]\n",
        "\t\taxes[0].bar(X, self.charge_sg, color='green', label=\"from SG\")\n",
        "\t\taxes[0].bar(X, self.charge_pv, color='blue', label=\"from PV\")\n",
        "\t\taxes[0].set_ylabel(\"Charge (kWh)\", color='black')\n",
        "\t\taxes[0].tick_params(axis='y', colors='black')\n",
        "\t\taxes[0].legend(loc='upper right', fontsize=14)\n",
        "\n",
        "\t\t# Plot on Axis 2: Price\n",
        "\t\taxes[1].plot(self.price, linestyle='-', color='red', linewidth=1.2)\n",
        "\t\taxes[1].set_ylabel('Price (kWh)', color='red')\n",
        "\t\taxes[1].tick_params(axis='y', colors='red')\n",
        "\n",
        "\t\t# Final Plot\n",
        "\t\tplt.show()"
      ]
    },
    {
      "cell_type": "markdown",
      "metadata": {
        "id": "RBnOLauumXmN"
      },
      "source": [
        "**3.3. PLOT THE ENERGY GENERATION**\n",
        "\n",
        "The GenerationPlotter class visualizes energy generation, such as battery charge, production from solar panels (PV), and electric grid (Grid) consumption. This class consists of a constructor and a plot method. The constructor initializes three parameters (pv, network, and battery_content) that are used to store data related to energy generation. Furthermore, a plot method that visualizes battery consumption, production from solar panels (PV), and consumption from the electricity grid (Grid) for each hour of a period."
      ]
    },
    {
      "cell_type": "code",
      "execution_count": 8,
      "metadata": {
        "id": "GIKJ4G7PFVRD"
      },
      "outputs": [],
      "source": [
        "class GenerationPlotter():\n",
        "\n",
        "\tdef __init__(self, pv, grid, battery_charge):\n",
        "\t\tself.pv = pv\n",
        "\t\tself.grid = grid\n",
        "\t\tself.battery_charge = battery_charge\n",
        "\n",
        "\tdef plot( self ):\n",
        "\t\tfig, ax = plt.subplots()\n",
        "\t\taxes = [ax, ax.twinx()]\n",
        "\t\tfig.subplots_adjust(right=0.86)\n",
        "\t\tax.set_xlabel('Time (h)')\n",
        "\n",
        "\t\t# Plot on Axis 1: Battery consupmtion\n",
        "\t\tX = [str(i) for i in range(24)]\n",
        "\t\taxes[0].bar(X, self.battery_charge, color='blue', label=\"Battery Discharge\")\n",
        "\t\taxes[0].bar(X, self.pv, color='red', label=\"PV\")\n",
        "\t\taxes[0].bar(X, self.grid, color='green', label=\"Grid\")\n",
        "\t\taxes[0].set_ylabel(\"Energy (kWh)\", color='black')\n",
        "\t\taxes[0].tick_params(axis='y', colors='black')\n",
        "\t\taxes[0].legend(loc='upper right', fontsize=14)\n",
        "\n",
        "\t\t# Plot on Axis 2: Price\n",
        "\t\t#axes[1].plot(self.price, linestyle='-', color='red', linewidth=1.2)\n",
        "\t\t#axes[1].set_ylabel('Price (kWh)', color='red')\n",
        "\t\t#axes[1].tick_params(axis='y', colors='red')\n",
        "\n",
        "\t\t# Final Plot\n",
        "\t\tplt.show()"
      ]
    },
    {
      "cell_type": "markdown",
      "metadata": {
        "id": "EL06M6uGlq0-"
      },
      "source": [
        "**3.4. PLOT THE ENERGY DEMANDS**\n",
        "\n",
        "The DemandsPlotter class creates and displays plots that visualize home energy demand and battery charge for each hour of a period."
      ]
    },
    {
      "cell_type": "code",
      "execution_count": 9,
      "metadata": {
        "id": "ThfAjg9q8mL-"
      },
      "outputs": [],
      "source": [
        "class DemandsPlotter():\n",
        "\n",
        "\tdef __init__(self, house_demands, battery_charge):\n",
        "\t\tself.house_demands = house_demands\n",
        "\t\tself.battery_charge = battery_charge\n",
        "\n",
        "\tdef plot( self ):\n",
        "\t\tfig, ax = plt.subplots()\n",
        "\t\taxes = [ax, ax.twinx()]\n",
        "\t\tfig.subplots_adjust(right=0.86)\n",
        "\t\tax.set_xlabel('Time (h)')\n",
        "\n",
        "\t\t# Plot on Axis 1: Battery consupmtion\n",
        "\t\tX = [str(i) for i in range(24)]\n",
        "\t\taxes[0].bar(X, self.battery_charge, color='green', label=\"Battery Charge\")\n",
        "\t\taxes[0].bar(X, self.house_demands, color='blue', label=\"House Demands\")\n",
        "\t\taxes[0].set_ylabel(\"Energy (kWh)\", color='black')\n",
        "\t\taxes[0].tick_params(axis='y', colors='black')\n",
        "\t\taxes[0].legend(loc='upper right', fontsize=14)\n",
        "\n",
        "\t\t# Plot on Axis 2: Price\n",
        "\t\t#axes[1].plot(self.price, linestyle='-', color='red', linewidth=1.2)\n",
        "\t\t#axes[1].set_ylabel('Price (kWh)', color='red')\n",
        "\t\t#axes[1].tick_params(axis='y', colors='red')\n",
        "\n",
        "\t\t# Final Plot\n",
        "\t\tplt.show()"
      ]
    },
    {
      "cell_type": "markdown",
      "metadata": {
        "id": "gUaGFbbZ8WuC"
      },
      "source": [
        "### **4. SMART HOME ENVIRONMENT**\n",
        "\n",
        "This case study uses a Smart Home Environment similar to an OpenAI Gym-based environment, using the SmartHome class. This environment has a reset method to initialize the state and a step method to get the next state, reward, completion, and info. For details as explained below:\n",
        "\n",
        "*   The constructor initializes several initial attributes such as home battery level (home_battery_state), electric vehicle battery level (ev_battery_state), date and time (month, day, time), and episode length (max_step_hours). Then, it loads data tables and data processing in the ProcessedData class. It also defines action space (action_space) and observation space (observation_space) using the gym library.\n",
        "*   The reset method resets initial environmental conditions, including home and electric vehicle battery levels and date and time. Then, it returns the initial conditions in the form of normalized observations.\n",
        "*   The step method executes one simulation step based on a given action involving logic to manage energy (battery consumption, PV production, and grid charging) based on certain conditions. Besides, it calculates rewards based on energy expenditure and returns recent observations, awards, committed status, and additional information.\n",
        "*   The seed method provides a seed to initialize a random power generator.\n",
        "*   __load_data_tables method reads data from a CSV file (PV production, SG price, and H4 consumption), processes the data, and stores it in the processed_data object.\n",
        "*   __get_normalized_state method returns the most recent observation in normalized form."
      ]
    },
    {
      "cell_type": "code",
      "execution_count": 15,
      "metadata": {
        "id": "0ywxOcUN4NwQ"
      },
      "outputs": [],
      "source": [
        "class SmartHome:\n",
        "\n",
        "\tdef __init__(self):\n",
        "\t\t# Initial battery state\n",
        "\t\tself.home_battery_state = 0\n",
        "\t\tself.ev_battery_state = 0\n",
        "\n",
        "\t\t# Initial date and time\n",
        "\t\tself.month = 1\n",
        "\t\tself.day = 1\n",
        "\t\tself.time = 0\n",
        "\n",
        "\t\t# Initial episode length\n",
        "\t\tself.max_step_hours = 0\n",
        "\n",
        "\t\t# Load the data tables and data processing in the ProcessedData class\n",
        "\t\tself.processed_data = ProcessedData()\n",
        "\t\tself.__load_data_tables()\n",
        "\n",
        "\t\t# Define gym actions and env\n",
        "\t\tself.action_space = spaces.Discrete(5)     \t\t\t\t\t\t\t\t\t\t\t\t\t#Discret space of action\n",
        "\t\tlow = np.array([0 for _ in range(5)], dtype=np.float64)\n",
        "\t\thigh = np.array([1 for _ in range(5)], dtype=np.float64)\n",
        "\t\tself.observation_space = spaces.Box(low, high, dtype=np.float64)\t\t#Continuous space of observations (1/0)\n",
        "\n",
        "\n",
        "\t#####################\n",
        "\t#### GYM METHODS ####\n",
        "\t#####################\n",
        "\n",
        "\n",
        "\tdef reset(self):\n",
        "\t\t# Generate random home battery and ev battery level\n",
        "\t\tself.home_battery_state = np.random.rand() * Specifications.HOME_CAPACITY\n",
        "\t\tself.ev_battery_state = np.random.rand() * Specifications.EV_CAPACITY\n",
        "\n",
        "\t\t# Generate random datetime\n",
        "\t\tself.month = np.random.random_integers(1, 12)\n",
        "\t\tself.day = np.random.random_integers(1, Constant.MONTHS_LEN[self.month-1])\n",
        "\t\tself.time = np.random.random_integers(0, 23)\n",
        "\n",
        "\t\t# Reset environment parameters\n",
        "\t\tself.total_euros_spent = 0\n",
        "\n",
        "\t\t# Reset learning parameters\n",
        "\t\tself.max_step_hours = Constant.MAX_STEP_HOURS\n",
        "\n",
        "\t\treturn self.__get_normalized_state()\n",
        "\n",
        "\n",
        "\tdef step(self, action):\n",
        "\t\t# Define local variables\n",
        "\t\treward = 0\n",
        "\t\tdone = False\n",
        "\t\tcurrent_spent = 0\n",
        "\t\tinfo = {'use_ev_fail':0, 'charge_ev_fail':0}\n",
        "\n",
        "\t\t# Get processed data of the current datetime\n",
        "\t\tusers_demand = self.processed_data.get_H4_consumes(self.month, self.day, self.time)\n",
        "\t\tpv_potential = self.processed_data.get_PV_entry(self.month, self.day, self.time)\n",
        "\t\tsg_cost = self.processed_data.get_SG_prices(self.month, self.day, self.time)\n",
        "\n",
        "\t\t# Case 1: enough energy on the home battery, use it to meet the request\n",
        "\t\tif self.home_battery_state > users_demand: self.home_battery_state -= users_demand\n",
        "\n",
        "\t\t# Case 2: not enough energy on the home battery but enough from the PV\n",
        "\t\telif pv_potential > users_demand: pv_potential -= users_demand\n",
        "\n",
        "\t\t# Case 3: take the energy from the smart grid\n",
        "\t\telse: current_spent += (sg_cost * users_demand)\n",
        "\n",
        "\t\t# Perform Action\n",
        "\t\tif action == Actions.CHARGE_HOME_wPV:\n",
        "\t\t\tself.home_battery_state += pv_potential\n",
        "\t\tif action == Actions.CHARGE_HOME_wSG:\n",
        "\t\t\tself.home_battery_state += Specifications.MAX_CHARGE_FOR_HOUR\n",
        "\t\t\tcurrent_spent += (Specifications.MAX_CHARGE_FOR_HOUR * sg_cost)\n",
        "\t\tif action == Actions.CHARGE_EV_wPV:\n",
        "\t\t\tself.ev_battery_state += pv_potential\n",
        "\t\tif action == Actions.CHARGE_EV_wSG:\n",
        "\t\t\tself.ev_battery_state += Specifications.MAX_CHARGE_FOR_HOUR\n",
        "\t\t\tcurrent_spent += (Specifications.MAX_CHARGE_FOR_HOUR * sg_cost)\n",
        "\n",
        "\t\t# Fix Values with the max battery capacity\n",
        "\t\tself.home_battery_state = min(self.home_battery_state, Specifications.HOME_CAPACITY)\n",
        "\t\tself.ev_battery_state = min(self.ev_battery_state, Specifications.EV_CAPACITY)\n",
        "\n",
        "\t\t# Negative reward for euros spent\n",
        "\t\treward = -current_spent\n",
        "\t\t# Negative reward if the EV is not ready in the morning\n",
        "\t\tif self.time == 6 and self.ev_battery_state < Specifications.EV_DAILY_CONSUME:\n",
        "\t\t\treward -= 10\n",
        "\t\t\tinfo['use_ev_fail'] = 1\n",
        "\t\t# Negative reward if try to charge the car in the working times\n",
        "\t\tif self.time >= 6 and self.time <= 18 and (action == Actions.CHARGE_EV_wPV or action == Actions.CHARGE_EV_wSG):\n",
        "\t\t\treward -= 10\n",
        "\t\t\tinfo['charge_ev_fail'] = 1\n",
        "\n",
        "\t\t# Use the daily requirement of the EV at 6am\n",
        "\t\tif self.time == 6 and self.ev_battery_state >= Specifications.EV_DAILY_CONSUME: self.ev_battery_state -= Specifications.EV_DAILY_CONSUME\n",
        "\t\t# Compute the total cost of the episode\n",
        "\t\tself.total_euros_spent += current_spent\n",
        "\n",
        "\t\t# Increase datetime by 1 hour and fix day and month\n",
        "\t\tself.max_step_hours -= 1\n",
        "\t\tself.time += 1\n",
        "\t\tif self.time > 23:\n",
        "\t\t\tself.time = 0\n",
        "\t\t\tself.day += 1\n",
        "\t\tif self.day > Constant.MONTHS_LEN[self.month-1]:\n",
        "\t\t\tself.day = 1\n",
        "\t\t\tself.month += 1\n",
        "\t\tif self.month > 12:\n",
        "\t\t\tself.month = 1\n",
        "\t\t\tself.day = 1\n",
        "\t\t\tself.time = 0\n",
        "\n",
        "\t\t# Check Done state\n",
        "\t\tif self.max_step_hours <= 0: done = True\n",
        "\n",
        "\t\treturn self.__get_normalized_state(), reward, done, info\n",
        "\n",
        "\n",
        "\tdef seed(self, seed=None):\n",
        "\t\tself.np_random, seed = seeding.np_random(seed)\n",
        "\t\treturn [seed]\n",
        "\n",
        "\n",
        "\t#####################\n",
        "\t## PRIVATE METHODS ##\n",
        "\t#####################\n",
        "\n",
        "\n",
        "\tdef __load_data_tables(self):\n",
        "\t\tPV_production_df = pd.read_csv('data/PV.csv', sep=';')\n",
        "\t\tSG_prices_df = pd.read_csv('data/Prices.csv', sep=';')\n",
        "\t\tH4_consumes_df = pd.read_csv('data/H4.csv', sep=';')\n",
        "\n",
        "\t\tPV_production = PV_production_df['P_PV_'].apply(lambda x:  x.replace(',','.')  ).to_numpy( dtype=float )\n",
        "\t\tSG_prices = SG_prices_df['Price'].apply(lambda x:  x.replace(',','.')  ).to_numpy( dtype=float )\n",
        "\t\tH4_consumes = H4_consumes_df['Power'].apply(lambda x:  x.replace(',', '.')).to_numpy( dtype=float )\n",
        "\n",
        "\t\tfor el in PV_production:\n",
        "\t\t\tself.processed_data.add_PV_entry( el )\n",
        "\t\tfor el in SG_prices:\n",
        "\t\t\tself.processed_data.add_SG_prices( el / 1000 )\n",
        "\t\tfor i in range(0, H4_consumes.shape[0], 60):\n",
        "\t\t\tel = H4_consumes[i:i+60]\n",
        "\t\t\tself.processed_data.add_H4_consumes( sum(el) )\n",
        "\n",
        "\n",
        "\tdef __get_normalized_state(self):\n",
        "\t\tnorm_month = (self.month-1) / 11\n",
        "\t\tnorm_day = (self.day-1) / 31\n",
        "\t\tnorm_time = self.time / 23\n",
        "\t\tnorm_home_battery_state = self.home_battery_state / Specifications.HOME_CAPACITY\n",
        "\t\tnorm_ev_battery_state = self.ev_battery_state / Specifications.EV_CAPACITY\n",
        "\t\treturn np.array([norm_month, norm_day, norm_time, norm_home_battery_state, norm_ev_battery_state])\n",
        "\n"
      ]
    },
    {
      "cell_type": "markdown",
      "metadata": {
        "id": "DR6yJP1U9Gbj"
      },
      "source": [
        "### RL Algorithm : Deep Q Network"
      ]
    },
    {
      "cell_type": "markdown",
      "metadata": {
        "id": "FVTnc-Vk9S4A"
      },
      "source": [
        "### **5. DEEP Q NETWORK ALGORITHM**\n",
        "\n",
        "Using a TensorFlow agent, the DQN class implements the Deep Q-Network (DQN) algorithm in reinforcement learning. Let's see a brief explanation of each section of the code:\n",
        "\n",
        "__init__: Initialize the sets of the environment (env), hyperparameter variables, and neural network models (actor and actor_target) to implement the target network in the DQN algorithm.\n",
        "\n",
        "**Loop**: The primary method that describes the agent's learning cycle. In each episode, the agent performs steps in the environment, stores the experience in the replay buffer, and updates the neural network based on the experience.\n",
        "\n",
        "**_update_target**: Updates the weights of the target network using a long-term polynomial interpolation (polyak averaging) approach. The goal is to reduce target fluctuations.\n",
        "\n",
        "**get_action**: Takes action based on the epsilon-greedy policy. With exploration_rate probability, the agent will perform random actions; otherwise, it will choose the best action based on the actor model.\n",
        "\n",
        "**update_networks**: Update the actor model based on the experience stored in the replay buffer using the Q-learning method.\n",
        "\n",
        "**actor_objective_function_double**: Calculates the objective function (loss) for double DQN learning. Utilizes two networks (double network) to estimate the Q value and stabilize the learning.\n",
        "\n",
        "**get_actor_model**: Creates a neural network model for an actor with a simple architecture."
      ]
    },
    {
      "cell_type": "code",
      "execution_count": 14,
      "metadata": {
        "id": "mTwm_1Al9LLG"
      },
      "outputs": [],
      "source": [
        "\n",
        "class DQN:\n",
        "\tdef __init__(self, env, verbose):\n",
        "\t\tself.env = env\n",
        "\t\tself.verbose = verbose\n",
        "\n",
        "\t\tself.input_shape = self.env.observation_space.shape\n",
        "\t\tself.action_space = env.action_space.n\n",
        "\t\tself.actor = self.get_actor_model(self.input_shape, self.action_space)\n",
        "\t\tself.actor_target = self.get_actor_model(self.input_shape, self.action_space)\n",
        "\t\tself.actor_target.set_weights(self.actor.get_weights())\n",
        "\n",
        "\t\tself.optimizer = keras.optimizers.Adam()\n",
        "\t\tself.gamma = 0.95\n",
        "\t\tself.memory_size = 2000\n",
        "\t\tself.batch_size = 32\n",
        "\t\tself.exploration_rate = 1.0\n",
        "\t\tself.exploration_decay = 0.995\n",
        "\t\tself.tau = 0.005\n",
        "\n",
        "\t\tself.run_id = np.random.randint(0, 1000)\n",
        "\n",
        "\n",
        "\tdef loop( self, num_episodes=1000 ):\n",
        "\t\treward_list = []\n",
        "\t\tep_reward_mean = deque(maxlen=100)\n",
        "\t\treplay_buffer = deque(maxlen=self.memory_size)\n",
        "\n",
        "\t\tfor episode in range(num_episodes):\n",
        "\t\t\tstate = self.env.reset()\n",
        "\t\t\tep_reward = 0\n",
        "\n",
        "\t\t\twhile True:\n",
        "\t\t\t\taction = self.get_action(state)\n",
        "\t\t\t\tnew_state, reward, done, _ = self.env.step(action)\n",
        "\t\t\t\tep_reward += reward\n",
        "\n",
        "\t\t\t\treplay_buffer.append([state, action, reward, new_state, done])\n",
        "\t\t\t\tif done: break\n",
        "\t\t\t\tstate = new_state\n",
        "\n",
        "\t\t\t\tself.update_networks(replay_buffer)\n",
        "\t\t\t\tself._update_target(self.actor.variables, self.actor_target.variables, tau=self.tau)\n",
        "\n",
        "\t\t\tself.exploration_rate = self.exploration_rate * self.exploration_decay if self.exploration_rate > 0.05 else 0.05\n",
        "\t\t\tep_reward_mean.append(ep_reward)\n",
        "\t\t\treward_list.append(ep_reward)\n",
        "\t\t\tif self.verbose > 0:\n",
        "\t\t\t\tprint(f\"Episode: {episode:7.0f}, reward: {ep_reward:8.2f}, mean_last_100: {np.mean(ep_reward_mean):8.2f}, exploration: {self.exploration_rate:0.2f}\")\n",
        "\t\t\tif self.verbose > 1:\n",
        "\t\t\t\tnp.savetxt(f\"data/reward_DQN_{self.run_id}.txt\", reward_list)\n",
        "\n",
        "\n",
        "\tdef _update_target(self, weights, target_weights, tau):\n",
        "\t\tfor (a, b) in zip(target_weights, weights):\n",
        "\t\t\ta.assign(b * tau + a * (1 - tau))\n",
        "\n",
        "\n",
        "\tdef get_action(self, state):\n",
        "\t\tif np.random.random() < self.exploration_rate:\n",
        "\t\t\treturn np.random.choice(self.action_space)\n",
        "\t\treturn np.argmax(self.actor(state.reshape((1, -1))))\n",
        "\n",
        "\n",
        "\tdef update_networks(self, replay_buffer):\n",
        "\t\tsamples = np.array(random.sample(replay_buffer, min(len(replay_buffer), self.batch_size)), dtype=object)\n",
        "\t\twith tf.GradientTape() as tape:\n",
        "\t\t\tobjective_function = self.actor_objective_function_double(samples) #Compute loss with custom loss function\n",
        "\t\t\tgrads = tape.gradient(objective_function, self.actor.trainable_variables) #Compute gradients actor for network\n",
        "\t\t\tself.optimizer.apply_gradients( zip(grads, self.actor.trainable_variables) ) #Apply gradients to update network weights\n",
        "\n",
        "\n",
        "\tdef actor_objective_function_double(self, replay_buffer):\n",
        "\t\tstate = np.vstack(replay_buffer[:, 0])\n",
        "\t\taction = replay_buffer[:, 1]\n",
        "\t\treward = np.vstack(replay_buffer[:, 2])\n",
        "\t\tnew_state = np.vstack(replay_buffer[:, 3])\n",
        "\t\tdone = np.vstack(replay_buffer[:, 4])\n",
        "\n",
        "\t\tnext_state_action = np.argmax(self.actor(new_state), axis=1)\n",
        "\t\ttarget_mask = self.actor_target(new_state) * tf.one_hot(next_state_action, self.action_space)\n",
        "\t\ttarget_mask = tf.reduce_sum(target_mask, axis=1, keepdims=True)\n",
        "\n",
        "\t\ttarget_value = reward + (1 - done.astype(int)) * self.gamma * target_mask\n",
        "\t\tmask = self.actor(state) * tf.one_hot(action, self.action_space)\n",
        "\t\tprediction_value = tf.reduce_sum(mask, axis=1, keepdims=True)\n",
        "\n",
        "\t\tmse = tf.math.square(prediction_value - target_value)\n",
        "\t\treturn tf.math.reduce_mean(mse)\n",
        "\n",
        "\n",
        "\tdef get_actor_model(self, input_shape, output_size):\n",
        "\t\tinputs = keras.layers.Input(shape=input_shape)\n",
        "\t\thidden_0 = keras.layers.Dense(64, activation='relu')(inputs)\n",
        "\t\thidden_1 = keras.layers.Dense(64, activation='relu')(hidden_0)\n",
        "\t\toutputs = keras.layers.Dense(output_size, activation='linear')(hidden_1)\n",
        "\n",
        "\t\treturn keras.Model(inputs, outputs)\n"
      ]
    },
    {
      "cell_type": "markdown",
      "metadata": {
        "id": "ky1vw7W18cib"
      },
      "source": [
        "### 6. TRAINING AND TESTING THE AGENT"
      ]
    },
    {
      "cell_type": "markdown",
      "metadata": {
        "id": "I9FOxf2PAjp3"
      },
      "source": [
        "**6.1. TRAINING THE AGENT**\n",
        "\n",
        "Now, we will train the Deep Q-Network (DQN) in the SmartHome simulation environment.\n",
        "We should define the train_dqn function with two optional parameters: epoch, which defaults to 10, and save_model, which defaults to True. Then use the verbose=2 parameter indicates the level of verbosity or the extent to which output information should be displayed during the training process.\n",
        "This function trains the DQN on the SmartHome simulation environment for the specified number of episodes. If save_model is set to True, the resulting neural network model will be saved into an H5 file with the specified name format."
      ]
    },
    {
      "cell_type": "code",
      "execution_count": 10,
      "metadata": {
        "id": "4B_D2CpCmqwM"
      },
      "outputs": [],
      "source": [
        "def train_dqn( epoch=10, save_model=True ):\n",
        "\tenv = SmartHome()\n",
        "\talgo = DQN( env, verbose=2 )\n",
        "\talgo.loop( num_episodes=epoch )\n",
        "\tif save_model: algo.actor.save( f\"trained_models/neural_network_dqn_ep{epoch}.h5\" )\n"
      ]
    },
    {
      "cell_type": "markdown",
      "source": [
        "**Launch the Training**"
      ],
      "metadata": {
        "id": "xVHHhlZfut5B"
      }
    },
    {
      "cell_type": "code",
      "source": [
        "print('Starting training !')\n",
        "epoch = 800\n",
        "train_dqn(epoch=epoch, save_model=True )"
      ],
      "metadata": {
        "id": "YYWyIBSjuZVv"
      },
      "execution_count": null,
      "outputs": []
    },
    {
      "cell_type": "markdown",
      "metadata": {
        "id": "MeHNojfPAoiH"
      },
      "source": [
        "**6.2. TESTING THE AGENT**\n",
        "\n",
        "After training the agent, we can test the agent using this test_model function. It calculates several metrics and variables related to simulating activities in the SmartHome environment, such as:\n",
        "\n",
        "**monthly_total_list:** containing the total expenses for each month during the simulation.\n",
        "\n",
        "**use_ev_fail_total:** total number of days an electric vehicle (EV) did not charge enough.\n",
        "\n",
        "**hourly_home_battery:** average state of the battery at home for each hour.\n",
        "\n",
        "**hourly_ev_battery:** the average of electric vehicle (EV) batteries for each hour.\n",
        "\n",
        "**hourly_price:** average electricity price for each hour.\n",
        "\n",
        "**hourly_mean_charge_battery:** the average battery charge generated by the model for each hour.\n",
        "\n",
        "**hourly_mean_charge_pv:** Average battery charge from solar panels per hour.\n",
        "\n",
        "**hourly_demands:** Average electricity demand for each hour.\n",
        "\n",
        "This function effectively records and collects data regarding expenses, battery state, electricity prices, and other essential aspects of the simulation in the SmartHome environment. This data can then be used to analyze system performance, energy use efficiency, and the success rate of electric vehicles in undergoing a full year of simulation."
      ]
    },
    {
      "cell_type": "code",
      "execution_count": 11,
      "metadata": {
        "id": "lqXtAr7PARBW"
      },
      "outputs": [],
      "source": [
        "\n",
        "#Function that test a model\n",
        "def test_models( _get_action, network_name, debug=False ):\n",
        "\tenv = SmartHome()\n",
        "\tneural_network = tensorflow.keras.models.load_model( network_name, compile=False )\n",
        "\tstate = env.reset()\n",
        "\n",
        "\t# Set first day of the year\n",
        "\tenv.month = 1\n",
        "\tenv.day = 1\n",
        "\tenv.time = 0\n",
        "\tenv.ev_battery_state = 0\n",
        "\tenv.home_battery_state = 0\n",
        "\n",
        "\t# Cycle for the full year\n",
        "\tcurrent_total_spent = 0\n",
        "\tcurrent_month = 1\n",
        "\tmonthly_total_list = []\n",
        "\thourly_action_list = [[] for _ in range(24)]\n",
        "\thourly_home_battery_list = [[] for _ in range(24)]\n",
        "\thourly_ev_battery_list = [[] for _ in range(24)]\n",
        "\thourly_price_list = [[] for _ in range(24)]\n",
        "\thourly_pv_list = [[] for _ in range(24)]\n",
        "\n",
        "\thourly_demands = [[] for _ in range(24)]\t# emarche\n",
        "\n",
        "\tuse_ev_fail_total = 0\n",
        "\tcharge_ev_fail_total = 0\n",
        "\n",
        "\twhile True:\n",
        "\t\taction = _get_action( neural_network, state, env )\n",
        "\t\tstate, _, _, info = env.step( action )\n",
        "\t\tuse_ev_fail_total += info['use_ev_fail']\n",
        "\t\tcharge_ev_fail_total += info['charge_ev_fail']\n",
        "\n",
        "\t\thourly_action_list[ env.time ].append(action)\n",
        "\t\thourly_home_battery_list[ env.time ].append(env.home_battery_state)\n",
        "\t\thourly_ev_battery_list[ env.time ].append(env.ev_battery_state)\n",
        "\t\thourly_price_list[ env.time ].append(env.processed_data.get_SG_prices(env.month, env.day, env.time))\n",
        "\t\thourly_pv_list[ env.time ].append(env.processed_data.get_PV_entry(env.month, env.day, env.time))\n",
        "\n",
        "\t\thourly_demands[ env.time ].append(env.processed_data.get_H4_consumes(env.month, env.day, env.time))\t# emarche\n",
        "\n",
        "\t\tif env.month > current_month:\n",
        "\t\t\tmonthly_total_list.append( env.total_euros_spent - current_total_spent )\n",
        "\t\t\tcurrent_month = env.month\n",
        "\t\t\tcurrent_total_spent = env.total_euros_spent\n",
        "\n",
        "\t\tif ( env.month == 1 and env.day == 1 and env.time == 0 ):\n",
        "\t\t\tmonthly_total_list.append( env.total_euros_spent - current_total_spent )\n",
        "\t\t\tbreak\n",
        "\n",
        "\tif debug:\n",
        "\t\tprint( f\"This years spent: {env.total_euros_spent:6.2f} euros\" )\n",
        "\t\tprint( f\"Total days with not enough charge on the EV: {use_ev_fail_total}\" )\n",
        "\t\tprint( f\"Total try to charge while EV is away: {charge_ev_fail_total}\\n\" )\n",
        "\n",
        "\thourly_home_battery = [numpy.mean( total ) for total in hourly_home_battery_list]\n",
        "\thourly_ev_battery = [numpy.mean( total ) for total in hourly_ev_battery_list]\n",
        "\thourly_price = [numpy.mean( total ) for total in hourly_price_list]\n",
        "\thourly_pv = [numpy.mean( total ) for total in hourly_pv_list]\n",
        "\thourly_mean_charge_battery = []\n",
        "\thourly_mean_charge_pv = []\n",
        "\n",
        "\tfor idx, time in enumerate(hourly_action_list):\n",
        "\t\thourly_mean_charge_battery.append( time.count(2) / len(time) * 11 )\n",
        "\t\thourly_mean_charge_battery[-1] += ( time.count(4) / len(time) * 11 )\n",
        "\n",
        "\t\thourly_mean_charge_pv.append( time.count(1) / len(time) * hourly_pv[idx] )\n",
        "\t\thourly_mean_charge_pv[-1] += ( time.count(3) / len(time) * hourly_pv[idx] )\n",
        "\n",
        "\thourly_demands = [np.mean(total) for total in hourly_demands]\n",
        "\treturn monthly_total_list, use_ev_fail_total, hourly_home_battery, hourly_ev_battery, hourly_price, hourly_mean_charge_battery, hourly_mean_charge_pv, hourly_demands\n",
        "\n"
      ]
    },
    {
      "cell_type": "markdown",
      "metadata": {
        "id": "j2wg5b-gVwWM"
      },
      "source": [
        "We have two functions for getting action on testing agent, _get_action_dqn function is used to obtain actions based on the DQN algorithm. In contrast, the _get_action_random function obtains randomized actions, which may serve as a baseline or comparison in reinforcement learning experiments."
      ]
    },
    {
      "cell_type": "code",
      "execution_count": 16,
      "metadata": {
        "id": "ajG7TqJcAz_U"
      },
      "outputs": [],
      "source": [
        "#return action for DQN\n",
        "def _get_action_dqn( net, state, env ):\n",
        "\treturn numpy.argmax(net(state.reshape((1, -1))))\n",
        "\n",
        "#return action for random action which is the baseline\n",
        "def _get_action_random( net, state, env ):\n",
        "\treturn env.action_space.sample()\n"
      ]
    },
    {
      "cell_type": "markdown",
      "metadata": {
        "id": "IV_bf5qRBdjR"
      },
      "source": [
        "**Launch the testing**"
      ]
    },
    {
      "cell_type": "code",
      "execution_count": 19,
      "metadata": {
        "colab": {
          "base_uri": "https://localhost:8080/"
        },
        "id": "AWof_CWjBj58",
        "outputId": "fbb156d9-bad1-4ddf-efbc-7740c7f6e420"
      },
      "outputs": [
        {
          "output_type": "stream",
          "name": "stdout",
          "text": [
            "Starting testing !\n"
          ]
        },
        {
          "output_type": "stream",
          "name": "stderr",
          "text": [
            "<ipython-input-15-b0c38a6c1697>:38: DeprecationWarning: This function is deprecated. Please call randint(1, 12 + 1) instead\n",
            "  self.month = np.random.random_integers(1, 12)\n",
            "<ipython-input-15-b0c38a6c1697>:39: DeprecationWarning: This function is deprecated. Please call randint(1, 31 + 1) instead\n",
            "  self.day = np.random.random_integers(1, Constant.MONTHS_LEN[self.month-1])\n",
            "<ipython-input-15-b0c38a6c1697>:40: DeprecationWarning: This function is deprecated. Please call randint(0, 23 + 1) instead\n",
            "  self.time = np.random.random_integers(0, 23)\n"
          ]
        },
        {
          "output_type": "execute_result",
          "data": {
            "text/plain": [
              "([15.336537652606516,\n",
              "  10.513746053145603,\n",
              "  11.915207579187701,\n",
              "  10.998623724415133,\n",
              "  8.99015351436325,\n",
              "  10.27588507147781,\n",
              "  11.16765779179326,\n",
              "  12.631729666780885,\n",
              "  13.927086641797786,\n",
              "  16.853699459460515,\n",
              "  18.270650755905578,\n",
              "  19.013222313803823],\n",
              " 12,\n",
              " [1.8380697558477475,\n",
              "  1.7502803641514264,\n",
              "  1.6700797131812735,\n",
              "  1.5949156260662203,\n",
              "  1.5164360080773753,\n",
              "  1.419735213676232,\n",
              "  1.318942229930398,\n",
              "  1.0822847433490923,\n",
              "  0.8382201439301387,\n",
              "  0.6398180317091328,\n",
              "  0.4726936114430655,\n",
              "  0.3365946207222666,\n",
              "  0.2899969778090746,\n",
              "  0.3660686577180192,\n",
              "  0.5555484555845143,\n",
              "  0.872491225970561,\n",
              "  1.3300879747759997,\n",
              "  1.8484265256213794,\n",
              "  2.3994391488613536,\n",
              "  2.676739129730266,\n",
              "  2.4487774877729347,\n",
              "  2.273879708968929,\n",
              "  2.0908339852373157,\n",
              "  1.9403444095512046],\n",
              " [5.77209591377725,\n",
              "  5.768276290205772,\n",
              "  5.768276290205772,\n",
              "  5.768276290205772,\n",
              "  8.691563961438648,\n",
              "  9.505262591575635,\n",
              "  15.984714646370156,\n",
              "  5.346358481986594,\n",
              "  5.346358481986594,\n",
              "  5.346358481986594,\n",
              "  5.346358481986594,\n",
              "  5.346358481986594,\n",
              "  5.346358481986594,\n",
              "  5.346358481986594,\n",
              "  5.346358481986594,\n",
              "  5.346358481986594,\n",
              "  5.346358481986594,\n",
              "  5.346358481986594,\n",
              "  5.346358481986594,\n",
              "  5.346358481986594,\n",
              "  5.382177660068786,\n",
              "  5.561218755959197,\n",
              "  5.707361667201908,\n",
              "  5.763205502818346],\n",
              " [0.02176676712328767,\n",
              "  0.02076712328767123,\n",
              "  0.020646821917808218,\n",
              "  0.021775753424657533,\n",
              "  0.02525731506849315,\n",
              "  0.029944109589041097,\n",
              "  0.034098219178082194,\n",
              "  0.034090684931506854,\n",
              "  0.03277468493150685,\n",
              "  0.03177712328767123,\n",
              "  0.03021295890410959,\n",
              "  0.028285397260273973,\n",
              "  0.027278684931506852,\n",
              "  0.02764235616438356,\n",
              "  0.02887142465753425,\n",
              "  0.03199104109589041,\n",
              "  0.036843616438356167,\n",
              "  0.038324000000000004,\n",
              "  0.036384931506849315,\n",
              "  0.03264389041095891,\n",
              "  0.029800027397260273,\n",
              "  0.027333917808219182,\n",
              "  0.024447643835616442,\n",
              "  0.022935506849315064],\n",
              " [0.0,\n",
              "  0.0,\n",
              "  0.0,\n",
              "  0.0,\n",
              "  2.923287671232877,\n",
              "  0.8136986301369863,\n",
              "  6.479452054794521,\n",
              "  0.0,\n",
              "  0.0,\n",
              "  0.0,\n",
              "  0.0,\n",
              "  0.0,\n",
              "  0.0,\n",
              "  0.0,\n",
              "  0.0,\n",
              "  0.0,\n",
              "  0.0,\n",
              "  0.0,\n",
              "  0.0,\n",
              "  0.0,\n",
              "  0.0,\n",
              "  0.0,\n",
              "  0.0,\n",
              "  0.0],\n",
              " [0.0,\n",
              "  0.0,\n",
              "  0.0,\n",
              "  0.0,\n",
              "  0.0,\n",
              "  0.0,\n",
              "  0.0,\n",
              "  0.0,\n",
              "  0.0,\n",
              "  4.012760367798837e-05,\n",
              "  0.0050029498967911435,\n",
              "  0.04962155751548133,\n",
              "  0.15054705948583225,\n",
              "  0.29101314317883287,\n",
              "  0.44589528992306243,\n",
              "  0.5784905610808782,\n",
              "  0.6784718183524113,\n",
              "  0.6812317432914242,\n",
              "  0.686170313379621,\n",
              "  0.5755294126477764,\n",
              "  0.21662468755864137,\n",
              "  0.17130010883843122,\n",
              "  0.05666027397260273,\n",
              "  0.00889041095890411],\n",
              " [0.10866806793332863,\n",
              "  0.10588878848990689,\n",
              "  0.10437052588271185,\n",
              "  0.11310353184458287,\n",
              "  0.14468404600621346,\n",
              "  0.16483731266171903,\n",
              "  0.48507992774432823,\n",
              "  0.5664248871340402,\n",
              "  0.6257087243185014,\n",
              "  0.7770918499567134,\n",
              "  0.778576529833973,\n",
              "  0.5633735142318538,\n",
              "  0.5773972508327347,\n",
              "  0.7291978122709017,\n",
              "  0.6426954351537141,\n",
              "  0.3890126772880633,\n",
              "  0.2774077426796083,\n",
              "  0.3049213888013896,\n",
              "  0.6722795718150393,\n",
              "  0.8555087462256473,\n",
              "  0.5388233383116842,\n",
              "  0.3154225179685883,\n",
              "  0.18829219102867456,\n",
              "  0.11776507550261064])"
            ]
          },
          "metadata": {},
          "execution_count": 19
        }
      ],
      "source": [
        "print('Starting testing !')\n",
        "#testing on the saved model with action get_action_DQN\n",
        "test_models(_get_action_dqn, network_name=\"trained_models/neural_network_dqn_ep800.h5\", debug=False )"
      ]
    },
    {
      "cell_type": "markdown",
      "metadata": {
        "id": "9L993AhSCCSV"
      },
      "source": [
        "#### **7. PLOT THE GRAPH AND ANALYZING**\n",
        "\n",
        "**7.1. DATA COMPARATION GRAPH**\n",
        "\n",
        "First graph to visualize and analyze is the money spent for a year"
      ]
    },
    {
      "cell_type": "code",
      "execution_count": 20,
      "metadata": {
        "colab": {
          "base_uri": "https://localhost:8080/",
          "height": 744
        },
        "id": "hLgDcqTuCVul",
        "outputId": "bcaad020-a0c4-4d4e-929d-94908b198443"
      },
      "outputs": [
        {
          "output_type": "stream",
          "name": "stderr",
          "text": [
            "<ipython-input-15-b0c38a6c1697>:38: DeprecationWarning: This function is deprecated. Please call randint(1, 12 + 1) instead\n",
            "  self.month = np.random.random_integers(1, 12)\n",
            "<ipython-input-15-b0c38a6c1697>:39: DeprecationWarning: This function is deprecated. Please call randint(1, 31 + 1) instead\n",
            "  self.day = np.random.random_integers(1, Constant.MONTHS_LEN[self.month-1])\n",
            "<ipython-input-15-b0c38a6c1697>:40: DeprecationWarning: This function is deprecated. Please call randint(0, 23 + 1) instead\n",
            "  self.time = np.random.random_integers(0, 23)\n",
            "<ipython-input-15-b0c38a6c1697>:38: DeprecationWarning: This function is deprecated. Please call randint(1, 12 + 1) instead\n",
            "  self.month = np.random.random_integers(1, 12)\n",
            "<ipython-input-15-b0c38a6c1697>:39: DeprecationWarning: This function is deprecated. Please call randint(1, 30 + 1) instead\n",
            "  self.day = np.random.random_integers(1, Constant.MONTHS_LEN[self.month-1])\n",
            "<ipython-input-15-b0c38a6c1697>:40: DeprecationWarning: This function is deprecated. Please call randint(0, 23 + 1) instead\n",
            "  self.time = np.random.random_integers(0, 23)\n"
          ]
        },
        {
          "output_type": "display_data",
          "data": {
            "text/plain": [
              "<Figure size 640x480 with 1 Axes>"
            ],
            "image/png": "[encoded data removed]"
          },
          "metadata": {}
        }
      ],
      "source": [
        "%matplotlib inline\n",
        "histo_plotter = HistoPlotter()\n",
        "monthly_total_list_dqn, _, _, _, _, _, _, _ = test_models( _get_action_dqn, network_name=\"trained_models/neural_network_dqn_ep800.h5\" )\n",
        "monthly_total_list_random, _, _, _, _, _, _, _ = test_models( _get_action_random, network_name=\"trained_models/neural_network_dqn_ep800.h5\" )\n",
        "histo_plotter.trained_list = monthly_total_list_dqn\n",
        "histo_plotter.random_list = monthly_total_list_random\n",
        "histo_plotter.plot()"
      ]
    },
    {
      "cell_type": "markdown",
      "metadata": {
        "id": "_SBLddR-sCFv"
      },
      "source": [
        "In this visual representation, we juxtapose the performance of a random agent against a trained agent utilizing DNQ. Our agent demonstrated superior efficiency by reducing the expenditure on energy. However, this outcome invites scrutiny due to the fact that our reward function does not converge to zero, indicating potential issues with the utilization of the home or the electric vehicle (EV). While we managed to spend less than the random agent, it is noteworthy that there are instances when the EV cannot be utilized, introducing a nuanced aspect to the evaluation."
      ]
    },
    {
      "cell_type": "markdown",
      "metadata": {
        "id": "9JVZPLBLCI8l"
      },
      "source": [
        "**7.2. THE GRAPH OF BATTERY CHARGE**\n",
        "\n",
        "This time we will visualize and analyze the battery charge graph."
      ]
    },
    {
      "cell_type": "code",
      "execution_count": 21,
      "metadata": {
        "colab": {
          "base_uri": "https://localhost:8080/",
          "height": 573
        },
        "id": "NwymbZmFCcBw",
        "outputId": "7b8a971e-97fc-4530-86a7-17c5f4fe2473"
      },
      "outputs": [
        {
          "output_type": "stream",
          "name": "stderr",
          "text": [
            "<ipython-input-15-b0c38a6c1697>:38: DeprecationWarning: This function is deprecated. Please call randint(1, 12 + 1) instead\n",
            "  self.month = np.random.random_integers(1, 12)\n",
            "<ipython-input-15-b0c38a6c1697>:39: DeprecationWarning: This function is deprecated. Please call randint(1, 31 + 1) instead\n",
            "  self.day = np.random.random_integers(1, Constant.MONTHS_LEN[self.month-1])\n",
            "<ipython-input-15-b0c38a6c1697>:40: DeprecationWarning: This function is deprecated. Please call randint(0, 23 + 1) instead\n",
            "  self.time = np.random.random_integers(0, 23)\n"
          ]
        },
        {
          "output_type": "display_data",
          "data": {
            "text/plain": [
              "<Figure size 640x480 with 2 Axes>"
            ],
            "image/png": "[encoded data removed]"
          },
          "metadata": {}
        }
      ],
      "source": [
        "\n",
        "_, _, hourly_home_battery__dqn, hourly_ev_battery__dqn, hourly_price_dqn, hourly_charge_dqn_sg, hourly_charge_dqn_pv, _ = test_models( _get_action_dqn, network_name=\"trained_models/neural_network_dqn_ep800.h5\" )\n",
        "line_plotter = DoubleLinePlotter( hourly_home_battery__dqn, hourly_ev_battery__dqn, hourly_price_dqn, hourly_charge_dqn_sg, hourly_charge_dqn_pv )\n",
        "line_plotter.plot()\n"
      ]
    },
    {
      "cell_type": "markdown",
      "metadata": {
        "id": "W1OsJDddsCFv"
      },
      "source": [
        "In this graphical representation, the RL agent adopts a goal-oriented strategy. It gives priority to charging the battery using the photovoltaic source, sometimes in conjunction with the main source, during periods when electricity is less expensive. This approach is designed to prepare the battery for use during the more expensive time slots. As a result, all smart grid charging activities take place mainly during sunny periods.\n",
        "\n",
        "Throughout the day, the agent now focuses on the use of photovoltaic (PV) sources, adopting a cost-effective approach aimed at minimizing overall expenditure."
      ]
    },
    {
      "cell_type": "markdown",
      "metadata": {
        "id": "8-_1UMzMCLKP"
      },
      "source": [
        "**7.3. THE GRAPH OF REWARD FUNCTION**\n",
        "\n",
        "This graph will show the reward obtained for all episodes."
      ]
    },
    {
      "cell_type": "code",
      "execution_count": 23,
      "metadata": {
        "colab": {
          "base_uri": "https://localhost:8080/",
          "height": 537
        },
        "id": "OnmzcEFCCmIf",
        "outputId": "5dcc6097-0ba5-4185-98ee-eb8c9a2e06f4"
      },
      "outputs": [
        {
          "output_type": "stream",
          "name": "stderr",
          "text": [
            "/usr/local/lib/python3.10/dist-packages/ipykernel/ipkernel.py:283: DeprecationWarning: `should_run_async` will not call `transform_cell` automatically in the future. Please pass the result to `transformed_cell` argument and any exception that happen during thetransform in `preprocessing_exc_tuple` in IPython 7.17 and above.\n",
            "  and should_run_async(code)\n"
          ]
        },
        {
          "output_type": "display_data",
          "data": {
            "text/plain": [
              "<Figure size 640x480 with 1 Axes>"
            ],
            "image/png": "[encoded data removed]"
          },
          "metadata": {}
        }
      ],
      "source": [
        "plotter = LinePlotter(x_label=\"Episode\", y_label=\"Reward\", title=\"Reward Function\")\n",
        "plotter.load_array([ glob.glob(\"data/reward_DQN_*.txt\") ])\n",
        "plotter.process_data( rolling_window=100, starting_pointer=0 )\n",
        "plotter.render( labels=[\"DQN\"], colors=[\"r\"] )"
      ]
    },
    {
      "cell_type": "markdown",
      "source": [
        "The graph of the **reward function** in the DQN algorithm provides a fascinating picture of the evolution of the algorithm's performance over several episodes. This analysis includes 800 episodes and their associated reward values. The algorithm showed low performance in the initial episode with a reward below -1600. This happened because the agent was initially unable to understand the environment well or had not found the optimal policy.\n",
        "\n",
        "Furthermore, in episodes 50 to 100, there was a slight increase where the reward was in the -1500 to -1300 range. This increase may indicate that agents have started to learn better strategies and optimize policies. In episode 150, there was a big spike with rewards of 300 to -1000. This could indicate that the agent found a significant strategy and started to earn higher rewards. However, in episode 200, rewards were slightly increased in the -800 to -700 range. It may be due to some environmental challenges or fluctuations that require further adaptation. Finally, in episodes 250 and 300, there was an insignificant increase, with rewards slightly below -600 to less than -400. It shows that the algorithm is constantly learning and adapting to its environment.\n",
        "\n",
        "Overall, this graph analysis highlights the learning dynamics of the DQN algorithm as episodes progress. Despite slight fluctuations, the general trend shows increasing performance, providing a basis for further exploration of the factors that influence agent learning in specific environments."
      ],
      "metadata": {
        "id": "Q8KZ8bMsycW-"
      }
    },
    {
      "cell_type": "markdown",
      "metadata": {
        "id": "xx_zH5DaCOxl"
      },
      "source": [
        "**7.4. THE GRAPH OF CONSUMER DEMANDS**\n",
        "\n",
        "Next graph to show and analyze is consumer demands for House and battery charge."
      ]
    },
    {
      "cell_type": "code",
      "execution_count": 22,
      "metadata": {
        "colab": {
          "base_uri": "https://localhost:8080/",
          "height": 579
        },
        "id": "Pze4DObdCrSR",
        "outputId": "f042eef2-9456-40ac-c75c-cfc4fd6572fd"
      },
      "outputs": [
        {
          "output_type": "stream",
          "name": "stderr",
          "text": [
            "<ipython-input-15-b0c38a6c1697>:38: DeprecationWarning: This function is deprecated. Please call randint(1, 12 + 1) instead\n",
            "  self.month = np.random.random_integers(1, 12)\n",
            "<ipython-input-15-b0c38a6c1697>:39: DeprecationWarning: This function is deprecated. Please call randint(1, 31 + 1) instead\n",
            "  self.day = np.random.random_integers(1, Constant.MONTHS_LEN[self.month-1])\n",
            "<ipython-input-15-b0c38a6c1697>:40: DeprecationWarning: This function is deprecated. Please call randint(0, 23 + 1) instead\n",
            "  self.time = np.random.random_integers(0, 23)\n"
          ]
        },
        {
          "output_type": "display_data",
          "data": {
            "text/plain": [
              "<Figure size 640x480 with 2 Axes>"
            ],
            "image/png": "[encoded data removed]"
          },
          "metadata": {}
        }
      ],
      "source": [
        "\n",
        "_, _, hourly_home_battery__dqn, hourly_ev_battery__dqn, hourly_price_dqn, hourly_charge_dqn_sg, hourly_charge_dqn_pv, house_demands = test_models( _get_action_dqn, network_name=\"trained_models/neural_network_dqn_ep800.h5\" )\n",
        "\n",
        "line_plotter = DemandsPlotter(house_demands, hourly_charge_dqn_pv)\n",
        "line_plotter.plot()\n"
      ]
    },
    {
      "cell_type": "markdown",
      "metadata": {
        "id": "G2k42BX1CSWJ"
      },
      "source": [
        "**7.5. THE GRAPH OF ENERGY GENERATION**\n",
        "\n",
        "Last graph to show and analyze is energy generation for EV, PV and battery discharge."
      ]
    },
    {
      "cell_type": "code",
      "execution_count": 30,
      "metadata": {
        "colab": {
          "base_uri": "https://localhost:8080/",
          "height": 649
        },
        "id": "IxKdAY8C4RS2",
        "outputId": "ac6dd3f2-0ab7-4b3a-84a1-42a5ab76be31"
      },
      "outputs": [
        {
          "output_type": "stream",
          "name": "stderr",
          "text": [
            "<ipython-input-15-b0c38a6c1697>:38: DeprecationWarning: This function is deprecated. Please call randint(1, 12 + 1) instead\n",
            "  self.month = np.random.random_integers(1, 12)\n",
            "<ipython-input-15-b0c38a6c1697>:39: DeprecationWarning: This function is deprecated. Please call randint(1, 31 + 1) instead\n",
            "  self.day = np.random.random_integers(1, Constant.MONTHS_LEN[self.month-1])\n",
            "<ipython-input-15-b0c38a6c1697>:40: DeprecationWarning: This function is deprecated. Please call randint(0, 23 + 1) instead\n",
            "  self.time = np.random.random_integers(0, 23)\n"
          ]
        },
        {
          "output_type": "stream",
          "name": "stdout",
          "text": [
            "[1.7294016879144187, 1.6443915756615195, 1.5657091872985616, 1.4818120942216375, 1.3717519620711618, 1.254897901014513, 0.8338623021860696, 0.5158598562150521, 0.21251141961163722, -0.13727381824758067, -0.3058829183909075, -0.2267788935095872, -0.28740027302366017, -0.3631291545528825, -0.08714697956919981, 0.4834785486824976, 1.0526802320963915, 1.54350513681999, 1.7271595770463142, 1.8212303835046186, 1.9099541494612504, 1.9584571910003405, 1.9025417942086411, 1.8225793340485938]\n",
            "(24,)\n",
            "(24,)\n",
            "(24,)\n"
          ]
        },
        {
          "output_type": "display_data",
          "data": {
            "text/plain": [
              "<Figure size 640x480 with 2 Axes>"
            ],
            "image/png": "[encoded data removed]"
          },
          "metadata": {}
        }
      ],
      "source": [
        "\n",
        "_, _, hourly_home_battery__dqn, hourly_ev_battery__dqn, hourly_price_dqn, hourly_charge_dqn_sg, hourly_charge_dqn_pv, house_demands = test_models( _get_action_dqn, network_name=\"trained_models/neural_network_dqn_ep800.h5\" )\n",
        "\n",
        "for i in range(len(hourly_home_battery__dqn)):\n",
        "  hourly_home_battery__dqn[i] -=house_demands[i]\n",
        "  #hourly_home_battery__dqn[i] -= 50\n",
        "print(hourly_home_battery__dqn)\n",
        "print(np.array(hourly_home_battery__dqn).shape)\n",
        "print(np.array(hourly_charge_dqn_pv).shape)\n",
        "print(np.array(hourly_charge_dqn_sg).shape)\n",
        "line_plotter = GenerationPlotter(hourly_charge_dqn_pv, hourly_charge_dqn_sg, hourly_home_battery__dqn)\n",
        "line_plotter.plot()\n",
        "\n"
      ]
    },
    {
      "cell_type": "code",
      "execution_count": null,
      "metadata": {
        "colab": {
          "base_uri": "https://localhost:8080/"
        },
        "id": "T6dpF117ODKG",
        "outputId": "bf04ada5-3892-4da8-fd6a-9f22f49695ba"
      },
      "outputs": [
        {
          "output_type": "stream",
          "name": "stderr",
          "text": [
            "/usr/local/lib/python3.10/dist-packages/ipykernel/ipkernel.py:283: DeprecationWarning: `should_run_async` will not call `transform_cell` automatically in the future. Please pass the result to `transformed_cell` argument and any exception that happen during thetransform in `preprocessing_exc_tuple` in IPython 7.17 and above.\n",
            "  and should_run_async(code)\n"
          ]
        }
      ],
      "source": []
    },
    {
      "cell_type": "code",
      "source": [],
      "metadata": {
        "id": "1GL5K7IRxEn7"
      },
      "execution_count": null,
      "outputs": []
    },
    {
      "cell_type": "markdown",
      "source": [
        "The curve above represents energy Generation over a 24-hour period from various sources. **Between 11 p.m. and 3 a.m., the DQN agent chooses the battery as the power source** for the various house loads, as shown by the battery discharge on the curve.\n",
        "\n",
        " From 4 a.m. to 6 a.m., **the DQN agent decides to switch the house load to the Grid**, although the battery is still being used at 5 a.m. From 7 a.m. to 10 a.m., **the DQN agent calls on the battery again to meet energy demand, creating a deep discharge due to the increased demand during this morning period**, as shown on the previous curve showing consumer demands.\n",
        "\n",
        "At 11 a.m.,**the DQN agent compensates by calling on the photovoltaic source to meet the energy demand while recharging the battery**. The DQN agent maintains this strategy until 3 p.m., when a high battery charge level is observed, as shown in the previous energy generation curve. At 4 p.m., **the DQN agent balances the energy from the battery and the photovoltaic source to meet demand**. This is due to the agent's attempt to reduce the cost of consumption, as well as the degradation of the photovoltaic source's performance as a function of daily sunshine. **it maintains this mechanism progressivly from 5 p.m. to 11 p.m., when it switches the house load completely to the battery, and the cycle starts again**"
      ],
      "metadata": {
        "id": "v1-Ew2Byw43H"
      }
    },
    {
      "cell_type": "markdown",
      "source": [
        "With these simple steps, you now have a solid foundation for understanding the use of Deep Q-Network for Energy Management System. 💌\n",
        "\n",
        "Remember that learning is a journey, and each small step brings you closer to higher expertise. Keep practicing, and don't hesitate to explore further. Have a good study!\n",
        "\n",
        "**\"The learning process is an endless journey that requires patience and perseverance. Every challenge is an opportunity to grow, and every failure is a step towards success. Never give up hope because it is in the struggle that we find true wisdom.\"**"
      ],
      "metadata": {
        "id": "yjBBk_EJ0qOt"
      }
    }
  ],
  "metadata": {
    "colab": {
      "provenance": []
    },
    "kernelspec": {
      "display_name": "Python 3 (ipykernel)",
      "language": "python",
      "name": "python3"
    },
    "language_info": {
      "codemirror_mode": {
        "name": "ipython",
        "version": 3
      },
      "file_extension": ".py",
      "mimetype": "text/x-python",
      "name": "python",
      "nbconvert_exporter": "python",
      "pygments_lexer": "ipython3",
      "version": "3.7.5"
    }
  },
  "nbformat": 4,
  "nbformat_minor": 0
}