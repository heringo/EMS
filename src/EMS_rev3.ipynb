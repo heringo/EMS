{
  "cells": [
    {
      "cell_type": "markdown",
      "metadata": {
        "id": "tO8oNCeyvbtQ"
      },
      "source": [
        "# **Reinforcement Learning Project**\n",
        "# Deep reinforcement learning for energy management systems in a microgrid\n",
        "---\n",
        "---\n",
        "### Installing Dependencies"
      ]
    },
    {
      "cell_type": "code",
      "execution_count": null,
      "metadata": {},
      "outputs": [],
      "source": [
        "import matplotlib.pyplot as plt\n",
        "import numpy as np\n",
        "from collections import deque\n",
        "\n",
        "from gym import spaces\n",
        "from gym.utils import seeding\n",
        "import pandas as pd\n",
        "\n",
        "from tensorflow import keras\n",
        "import tensorflow as tf\n",
        "\n",
        "import sys, os; os; os.environ[\"TF_CPP_MIN_LOG_LEVEL\"] = \"2\" \n",
        "import tensorflow, numpy, glob\n",
        "import numpy as np"
      ]
    },
    {
      "cell_type": "markdown",
      "metadata": {
        "id": "VcRjXkE0mXmI"
      },
      "source": [
        "### Introduction\n",
        "\n",
        "Inadequate control over residential electrical energy usage can result in many adverse consequences, which extend beyond individual residences and have implications for the broader environmental and societal spheres. The negative effects may encompass environmental, economic, and social ramifications.\n",
        "\n",
        "Mismanagement of residential electrical energy consumption can result in escalated household energy expenses from an economic standpoint. It can cause financial strain and tension, particularly for low-income families, by straining household budgets. Moreover, it can potentially exacerbate energy poverty, a condition in which households cannot afford sufficient energy services, negatively affecting their overall well-being and quality of life (Boeri et al., 2020). Therefore, an energy management system becomes an urgent need.\n",
        "\n",
        "The question is, how can we optimize the use of household electrical energy intelligently and efficiently? We must utilize artificial intelligence in energy management, especially reinforcement learning, with a Deep Q-Network (DQN) approach. Reinforcement learning can study the interactions that occur in home energy use by understanding home occupants' habits and producing appropriate energy consumption policies.\n",
        "\n",
        "In this tutorial, we will explore practical steps using Python to build a DQN algorithm to determine appropriate household energy consumption actions. Through this approach, we seek efficient solutions to reduce electricity bills and contribute positively to overall electricity resource management. Let's start by understanding the environment and the steps necessary to achieve this goal."
      ]
    },
    {
      "cell_type": "markdown",
      "metadata": {
        "id": "DqQtQeTewnA3"
      },
      "source": [
        "**Microgrids**\n",
        "\n",
        "Microgrids – self-contained electrical grids that are capable of disconnecting from the main grid – hold potential in both tackling climate change mitigation via reducing CO\n",
        " emissions and adaptation by increasing infrastructure resiliency. Due to their distributed nature, microgrids are often idiosyncratic; as a result, control of these systems is nontrivial.\n",
        "\n",
        " While microgrid simulators exist, many are limited in scope and in the variety of microgrids they can simulate. We propose pymgrid, an open-source Python package to generate and simulate a large number of microgrids, and the first open-source tool that can generate more than 600 different microgrids. pymgrid abstracts most of the domain expertise, allowing users to focus on control algorithms.\n",
        "\n",
        " In particular, pymgrid is built to be a reinforcement learning (RL) platform, and includes the ability to model microgrids as Markov decision processes\n",
        " pymgrid also introduces two pre-computed list of microgrids, intended to allow for research reproducibility in the microgrid setting."
      ]
    },
    {
      "cell_type": "markdown",
      "metadata": {
        "id": "JrZebCqimXmJ"
      },
      "source": [
        "**The first step** is to extract the file named 'data.zip' and then extract the entire contents into the '/content/' directory, so that if there are files or folders in the zip, they will all be placed in the '/content/' directory."
      ]
    },
    {
      "cell_type": "code",
      "execution_count": null,
      "metadata": {
        "colab": {
          "base_uri": "https://localhost:8080/"
        },
        "id": "t2xPWzB9kAF3",
        "outputId": "e62edad2-e756-48e5-c0e0-1f860792b954"
      },
      "outputs": [
        {
          "name": "stdout",
          "output_type": "stream",
          "text": [
            "Cloning into 'HEM-DeepRL-v2'...\n",
            "remote: Enumerating objects: 50, done.\u001b[K\n",
            "remote: Counting objects: 100% (50/50), done.\u001b[K\n",
            "remote: Compressing objects: 100% (49/49), done.\u001b[K\n",
            "remote: Total 50 (delta 0), reused 45 (delta 0), pack-reused 0\u001b[K\n",
            "Receiving objects: 100% (50/50), 6.03 MiB | 17.39 MiB/s, done.\n"
          ]
        }
      ],
      "source": [
        "!git  clone --depth=1 git@github.com:heringo/EMS.git\n",
        "!mv /content/EMS/data/ /content/data\n",
        "!rm --r /content/EMS"
      ]
    },
    {
      "cell_type": "markdown",
      "metadata": {},
      "source": [
        "**MODELING THE PROBLEM : HOME ENERGY MANAGEMENT SYSTEM**\n",
        "\n",
        "To enhance realism, we address the Energy Management System (EMS) of a household. The problem involves two available power sources for the Reinforcement Learning (RL) agent:\n",
        "- Microgrid\n",
        "- Photovoltaic\n",
        "\n",
        "Utilizing these power sources, the RL agent can opt to charge two types of batteries:\n",
        "- House battery\n",
        "- Electric Vehicle (EV) battery\n",
        "\n",
        "Home constraints include:\n",
        "- Energy demand for the house varies based on the time of day.\n",
        "\n",
        "Electric Vehicle Constraints:\n",
        "- The EV cannot be charged between 7 am and 10 pm daily, reflecting the owner's consistent use throughout the day. (Negative Reward : -10 for charging during the day)\n",
        "- The EV must have a minimum charge of 11% daily to be operational. (Negative reward : -10 for not enough battery)\n",
        "\n",
        "Charging Constraints:\n",
        "- One hour of charging results in an 11% increase in battery charge. (Negative reward : -1 for each dollar)\n",
        "\n"
      ]
    },
    {
      "cell_type": "markdown",
      "metadata": {
        "id": "uMseuk_5xVoN"
      },
      "source": [
        "### Env : Smart Home\n"
      ]
    },
    {
      "cell_type": "markdown",
      "metadata": {
        "id": "ItrlQkMM8C0D"
      },
      "source": [
        "### Defining Constants\n",
        "\n",
        "Next, define three classes that store constants or specifications in a simulation or model.\n",
        "1. **Actions class:** provides constants representing various actions to be taken in a simulation. A numeric value, such as NO_ACTION, CHARGE_HOME_wPV, CHARGE_HOME_wSG, CHARGE_EV_wPV, and CHARGE_EV_wSG represent each action. For example, CHARGE_HOME_wPV can be interpreted as the action of charging at home using photovoltaic (PV).\n",
        "\n",
        "2. **Specifications class:** provides constants and specifications used in the simulation or model. Some of the constants include HOME_CAPACITY, which indicates the power capacity of the home, EV_CAPACITY which means the power capacity of the electric vehicle (EV), EV_DAILY_CONSUME which is the daily consumption of the EV, EV_CHARGE_WINDOW which indicates the EV charging time window, and MAX_CHARGE_FOR_HOUR which is the maximum limit of charging for an hour.\n",
        "\n",
        "3. **Constant class:** provides other constants used in the simulation. For example, MONTHS_LEN contains the number of days each month, and MAX_STEP_HOURS is the number of monthly hours. These constants can be used to set parameters and conditions in the simulation."
      ]
    },
    {
      "cell_type": "code",
      "execution_count": null,
      "metadata": {
        "id": "bhCVkUIb4VyV"
      },
      "outputs": [],
      "source": [
        "#Constant that indicates which actions is taken\n",
        "class Actions:\n",
        "\tNO_ACTION = 0\n",
        "\tCHARGE_HOME_wPV = 1         #Charging Home with Photovoltaic\n",
        "\tCHARGE_HOME_wSG = 2         #Charging Home with SmartGrid\n",
        "\n",
        "\tCHARGE_EV_wPV = 3           #Charging EV with Photovoltaic\n",
        "\tCHARGE_EV_wSG = 4           #Charging EV with SmartGrid\n",
        "\n",
        "class Specifications:\n",
        "\tHOME_CAPACITY = 100\n",
        "\tEV_CAPACITY = 100\n",
        "\tEV_DAILY_CONSUME = 11\n",
        "\tEV_CHARGE_WINDOW = [18, 6]      #Charging when the EV is at home and not use\n",
        "\tMAX_CHARGE_FOR_HOUR = 11\n",
        "\n",
        "class Constant:\n",
        "\tMONTHS_LEN = [31, 28, 31, 30, 31, 30, 31, 31, 30, 31, 30, 31]\n",
        "\tMAX_STEP_HOURS = 24 * 30\n"
      ]
    },
    {
      "cell_type": "markdown",
      "metadata": {
        "id": "vgs184d98NBl"
      },
      "source": [
        "### Class to preprocess PV entry, SG prices and H4 consumes\n",
        "\n",
        "The ProcessedData class below is for managing data related to photovoltaic production, SmartGrid electricity prices, and household consumption/needs at specified time intervals. Here is an explanation for each part of this class:\n",
        "\n",
        "**Class Attributes:**\n",
        "PV_production: A list attribute used to store photovoltaic production data.\n",
        "SG_prices: A list attribute used to store SmartGrid electricity price data.\n",
        "H4_consumes: A list attribute used to store consumption or household needs data.\n",
        "\n",
        "**Class Methods:**\n",
        "__init__(self): Initialization method (constructor) that is called when a class object is created. This method initializes the PV_production, SG_price, and H4_usage list attributes as an empty list.\n",
        "\n",
        "add_PV(self, el): Method for adding elements to the PV_production list.\n",
        "add_SG(self, el): Method for adding elements to the SG_price list.\n",
        "add_H4(self, el): Method for adding elements to the usage_H4 list.\n",
        "\n",
        "get_PV(self, month, day, hour): Method for getting photovoltaic production values for a specific month, day and hour.\n",
        "get_SG(self, month, day, hour): Method for getting SmartGrid electricity price values for a specific month, day and hour.\n",
        "get_H4_consumes(self, month, day, hour): Method for getting consumption values/household needs for a certain month, day and hour.\n",
        "\n",
        "The get_PV, get_SG, and get_H4_consumes methods take month, day, and hour parameters to calculate the appropriate index in the data list based on a specific date and time. The formula used to calculate the index involves the total number of hours before a specific date and time. In this context, we assume that Constant.Month_length contains the number of days in each month, so sum(Constant.Month_length[:month-1]) can provide the total number of days of the previous months. So, this formula is used to calculate the appropriate index in the data list for a certain date and time."
      ]
    },
    {
      "cell_type": "code",
      "execution_count": null,
      "metadata": {
        "id": "DfyWZyFx7RnK"
      },
      "outputs": [],
      "source": [
        "class ProcessedData:\n",
        "\tdef __init__(self):\n",
        "\t\tself.PV_production = []                       #Production of Photovoltaic\n",
        "\t\tself.SG_prices = []                           #Price of SmartGrid Electricity\n",
        "\t\tself.H4_consumes = []                         #The consumption/need of the home\n",
        "\n",
        "\t# Methods to add the elements in the specific arrays\n",
        "\tdef add_PV_entry(self, el): self.PV_production.append( el )\n",
        "\tdef add_SG_prices(self, el): self.SG_prices.append( el )\n",
        "\tdef add_H4_consumes(self, el): self.H4_consumes.append( el )\n",
        "\n",
        "\t# Get Methods (given month and time return the value)\n",
        "  # To get the element it converts every day in hours\n",
        "\tdef get_PV_entry(self, month, day, day_time): return self.PV_production[ (sum(Constant.MONTHS_LEN[:month-1]) + day - 1) * 24  + day_time ]\n",
        "\tdef get_SG_prices(self, month, day, day_time): return self.SG_prices[ (sum(Constant.MONTHS_LEN[:month-1]) + day - 1) * 24  + day_time ]\n",
        "\tdef get_H4_consumes(self, month, day, day_time): return self.H4_consumes[ (sum(Constant.MONTHS_LEN[:month-1]) + day - 1) * 24  + day_time ]"
      ]
    },
    {
      "cell_type": "markdown",
      "metadata": {
        "id": "N92Qs24c8y1Q"
      },
      "source": [
        "### Function for plotting\n",
        "\n",
        "The LinePlotter class creates and renders line plots with several additional features. The following is an explanation for each part of the class:\n",
        "\n",
        "**Constructor (__init__)**:\n",
        "Initializes the object with an x-axis label (x_label), y-axis label (y_label), and plot title (title).\n",
        "Create a subplot object using plt.subplot(1).\n",
        "It hides the top and right edges of the plot.\n",
        "Sets the background color of the plot.\n",
        "Adds a grid to the plot with white lines.\n",
        "Set the font size for the x and y axes, axis labels, and titles.\n",
        "\n",
        "**load_array**:\n",
        "Loads some array of data from the given files.\n",
        "Sets the array's length (shortest of all arrays) as array_len.\n",
        "Store data arrays as data_arrays.\n",
        "\n",
        "**render**:\n",
        "Render a line plot with the mean, maximum value, and minimum value of each data array.\n",
        "Use fill_between to display the area between the maximum and minimum values.\n",
        "A legend was added at the bottom right of the plot.\n",
        "Displays plots.\n",
        "\n",
        "**process_data**:\n",
        "Processing data, including calculating the rolling mean, standard deviation, maximum, and minimum values.\n",
        "Using a rolling window to calculate the rolling mean.\n",
        "Determines the x-axis (x_axes) based on the length of the data array.\n",
        "Stores each data array's average value, standard deviation, maximum value, and minimum value.\n",
        "\n",
        "**Variables**\n",
        "\n",
        "fig and ax: Variables that store subplot objects.\n",
        "data_arrays: Multidimensional arrays that store data.\n",
        "array_len: Length of the data array.\n",
        "mean_array, var_array, max_array, min_array: Arrays that store the mean, standard deviation, maximum value, and minimum value.\n",
        "x_axes: Variable that stores the x-axis for the plot."
      ]
    },
    {
      "cell_type": "code",
      "execution_count": null,
      "metadata": {
        "id": "v8H9RN2EmXmN"
      },
      "outputs": [],
      "source": [
        "class LinePlotter:\n",
        "\n",
        "\tdef __init__(self, x_label=\"X Label\", y_label=\"Y Label\", title=\"No Title\"):\n",
        "\t\tself.fig, self.ax = plt.subplots(1)\n",
        "\t\tself.ax.spines[\"top\"].set_visible(False)\n",
        "\t\tself.ax.spines[\"bottom\"].set_visible(False)\n",
        "\t\tself.ax.spines[\"right\"].set_visible(False)\n",
        "\t\tself.ax.spines[\"left\"].set_visible(False)\n",
        "\t\tself.ax.set_facecolor('#eaeaf2')\n",
        "\t\tplt.grid(color='#ffffff', linestyle='-', linewidth=1)\n",
        "\t\tplt.xticks(fontsize=12)\n",
        "\t\tplt.yticks(fontsize=12)\n",
        "\t\tplt.xlabel(x_label, fontsize=12)\n",
        "\t\tplt.ylabel(y_label, fontsize=12)\n",
        "\t\tplt.title(title, fontsize=16)\n",
        "\t\tself.data_arrays = []\n",
        "\t\tself.array_len = -1\n",
        "\t\tself.mean_array = []\n",
        "\t\tself.var_array =  []\n",
        "\t\tself.max_array = []\n",
        "\t\tself.min_array = []\n",
        "\n",
        "\tdef load_array(self, file_name_arrays, early_stop=None):\n",
        "\t\tdata_arrays = [[np.loadtxt(name, delimiter=' ', unpack=True) for name in array_set] for array_set in file_name_arrays]\n",
        "\t\tif(early_stop == None): self.array_len = min([min([len(el) for el in array_set]) for array_set in data_arrays])\n",
        "\t\telse: self.array_len = early_stop\n",
        "\t\tself.data_arrays = np.array([[el[:self.array_len] for el in array_set] for array_set in data_arrays], dtype=object)\n",
        "\n",
        "\tdef render(self, labels, colors):\n",
        "\t\terr_msg = \"load some data before the render!\"\n",
        "\t\tassert self.array_len > 0, err_msg\n",
        "\t\tfor mean_values, max_values, min_values, label, color in zip(self.mean_array, self.max_array, self.min_array, labels, colors):\n",
        "\t\t\tself.ax.plot(self.x_axes, mean_values, label=label, color=color, linestyle='-', linewidth=1.2 )\n",
        "\t\t\tself.ax.fill_between(self.x_axes, max_values, min_values, facecolor=color, alpha=0.3)\n",
        "\t\tself.ax.legend(loc='lower right', bbox_to_anchor=(1, 0), fontsize=14)\n",
        "\t\tplt.show()\n",
        "\n",
        "\tdef process_data(self, rolling_window=1, starting_pointer=0, early_stop=None):\n",
        "\t\trolling_queue = deque(maxlen=rolling_window)\n",
        "\t\tself.x_axes = [i for i in range(self.array_len-starting_pointer)]\n",
        "\t\tfor array_set in self.data_arrays:\n",
        "\t\t\tfor array in array_set:\n",
        "\t\t\t\tfor i in range(self.array_len):\n",
        "\t\t\t\t\trolling_queue.append(array[i])\n",
        "\t\t\t\t\tarray[i] = np.mean(rolling_queue)\n",
        "\t\t\t\trolling_queue.clear()\n",
        "\t\t# Fix for different array size\n",
        "\t\tself.data_arrays = np.array([np.array(el) for el in self.data_arrays], dtype=object)\n",
        "\t\tself.mean_array = np.array([[np.mean(array_set[:, i]) for i in range(self.array_len)][starting_pointer:] for array_set in self.data_arrays])\n",
        "\t\tself.var_array =  np.array([[np.std(array_set[:, i]) for i in range(self.array_len)][starting_pointer:] for array_set in self.data_arrays])\n",
        "\t\tself.max_array = [[np.max(array_set[:, i]) for i in range(self.array_len)][starting_pointer:] for array_set in self.data_arrays]\n",
        "\t\tself.min_array = [[np.min(array_set[:, i]) for i in range(self.array_len)][starting_pointer:] for array_set in self.data_arrays]\n"
      ]
    },
    {
      "cell_type": "markdown",
      "metadata": {
        "id": "FNPLZepvJjOS"
      },
      "source": [
        "HistoPlotter class to display histograms based on two data sets, trained_list and random_list, to visually represent how these data sets differ or align. The class constructor (__init__) is used to initialize the class objects, with two attributes (trained_list and random_list) which are initialized as empty lists. They will be used to store data that will be plotted in a histogram. The plot method creates and displays a histogram plot that compares two data sets (trained_list and random_list) for individual months (\"January\" to \"December\") with the following functionality:\n",
        "*   Create an image (fig) and a subplot (ax) using Matplotlib.\n",
        "*   Count the number of elements in the trained_list and create an index array (indices) using NumPy.\n",
        "*   Create two histogram bars (rects1 and rects2) using data from trained_list and random_list.\n",
        "*   Use prepared data to set several properties on the plot, such as axis labels and title.\n",
        "\n",
        "\n"
      ]
    },
    {
      "cell_type": "code",
      "execution_count": null,
      "metadata": {
        "id": "ub2dNW8RFKM2"
      },
      "outputs": [],
      "source": [
        "class HistoPlotter():\n",
        "\n",
        "\tdef __init__(self):\n",
        "\t\tself.trained_list = []\n",
        "\t\tself.random_list = []\n",
        "\n",
        "\tdef plot( self ):\n",
        "\t\tfig = plt.figure()\n",
        "\t\tax = fig.add_subplot(111)\n",
        "\t\tN = len(self.trained_list)\n",
        "\t\tind = np.arange(N)\n",
        "\t\twidth = 0.35\n",
        "\t\trects1 = ax.bar(ind, self.trained_list, width,\n",
        "\t\t\t\t\t\tcolor='black',\n",
        "\t\t\t\t\t\terror_kw=dict(elinewidth=2,ecolor='Red'))\n",
        "\t\trects2 = ax.bar(ind+width, self.random_list, width,\n",
        "\t\t\t\t\t\t\tcolor='red',\n",
        "\t\t\t\t\t\t\terror_kw=dict(elinewidth=2,ecolor='Blue'))\n",
        "\t\tax.set_xlim(-width,len(ind)+width)\n",
        "\t\tax.set_ylabel('Money Spent (euros)', fontsize=12)\n",
        "\t\tax.set_title('Smart Home')\n",
        "\t\txTickMarks = ['January', 'February', 'March', 'April', 'May', 'June', 'July', 'August', 'September', 'October', 'November', 'December']\n",
        "\t\tax.set_xticks(ind+width)\n",
        "\t\txtickNames = ax.set_xticklabels(xTickMarks)\n",
        "\t\tplt.setp(xtickNames, rotation=45, fontsize=12)\n",
        "\t\tax.legend( (rects1[0], rects2[0]), (f\"Trained Network (total={sum(self.trained_list):6.2f})\", f\"Random Actions (total={sum(self.random_list):6.2f})\"), fontsize=14 )\n",
        "\t\tplt.show()"
      ]
    },
    {
      "cell_type": "markdown",
      "metadata": {
        "id": "1vTTjqktLxw0"
      },
      "source": [
        "The DoubleLinePlotter class creates plots with two y-axes that share the x-axes. The first y-axis describes the battery consumption from Solar Grid (SG) and Photovoltaic (PV) resources, while the second y-axis describes the energy prices. Explanations of all parts of this class are:\n",
        "\n",
        "\n",
        "*   The constructor initializes the objects with some default parameters that are given and initialized as object attributes, including battery level (battery_level), electric vehicle level (ev_level), energy price (price), hourly cost of SG (hourly_charge_sg), and hourly cost of PV (hourly_charge_pv).\n",
        "*   The plot method creates and displays plots with two y axes. The subplot (ab) and twin axes (ab.twinx()) objects represent two y-axes that share the x-axis to provide additional space for the legend.\n",
        "\n"
      ]
    },
    {
      "cell_type": "code",
      "execution_count": null,
      "metadata": {
        "id": "GnFFUATVFRF7"
      },
      "outputs": [],
      "source": [
        "class DoubleLinePlotter():\n",
        "\n",
        "\tdef __init__(self, battery_level=[10, 20, 30], ev_level= [0, 0, 0], price=[30, 20, 10], hourly_charge_sg=[0, 0, 0], hourly_charge_pv=[0, 0, 0] ):\n",
        "\t\tself.battery_level = battery_level\n",
        "\t\tself.ev_level = ev_level\n",
        "\t\tself.charge_sg = hourly_charge_sg\n",
        "\t\tself.charge_pv = hourly_charge_pv\n",
        "\t\tself.price = price\n",
        "\n",
        "\tdef plot( self ):\n",
        "\t\tfig, ax = plt.subplots()\n",
        "\t\taxes = [ax, ax.twinx()]\n",
        "\t\tfig.subplots_adjust(right=0.86)\n",
        "\t\tax.set_xlabel('Time (h)')\n",
        "\n",
        "\t\t# Plot on Axis 1: Battery consupmtion\n",
        "\t\tX = [str(i) for i in range(24)]\n",
        "\t\taxes[0].bar(X, self.charge_sg, color='green', label=\"from SG\")\n",
        "\t\taxes[0].bar(X, self.charge_pv, color='blue', label=\"from PV\")\n",
        "\t\taxes[0].set_ylabel(\"Charge (kWh)\", color='black')\n",
        "\t\taxes[0].tick_params(axis='y', colors='black')\n",
        "\t\taxes[0].legend(loc='upper right', fontsize=14)\n",
        "\n",
        "\t\t# Plot on Axis 2: Price\n",
        "\t\taxes[1].plot(self.price, linestyle='-', color='red', linewidth=1.2)\n",
        "\t\taxes[1].set_ylabel('Price (kWh)', color='red')\n",
        "\t\taxes[1].tick_params(axis='y', colors='red')\n",
        "\n",
        "\t\t# Final Plot\n",
        "\t\tplt.show()"
      ]
    },
    {
      "cell_type": "markdown",
      "metadata": {
        "id": "RBnOLauumXmN"
      },
      "source": [
        "The GenerationPlotter class visualizes energy generation, such as battery charge, production from solar panels (PV), and electric grid (Grid) consumption. This class consists of a constructor and a plot method. The constructor initializes three parameters (pv, network, and battery_content) that are used to store data related to energy generation. Furthermore, a plot method that visualizes battery consumption, production from solar panels (PV), and consumption from the electricity grid (Grid) for each hour of a period."
      ]
    },
    {
      "cell_type": "code",
      "execution_count": null,
      "metadata": {
        "id": "GIKJ4G7PFVRD"
      },
      "outputs": [],
      "source": [
        "class GenerationPlotter():\n",
        "\n",
        "\tdef __init__(self, pv, grid, battery_charge):\n",
        "\t\tself.pv = pv\n",
        "\t\tself.grid = grid\n",
        "\t\tself.battery_charge = battery_charge\n",
        "\n",
        "\tdef plot( self ):\n",
        "\t\tfig, ax = plt.subplots()\n",
        "\t\taxes = [ax, ax.twinx()]\n",
        "\t\tfig.subplots_adjust(right=0.86)\n",
        "\t\tax.set_xlabel('Time (h)')\n",
        "\n",
        "\t\t# Plot on Axis 1: Battery consupmtion\n",
        "\t\tX = [str(i) for i in range(24)]\n",
        "\t\taxes[0].bar(X, self.battery_charge, color='blue', label=\"Battery Discharge\")\n",
        "\t\taxes[0].bar(X, self.pv, color='red', label=\"PV\")\n",
        "\t\taxes[0].bar(X, self.grid, color='green', label=\"Grid\")\n",
        "\t\taxes[0].set_ylabel(\"Energy (kWh)\", color='black')\n",
        "\t\taxes[0].tick_params(axis='y', colors='black')\n",
        "\t\taxes[0].legend(loc='upper right', fontsize=14)\n",
        "\n",
        "\t\t# Plot on Axis 2: Price\n",
        "\t\t#axes[1].plot(self.price, linestyle='-', color='red', linewidth=1.2)\n",
        "\t\t#axes[1].set_ylabel('Price (kWh)', color='red')\n",
        "\t\t#axes[1].tick_params(axis='y', colors='red')\n",
        "\n",
        "\t\t# Final Plot\n",
        "\t\tplt.show()"
      ]
    },
    {
      "cell_type": "markdown",
      "metadata": {
        "id": "EL06M6uGlq0-"
      },
      "source": [
        "The DemandsPlotter class creates and displays plots that visualize home energy demand and battery charge for each hour of a period."
      ]
    },
    {
      "cell_type": "code",
      "execution_count": null,
      "metadata": {
        "id": "ThfAjg9q8mL-"
      },
      "outputs": [],
      "source": [
        "class DemandsPlotter():\n",
        "\n",
        "\tdef __init__(self, house_demands, battery_charge):\n",
        "\t\tself.house_demands = house_demands\n",
        "\t\tself.battery_charge = battery_charge\n",
        "\n",
        "\tdef plot( self ):\n",
        "\t\tfig, ax = plt.subplots()\n",
        "\t\taxes = [ax, ax.twinx()]\n",
        "\t\tfig.subplots_adjust(right=0.86)\n",
        "\t\tax.set_xlabel('Time (h)')\n",
        "\n",
        "\t\t# Plot on Axis 1: Battery consupmtion\n",
        "\t\tX = [str(i) for i in range(24)]\n",
        "\t\taxes[0].bar(X, self.battery_charge, color='green', label=\"Battery Charge\")\n",
        "\t\taxes[0].bar(X, self.house_demands, color='blue', label=\"House Demands\")\n",
        "\t\taxes[0].set_ylabel(\"Energy (kWh)\", color='black')\n",
        "\t\taxes[0].tick_params(axis='y', colors='black')\n",
        "\t\taxes[0].legend(loc='upper right', fontsize=14)\n",
        "\n",
        "\t\t# Plot on Axis 2: Price\n",
        "\t\t#axes[1].plot(self.price, linestyle='-', color='red', linewidth=1.2)\n",
        "\t\t#axes[1].set_ylabel('Price (kWh)', color='red')\n",
        "\t\t#axes[1].tick_params(axis='y', colors='red')\n",
        "\n",
        "\t\t# Final Plot\n",
        "\t\tplt.show()"
      ]
    },
    {
      "cell_type": "markdown",
      "metadata": {
        "id": "gUaGFbbZ8WuC"
      },
      "source": [
        "### Env : Smart Home\n",
        "\n",
        "The SmartHome class aims to learn an OpenAI Gym-based environment.\n",
        "\n",
        "*   The constructor initializes several initial attributes such as home battery level (home_battery_state), electric vehicle battery level (ev_battery_state), date and time (month, day, time), and episode length (max_step_hours). Then, it loads data tables and data processing in the ProcessedData class. It also defines action space (action_space) and observation space (observation_space) using the gym library.\n",
        "*   The reset method resets initial environmental conditions, including home and electric vehicle battery levels and date and time. Then, it returns the initial conditions in the form of normalized observations.\n",
        "*   The step method executes one simulation step based on a given action involving logic to manage energy (battery consumption, PV production, and grid charging) based on certain conditions. Besides, it calculates rewards based on energy expenditure and returns recent observations, awards, committed status, and additional information.\n",
        "*   The seed method provides a seed to initialize a random power generator.\n",
        "*   __load_data_tables method reads data from a CSV file (PV production, SG price, and H4 consumption), processes the data, and stores it in the processed_data object.\n",
        "*   __get_normalized_state method returns the most recent observation in normalized form."
      ]
    },
    {
      "cell_type": "code",
      "execution_count": null,
      "metadata": {
        "id": "0ywxOcUN4NwQ"
      },
      "outputs": [],
      "source": [
        "class SmartHome:\n",
        "\n",
        "\tdef __init__(self):\n",
        "\t\t# Initial battery state\n",
        "\t\tself.home_battery_state = 0\n",
        "\t\tself.ev_battery_state = 0\n",
        "\n",
        "\t\t# Initial date and time\n",
        "\t\tself.month = 1\n",
        "\t\tself.day = 1\n",
        "\t\tself.time = 0\n",
        "\n",
        "\t\t# Initial episode length\n",
        "\t\tself.max_step_hours = 0\n",
        "\n",
        "\t\t# Load the data tables and data processing in the ProcessedData class\n",
        "\t\tself.processed_data = ProcessedData()\n",
        "\t\tself.__load_data_tables()\n",
        "\n",
        "\t\t# Define gym actions and env\n",
        "\t\tself.action_space = spaces.Discrete(5)     \t\t\t\t\t\t\t\t\t\t\t\t\t#Discret space of action\n",
        "\t\tlow = np.array([0 for _ in range(5)], dtype=np.float64)\n",
        "\t\thigh = np.array([1 for _ in range(5)], dtype=np.float64)\n",
        "\t\tself.observation_space = spaces.Box(low, high, dtype=np.float64)\t\t#Continuous space of observations (1/0)\n",
        "\n",
        "\n",
        "\t#####################\n",
        "\t#### GYM METHODS ####\n",
        "\t#####################\n",
        "\n",
        "\n",
        "\tdef reset(self):\n",
        "\t\t# Generate random home battery and ev battery level\n",
        "\t\tself.home_battery_state = np.random.rand() * Specifications.HOME_CAPACITY\n",
        "\t\tself.ev_battery_state = np.random.rand() * Specifications.EV_CAPACITY\n",
        "\n",
        "\t\t# Generate random datetime\n",
        "\t\tself.month = np.random.random_integers(1, 12)\n",
        "\t\tself.day = np.random.random_integers(1, Constant.MONTHS_LEN[self.month-1])\n",
        "\t\tself.time = np.random.random_integers(0, 23)\n",
        "\n",
        "\t\t# Reset environment parameters\n",
        "\t\tself.total_euros_spent = 0\n",
        "\n",
        "\t\t# Reset learning parameters\n",
        "\t\tself.max_step_hours = Constant.MAX_STEP_HOURS\n",
        "\n",
        "\t\treturn self.__get_normalized_state()\n",
        "\n",
        "\n",
        "\tdef step(self, action):\n",
        "\t\t# Define local variables\n",
        "\t\treward = 0\n",
        "\t\tdone = False\n",
        "\t\tcurrent_spent = 0\n",
        "\t\tinfo = {'use_ev_fail':0, 'charge_ev_fail':0}\n",
        "\n",
        "\t\t# Get processed data of the current datetime\n",
        "\t\tusers_demand = self.processed_data.get_H4_consumes(self.month, self.day, self.time)\n",
        "\t\tpv_potential = self.processed_data.get_PV_entry(self.month, self.day, self.time)\n",
        "\t\tsg_cost = self.processed_data.get_SG_prices(self.month, self.day, self.time)\n",
        "\n",
        "\t\t# Case 1: enough energy on the home battery, use it to meet the request\n",
        "\t\tif self.home_battery_state > users_demand: self.home_battery_state -= users_demand\n",
        "\n",
        "\t\t# Case 2: not enough energy on the home battery but enough from the PV\n",
        "\t\telif pv_potential > users_demand: pv_potential -= users_demand\n",
        "\n",
        "\t\t# Case 3: take the energy from the smart grid\n",
        "\t\telse: current_spent += (sg_cost * users_demand)\n",
        "\n",
        "\t\t# Perform Action\n",
        "\t\tif action == Actions.CHARGE_HOME_wPV:\n",
        "\t\t\tself.home_battery_state += pv_potential\n",
        "\t\tif action == Actions.CHARGE_HOME_wSG:\n",
        "\t\t\tself.home_battery_state += Specifications.MAX_CHARGE_FOR_HOUR\n",
        "\t\t\tcurrent_spent += (Specifications.MAX_CHARGE_FOR_HOUR * sg_cost)\n",
        "\t\tif action == Actions.CHARGE_EV_wPV:\n",
        "\t\t\tself.ev_battery_state += pv_potential\n",
        "\t\tif action == Actions.CHARGE_EV_wSG:\n",
        "\t\t\tself.ev_battery_state += Specifications.MAX_CHARGE_FOR_HOUR\n",
        "\t\t\tcurrent_spent += (Specifications.MAX_CHARGE_FOR_HOUR * sg_cost)\n",
        "\n",
        "\t\t# Fix Values with the max battery capacity\n",
        "\t\tself.home_battery_state = min(self.home_battery_state, Specifications.HOME_CAPACITY)\n",
        "\t\tself.ev_battery_state = min(self.ev_battery_state, Specifications.EV_CAPACITY)\n",
        "\n",
        "\t\t# Negative reward for euros spent\n",
        "\t\treward = -current_spent\n",
        "\t\t# Negative reward if the EV is not ready in the morning\n",
        "\t\tif self.time == 6 and self.ev_battery_state < Specifications.EV_DAILY_CONSUME:\n",
        "\t\t\treward -= 10\n",
        "\t\t\tinfo['use_ev_fail'] = 1\n",
        "\t\t# Negative reward if try to charge the car in the working times\n",
        "\t\tif self.time >= 6 and self.time <= 18 and (action == Actions.CHARGE_EV_wPV or action == Actions.CHARGE_EV_wSG):\n",
        "\t\t\treward -= 10\n",
        "\t\t\tinfo['charge_ev_fail'] = 1\n",
        "\n",
        "\t\t# Use the daily requirement of the EV at 6am\n",
        "\t\tif self.time == 6 and self.ev_battery_state >= Specifications.EV_DAILY_CONSUME: self.ev_battery_state -= Specifications.EV_DAILY_CONSUME\n",
        "\t\t# Compute the total cost of the episode\n",
        "\t\tself.total_euros_spent += current_spent\n",
        "\n",
        "\t\t# Increase datetime by 1 hour and fix day and month\n",
        "\t\tself.max_step_hours -= 1\n",
        "\t\tself.time += 1\n",
        "\t\tif self.time > 23:\n",
        "\t\t\tself.time = 0\n",
        "\t\t\tself.day += 1\n",
        "\t\tif self.day > Constant.MONTHS_LEN[self.month-1]:\n",
        "\t\t\tself.day = 1\n",
        "\t\t\tself.month += 1\n",
        "\t\tif self.month > 12:\n",
        "\t\t\tself.month = 1\n",
        "\t\t\tself.day = 1\n",
        "\t\t\tself.time = 0\n",
        "\n",
        "\t\t# Check Done state\n",
        "\t\tif self.max_step_hours <= 0: done = True\n",
        "\n",
        "\t\treturn self.__get_normalized_state(), reward, done, info\n",
        "\n",
        "\n",
        "\tdef seed(self, seed=None):\n",
        "\t\tself.np_random, seed = seeding.np_random(seed)\n",
        "\t\treturn [seed]\n",
        "\n",
        "\n",
        "\t#####################\n",
        "\t## PRIVATE METHODS ##\n",
        "\t#####################\n",
        "\n",
        "\n",
        "\tdef __load_data_tables(self):\n",
        "\t\tPV_production_df = pd.read_csv('data/PV.csv', sep=';')\n",
        "\t\tSG_prices_df = pd.read_csv('data/Prices.csv', sep=';')\n",
        "\t\tH4_consumes_df = pd.read_csv('data/H4.csv', sep=';')\n",
        "\n",
        "\t\tPV_production = PV_production_df['P_PV_'].apply(lambda x:  x.replace(',','.')  ).to_numpy( dtype=float )\n",
        "\t\tSG_prices = SG_prices_df['Price'].apply(lambda x:  x.replace(',','.')  ).to_numpy( dtype=float )\n",
        "\t\tH4_consumes = H4_consumes_df['Power'].apply(lambda x:  x.replace(',', '.')).to_numpy( dtype=float )\n",
        "\n",
        "\t\tfor el in PV_production:\n",
        "\t\t\tself.processed_data.add_PV_entry( el )\n",
        "\t\tfor el in SG_prices:\n",
        "\t\t\tself.processed_data.add_SG_prices( el / 1000 )\n",
        "\t\tfor i in range(0, H4_consumes.shape[0], 60):\n",
        "\t\t\tel = H4_consumes[i:i+60]\n",
        "\t\t\tself.processed_data.add_H4_consumes( sum(el) )\n",
        "\n",
        "\n",
        "\tdef __get_normalized_state(self):\n",
        "\t\tnorm_month = (self.month-1) / 11\n",
        "\t\tnorm_day = (self.day-1) / 31\n",
        "\t\tnorm_time = self.time / 23\n",
        "\t\tnorm_home_battery_state = self.home_battery_state / Specifications.HOME_CAPACITY\n",
        "\t\tnorm_ev_battery_state = self.ev_battery_state / Specifications.EV_CAPACITY\n",
        "\t\treturn np.array([norm_month, norm_day, norm_time, norm_home_battery_state, norm_ev_battery_state])\n",
        "\n"
      ]
    },
    {
      "cell_type": "markdown",
      "metadata": {
        "id": "DR6yJP1U9Gbj"
      },
      "source": [
        "### RL Algorithm : Deep Q Network"
      ]
    },
    {
      "cell_type": "markdown",
      "metadata": {
        "id": "FVTnc-Vk9S4A"
      },
      "source": [
        "### DQN class\n",
        "\n",
        "Using a TensorFlow agent, the DQN class implements the Deep Q-Network (DQN) algorithm in reinforcement learning. Let's see a brief explanation of each section of the code:\n",
        "\n",
        "__init__: Initialize the sets of the environment (env), hyperparameter variables, and neural network models (actor and actor_target) to implement the target network in the DQN algorithm.\n",
        "\n",
        "**Loop**: The primary method that describes the agent's learning cycle. In each episode, the agent performs steps in the environment, stores the experience in the replay buffer, and updates the neural network based on the experience.\n",
        "\n",
        "**_update_target**: Updates the weights of the target network using a long-term polynomial interpolation (polyak averaging) approach. The goal is to reduce target fluctuations.\n",
        "\n",
        "**get_action**: Takes action based on the epsilon-greedy policy. With exploration_rate probability, the agent will perform random actions; otherwise, it will choose the best action based on the actor model.\n",
        "\n",
        "**update_networks**: Update the actor model based on the experience stored in the replay buffer using the Q-learning method.\n",
        "\n",
        "**actor_objective_function_double**: Calculates the objective function (loss) for double DQN learning. Utilizes two networks (double network) to estimate the Q value and stabilize the learning.\n",
        "\n",
        "**get_actor_model**: Creates a neural network model for an actor with a simple architecture.\n",
        "\n",
        "### Vanilla Methods:\n",
        "Some additional methods, such as actor_objective_function_fixed_target and actor_objective_function_std, show variations in calculating the objective function for Q learning.\n",
        "\n",
        "**Notes:**\n",
        "\n",
        "*   The use of deque to store rewards and replay buffers provides a size limit and helps track the average reward over the last 100 episodes (ep_reward_mean).\n",
        "Network updating uses stochastic gradient descent (SGD) on the objective function.\n",
        "*   The neural network model uses three layers, with the ReLU activation function in the hidden layer and linear activation in the output layer, by the characteristics of DQN.\n",
        "\n",
        "*   This code is a DQN implementation that should be helpful to understand and experiment with reinforcement learning algorithms in the context of reinforcement learning.\n",
        "\n",
        "\n",
        "\n",
        "\n",
        "\n",
        "\n"
      ]
    },
    {
      "cell_type": "code",
      "execution_count": null,
      "metadata": {
        "colab": {
          "base_uri": "https://localhost:8080/"
        },
        "id": "mTwm_1Al9LLG",
        "outputId": "aff1f768-a8a1-4f71-cb50-2d66bc38828b"
      },
      "outputs": [
        {
          "name": "stderr",
          "output_type": "stream",
          "text": [
            "/usr/local/lib/python3.10/dist-packages/ipykernel/ipkernel.py:283: DeprecationWarning: `should_run_async` will not call `transform_cell` automatically in the future. Please pass the result to `transformed_cell` argument and any exception that happen during thetransform in `preprocessing_exc_tuple` in IPython 7.17 and above.\n",
            "  and should_run_async(code)\n",
            "/usr/local/lib/python3.10/dist-packages/tensorflow/python/framework/dtypes.py:35: DeprecationWarning: ml_dtypes.float8_e4m3b11 is deprecated. Use ml_dtypes.float8_e4m3b11fnuz\n",
            "  from tensorflow.tsl.python.lib.core import pywrap_ml_dtypes\n"
          ]
        }
      ],
      "source": [
        "\n",
        "class DQN:\n",
        "\tdef __init__(self, env, verbose):\n",
        "\t\tself.env = env\n",
        "\t\tself.verbose = verbose\n",
        "\n",
        "\t\tself.input_shape = self.env.observation_space.shape\n",
        "\t\tself.action_space = env.action_space.n\n",
        "\t\tself.actor = self.get_actor_model(self.input_shape, self.action_space)\n",
        "\t\tself.actor_target = self.get_actor_model(self.input_shape, self.action_space)\n",
        "\t\tself.actor_target.set_weights(self.actor.get_weights())\n",
        "\n",
        "\t\tself.optimizer = keras.optimizers.Adam()\n",
        "\t\tself.gamma = 0.95\n",
        "\t\tself.memory_size = 2000\n",
        "\t\tself.batch_size = 32\n",
        "\t\tself.exploration_rate = 1.0\n",
        "\t\tself.exploration_decay = 0.995\n",
        "\t\tself.tau = 0.005\n",
        "\n",
        "\t\tself.run_id = np.random.randint(0, 1000)\n",
        "\n",
        "\n",
        "\tdef loop( self, num_episodes=1000 ):\n",
        "\t\treward_list = []\n",
        "\t\tep_reward_mean = deque(maxlen=100)\n",
        "\t\treplay_buffer = deque(maxlen=self.memory_size)\n",
        "\n",
        "\t\tfor episode in range(num_episodes):\n",
        "\t\t\tstate = self.env.reset()\n",
        "\t\t\tep_reward = 0\n",
        "\n",
        "\t\t\twhile True:\n",
        "\t\t\t\taction = self.get_action(state)\n",
        "\t\t\t\tnew_state, reward, done, _ = self.env.step(action)\n",
        "\t\t\t\tep_reward += reward\n",
        "\n",
        "\t\t\t\treplay_buffer.append([state, action, reward, new_state, done])\n",
        "\t\t\t\tif done: break\n",
        "\t\t\t\tstate = new_state\n",
        "\n",
        "\t\t\t\tself.update_networks(replay_buffer)\n",
        "\t\t\t\tself._update_target(self.actor.variables, self.actor_target.variables, tau=self.tau)\n",
        "\n",
        "\t\t\tself.exploration_rate = self.exploration_rate * self.exploration_decay if self.exploration_rate > 0.05 else 0.05\n",
        "\t\t\tep_reward_mean.append(ep_reward)\n",
        "\t\t\treward_list.append(ep_reward)\n",
        "\t\t\tif self.verbose > 0:\n",
        "\t\t\t\tprint(f\"Episode: {episode:7.0f}, reward: {ep_reward:8.2f}, mean_last_100: {np.mean(ep_reward_mean):8.2f}, exploration: {self.exploration_rate:0.2f}\")\n",
        "\t\t\tif self.verbose > 1:\n",
        "\t\t\t\tnp.savetxt(f\"data/reward_DQN_{self.run_id}.txt\", reward_list)\n",
        "\n",
        "\n",
        "\tdef _update_target(self, weights, target_weights, tau):\n",
        "\t\tfor (a, b) in zip(target_weights, weights):\n",
        "\t\t\ta.assign(b * tau + a * (1 - tau))\n",
        "\n",
        "\n",
        "\tdef get_action(self, state):\n",
        "\t\tif np.random.random() < self.exploration_rate:\n",
        "\t\t\treturn np.random.choice(self.action_space)\n",
        "\t\treturn np.argmax(self.actor(state.reshape((1, -1))))\n",
        "\n",
        "\n",
        "\tdef update_networks(self, replay_buffer):\n",
        "\t\tsamples = np.array(random.sample(replay_buffer, min(len(replay_buffer), self.batch_size)), dtype=object)\n",
        "\t\twith tf.GradientTape() as tape:\n",
        "\t\t\tobjective_function = self.actor_objective_function_double(samples) #Compute loss with custom loss function\n",
        "\t\t\tgrads = tape.gradient(objective_function, self.actor.trainable_variables) #Compute gradients actor for network\n",
        "\t\t\tself.optimizer.apply_gradients( zip(grads, self.actor.trainable_variables) ) #Apply gradients to update network weights\n",
        "\n",
        "\n",
        "\tdef actor_objective_function_double(self, replay_buffer):\n",
        "\t\tstate = np.vstack(replay_buffer[:, 0])\n",
        "\t\taction = replay_buffer[:, 1]\n",
        "\t\treward = np.vstack(replay_buffer[:, 2])\n",
        "\t\tnew_state = np.vstack(replay_buffer[:, 3])\n",
        "\t\tdone = np.vstack(replay_buffer[:, 4])\n",
        "\n",
        "\t\tnext_state_action = np.argmax(self.actor(new_state), axis=1)\n",
        "\t\ttarget_mask = self.actor_target(new_state) * tf.one_hot(next_state_action, self.action_space)\n",
        "\t\ttarget_mask = tf.reduce_sum(target_mask, axis=1, keepdims=True)\n",
        "\n",
        "\t\ttarget_value = reward + (1 - done.astype(int)) * self.gamma * target_mask\n",
        "\t\tmask = self.actor(state) * tf.one_hot(action, self.action_space)\n",
        "\t\tprediction_value = tf.reduce_sum(mask, axis=1, keepdims=True)\n",
        "\n",
        "\t\tmse = tf.math.square(prediction_value - target_value)\n",
        "\t\treturn tf.math.reduce_mean(mse)\n",
        "\n",
        "\n",
        "\tdef get_actor_model(self, input_shape, output_size):\n",
        "\t\tinputs = keras.layers.Input(shape=input_shape)\n",
        "\t\thidden_0 = keras.layers.Dense(64, activation='relu')(inputs)\n",
        "\t\thidden_1 = keras.layers.Dense(64, activation='relu')(hidden_0)\n",
        "\t\toutputs = keras.layers.Dense(output_size, activation='linear')(hidden_1)\n",
        "\n",
        "\t\treturn keras.Model(inputs, outputs)\n",
        "\n",
        "\n",
        "\t##########################\n",
        "    #### VANILLA METHODS #####\n",
        "    ##########################\n",
        "\n",
        "\n",
        "\tdef actor_objective_function_fixed_target(self, replay_buffer):\n",
        "\t\tstate = np.vstack(replay_buffer[:, 0])\n",
        "\t\taction = replay_buffer[:, 1]\n",
        "\t\treward = np.vstack(replay_buffer[:, 2])\n",
        "\t\tnew_state = np.vstack(replay_buffer[:, 3])\n",
        "\t\tdone = np.vstack(replay_buffer[:, 4])\n",
        "\n",
        "\t\ttarget_value = reward + (1 - done.astype(int)) * self.gamma * np.amax(self.actor_target(new_state), axis=1, keepdims=True)\n",
        "\t\tmask = self.actor(state) * tf.one_hot(action, self.action_space)\n",
        "\t\tprediction_value = tf.reduce_sum(mask, axis=1, keepdims=True)\n",
        "\n",
        "\t\tmse = tf.math.square(prediction_value - target_value)\n",
        "\t\treturn tf.math.reduce_mean(mse)\n",
        "\n",
        "\n",
        "\tdef actor_objective_function_std(self, replay_buffer):\n",
        "\t\tstate = np.vstack(replay_buffer[:, 0])\n",
        "\t\taction = replay_buffer[:, 1]\n",
        "\t\treward = np.vstack(replay_buffer[:, 2])\n",
        "\t\tnew_state = np.vstack(replay_buffer[:, 3])\n",
        "\t\tdone = np.vstack(replay_buffer[:, 4])\n",
        "\n",
        "\t\ttarget_value = reward + (1 - done.astype(int)) * self.gamma * np.amax(self.actor(new_state), axis=1, keepdims=True)\n",
        "\t\tmask = self.actor(state) * tf.one_hot(action, self.action_space)\n",
        "\t\tprediction_value = tf.reduce_sum(mask, axis=1, keepdims=True)\n",
        "\n",
        "\t\tmse = tf.math.square(prediction_value - target_value)\n",
        "\t\treturn tf.math.reduce_mean(mse)"
      ]
    },
    {
      "cell_type": "markdown",
      "metadata": {
        "id": "ky1vw7W18cib"
      },
      "source": [
        "### Train the agent"
      ]
    },
    {
      "cell_type": "markdown",
      "metadata": {
        "id": "I9FOxf2PAjp3"
      },
      "source": [
        "Now, we will train the Deep Q-Network (DQN) in the SmartHome simulation environment.\n",
        "We should define the train_dqn function with two optional parameters: epoch, which defaults to 10, and save_model, which defaults to True. Then use the verbose=2 parameter indicates the level of verbosity or the extent to which output information should be displayed during the training process.\n",
        "This function trains the DQN on the SmartHome simulation environment for the specified number of episodes. If save_model is set to True, the resulting neural network model will be saved into an H5 file with the specified name format."
      ]
    },
    {
      "cell_type": "code",
      "execution_count": null,
      "metadata": {
        "colab": {
          "base_uri": "https://localhost:8080/"
        },
        "id": "4B_D2CpCmqwM",
        "outputId": "5c09299c-056d-48ba-8fa5-477000a0b632"
      },
      "outputs": [
        {
          "name": "stderr",
          "output_type": "stream",
          "text": [
            "/usr/local/lib/python3.10/dist-packages/ipykernel/ipkernel.py:283: DeprecationWarning: `should_run_async` will not call `transform_cell` automatically in the future. Please pass the result to `transformed_cell` argument and any exception that happen during thetransform in `preprocessing_exc_tuple` in IPython 7.17 and above.\n",
            "  and should_run_async(code)\n"
          ]
        }
      ],
      "source": [
        "def train_dqn( epoch=10, save_model=True ):\n",
        "\tenv = SmartHome()\n",
        "\talgo = DQN( env, verbose=2 )\n",
        "\talgo.loop( num_episodes=epoch )\n",
        "\tif save_model: algo.actor.save( f\"trained_models/neural_network_dqn_ep{epoch}.h5\" )\n"
      ]
    },
    {
      "cell_type": "markdown",
      "metadata": {
        "id": "MeHNojfPAoiH"
      },
      "source": [
        "### Test the agent\n",
        "\n",
        "After training the agent, we can test the agent using this test_model function. It calculates several metrics and variables related to simulating activities in the SmartHome environment, such as:\n",
        "\n",
        "**monthly_total_list:** containing the total expenses for each month during the simulation.\n",
        "\n",
        "**use_ev_fail_total:** total number of days an electric vehicle (EV) did not charge enough.\n",
        "\n",
        "**hourly_home_battery:** average state of the battery at home for each hour.\n",
        "\n",
        "**hourly_ev_battery:** the average of electric vehicle (EV) batteries for each hour.\n",
        "\n",
        "**hourly_price:** average electricity price for each hour.\n",
        "\n",
        "**hourly_mean_charge_battery:** the average battery charge generated by the model for each hour.\n",
        "\n",
        "**hourly_mean_charge_pv:** Average battery charge from solar panels per hour.\n",
        "\n",
        "**hourly_demands:** Average electricity demand for each hour.\n",
        "\n",
        "This function effectively records and collects data regarding expenses, battery state, electricity prices, and other essential aspects of the simulation in the SmartHome environment. This data can then be used to analyze system performance, energy use efficiency, and the success rate of electric vehicles in undergoing a full year of simulation."
      ]
    },
    {
      "cell_type": "code",
      "execution_count": null,
      "metadata": {
        "id": "lqXtAr7PARBW"
      },
      "outputs": [],
      "source": [
        "\n",
        "#Function that test a model\n",
        "def test_models( _get_action, network_name, debug=False ):\n",
        "\tenv = SmartHome()\n",
        "\tneural_network = tensorflow.keras.models.load_model( network_name, compile=False )\n",
        "\tstate = env.reset()\n",
        "\n",
        "\t# Set first day of the year\n",
        "\tenv.month = 1\n",
        "\tenv.day = 1\n",
        "\tenv.time = 0\n",
        "\tenv.ev_battery_state = 0\n",
        "\tenv.home_battery_state = 0\n",
        "\n",
        "\t# Cycle for the full year\n",
        "\tcurrent_total_spent = 0\n",
        "\tcurrent_month = 1\n",
        "\tmonthly_total_list = []\n",
        "\thourly_action_list = [[] for _ in range(24)]\n",
        "\thourly_home_battery_list = [[] for _ in range(24)]\n",
        "\thourly_ev_battery_list = [[] for _ in range(24)]\n",
        "\thourly_price_list = [[] for _ in range(24)]\n",
        "\thourly_pv_list = [[] for _ in range(24)]\n",
        "\n",
        "\thourly_demands = [[] for _ in range(24)]\t# emarche\n",
        "\n",
        "\tuse_ev_fail_total = 0\n",
        "\tcharge_ev_fail_total = 0\n",
        "\n",
        "\twhile True:\n",
        "\t\taction = _get_action( neural_network, state, env )\n",
        "\t\tstate, _, _, info = env.step( action )\n",
        "\t\tuse_ev_fail_total += info['use_ev_fail']\n",
        "\t\tcharge_ev_fail_total += info['charge_ev_fail']\n",
        "\n",
        "\t\thourly_action_list[ env.time ].append(action)\n",
        "\t\thourly_home_battery_list[ env.time ].append(env.home_battery_state)\n",
        "\t\thourly_ev_battery_list[ env.time ].append(env.ev_battery_state)\n",
        "\t\thourly_price_list[ env.time ].append(env.processed_data.get_SG_prices(env.month, env.day, env.time))\n",
        "\t\thourly_pv_list[ env.time ].append(env.processed_data.get_PV_entry(env.month, env.day, env.time))\n",
        "\n",
        "\t\thourly_demands[ env.time ].append(env.processed_data.get_H4_consumes(env.month, env.day, env.time))\t# emarche\n",
        "\n",
        "\t\tif env.month > current_month:\n",
        "\t\t\tmonthly_total_list.append( env.total_euros_spent - current_total_spent )\n",
        "\t\t\tcurrent_month = env.month\n",
        "\t\t\tcurrent_total_spent = env.total_euros_spent\n",
        "\n",
        "\t\tif ( env.month == 1 and env.day == 1 and env.time == 0 ):\n",
        "\t\t\tmonthly_total_list.append( env.total_euros_spent - current_total_spent )\n",
        "\t\t\tbreak\n",
        "\n",
        "\tif debug:\n",
        "\t\tprint( f\"This years spent: {env.total_euros_spent:6.2f} euros\" )\n",
        "\t\tprint( f\"Total days with not enough charge on the EV: {use_ev_fail_total}\" )\n",
        "\t\tprint( f\"Total try to charge while EV is away: {charge_ev_fail_total}\\n\" )\n",
        "\n",
        "\thourly_home_battery = [numpy.mean( total ) for total in hourly_home_battery_list]\n",
        "\thourly_ev_battery = [numpy.mean( total ) for total in hourly_ev_battery_list]\n",
        "\thourly_price = [numpy.mean( total ) for total in hourly_price_list]\n",
        "\thourly_pv = [numpy.mean( total ) for total in hourly_pv_list]\n",
        "\thourly_mean_charge_battery = []\n",
        "\thourly_mean_charge_pv = []\n",
        "\n",
        "\tfor idx, time in enumerate(hourly_action_list):\n",
        "\t\thourly_mean_charge_battery.append( time.count(2) / len(time) * 11 )\n",
        "\t\thourly_mean_charge_battery[-1] += ( time.count(4) / len(time) * 11 )\n",
        "\n",
        "\t\thourly_mean_charge_pv.append( time.count(1) / len(time) * hourly_pv[idx] )\n",
        "\t\thourly_mean_charge_pv[-1] += ( time.count(3) / len(time) * hourly_pv[idx] )\n",
        "\n",
        "\thourly_demands = [np.mean(total) for total in hourly_demands]\n",
        "\treturn monthly_total_list, use_ev_fail_total, hourly_home_battery, hourly_ev_battery, hourly_price, hourly_mean_charge_battery, hourly_mean_charge_pv, hourly_demands\n",
        "\n"
      ]
    },
    {
      "cell_type": "markdown",
      "metadata": {
        "id": "j2wg5b-gVwWM"
      },
      "source": [
        "We have two functions for getting action on testing agent, _get_action_dqn function is used to obtain actions based on the DQN algorithm. In contrast, the _get_action_random function obtains randomized actions, which may serve as a baseline or comparison in reinforcement learning experiments."
      ]
    },
    {
      "cell_type": "code",
      "execution_count": null,
      "metadata": {
        "id": "ajG7TqJcAz_U"
      },
      "outputs": [],
      "source": [
        "#return action for DQN\n",
        "def _get_action_dqn( net, state, env ):\n",
        "\treturn numpy.argmax(net(state.reshape((1, -1))))\n",
        "\n",
        "#return action for random action which is the baseline\n",
        "def _get_action_random( net, state, env ):\n",
        "\treturn env.action_space.sample()\n"
      ]
    },
    {
      "cell_type": "markdown",
      "metadata": {
        "id": "zdBJPHAyBOE_"
      },
      "source": [
        "#### To launch the training"
      ]
    },
    {
      "cell_type": "code",
      "execution_count": null,
      "metadata": {
        "colab": {
          "base_uri": "https://localhost:8080/"
        },
        "id": "7GUOo5qCBRmn",
        "outputId": "e23996b6-ab32-4a37-e610-3ef19bbab237"
      },
      "outputs": [
        {
          "name": "stdout",
          "output_type": "stream",
          "text": [
            "Starting training !\n"
          ]
        },
        {
          "name": "stderr",
          "output_type": "stream",
          "text": [
            "<ipython-input-7-7e18a2be0358>:43: DeprecationWarning: This function is deprecated. Please call randint(1, 12 + 1) instead\n",
            "  self.month = np.random.random_integers(1, 12)\n",
            "<ipython-input-7-7e18a2be0358>:44: DeprecationWarning: This function is deprecated. Please call randint(1, 30 + 1) instead\n",
            "  self.day = np.random.random_integers(1, Constant.MONTHS_LEN[self.month-1])\n",
            "<ipython-input-7-7e18a2be0358>:45: DeprecationWarning: This function is deprecated. Please call randint(0, 23 + 1) instead\n",
            "  self.time = np.random.random_integers(0, 23)\n"
          ]
        },
        {
          "name": "stdout",
          "output_type": "stream",
          "text": [
            "Episode:       0, reward: -1674.86, mean_last_100: -1674.86, exploration: 0.99\n"
          ]
        },
        {
          "name": "stderr",
          "output_type": "stream",
          "text": [
            "<ipython-input-7-7e18a2be0358>:44: DeprecationWarning: This function is deprecated. Please call randint(1, 31 + 1) instead\n",
            "  self.day = np.random.random_integers(1, Constant.MONTHS_LEN[self.month-1])\n"
          ]
        },
        {
          "name": "stdout",
          "output_type": "stream",
          "text": [
            "Episode:       1, reward: -1576.82, mean_last_100: -1625.84, exploration: 0.99\n",
            "Episode:       2, reward: -1722.58, mean_last_100: -1658.09, exploration: 0.99\n",
            "Episode:       3, reward: -1706.91, mean_last_100: -1670.29, exploration: 0.98\n",
            "Episode:       4, reward: -1711.24, mean_last_100: -1678.48, exploration: 0.98\n",
            "Episode:       5, reward: -1597.95, mean_last_100: -1665.06, exploration: 0.97\n",
            "Episode:       6, reward: -1497.40, mean_last_100: -1641.11, exploration: 0.97\n",
            "Episode:       7, reward: -1703.46, mean_last_100: -1648.90, exploration: 0.96\n",
            "Episode:       8, reward: -1585.47, mean_last_100: -1641.85, exploration: 0.96\n",
            "Episode:       9, reward: -1647.02, mean_last_100: -1642.37, exploration: 0.95\n",
            "Episode:      10, reward: -1705.06, mean_last_100: -1648.07, exploration: 0.95\n",
            "Episode:      11, reward: -1430.87, mean_last_100: -1629.97, exploration: 0.94\n",
            "Episode:      12, reward: -1527.03, mean_last_100: -1622.05, exploration: 0.94\n",
            "Episode:      13, reward: -1387.11, mean_last_100: -1605.27, exploration: 0.93\n",
            "Episode:      14, reward: -1556.30, mean_last_100: -1602.00, exploration: 0.93\n",
            "Episode:      15, reward: -1662.37, mean_last_100: -1605.78, exploration: 0.92\n",
            "Episode:      16, reward: -1422.46, mean_last_100: -1594.99, exploration: 0.92\n"
          ]
        },
        {
          "name": "stderr",
          "output_type": "stream",
          "text": [
            "<ipython-input-7-7e18a2be0358>:44: DeprecationWarning: This function is deprecated. Please call randint(1, 28 + 1) instead\n",
            "  self.day = np.random.random_integers(1, Constant.MONTHS_LEN[self.month-1])\n"
          ]
        },
        {
          "name": "stdout",
          "output_type": "stream",
          "text": [
            "Episode:      17, reward: -1474.26, mean_last_100: -1588.29, exploration: 0.91\n",
            "Episode:      18, reward: -1459.04, mean_last_100: -1581.48, exploration: 0.91\n",
            "Episode:      19, reward: -1403.78, mean_last_100: -1572.60, exploration: 0.90\n",
            "Episode:      20, reward: -1463.88, mean_last_100: -1567.42, exploration: 0.90\n",
            "Episode:      21, reward: -1525.31, mean_last_100: -1565.51, exploration: 0.90\n",
            "Episode:      22, reward: -1426.02, mean_last_100: -1559.44, exploration: 0.89\n",
            "Episode:      23, reward: -1604.14, mean_last_100: -1561.31, exploration: 0.89\n",
            "Episode:      24, reward: -1704.72, mean_last_100: -1567.04, exploration: 0.88\n",
            "Episode:      25, reward: -1477.74, mean_last_100: -1563.61, exploration: 0.88\n",
            "Episode:      26, reward: -1520.23, mean_last_100: -1562.00, exploration: 0.87\n",
            "Episode:      27, reward: -1420.63, mean_last_100: -1556.95, exploration: 0.87\n",
            "Episode:      28, reward: -1500.06, mean_last_100: -1554.99, exploration: 0.86\n",
            "Episode:      29, reward: -1507.65, mean_last_100: -1553.41, exploration: 0.86\n",
            "Episode:      30, reward: -1555.81, mean_last_100: -1553.49, exploration: 0.86\n",
            "Episode:      31, reward: -1495.62, mean_last_100: -1551.68, exploration: 0.85\n",
            "Episode:      32, reward: -1341.09, mean_last_100: -1545.30, exploration: 0.85\n",
            "Episode:      33, reward: -1192.69, mean_last_100: -1534.93, exploration: 0.84\n",
            "Episode:      34, reward: -1471.66, mean_last_100: -1533.12, exploration: 0.84\n",
            "Episode:      35, reward: -1256.57, mean_last_100: -1525.44, exploration: 0.83\n",
            "Episode:      36, reward: -1451.84, mean_last_100: -1523.45, exploration: 0.83\n",
            "Episode:      37, reward: -1318.74, mean_last_100: -1518.06, exploration: 0.83\n",
            "Episode:      38, reward: -1311.35, mean_last_100: -1512.76, exploration: 0.82\n",
            "Episode:      39, reward: -1342.74, mean_last_100: -1508.51, exploration: 0.82\n",
            "Episode:      40, reward: -1372.11, mean_last_100: -1505.18, exploration: 0.81\n",
            "Episode:      41, reward: -1390.81, mean_last_100: -1502.46, exploration: 0.81\n",
            "Episode:      42, reward: -1379.51, mean_last_100: -1499.60, exploration: 0.81\n",
            "Episode:      43, reward: -1386.48, mean_last_100: -1497.03, exploration: 0.80\n",
            "Episode:      44, reward: -1347.20, mean_last_100: -1493.70, exploration: 0.80\n",
            "Episode:      45, reward: -1277.75, mean_last_100: -1489.01, exploration: 0.79\n",
            "Episode:      46, reward: -1337.97, mean_last_100: -1485.79, exploration: 0.79\n",
            "Episode:      47, reward: -1468.29, mean_last_100: -1485.43, exploration: 0.79\n",
            "Episode:      48, reward: -1152.00, mean_last_100: -1478.62, exploration: 0.78\n",
            "Episode:      49, reward: -1280.32, mean_last_100: -1474.66, exploration: 0.78\n",
            "Episode:      50, reward: -1080.76, mean_last_100: -1466.93, exploration: 0.77\n",
            "Episode:      51, reward: -1408.56, mean_last_100: -1465.81, exploration: 0.77\n",
            "Episode:      52, reward: -1293.30, mean_last_100: -1462.56, exploration: 0.77\n",
            "Episode:      53, reward: -1427.22, mean_last_100: -1461.90, exploration: 0.76\n",
            "Episode:      54, reward: -1196.83, mean_last_100: -1457.08, exploration: 0.76\n",
            "Episode:      55, reward: -1083.94, mean_last_100: -1450.42, exploration: 0.76\n",
            "Episode:      56, reward: -1270.14, mean_last_100: -1447.26, exploration: 0.75\n",
            "Episode:      57, reward: -1220.15, mean_last_100: -1443.34, exploration: 0.75\n",
            "Episode:      58, reward: -1209.18, mean_last_100: -1439.37, exploration: 0.74\n",
            "Episode:      59, reward: -1279.60, mean_last_100: -1436.71, exploration: 0.74\n",
            "Episode:      60, reward: -1246.36, mean_last_100: -1433.59, exploration: 0.74\n",
            "Episode:      61, reward: -1400.07, mean_last_100: -1433.05, exploration: 0.73\n",
            "Episode:      62, reward: -1392.42, mean_last_100: -1432.40, exploration: 0.73\n",
            "Episode:      63, reward: -1346.04, mean_last_100: -1431.05, exploration: 0.73\n",
            "Episode:      64, reward: -1232.08, mean_last_100: -1427.99, exploration: 0.72\n",
            "Episode:      65, reward: -1261.27, mean_last_100: -1425.47, exploration: 0.72\n",
            "Episode:      66, reward: -1221.76, mean_last_100: -1422.43, exploration: 0.71\n",
            "Episode:      67, reward: -1308.24, mean_last_100: -1420.75, exploration: 0.71\n",
            "Episode:      68, reward: -1196.83, mean_last_100: -1417.50, exploration: 0.71\n",
            "Episode:      69, reward: -1270.88, mean_last_100: -1415.41, exploration: 0.70\n",
            "Episode:      70, reward: -1163.09, mean_last_100: -1411.85, exploration: 0.70\n",
            "Episode:      71, reward: -1108.85, mean_last_100: -1407.65, exploration: 0.70\n",
            "Episode:      72, reward: -1102.46, mean_last_100: -1403.46, exploration: 0.69\n",
            "Episode:      73, reward: -1255.89, mean_last_100: -1401.47, exploration: 0.69\n",
            "Episode:      74, reward: -1221.56, mean_last_100: -1399.07, exploration: 0.69\n",
            "Episode:      75, reward: -1180.46, mean_last_100: -1396.20, exploration: 0.68\n",
            "Episode:      76, reward:  -938.75, mean_last_100: -1390.25, exploration: 0.68\n",
            "Episode:      77, reward: -1287.01, mean_last_100: -1388.93, exploration: 0.68\n",
            "Episode:      78, reward: -1127.86, mean_last_100: -1385.63, exploration: 0.67\n",
            "Episode:      79, reward: -1139.99, mean_last_100: -1382.56, exploration: 0.67\n",
            "Episode:      80, reward: -1157.71, mean_last_100: -1379.78, exploration: 0.67\n",
            "Episode:      81, reward: -1088.49, mean_last_100: -1376.23, exploration: 0.66\n",
            "Episode:      82, reward: -1002.07, mean_last_100: -1371.72, exploration: 0.66\n",
            "Episode:      83, reward: -1111.88, mean_last_100: -1368.63, exploration: 0.66\n",
            "Episode:      84, reward:  -990.18, mean_last_100: -1364.17, exploration: 0.65\n",
            "Episode:      85, reward: -1186.19, mean_last_100: -1362.10, exploration: 0.65\n",
            "Episode:      86, reward: -1108.31, mean_last_100: -1359.19, exploration: 0.65\n",
            "Episode:      87, reward:  -991.07, mean_last_100: -1355.00, exploration: 0.64\n",
            "Episode:      88, reward:  -978.15, mean_last_100: -1350.77, exploration: 0.64\n",
            "Episode:      89, reward: -1029.39, mean_last_100: -1347.20, exploration: 0.64\n",
            "Episode:      90, reward: -1079.19, mean_last_100: -1344.25, exploration: 0.63\n",
            "Episode:      91, reward: -1022.71, mean_last_100: -1340.76, exploration: 0.63\n",
            "Episode:      92, reward: -1235.48, mean_last_100: -1339.63, exploration: 0.63\n",
            "Episode:      93, reward: -1095.07, mean_last_100: -1337.02, exploration: 0.62\n",
            "Episode:      94, reward: -1096.84, mean_last_100: -1334.50, exploration: 0.62\n",
            "Episode:      95, reward: -1168.33, mean_last_100: -1332.77, exploration: 0.62\n",
            "Episode:      96, reward:  -964.12, mean_last_100: -1328.97, exploration: 0.61\n",
            "Episode:      97, reward: -1055.99, mean_last_100: -1326.18, exploration: 0.61\n",
            "Episode:      98, reward:  -817.65, mean_last_100: -1321.04, exploration: 0.61\n",
            "Episode:      99, reward: -1010.55, mean_last_100: -1317.94, exploration: 0.61\n",
            "Episode:     100, reward: -1085.94, mean_last_100: -1312.05, exploration: 0.60\n",
            "Episode:     101, reward:  -886.06, mean_last_100: -1305.14, exploration: 0.60\n",
            "Episode:     102, reward:  -879.01, mean_last_100: -1296.71, exploration: 0.60\n",
            "Episode:     103, reward:  -937.47, mean_last_100: -1289.01, exploration: 0.59\n",
            "Episode:     104, reward:  -975.09, mean_last_100: -1281.65, exploration: 0.59\n",
            "Episode:     105, reward:  -995.71, mean_last_100: -1275.63, exploration: 0.59\n",
            "Episode:     106, reward:  -970.89, mean_last_100: -1270.36, exploration: 0.58\n",
            "Episode:     107, reward:  -993.33, mean_last_100: -1263.26, exploration: 0.58\n",
            "Episode:     108, reward:  -975.23, mean_last_100: -1257.16, exploration: 0.58\n",
            "Episode:     109, reward: -1032.76, mean_last_100: -1251.02, exploration: 0.58\n",
            "Episode:     110, reward:  -885.49, mean_last_100: -1242.82, exploration: 0.57\n",
            "Episode:     111, reward:  -894.80, mean_last_100: -1237.46, exploration: 0.57\n",
            "Episode:     112, reward:  -988.90, mean_last_100: -1232.08, exploration: 0.57\n",
            "Episode:     113, reward: -1062.35, mean_last_100: -1228.83, exploration: 0.56\n",
            "Episode:     114, reward: -1000.10, mean_last_100: -1223.27, exploration: 0.56\n",
            "Episode:     115, reward: -1009.47, mean_last_100: -1216.74, exploration: 0.56\n",
            "Episode:     116, reward:  -911.34, mean_last_100: -1211.63, exploration: 0.56\n",
            "Episode:     117, reward:  -850.20, mean_last_100: -1205.39, exploration: 0.55\n",
            "Episode:     118, reward:  -810.70, mean_last_100: -1198.90, exploration: 0.55\n",
            "Episode:     119, reward:  -878.73, mean_last_100: -1193.65, exploration: 0.55\n",
            "Episode:     120, reward:  -809.42, mean_last_100: -1187.11, exploration: 0.55\n",
            "Episode:     121, reward:  -886.57, mean_last_100: -1180.72, exploration: 0.54\n",
            "Episode:     122, reward:  -945.57, mean_last_100: -1175.92, exploration: 0.54\n",
            "Episode:     123, reward:  -952.53, mean_last_100: -1169.40, exploration: 0.54\n",
            "Episode:     124, reward:  -867.76, mean_last_100: -1161.03, exploration: 0.53\n",
            "Episode:     125, reward:  -979.48, mean_last_100: -1156.05, exploration: 0.53\n",
            "Episode:     126, reward:  -759.35, mean_last_100: -1148.44, exploration: 0.53\n",
            "Episode:     127, reward:  -795.23, mean_last_100: -1142.19, exploration: 0.53\n",
            "Episode:     128, reward:  -957.88, mean_last_100: -1136.76, exploration: 0.52\n",
            "Episode:     129, reward:  -742.49, mean_last_100: -1129.11, exploration: 0.52\n",
            "Episode:     130, reward:  -830.61, mean_last_100: -1121.86, exploration: 0.52\n",
            "Episode:     131, reward:  -937.59, mean_last_100: -1116.28, exploration: 0.52\n",
            "Episode:     132, reward:  -713.36, mean_last_100: -1110.00, exploration: 0.51\n",
            "Episode:     133, reward:  -741.49, mean_last_100: -1105.49, exploration: 0.51\n",
            "Episode:     134, reward:  -835.27, mean_last_100: -1099.13, exploration: 0.51\n",
            "Episode:     135, reward:  -831.13, mean_last_100: -1094.87, exploration: 0.51\n",
            "Episode:     136, reward:  -855.90, mean_last_100: -1088.91, exploration: 0.50\n",
            "Episode:     137, reward:  -703.58, mean_last_100: -1082.76, exploration: 0.50\n",
            "Episode:     138, reward:  -858.32, mean_last_100: -1078.23, exploration: 0.50\n",
            "Episode:     139, reward:  -970.51, mean_last_100: -1074.51, exploration: 0.50\n",
            "Episode:     140, reward:  -859.35, mean_last_100: -1069.38, exploration: 0.49\n",
            "Episode:     141, reward:  -868.27, mean_last_100: -1064.16, exploration: 0.49\n",
            "Episode:     142, reward:  -832.16, mean_last_100: -1058.68, exploration: 0.49\n",
            "Episode:     143, reward:  -788.99, mean_last_100: -1052.71, exploration: 0.49\n",
            "Episode:     144, reward:  -667.09, mean_last_100: -1045.91, exploration: 0.48\n",
            "Episode:     145, reward:  -874.87, mean_last_100: -1041.88, exploration: 0.48\n",
            "Episode:     146, reward:  -763.06, mean_last_100: -1036.13, exploration: 0.48\n",
            "Episode:     147, reward:  -730.21, mean_last_100: -1028.75, exploration: 0.48\n",
            "Episode:     148, reward:  -873.08, mean_last_100: -1025.96, exploration: 0.47\n",
            "Episode:     149, reward:  -725.86, mean_last_100: -1020.41, exploration: 0.47\n",
            "Episode:     150, reward:  -615.15, mean_last_100: -1015.76, exploration: 0.47\n",
            "Episode:     151, reward:  -831.94, mean_last_100: -1009.99, exploration: 0.47\n",
            "Episode:     152, reward:  -707.40, mean_last_100: -1004.13, exploration: 0.46\n",
            "Episode:     153, reward:  -675.75, mean_last_100:  -996.62, exploration: 0.46\n",
            "Episode:     154, reward:  -713.66, mean_last_100:  -991.79, exploration: 0.46\n",
            "Episode:     155, reward:  -786.87, mean_last_100:  -988.82, exploration: 0.46\n",
            "Episode:     156, reward:  -686.28, mean_last_100:  -982.98, exploration: 0.46\n",
            "Episode:     157, reward:  -642.00, mean_last_100:  -977.20, exploration: 0.45\n",
            "Episode:     158, reward:  -632.85, mean_last_100:  -971.43, exploration: 0.45\n",
            "Episode:     159, reward:  -672.24, mean_last_100:  -965.36, exploration: 0.45\n",
            "Episode:     160, reward:  -787.08, mean_last_100:  -960.77, exploration: 0.45\n",
            "Episode:     161, reward:  -753.75, mean_last_100:  -954.30, exploration: 0.44\n",
            "Episode:     162, reward:  -661.31, mean_last_100:  -946.99, exploration: 0.44\n",
            "Episode:     163, reward:  -736.92, mean_last_100:  -940.90, exploration: 0.44\n",
            "Episode:     164, reward:  -652.95, mean_last_100:  -935.11, exploration: 0.44\n",
            "Episode:     165, reward:  -706.39, mean_last_100:  -929.56, exploration: 0.44\n",
            "Episode:     166, reward:  -716.13, mean_last_100:  -924.50, exploration: 0.43\n",
            "Episode:     167, reward:  -784.94, mean_last_100:  -919.27, exploration: 0.43\n",
            "Episode:     168, reward:  -803.28, mean_last_100:  -915.34, exploration: 0.43\n",
            "Episode:     169, reward:  -605.33, mean_last_100:  -908.68, exploration: 0.43\n",
            "Episode:     170, reward:  -691.46, mean_last_100:  -903.96, exploration: 0.42\n",
            "Episode:     171, reward:  -645.30, mean_last_100:  -899.33, exploration: 0.42\n",
            "Episode:     172, reward:  -720.61, mean_last_100:  -895.51, exploration: 0.42\n",
            "Episode:     173, reward:  -699.13, mean_last_100:  -889.94, exploration: 0.42\n",
            "Episode:     174, reward:  -648.69, mean_last_100:  -884.21, exploration: 0.42\n",
            "Episode:     175, reward:  -804.62, mean_last_100:  -880.46, exploration: 0.41\n",
            "Episode:     176, reward:  -752.59, mean_last_100:  -878.59, exploration: 0.41\n",
            "Episode:     177, reward:  -724.56, mean_last_100:  -872.97, exploration: 0.41\n",
            "Episode:     178, reward:  -674.35, mean_last_100:  -868.43, exploration: 0.41\n",
            "Episode:     179, reward:  -637.57, mean_last_100:  -863.41, exploration: 0.41\n",
            "Episode:     180, reward:  -676.24, mean_last_100:  -858.60, exploration: 0.40\n",
            "Episode:     181, reward:  -671.77, mean_last_100:  -854.43, exploration: 0.40\n",
            "Episode:     182, reward:  -605.79, mean_last_100:  -850.47, exploration: 0.40\n",
            "Episode:     183, reward:  -542.80, mean_last_100:  -844.77, exploration: 0.40\n",
            "Episode:     184, reward:  -700.30, mean_last_100:  -841.88, exploration: 0.40\n",
            "Episode:     185, reward:  -710.82, mean_last_100:  -837.12, exploration: 0.39\n",
            "Episode:     186, reward:  -678.11, mean_last_100:  -832.82, exploration: 0.39\n",
            "Episode:     187, reward:  -636.69, mean_last_100:  -829.28, exploration: 0.39\n",
            "Episode:     188, reward:  -668.12, mean_last_100:  -826.18, exploration: 0.39\n",
            "Episode:     189, reward:  -796.68, mean_last_100:  -823.85, exploration: 0.39\n",
            "Episode:     190, reward:  -608.29, mean_last_100:  -819.14, exploration: 0.38\n",
            "Episode:     191, reward:  -605.27, mean_last_100:  -814.97, exploration: 0.38\n",
            "Episode:     192, reward:  -531.04, mean_last_100:  -807.92, exploration: 0.38\n",
            "Episode:     193, reward:  -686.18, mean_last_100:  -803.83, exploration: 0.38\n",
            "Episode:     194, reward:  -718.22, mean_last_100:  -800.05, exploration: 0.38\n",
            "Episode:     195, reward:  -692.96, mean_last_100:  -795.29, exploration: 0.37\n",
            "Episode:     196, reward:  -691.88, mean_last_100:  -792.57, exploration: 0.37\n",
            "Episode:     197, reward:  -646.34, mean_last_100:  -788.47, exploration: 0.37\n",
            "Episode:     198, reward:  -554.98, mean_last_100:  -785.85, exploration: 0.37\n",
            "Episode:     199, reward:  -566.11, mean_last_100:  -781.40, exploration: 0.37\n",
            "Episode:     200, reward:  -664.86, mean_last_100:  -777.19, exploration: 0.37\n",
            "Episode:     201, reward:  -547.99, mean_last_100:  -773.81, exploration: 0.36\n",
            "Episode:     202, reward:  -721.38, mean_last_100:  -772.23, exploration: 0.36\n",
            "Episode:     203, reward:  -577.90, mean_last_100:  -768.64, exploration: 0.36\n",
            "Episode:     204, reward:  -644.77, mean_last_100:  -765.34, exploration: 0.36\n",
            "Episode:     205, reward:  -601.53, mean_last_100:  -761.39, exploration: 0.36\n",
            "Episode:     206, reward:  -573.11, mean_last_100:  -757.42, exploration: 0.35\n",
            "Episode:     207, reward:  -647.72, mean_last_100:  -753.96, exploration: 0.35\n",
            "Episode:     208, reward:  -679.71, mean_last_100:  -751.01, exploration: 0.35\n",
            "Episode:     209, reward:  -604.69, mean_last_100:  -746.72, exploration: 0.35\n",
            "Episode:     210, reward:  -363.32, mean_last_100:  -741.50, exploration: 0.35\n",
            "Episode:     211, reward:  -503.81, mean_last_100:  -737.59, exploration: 0.35\n",
            "Episode:     212, reward:  -601.02, mean_last_100:  -733.71, exploration: 0.34\n",
            "Episode:     213, reward:  -582.61, mean_last_100:  -728.92, exploration: 0.34\n",
            "Episode:     214, reward:  -568.51, mean_last_100:  -724.60, exploration: 0.34\n",
            "Episode:     215, reward:  -484.09, mean_last_100:  -719.35, exploration: 0.34\n",
            "Episode:     216, reward:  -507.34, mean_last_100:  -715.31, exploration: 0.34\n",
            "Episode:     217, reward:  -514.56, mean_last_100:  -711.95, exploration: 0.34\n",
            "Episode:     218, reward:  -567.17, mean_last_100:  -709.52, exploration: 0.33\n",
            "Episode:     219, reward:  -455.16, mean_last_100:  -705.28, exploration: 0.33\n",
            "Episode:     220, reward:  -676.50, mean_last_100:  -703.95, exploration: 0.33\n",
            "Episode:     221, reward:  -641.36, mean_last_100:  -701.50, exploration: 0.33\n",
            "Episode:     222, reward:  -566.54, mean_last_100:  -697.71, exploration: 0.33\n",
            "Episode:     223, reward:  -615.24, mean_last_100:  -694.33, exploration: 0.33\n",
            "Episode:     224, reward:  -596.49, mean_last_100:  -691.62, exploration: 0.32\n",
            "Episode:     225, reward:  -442.71, mean_last_100:  -686.25, exploration: 0.32\n",
            "Episode:     226, reward:  -432.53, mean_last_100:  -682.99, exploration: 0.32\n",
            "Episode:     227, reward:  -459.86, mean_last_100:  -679.63, exploration: 0.32\n",
            "Episode:     228, reward:  -561.06, mean_last_100:  -675.66, exploration: 0.32\n",
            "Episode:     229, reward:  -577.73, mean_last_100:  -674.02, exploration: 0.32\n",
            "Episode:     230, reward:  -550.76, mean_last_100:  -671.22, exploration: 0.31\n",
            "Episode:     231, reward:  -517.20, mean_last_100:  -667.01, exploration: 0.31\n",
            "Episode:     232, reward:  -582.96, mean_last_100:  -665.71, exploration: 0.31\n",
            "Episode:     233, reward:  -544.22, mean_last_100:  -663.74, exploration: 0.31\n",
            "Episode:     234, reward:  -637.21, mean_last_100:  -661.76, exploration: 0.31\n",
            "Episode:     235, reward:  -426.18, mean_last_100:  -657.71, exploration: 0.31\n",
            "Episode:     236, reward:  -469.13, mean_last_100:  -653.84, exploration: 0.30\n",
            "Episode:     237, reward:  -455.51, mean_last_100:  -651.36, exploration: 0.30\n",
            "Episode:     238, reward:  -634.74, mean_last_100:  -649.12, exploration: 0.30\n",
            "Episode:     239, reward:  -390.86, mean_last_100:  -643.33, exploration: 0.30\n",
            "Episode:     240, reward:  -576.93, mean_last_100:  -640.50, exploration: 0.30\n",
            "Episode:     241, reward:  -538.10, mean_last_100:  -637.20, exploration: 0.30\n",
            "Episode:     242, reward:  -403.90, mean_last_100:  -632.92, exploration: 0.30\n",
            "Episode:     243, reward:  -452.44, mean_last_100:  -629.55, exploration: 0.29\n",
            "Episode:     244, reward:  -509.22, mean_last_100:  -627.97, exploration: 0.29\n",
            "Episode:     245, reward:  -591.94, mean_last_100:  -625.14, exploration: 0.29\n",
            "Episode:     246, reward:  -559.24, mean_last_100:  -623.11, exploration: 0.29\n",
            "Episode:     247, reward:  -557.19, mean_last_100:  -621.38, exploration: 0.29\n",
            "Episode:     248, reward:  -463.50, mean_last_100:  -617.28, exploration: 0.29\n",
            "Episode:     249, reward:  -430.31, mean_last_100:  -614.33, exploration: 0.29\n",
            "Episode:     250, reward:  -540.29, mean_last_100:  -613.58, exploration: 0.28\n",
            "Episode:     251, reward:  -470.29, mean_last_100:  -609.96, exploration: 0.28\n",
            "Episode:     252, reward:  -460.42, mean_last_100:  -607.49, exploration: 0.28\n",
            "Episode:     253, reward:  -550.80, mean_last_100:  -606.24, exploration: 0.28\n",
            "Episode:     254, reward:  -461.16, mean_last_100:  -603.72, exploration: 0.28\n",
            "Episode:     255, reward:  -476.47, mean_last_100:  -600.61, exploration: 0.28\n",
            "Episode:     256, reward:  -534.92, mean_last_100:  -599.10, exploration: 0.28\n",
            "Episode:     257, reward:  -639.77, mean_last_100:  -599.08, exploration: 0.27\n",
            "Episode:     258, reward:  -597.56, mean_last_100:  -598.72, exploration: 0.27\n",
            "Episode:     259, reward:  -365.40, mean_last_100:  -595.65, exploration: 0.27\n",
            "Episode:     260, reward:  -457.29, mean_last_100:  -592.36, exploration: 0.27\n",
            "Episode:     261, reward:  -544.81, mean_last_100:  -590.27, exploration: 0.27\n",
            "Episode:     262, reward:  -459.14, mean_last_100:  -588.25, exploration: 0.27\n",
            "Episode:     263, reward:  -488.48, mean_last_100:  -585.76, exploration: 0.27\n",
            "Episode:     264, reward:  -447.22, mean_last_100:  -583.70, exploration: 0.26\n",
            "Episode:     265, reward:  -508.77, mean_last_100:  -581.73, exploration: 0.26\n",
            "Episode:     266, reward:  -399.16, mean_last_100:  -578.56, exploration: 0.26\n",
            "Episode:     267, reward:  -451.10, mean_last_100:  -575.22, exploration: 0.26\n",
            "Episode:     268, reward:  -509.23, mean_last_100:  -572.28, exploration: 0.26\n",
            "Episode:     269, reward:  -388.93, mean_last_100:  -570.11, exploration: 0.26\n",
            "Episode:     270, reward:  -388.23, mean_last_100:  -567.08, exploration: 0.26\n",
            "Episode:     271, reward:  -428.74, mean_last_100:  -564.92, exploration: 0.26\n",
            "Episode:     272, reward:  -379.39, mean_last_100:  -561.50, exploration: 0.25\n",
            "Episode:     273, reward:  -464.94, mean_last_100:  -559.16, exploration: 0.25\n",
            "Episode:     274, reward:  -376.65, mean_last_100:  -556.44, exploration: 0.25\n",
            "Episode:     275, reward:  -404.94, mean_last_100:  -552.45, exploration: 0.25\n",
            "Episode:     276, reward:  -347.47, mean_last_100:  -548.39, exploration: 0.25\n",
            "Episode:     277, reward:  -324.92, mean_last_100:  -544.40, exploration: 0.25\n",
            "Episode:     278, reward:  -360.63, mean_last_100:  -541.26, exploration: 0.25\n",
            "Episode:     279, reward:  -368.06, mean_last_100:  -538.57, exploration: 0.25\n",
            "Episode:     280, reward:  -360.30, mean_last_100:  -535.41, exploration: 0.24\n",
            "Episode:     281, reward:  -375.94, mean_last_100:  -532.45, exploration: 0.24\n",
            "Episode:     282, reward:  -479.62, mean_last_100:  -531.19, exploration: 0.24\n",
            "Episode:     283, reward:  -314.78, mean_last_100:  -528.91, exploration: 0.24\n",
            "Episode:     284, reward:  -359.28, mean_last_100:  -525.50, exploration: 0.24\n",
            "Episode:     285, reward:  -457.26, mean_last_100:  -522.96, exploration: 0.24\n",
            "Episode:     286, reward:  -286.44, mean_last_100:  -519.04, exploration: 0.24\n",
            "Episode:     287, reward:  -411.79, mean_last_100:  -516.79, exploration: 0.24\n",
            "Episode:     288, reward:  -533.95, mean_last_100:  -515.45, exploration: 0.23\n",
            "Episode:     289, reward:  -395.03, mean_last_100:  -511.44, exploration: 0.23\n",
            "Episode:     290, reward:  -385.96, mean_last_100:  -509.21, exploration: 0.23\n",
            "Episode:     291, reward:  -409.39, mean_last_100:  -507.25, exploration: 0.23\n",
            "Episode:     292, reward:  -400.05, mean_last_100:  -505.94, exploration: 0.23\n",
            "Episode:     293, reward:  -382.36, mean_last_100:  -502.91, exploration: 0.23\n",
            "Episode:     294, reward:  -308.10, mean_last_100:  -498.81, exploration: 0.23\n",
            "Episode:     295, reward:  -356.91, mean_last_100:  -495.44, exploration: 0.23\n",
            "Episode:     296, reward:  -357.96, mean_last_100:  -492.11, exploration: 0.23\n",
            "Episode:     297, reward:  -403.09, mean_last_100:  -489.67, exploration: 0.22\n",
            "Episode:     298, reward:  -471.92, mean_last_100:  -488.84, exploration: 0.22\n"
          ]
        },
        {
          "name": "stderr",
          "output_type": "stream",
          "text": [
            "/usr/local/lib/python3.10/dist-packages/keras/src/engine/training.py:3079: UserWarning: You are saving your model as an HDF5 file via `model.save()`. This file format is considered legacy. We recommend using instead the native Keras format, e.g. `model.save('my_model.keras')`.\n",
            "  saving_api.save_model(\n",
            "WARNING:tensorflow:Compiled the loaded model, but the compiled metrics have yet to be built. `model.compile_metrics` will be empty until you train or evaluate the model.\n"
          ]
        },
        {
          "name": "stdout",
          "output_type": "stream",
          "text": [
            "Episode:     299, reward:  -426.73, mean_last_100:  -487.45, exploration: 0.22\n"
          ]
        }
      ],
      "source": [
        "print('Starting training !')\n",
        "epoch = 300\n",
        "train_dqn(epoch=epoch, save_model=True )"
      ]
    },
    {
      "cell_type": "markdown",
      "metadata": {
        "id": "IV_bf5qRBdjR"
      },
      "source": [
        "#### To load and test an algorithm"
      ]
    },
    {
      "cell_type": "code",
      "execution_count": null,
      "metadata": {
        "id": "NkPiSt03M6Y4"
      },
      "outputs": [],
      "source": [
        "%matplotlib inline"
      ]
    },
    {
      "cell_type": "code",
      "execution_count": null,
      "metadata": {
        "colab": {
          "base_uri": "https://localhost:8080/"
        },
        "id": "AWof_CWjBj58",
        "outputId": "bb33389b-6a38-4736-dacc-d210ecd34e2c"
      },
      "outputs": [
        {
          "name": "stdout",
          "output_type": "stream",
          "text": [
            "Starting testing !\n"
          ]
        },
        {
          "name": "stderr",
          "output_type": "stream",
          "text": [
            "<ipython-input-7-7e18a2be0358>:43: DeprecationWarning: This function is deprecated. Please call randint(1, 12 + 1) instead\n",
            "  self.month = np.random.random_integers(1, 12)\n",
            "<ipython-input-7-7e18a2be0358>:44: DeprecationWarning: This function is deprecated. Please call randint(1, 30 + 1) instead\n",
            "  self.day = np.random.random_integers(1, Constant.MONTHS_LEN[self.month-1])\n",
            "<ipython-input-7-7e18a2be0358>:45: DeprecationWarning: This function is deprecated. Please call randint(0, 23 + 1) instead\n",
            "  self.time = np.random.random_integers(0, 23)\n"
          ]
        },
        {
          "data": {
            "text/plain": [
              "([12.061351207801023,\n",
              "  6.264731589921281,\n",
              "  7.9334211397051675,\n",
              "  4.671444787099425,\n",
              "  3.8518082700310963,\n",
              "  4.688767439171542,\n",
              "  5.328916049367017,\n",
              "  6.087988244856454,\n",
              "  6.550329949806638,\n",
              "  8.473516530774994,\n",
              "  8.505933307995392,\n",
              "  10.24531176145129],\n",
              " 304,\n",
              " [1.447199447793585,\n",
              "  1.3575527898057425,\n",
              "  1.3372710931523946,\n",
              "  1.442243557381003,\n",
              "  1.575524411225141,\n",
              "  1.4816047589161536,\n",
              "  1.3866609452632823,\n",
              "  1.2282346505999553,\n",
              "  1.077529985978207,\n",
              "  0.9538591648886876,\n",
              "  0.827942774844557,\n",
              "  0.7246315613633267,\n",
              "  0.6638079604454616,\n",
              "  0.654826225586787,\n",
              "  0.6902040074731683,\n",
              "  0.774338602574519,\n",
              "  0.9148933624437231,\n",
              "  1.184590001968901,\n",
              "  1.4256753261038313,\n",
              "  1.5270539358578927,\n",
              "  1.6486909344832104,\n",
              "  1.702069252574893,\n",
              "  1.649198227078901,\n",
              "  1.5451106728662092],\n",
              " [10.48188815491683,\n",
              "  10.452572876433603,\n",
              "  10.542983835337713,\n",
              "  10.573120821639083,\n",
              "  10.633394794241823,\n",
              "  11.23613452026922,\n",
              "  11.23613452026922,\n",
              "  9.39777835588566,\n",
              "  9.39777835588566,\n",
              "  9.39777835588566,\n",
              "  9.39777835588566,\n",
              "  9.39777835588566,\n",
              "  9.39777835588566,\n",
              "  9.39777835588566,\n",
              "  9.39777835588566,\n",
              "  9.39777835588566,\n",
              "  9.39777835588566,\n",
              "  9.39777835588566,\n",
              "  9.39777835588566,\n",
              "  9.39777835588566,\n",
              "  9.680575029148757,\n",
              "  9.871784045327788,\n",
              "  10.089945689163404,\n",
              "  10.391477196012719],\n",
              " [0.02176676712328767,\n",
              "  0.02076712328767123,\n",
              "  0.020646821917808218,\n",
              "  0.021775753424657533,\n",
              "  0.02525731506849315,\n",
              "  0.029944109589041097,\n",
              "  0.034098219178082194,\n",
              "  0.034090684931506854,\n",
              "  0.03277468493150685,\n",
              "  0.03177712328767123,\n",
              "  0.03021295890410959,\n",
              "  0.028285397260273973,\n",
              "  0.027278684931506852,\n",
              "  0.02764235616438356,\n",
              "  0.02887142465753425,\n",
              "  0.03199104109589041,\n",
              "  0.036843616438356167,\n",
              "  0.038324000000000004,\n",
              "  0.036384931506849315,\n",
              "  0.03264389041095891,\n",
              "  0.029800027397260273,\n",
              "  0.027333917808219182,\n",
              "  0.024447643835616442,\n",
              "  0.022935506849315064],\n",
              " [0.09041095890410958,\n",
              "  0.0,\n",
              "  0.1506849315068493,\n",
              "  0.210958904109589,\n",
              "  0.27123287671232876,\n",
              "  0.6027397260273972,\n",
              "  0.0,\n",
              "  0.0,\n",
              "  0.0,\n",
              "  0.0,\n",
              "  0.0,\n",
              "  0.0,\n",
              "  0.0,\n",
              "  0.0,\n",
              "  0.0,\n",
              "  0.0,\n",
              "  0.0,\n",
              "  0.0,\n",
              "  0.0,\n",
              "  0.0,\n",
              "  0.21095890410958906,\n",
              "  0.1506849315068493,\n",
              "  0.21095890410958906,\n",
              "  0.3013698630136986],\n",
              " [0.0,\n",
              "  0.0,\n",
              "  0.0,\n",
              "  0.0,\n",
              "  0.0,\n",
              "  0.0,\n",
              "  0.0,\n",
              "  0.0,\n",
              "  0.0,\n",
              "  0.000372092325014074,\n",
              "  0.006895957965847252,\n",
              "  0.03363608932257459,\n",
              "  0.08738651154062675,\n",
              "  0.14927617188966036,\n",
              "  0.20876006755488832,\n",
              "  0.2455633402139238,\n",
              "  0.2718876036779883,\n",
              "  0.409708770876337,\n",
              "  0.37739367235879157,\n",
              "  0.28356988553199475,\n",
              "  0.3912507112028522,\n",
              "  0.1857907524863952,\n",
              "  0.05557363858134733,\n",
              "  0.008646838055920435],\n",
              " [0.10866806793332863,\n",
              "  0.10588878848990689,\n",
              "  0.10437052588271185,\n",
              "  0.11310353184458287,\n",
              "  0.14468404600621346,\n",
              "  0.16483731266171903,\n",
              "  0.48507992774432823,\n",
              "  0.5664248871340402,\n",
              "  0.6257087243185014,\n",
              "  0.7770918499567134,\n",
              "  0.778576529833973,\n",
              "  0.5633735142318538,\n",
              "  0.5773972508327347,\n",
              "  0.7291978122709017,\n",
              "  0.6426954351537141,\n",
              "  0.3890126772880633,\n",
              "  0.2774077426796083,\n",
              "  0.3049213888013896,\n",
              "  0.6722795718150393,\n",
              "  0.8555087462256473,\n",
              "  0.5388233383116842,\n",
              "  0.3154225179685883,\n",
              "  0.18829219102867456,\n",
              "  0.11776507550261064])"
            ]
          },
          "execution_count": 24,
          "metadata": {},
          "output_type": "execute_result"
        }
      ],
      "source": [
        "print('Starting testing !')\n",
        "#testing on the saved model with action get_action_DQN\n",
        "test_models(_get_action_dqn, network_name=\"trained_models/neural_network_dqn_ep300.h5\", debug=False )"
      ]
    },
    {
      "cell_type": "markdown",
      "metadata": {
        "id": "9L993AhSCCSV"
      },
      "source": [
        "#### Plot graph of money spent"
      ]
    },
    {
      "cell_type": "code",
      "execution_count": null,
      "metadata": {
        "colab": {
          "base_uri": "https://localhost:8080/",
          "height": 744
        },
        "id": "hLgDcqTuCVul",
        "outputId": "bee912f3-cab4-4ab7-d84b-2b7c9b9e5ba1"
      },
      "outputs": [
        {
          "name": "stderr",
          "output_type": "stream",
          "text": [
            "<ipython-input-7-7e18a2be0358>:43: DeprecationWarning: This function is deprecated. Please call randint(1, 12 + 1) instead\n",
            "  self.month = np.random.random_integers(1, 12)\n",
            "<ipython-input-7-7e18a2be0358>:44: DeprecationWarning: This function is deprecated. Please call randint(1, 31 + 1) instead\n",
            "  self.day = np.random.random_integers(1, Constant.MONTHS_LEN[self.month-1])\n",
            "<ipython-input-7-7e18a2be0358>:45: DeprecationWarning: This function is deprecated. Please call randint(0, 23 + 1) instead\n",
            "  self.time = np.random.random_integers(0, 23)\n",
            "<ipython-input-7-7e18a2be0358>:43: DeprecationWarning: This function is deprecated. Please call randint(1, 12 + 1) instead\n",
            "  self.month = np.random.random_integers(1, 12)\n",
            "<ipython-input-7-7e18a2be0358>:44: DeprecationWarning: This function is deprecated. Please call randint(1, 30 + 1) instead\n",
            "  self.day = np.random.random_integers(1, Constant.MONTHS_LEN[self.month-1])\n",
            "<ipython-input-7-7e18a2be0358>:45: DeprecationWarning: This function is deprecated. Please call randint(0, 23 + 1) instead\n",
            "  self.time = np.random.random_integers(0, 23)\n"
          ]
        },
        {
          "data": {
            "image/png": "[encoded data removed]",
            "text/plain": [
              "<Figure size 640x480 with 1 Axes>"
            ]
          },
          "metadata": {},
          "output_type": "display_data"
        }
      ],
      "source": [
        "\n",
        "histo_plotter = HistoPlotter()\n",
        "monthly_total_list_dqn, _, _, _, _, _, _, _ = test_models( _get_action_dqn, network_name=\"trained_models/neural_network_dqn_ep300.h5\" )\n",
        "monthly_total_list_random, _, _, _, _, _, _, _ = test_models( _get_action_random, network_name=\"trained_models/neural_network_dqn_ep300.h5\" )\n",
        "histo_plotter.trained_list = monthly_total_list_dqn\n",
        "histo_plotter.random_list = monthly_total_list_random\n",
        "histo_plotter.plot()\n"
      ]
    },
    {
      "cell_type": "markdown",
      "metadata": {},
      "source": [
        "In this visual representation, we juxtapose the performance of a random agent against a trained agent utilizing DNQ. Our agent demonstrated superior efficiency by reducing the expenditure on energy. However, this outcome invites scrutiny due to the fact that our reward function does not converge to zero, indicating potential issues with the utilization of the home or the electric vehicle (EV). While we managed to spend less than the random agent, it is noteworthy that there are instances when the EV cannot be utilized, introducing a nuanced aspect to the evaluation."
      ]
    },
    {
      "cell_type": "markdown",
      "metadata": {
        "id": "9JVZPLBLCI8l"
      },
      "source": [
        "#### Plot graph of battery_charge"
      ]
    },
    {
      "cell_type": "code",
      "execution_count": null,
      "metadata": {
        "colab": {
          "base_uri": "https://localhost:8080/",
          "height": 608
        },
        "id": "NwymbZmFCcBw",
        "outputId": "314f75ec-4a45-4edf-bc73-7747d5461fa7"
      },
      "outputs": [
        {
          "name": "stderr",
          "output_type": "stream",
          "text": [
            "/usr/local/lib/python3.10/dist-packages/ipykernel/ipkernel.py:283: DeprecationWarning: `should_run_async` will not call `transform_cell` automatically in the future. Please pass the result to `transformed_cell` argument and any exception that happen during thetransform in `preprocessing_exc_tuple` in IPython 7.17 and above.\n",
            "  and should_run_async(code)\n",
            "<ipython-input-7-7e18a2be0358>:43: DeprecationWarning: This function is deprecated. Please call randint(1, 12 + 1) instead\n",
            "  self.month = np.random.random_integers(1, 12)\n",
            "<ipython-input-7-7e18a2be0358>:44: DeprecationWarning: This function is deprecated. Please call randint(1, 28 + 1) instead\n",
            "  self.day = np.random.random_integers(1, Constant.MONTHS_LEN[self.month-1])\n",
            "<ipython-input-7-7e18a2be0358>:45: DeprecationWarning: This function is deprecated. Please call randint(0, 23 + 1) instead\n",
            "  self.time = np.random.random_integers(0, 23)\n"
          ]
        },
        {
          "data": {
            "image/png": "[encoded data removed]",
            "text/plain": [
              "<Figure size 640x480 with 2 Axes>"
            ]
          },
          "metadata": {},
          "output_type": "display_data"
        }
      ],
      "source": [
        "\n",
        "_, _, hourly_home_battery__dqn, hourly_ev_battery__dqn, hourly_price_dqn, hourly_charge_dqn_sg, hourly_charge_dqn_pv, _ = test_models( _get_action_dqn, network_name=\"trained_models/neural_network_dqn_ep300.h5\" )\n",
        "line_plotter = DoubleLinePlotter( hourly_home_battery__dqn, hourly_ev_battery__dqn, hourly_price_dqn, hourly_charge_dqn_sg, hourly_charge_dqn_pv )\n",
        "line_plotter.plot()\n"
      ]
    },
    {
      "cell_type": "markdown",
      "metadata": {},
      "source": [
        "In this graphical depiction, the RL agent exhibits a strategic behavior aligned with our desired objective. It prioritizes charging the battery during periods of inexpensive electricity, ensuring readiness for usage during more expensive time slots. As a result, all Smart Grid charging activities occur during the night, specifically between 10 pm and 5 am.\n",
        "\n",
        "Throughout the day, the agent now leans towards utilizing Photovoltaic (PV) sources, a cost-effective approach aimed at minimizing overall expenses."
      ]
    },
    {
      "cell_type": "markdown",
      "metadata": {
        "id": "8-_1UMzMCLKP"
      },
      "source": [
        "#### Plot graph of reward function"
      ]
    },
    {
      "cell_type": "code",
      "execution_count": null,
      "metadata": {
        "colab": {
          "base_uri": "https://localhost:8080/",
          "height": 537
        },
        "id": "OnmzcEFCCmIf",
        "outputId": "5fcab998-23dd-4748-8604-1ea698c3cb3b"
      },
      "outputs": [
        {
          "name": "stderr",
          "output_type": "stream",
          "text": [
            "/usr/local/lib/python3.10/dist-packages/ipykernel/ipkernel.py:283: DeprecationWarning: `should_run_async` will not call `transform_cell` automatically in the future. Please pass the result to `transformed_cell` argument and any exception that happen during thetransform in `preprocessing_exc_tuple` in IPython 7.17 and above.\n",
            "  and should_run_async(code)\n"
          ]
        },
        {
          "data": {
            "image/png": "[encoded data removed]",
            "text/plain": [
              "<Figure size 640x480 with 1 Axes>"
            ]
          },
          "metadata": {},
          "output_type": "display_data"
        }
      ],
      "source": [
        "plotter = LinePlotter(x_label=\"Episode\", y_label=\"Reward\", title=\"Reward Function\")\n",
        "plotter.load_array([ glob.glob(\"data/reward_DQN_*.txt\") ])\n",
        "plotter.process_data( rolling_window=100, starting_pointer=0 )\n",
        "plotter.render( labels=[\"DQN\"], colors=[\"r\"] )"
      ]
    },
    {
      "cell_type": "markdown",
      "metadata": {
        "id": "xx_zH5DaCOxl"
      },
      "source": [
        "#### Plot graph of consumer demands"
      ]
    },
    {
      "cell_type": "code",
      "execution_count": null,
      "metadata": {
        "colab": {
          "base_uri": "https://localhost:8080/",
          "height": 579
        },
        "id": "Pze4DObdCrSR",
        "outputId": "169ab8a2-937a-405f-f47b-5303bc124770"
      },
      "outputs": [
        {
          "name": "stderr",
          "output_type": "stream",
          "text": [
            "<ipython-input-7-7e18a2be0358>:43: DeprecationWarning: This function is deprecated. Please call randint(1, 12 + 1) instead\n",
            "  self.month = np.random.random_integers(1, 12)\n",
            "<ipython-input-7-7e18a2be0358>:44: DeprecationWarning: This function is deprecated. Please call randint(1, 30 + 1) instead\n",
            "  self.day = np.random.random_integers(1, Constant.MONTHS_LEN[self.month-1])\n",
            "<ipython-input-7-7e18a2be0358>:45: DeprecationWarning: This function is deprecated. Please call randint(0, 23 + 1) instead\n",
            "  self.time = np.random.random_integers(0, 23)\n"
          ]
        },
        {
          "data": {
            "image/png": "[encoded data removed]",
            "text/plain": [
              "<Figure size 640x480 with 2 Axes>"
            ]
          },
          "metadata": {},
          "output_type": "display_data"
        }
      ],
      "source": [
        "\n",
        "_, _, hourly_home_battery__dqn, hourly_ev_battery__dqn, hourly_price_dqn, hourly_charge_dqn_sg, hourly_charge_dqn_pv, house_demands = test_models( _get_action_dqn, network_name=\"trained_models/neural_network_dqn_ep300.h5\" )\n",
        "\n",
        "line_plotter = DemandsPlotter(house_demands, hourly_charge_dqn_pv)\n",
        "line_plotter.plot()\n"
      ]
    },
    {
      "cell_type": "markdown",
      "metadata": {
        "id": "G2k42BX1CSWJ"
      },
      "source": [
        "#### Plot graph of generation"
      ]
    },
    {
      "cell_type": "code",
      "execution_count": null,
      "metadata": {
        "colab": {
          "base_uri": "https://localhost:8080/",
          "height": 683
        },
        "id": "IxKdAY8C4RS2",
        "outputId": "7790fa43-7847-462a-db3a-6c3ac9cd4c38"
      },
      "outputs": [
        {
          "name": "stderr",
          "output_type": "stream",
          "text": [
            "/usr/local/lib/python3.10/dist-packages/ipykernel/ipkernel.py:283: DeprecationWarning: `should_run_async` will not call `transform_cell` automatically in the future. Please pass the result to `transformed_cell` argument and any exception that happen during thetransform in `preprocessing_exc_tuple` in IPython 7.17 and above.\n",
            "  and should_run_async(code)\n",
            "<ipython-input-7-7e18a2be0358>:43: DeprecationWarning: This function is deprecated. Please call randint(1, 12 + 1) instead\n",
            "  self.month = np.random.random_integers(1, 12)\n",
            "<ipython-input-7-7e18a2be0358>:44: DeprecationWarning: This function is deprecated. Please call randint(1, 31 + 1) instead\n",
            "  self.day = np.random.random_integers(1, Constant.MONTHS_LEN[self.month-1])\n",
            "<ipython-input-7-7e18a2be0358>:45: DeprecationWarning: This function is deprecated. Please call randint(0, 23 + 1) instead\n",
            "  self.time = np.random.random_integers(0, 23)\n"
          ]
        },
        {
          "name": "stdout",
          "output_type": "stream",
          "text": [
            "[-48.55280055220641, -48.642447210194256, -48.662728906847605, -48.557756442618995, -48.42447558877486, -48.518395241083844, -48.61333905473672, -48.77176534940004, -48.92247001402179, -49.04614083511131, -49.17205722515544, -49.275368438636676, -49.33619203955454, -49.34517377441321, -49.30979599252683, -49.22566139742548, -49.08510663755628, -48.8154099980311, -48.57432467389617, -48.47294606414211, -48.35130906551679, -48.297930747425106, -48.3508017729211, -48.45488932713379]\n",
            "(24,)\n",
            "(24,)\n",
            "(24,)\n"
          ]
        },
        {
          "data": {
            "image/png": "[encoded data removed]",
            "text/plain": [
              "<Figure size 640x480 with 2 Axes>"
            ]
          },
          "metadata": {},
          "output_type": "display_data"
        }
      ],
      "source": [
        "\n",
        "_, _, hourly_home_battery__dqn, hourly_ev_battery__dqn, hourly_price_dqn, hourly_charge_dqn_sg, hourly_charge_dqn_pv, house_demands = test_models( _get_action_dqn, network_name=\"trained_models/neural_network_dqn_ep300.h5\" )\n",
        "\n",
        "for i in range(len(hourly_home_battery__dqn)):\n",
        "  hourly_home_battery__dqn[i] -= 50\n",
        "print(hourly_home_battery__dqn)\n",
        "print(np.array(hourly_home_battery__dqn).shape)\n",
        "print(np.array(hourly_charge_dqn_pv).shape)\n",
        "print(np.array(hourly_charge_dqn_sg).shape)\n",
        "line_plotter = GenerationPlotter(hourly_charge_dqn_pv, hourly_charge_dqn_sg, hourly_home_battery__dqn)\n",
        "line_plotter.plot()\n",
        "\n"
      ]
    },
    {
      "cell_type": "code",
      "execution_count": null,
      "metadata": {
        "colab": {
          "base_uri": "https://localhost:8080/"
        },
        "id": "T6dpF117ODKG",
        "outputId": "38b50f29-084d-4877-cd13-0bf289d5cd70"
      },
      "outputs": [
        {
          "name": "stderr",
          "output_type": "stream",
          "text": [
            "/usr/local/lib/python3.10/dist-packages/ipykernel/ipkernel.py:283: DeprecationWarning: `should_run_async` will not call `transform_cell` automatically in the future. Please pass the result to `transformed_cell` argument and any exception that happen during thetransform in `preprocessing_exc_tuple` in IPython 7.17 and above.\n",
            "  and should_run_async(code)\n"
          ]
        }
      ],
      "source": []
    }
  ],
  "metadata": {
    "colab": {
      "collapsed_sections": [
        "ItrlQkMM8C0D",
        "vgs184d98NBl",
        "N92Qs24c8y1Q",
        "gUaGFbbZ8WuC",
        "FVTnc-Vk9S4A",
        "MeHNojfPAoiH"
      ],
      "provenance": []
    },
    "kernelspec": {
      "display_name": "Python 3 (ipykernel)",
      "language": "python",
      "name": "python3"
    },
    "language_info": {
      "codemirror_mode": {
        "name": "ipython",
        "version": 3
      },
      "file_extension": ".py",
      "mimetype": "text/x-python",
      "name": "python",
      "nbconvert_exporter": "python",
      "pygments_lexer": "ipython3",
      "version": "3.7.5"
    }
  },
  "nbformat": 4,
  "nbformat_minor": 0
}
