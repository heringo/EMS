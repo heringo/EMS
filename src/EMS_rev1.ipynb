{
  "cells": [
    {
      "cell_type": "markdown",
      "metadata": {
        "id": "tO8oNCeyvbtQ"
      },
      "source": [
        "# **Reinforcement Learning Project**\n",
        "# Deep reinforcement learning for energy management systems in a microgrid\n",
        "---\n",
        "---\n",
        "\n",
        "This notebook has 4 parts. The goals of these parts are:\n",
        "- **Part 1**:\n",
        "- **Part 2**:\n",
        "- **Part 3**:\n",
        "- **Part 4**:\n",
        "\n",
        "### Installing Dependencies"
      ]
    },
    {
      "cell_type": "markdown",
      "metadata": {
        "id": "VcRjXkE0mXmI"
      },
      "source": [
        "### Introduction\n",
        "\n",
        "Inadequate control over residential electrical energy usage can result in many adverse consequences, which extend beyond individual residences and have implications for the broader environmental and societal spheres. The negative effects may encompass environmental, economic, and social ramifications.\n",
        "\n",
        "Mismanagement of residential electrical energy consumption can result in escalated household energy expenses from an economic standpoint. It can cause financial strain and tension, particularly for low-income families, by straining household budgets. Moreover, it can potentially exacerbate energy poverty, a condition in which households cannot afford sufficient energy services, negatively affecting their overall well-being and quality of life (Boeri et al., 2020). Therefore, an energy management system becomes an urgent need.\n",
        "\n",
        "The question is, how can we optimize the use of household electrical energy intelligently and efficiently? We must utilize artificial intelligence in energy management, especially reinforcement learning, with a Deep Q-Network (DQN) approach. Reinforcement learning can study the interactions that occur in home energy use by understanding home occupants' habits and producing appropriate energy consumption policies.\n",
        "\n",
        "In this tutorial, we will explore practical steps using Python to build a DQN algorithm to determine appropriate household energy consumption actions. Through this approach, we seek efficient solutions to reduce electricity bills and contribute positively to overall electricity resource management. Let's start by understanding the environment and the steps necessary to achieve this goal."
      ]
    },
    {
      "cell_type": "markdown",
      "metadata": {
        "id": "DqQtQeTewnA3"
      },
      "source": [
        "**Microgrids**\n",
        "\n",
        "Microgrids – self-contained electrical grids that are capable of disconnecting from the main grid – hold potential in both tackling climate change mitigation via reducing CO\n",
        " emissions and adaptation by increasing infrastructure resiliency. Due to their distributed nature, microgrids are often idiosyncratic; as a result, control of these systems is nontrivial.\n",
        "\n",
        " While microgrid simulators exist, many are limited in scope and in the variety of microgrids they can simulate. We propose pymgrid, an open-source Python package to generate and simulate a large number of microgrids, and the first open-source tool that can generate more than 600 different microgrids. pymgrid abstracts most of the domain expertise, allowing users to focus on control algorithms.\n",
        "\n",
        " In particular, pymgrid is built to be a reinforcement learning (RL) platform, and includes the ability to model microgrids as Markov decision processes\n",
        " pymgrid also introduces two pre-computed list of microgrids, intended to allow for research reproducibility in the microgrid setting."
      ]
    },
    {
      "cell_type": "markdown",
      "metadata": {
        "id": "JrZebCqimXmJ"
      },
      "source": [
        "**The first step** is to extract the file named 'data.zip' and then extract the entire contents into the '/content/' directory, so that if there are files or folders in the zip, they will all be placed in the '/content/' directory."
      ]
    },
    {
      "cell_type": "code",
      "execution_count": 2,
      "metadata": {
        "id": "uSEcSVvHL2BB"
      },
      "outputs": [],
      "source": [
        "import zipfile\n",
        "import io\n",
        "\n",
        "# Specify the name of the uploaded zip file\n",
        "zip_file_name = 'data.zip'\n",
        "\n",
        "# Extract the contents\n",
        "with zipfile.ZipFile(zip_file_name, 'r') as zip_ref:\n",
        "    zip_ref.extractall('/content/')"
      ]
    },
    {
      "cell_type": "markdown",
      "metadata": {
        "id": "uMseuk_5xVoN"
      },
      "source": [
        "### Env : Smart Home\n"
      ]
    },
    {
      "cell_type": "markdown",
      "metadata": {
        "id": "ItrlQkMM8C0D"
      },
      "source": [
        "### Defining Constants\n",
        "\n",
        "Next, define three classes that store constants or specifications in a simulation or model.\n",
        "1. **Actions class:** provides constants representing various actions to be taken in a simulation. A numeric value, such as NO_ACTION, CHARGE_HOME_wPV, CHARGE_HOME_wSG, CHARGE_EV_wPV, and CHARGE_EV_wSG represent each action. For example, CHARGE_HOME_wPV can be interpreted as the action of charging at home using photovoltaic (PV).\n",
        "\n",
        "2. **Specifications class:** provides constants and specifications used in the simulation or model. Some of the constants include HOME_CAPACITY, which indicates the power capacity of the home, EV_CAPACITY which means the power capacity of the electric vehicle (EV), EV_DAILY_CONSUME which is the daily consumption of the EV, EV_CHARGE_WINDOW which indicates the EV charging time window, and MAX_CHARGE_FOR_HOUR which is the maximum limit of charging for an hour.\n",
        "\n",
        "3. **Constant class:** provides other constants used in the simulation. For example, MONTHS_LEN contains the number of days each month, and MAX_STEP_HOURS is the number of monthly hours. These constants can be used to set parameters and conditions in the simulation."
      ]
    },
    {
      "cell_type": "code",
      "execution_count": 6,
      "metadata": {
        "id": "bhCVkUIb4VyV"
      },
      "outputs": [],
      "source": [
        "#Constant that indicates which actions is taken\n",
        "class Actions:\n",
        "\tNO_ACTION = 0\n",
        "\tCHARGE_HOME_wPV = 1         #Charging Home with Photovoltaic\n",
        "\tCHARGE_HOME_wSG = 2         #Charging Home with SmartGrid\n",
        "\n",
        "\tCHARGE_EV_wPV = 3           #Charging EV with Photovoltaic\n",
        "\tCHARGE_EV_wSG = 4           #Charging EV with SmartGrid\n",
        "\n",
        "class Specifications:\n",
        "\tHOME_CAPACITY = 100\n",
        "\tEV_CAPACITY = 100\n",
        "\tEV_DAILY_CONSUME = 11\n",
        "\tEV_CHARGE_WINDOW = [18, 6]      #Charging when the EV is at home and not use\n",
        "\tMAX_CHARGE_FOR_HOUR = 11\n",
        "\n",
        "class Constant:\n",
        "\tMONTHS_LEN = [31, 28, 31, 30, 31, 30, 31, 31, 30, 31, 30, 31]\n",
        "\tMAX_STEP_HOURS = 24 * 30\n"
      ]
    },
    {
      "cell_type": "markdown",
      "metadata": {
        "id": "vgs184d98NBl"
      },
      "source": [
        "### Class to preprocess PV entry, SG prices and H4 consumes\n",
        "\n",
        "The ProcessedData class below is for managing data related to photovoltaic production, SmartGrid electricity prices, and household consumption/needs at specified time intervals. Here is an explanation for each part of this class:\n",
        "\n",
        "**Class Attributes:**\n",
        "PV_production: A list attribute used to store photovoltaic production data.\n",
        "SG_prices: A list attribute used to store SmartGrid electricity price data.\n",
        "H4_consumes: A list attribute used to store consumption or household needs data.\n",
        "\n",
        "**Class Methods:**\n",
        "__init__(self): Initialization method (constructor) that is called when a class object is created. This method initializes the PV_production, SG_price, and H4_usage list attributes as an empty list.\n",
        "\n",
        "add_PV(self, el): Method for adding elements to the PV_production list.\n",
        "add_SG(self, el): Method for adding elements to the SG_price list.\n",
        "add_H4(self, el): Method for adding elements to the usage_H4 list.\n",
        "\n",
        "get_PV(self, month, day, hour): Method for getting photovoltaic production values for a specific month, day and hour.\n",
        "get_SG(self, month, day, hour): Method for getting SmartGrid electricity price values for a specific month, day and hour.\n",
        "get_H4_consumes(self, month, day, hour): Method for getting consumption values/household needs for a certain month, day and hour.\n",
        "\n",
        "The get_PV, get_SG, and get_H4_consumes methods take month, day, and hour parameters to calculate the appropriate index in the data list based on a specific date and time. The formula used to calculate the index involves the total number of hours before a specific date and time. In this context, we assume that Constant.Month_length contains the number of days in each month, so sum(Constant.Month_length[:month-1]) can provide the total number of days of the previous months. So, this formula is used to calculate the appropriate index in the data list for a certain date and time."
      ]
    },
    {
      "cell_type": "code",
      "execution_count": 63,
      "metadata": {
        "id": "DfyWZyFx7RnK"
      },
      "outputs": [],
      "source": [
        "class ProcessedData:\n",
        "\tdef __init__(self):\n",
        "\t\tself.PV_production = []                       #Production of Photovoltaic\n",
        "\t\tself.SG_prices = []                           #Price of SmartGrid Electricity\n",
        "\t\tself.H4_consumes = []                         #The consumption/need of the home\n",
        "\n",
        "\t# Methods to add the elements in the specific arrays\n",
        "\tdef add_PV_entry(self, el): self.PV_production.append( el )\n",
        "\tdef add_SG_prices(self, el): self.SG_prices.append( el )\n",
        "\tdef add_H4_consumes(self, el): self.H4_consumes.append( el )\n",
        "\n",
        "\t# Get Methods (given month and time return the value)\n",
        "  # To get the element it converts every day in hours\n",
        "\tdef get_PV_entry(self, month, day, day_time): return self.PV_production[ (sum(Constant.MONTHS_LEN[:month-1]) + day - 1) * 24  + day_time ]\n",
        "\tdef get_SG_prices(self, month, day, day_time): return self.SG_prices[ (sum(Constant.MONTHS_LEN[:month-1]) + day - 1) * 24  + day_time ]\n",
        "\tdef get_H4_consumes(self, month, day, day_time): return self.H4_consumes[ (sum(Constant.MONTHS_LEN[:month-1]) + day - 1) * 24  + day_time ]"
      ]
    },
    {
      "cell_type": "markdown",
      "metadata": {
        "id": "N92Qs24c8y1Q"
      },
      "source": [
        "### Function for plotting\n",
        "\n",
        "The LinePlotter class creates and renders line plots with several additional features. The following is an explanation for each part of the class:\n",
        "\n",
        "**Constructor (__init__)**:\n",
        "Initializes the object with an x-axis label (x_label), y-axis label (y_label), and plot title (title).\n",
        "Create a subplot object using plt.subplot(1).\n",
        "It hides the top and right edges of the plot.\n",
        "Sets the background color of the plot.\n",
        "Adds a grid to the plot with white lines.\n",
        "Set the font size for the x and y axes, axis labels, and titles.\n",
        "\n",
        "**load_array**:\n",
        "Loads some array of data from the given files.\n",
        "Sets the array's length (shortest of all arrays) as array_len.\n",
        "Store data arrays as data_arrays.\n",
        "\n",
        "**render**:\n",
        "Render a line plot with the mean, maximum value, and minimum value of each data array.\n",
        "Use fill_between to display the area between the maximum and minimum values.\n",
        "A legend was added at the bottom right of the plot.\n",
        "Displays plots.\n",
        "\n",
        "**process_data**:\n",
        "Processing data, including calculating the rolling mean, standard deviation, maximum, and minimum values.\n",
        "Using a rolling window to calculate the rolling mean.\n",
        "Determines the x-axis (x_axes) based on the length of the data array.\n",
        "Stores each data array's average value, standard deviation, maximum value, and minimum value.\n",
        "\n",
        "**Variables**\n",
        "\n",
        "fig and ax: Variables that store subplot objects.\n",
        "data_arrays: Multidimensional arrays that store data.\n",
        "array_len: Length of the data array.\n",
        "mean_array, var_array, max_array, min_array: Arrays that store the mean, standard deviation, maximum value, and minimum value.\n",
        "x_axes: Variable that stores the x-axis for the plot."
      ]
    },
    {
      "cell_type": "code",
      "execution_count": 98,
      "metadata": {
        "id": "v8H9RN2EmXmN"
      },
      "outputs": [],
      "source": [
        "import matplotlib.pyplot as plt\n",
        "import numpy as np\n",
        "from collections import deque\n",
        "\n",
        "class LinePlotter:\n",
        "\n",
        "\tdef __init__(self, x_label=\"X Label\", y_label=\"Y Label\", title=\"No Title\"):\n",
        "\t\tself.fig, self.ax = plt.subplots(1)\n",
        "\t\tself.ax.spines[\"top\"].set_visible(False)\n",
        "\t\tself.ax.spines[\"bottom\"].set_visible(False)\n",
        "\t\tself.ax.spines[\"right\"].set_visible(False)\n",
        "\t\tself.ax.spines[\"left\"].set_visible(False)\n",
        "\t\tself.ax.set_facecolor('#eaeaf2')\n",
        "\t\tplt.grid(color='#ffffff', linestyle='-', linewidth=1)\n",
        "\t\tplt.xticks(fontsize=12)\n",
        "\t\tplt.yticks(fontsize=12)\n",
        "\t\tplt.xlabel(x_label, fontsize=12)\n",
        "\t\tplt.ylabel(y_label, fontsize=12)\n",
        "\t\tplt.title(title, fontsize=16)\n",
        "\t\tself.data_arrays = []\n",
        "\t\tself.array_len = -1\n",
        "\t\tself.mean_array = []\n",
        "\t\tself.var_array =  []\n",
        "\t\tself.max_array = []\n",
        "\t\tself.min_array = []\n",
        "\n",
        "\tdef load_array(self, file_name_arrays, early_stop=None):\n",
        "\t\t#data_arrays = [[np.loadtxt(name, unpack=True) for name in array_set] for array_set in file_name_arrays]\n",
        "\t\tdata_arrays = [[np.loadtxt(name, unpack=True).reshape(-1, 1) for name in array_set] for array_set in file_name_arrays]\n",
        "\t\t#data_arrays = [[np.loadtxt(name, delimiter='\\n', unpack=True) for name in array_set] for array_set in file_name_arrays]\n",
        "\t\t#[min(len(el) if hasattr(el, '__len__') else 0 for el in array_set) for array_set in data_arrays]\n",
        "\t\tif(early_stop == None): self.array_len = min([min([el.shape[0] for el in array_set]) for array_set in data_arrays])\n",
        "\t\t#if(early_stop == None): self.array_len = min([min([len(el) for el in array_set]) for array_set in data_arrays])\n",
        "\t\telse: self.array_len = early_stop\n",
        "\t\tself.data_arrays = np.array([[el[:self.array_len] for el in array_set] for array_set in data_arrays], dtype=object)\n",
        "\n",
        "\tdef render(self, labels, colors):\n",
        "\t\terr_msg = \"load some data before the render!\"\n",
        "\t\tassert self.array_len > 0, err_msg\n",
        "\t\tfor mean_values, max_values, min_values, label, color in zip(self.mean_array, self.max_array, self.min_array, labels, colors):\n",
        "\t\t\tself.ax.plot(self.x_axes, mean_values, label=label, color=color, linestyle='-', linewidth=1.2 )\n",
        "\t\t\tself.ax.fill_between(self.x_axes, max_values, min_values, facecolor=color, alpha=0.3)\n",
        "\t\tself.ax.legend(loc='lower right', bbox_to_anchor=(1, 0), fontsize=14)\n",
        "\t\tplt.show()\n",
        "\n",
        "\tdef process_data(self, rolling_window=1, starting_pointer=0, early_stop=None):\n",
        "\t\trolling_queue = deque(maxlen=rolling_window)\n",
        "\t\tself.x_axes = [i for i in range(self.array_len-starting_pointer)]\n",
        "\t\tfor array_set in self.data_arrays:\n",
        "\t\t\tfor array in array_set:\n",
        "\t\t\t\tfor i in range(self.array_len):\n",
        "\t\t\t\t\trolling_queue.append(array[i])\n",
        "\t\t\t\t\tarray[i] = np.mean(rolling_queue)\n",
        "\t\t\t\trolling_queue.clear()\n",
        "\t\t# Fix for different array size\n",
        "\t\tself.data_arrays = np.array([np.array(el) for el in self.data_arrays], dtype=object)\n",
        "\t\tself.mean_array = np.array([[np.mean(array_set[:, i]) for i in range(self.array_len)][starting_pointer:] for array_set in self.data_arrays])\n",
        "\t\tself.var_array =  np.array([[np.std(array_set[:, i]) for i in range(self.array_len)][starting_pointer:] for array_set in self.data_arrays])\n",
        "\t\tself.max_array = [[np.max(array_set[:, i]) for i in range(self.array_len)][starting_pointer:] for array_set in self.data_arrays]\n",
        "\t\tself.min_array = [[np.min(array_set[:, i]) for i in range(self.array_len)][starting_pointer:] for array_set in self.data_arrays]\n"
      ]
    },
    {
      "cell_type": "markdown",
      "metadata": {
        "id": "RBnOLauumXmN"
      },
      "source": []
    },
    {
      "cell_type": "code",
      "execution_count": 9,
      "metadata": {
        "id": "ThfAjg9q8mL-"
      },
      "outputs": [],
      "source": [
        "class HistoPlotter():\n",
        "\n",
        "\tdef __init__(self):\n",
        "\t\tself.trained_list = []\n",
        "\t\tself.random_list = []\n",
        "\n",
        "\tdef plot( self ):\n",
        "\t\tfig = plt.figure()\n",
        "\t\tax = fig.add_subplot(111)\n",
        "\t\tN = len(self.trained_list)\n",
        "\t\tind = np.arange(N)\n",
        "\t\twidth = 0.35\n",
        "\t\trects1 = ax.bar(ind, self.trained_list, width,\n",
        "\t\t\t\t\t\tcolor='black',\n",
        "\t\t\t\t\t\terror_kw=dict(elinewidth=2,ecolor='Red'))\n",
        "\t\trects2 = ax.bar(ind+width, self.random_list, width,\n",
        "\t\t\t\t\t\t\tcolor='red',\n",
        "\t\t\t\t\t\t\terror_kw=dict(elinewidth=2,ecolor='Blue'))\n",
        "\t\tax.set_xlim(-width,len(ind)+width)\n",
        "\t\tax.set_ylabel('Money Spent (euros)', fontsize=12)\n",
        "\t\tax.set_title('Smart Home')\n",
        "\t\txTickMarks = ['January', 'February', 'March', 'April', 'May', 'June', 'July', 'August', 'September', 'October', 'November', 'December']\n",
        "\t\tax.set_xticks(ind+width)\n",
        "\t\txtickNames = ax.set_xticklabels(xTickMarks)\n",
        "\t\tplt.setp(xtickNames, rotation=45, fontsize=12)\n",
        "\t\tax.legend( (rects1[0], rects2[0]), (f\"Trained Network (total={sum(self.trained_list):6.2f})\", f\"Random Actions (total={sum(self.random_list):6.2f})\"), fontsize=14 )\n",
        "\t\tplt.show()\n",
        "\n",
        "\n",
        "class DoubleLinePlotter():\n",
        "\n",
        "\tdef __init__(self, battery_level=[10, 20, 30], ev_level= [0, 0, 0], price=[30, 20, 10], hourly_charge_sg=[0, 0, 0], hourly_charge_pv=[0, 0, 0] ):\n",
        "\t\tself.battery_level = battery_level\n",
        "\t\tself.ev_level = ev_level\n",
        "\t\tself.charge_sg = hourly_charge_sg\n",
        "\t\tself.charge_pv = hourly_charge_pv\n",
        "\t\tself.price = price\n",
        "\n",
        "\tdef plot( self ):\n",
        "\t\tfig, ax = plt.subplots()\n",
        "\t\taxes = [ax, ax.twinx()]\n",
        "\t\tfig.subplots_adjust(right=0.86)\n",
        "\t\tax.set_xlabel('Time (h)')\n",
        "\n",
        "\t\t# Plot on Axis 1: Battery consupmtion\n",
        "\t\tX = [str(i) for i in range(24)]\n",
        "\t\taxes[0].bar(X, self.charge_sg, color='green', label=\"from SG\")\n",
        "\t\taxes[0].bar(X, self.charge_pv, color='blue', label=\"from PV\")\n",
        "\t\taxes[0].set_ylabel(\"Charge (kWh)\", color='black')\n",
        "\t\taxes[0].tick_params(axis='y', colors='black')\n",
        "\t\taxes[0].legend(loc='upper right', fontsize=14)\n",
        "\n",
        "\t\t# Plot on Axis 2: Price\n",
        "\t\taxes[1].plot(self.price, linestyle='-', color='red', linewidth=1.2)\n",
        "\t\taxes[1].set_ylabel('Price (kWh)', color='red')\n",
        "\t\taxes[1].tick_params(axis='y', colors='red')\n",
        "\n",
        "\t\t# Final Plot\n",
        "\t\tplt.show()\n",
        "\n",
        "\n",
        "class GenerationPlotter():\n",
        "\n",
        "\tdef __init__(self, pv, grid, battery_charge):\n",
        "\t\tself.pv = pv\n",
        "\t\tself.grid = grid\n",
        "\t\tself.battery_charge = battery_charge\n",
        "\n",
        "\tdef plot( self ):\n",
        "\t\tfig, ax = plt.subplots()\n",
        "\t\taxes = [ax, ax.twinx()]\n",
        "\t\tfig.subplots_adjust(right=0.86)\n",
        "\t\tax.set_xlabel('Time (h)')\n",
        "\n",
        "\t\t# Plot on Axis 1: Battery consupmtion\n",
        "\t\tX = [str(i) for i in range(24)]\n",
        "\t\taxes[0].bar(X, self.battery_charge, color='blue', label=\"Battery Discharge\")\n",
        "\t\taxes[0].bar(X, self.pv, color='red', label=\"PV\")\n",
        "\t\taxes[0].bar(X, self.grid, color='green', label=\"Grid\")\n",
        "\t\taxes[0].set_ylabel(\"Energy (kWh)\", color='black')\n",
        "\t\taxes[0].tick_params(axis='y', colors='black')\n",
        "\t\taxes[0].legend(loc='upper right', fontsize=14)\n",
        "\n",
        "\t\t# Plot on Axis 2: Price\n",
        "\t\t#axes[1].plot(self.price, linestyle='-', color='red', linewidth=1.2)\n",
        "\t\t#axes[1].set_ylabel('Price (kWh)', color='red')\n",
        "\t\t#axes[1].tick_params(axis='y', colors='red')\n",
        "\n",
        "\t\t# Final Plot\n",
        "\t\tplt.show()\n",
        "\n",
        "class DemandsPlotter():\n",
        "\n",
        "\tdef __init__(self, house_demands, battery_charge):\n",
        "\t\tself.house_demands = house_demands\n",
        "\t\tself.battery_charge = battery_charge\n",
        "\n",
        "\tdef plot( self ):\n",
        "\t\tfig, ax = plt.subplots()\n",
        "\t\taxes = [ax, ax.twinx()]\n",
        "\t\tfig.subplots_adjust(right=0.86)\n",
        "\t\tax.set_xlabel('Time (h)')\n",
        "\n",
        "\t\t# Plot on Axis 1: Battery consupmtion\n",
        "\t\tX = [str(i) for i in range(24)]\n",
        "\t\taxes[0].bar(X, self.battery_charge, color='green', label=\"Battery Charge\")\n",
        "\t\taxes[0].bar(X, self.house_demands, color='blue', label=\"House Demands\")\n",
        "\t\taxes[0].set_ylabel(\"Energy (kWh)\", color='black')\n",
        "\t\taxes[0].tick_params(axis='y', colors='black')\n",
        "\t\taxes[0].legend(loc='upper right', fontsize=14)\n",
        "\n",
        "\t\t# Plot on Axis 2: Price\n",
        "\t\t#axes[1].plot(self.price, linestyle='-', color='red', linewidth=1.2)\n",
        "\t\t#axes[1].set_ylabel('Price (kWh)', color='red')\n",
        "\t\t#axes[1].tick_params(axis='y', colors='red')\n",
        "\n",
        "\t\t# Final Plot\n",
        "\t\tplt.show()"
      ]
    },
    {
      "cell_type": "markdown",
      "metadata": {
        "id": "gUaGFbbZ8WuC"
      },
      "source": [
        "### Env : Smart Home"
      ]
    },
    {
      "cell_type": "code",
      "execution_count": 13,
      "metadata": {
        "id": "0ywxOcUN4NwQ"
      },
      "outputs": [],
      "source": [
        "from gym import spaces, logger\n",
        "from gym.utils import seeding\n",
        "import pandas as pd\n",
        "import numpy as np\n",
        "\n",
        "class SmartHome:\n",
        "\n",
        "\tdef __init__(self):\n",
        "\t\t# Initial battery state\n",
        "\t\tself.home_battery_state = 0\n",
        "\t\tself.ev_battery_state = 0\n",
        "\n",
        "\t\t# Initial date and time\n",
        "\t\tself.month = 1\n",
        "\t\tself.day = 1\n",
        "\t\tself.time = 0\n",
        "\n",
        "\t\t# Initial episode length\n",
        "\t\tself.max_step_hours = 0\n",
        "\n",
        "\t\t# Load the data tables and data processing in the ProcessedData class\n",
        "\t\tself.processed_data = ProcessedData()\n",
        "\t\tself.__load_data_tables()\n",
        "\n",
        "\t\t# Define gym actions and env\n",
        "\t\tself.action_space = spaces.Discrete(5)     \t\t\t\t\t\t\t\t\t\t\t\t\t#Discret space of action\n",
        "\t\tlow = np.array([0 for _ in range(5)], dtype=np.float64)\n",
        "\t\thigh = np.array([1 for _ in range(5)], dtype=np.float64)\n",
        "\t\tself.observation_space = spaces.Box(low, high, dtype=np.float64)\t\t#Continuous space of observations (1/0)\n",
        "\n",
        "\n",
        "\t#####################\n",
        "\t#### GYM METHODS ####\n",
        "\t#####################\n",
        "\n",
        "\n",
        "\tdef reset(self):\n",
        "\t\t# Generate random home battery and ev battery level\n",
        "\t\tself.home_battery_state = np.random.rand() * Specifications.HOME_CAPACITY\n",
        "\t\tself.ev_battery_state = np.random.rand() * Specifications.EV_CAPACITY\n",
        "\n",
        "\t\t# Generate random datetime\n",
        "\t\tself.month = np.random.random_integers(1, 12)\n",
        "\t\tself.day = np.random.random_integers(1, Constant.MONTHS_LEN[self.month-1])\n",
        "\t\tself.time = np.random.random_integers(0, 23)\n",
        "\n",
        "\t\t# Reset environment parameters\n",
        "\t\tself.total_euros_spent = 0\n",
        "\n",
        "\t\t# Reset learning parameters\n",
        "\t\tself.max_step_hours = Constant.MAX_STEP_HOURS\n",
        "\n",
        "\t\treturn self.__get_normalized_state()\n",
        "\n",
        "\n",
        "\tdef step(self, action):\n",
        "\t\t# Define local variables\n",
        "\t\treward = 0\n",
        "\t\tdone = False\n",
        "\t\tcurrent_spent = 0\n",
        "\t\tinfo = {'use_ev_fail':0, 'charge_ev_fail':0}\n",
        "\n",
        "\t\t# Get processed data of the current datetime\n",
        "\t\tusers_demand = self.processed_data.get_H4_consumes(self.month, self.day, self.time)\n",
        "\t\tpv_potential = self.processed_data.get_PV_entry(self.month, self.day, self.time)\n",
        "\t\tsg_cost = self.processed_data.get_SG_prices(self.month, self.day, self.time)\n",
        "\n",
        "\t\t# Case 1: enough energy on the home battery, use it to meet the request\n",
        "\t\tif self.home_battery_state > users_demand: self.home_battery_state -= users_demand\n",
        "\n",
        "\t\t# Case 2: not enough energy on the home battery but enough from the PV\n",
        "\t\telif pv_potential > users_demand: pv_potential -= users_demand\n",
        "\n",
        "\t\t# Case 3: take the energy from the smart grid\n",
        "\t\telse: current_spent += (sg_cost * users_demand)\n",
        "\n",
        "\t\t# Perform Action\n",
        "\t\tif action == Actions.CHARGE_HOME_wPV:\n",
        "\t\t\tself.home_battery_state += pv_potential\n",
        "\t\tif action == Actions.CHARGE_HOME_wSG:\n",
        "\t\t\tself.home_battery_state += Specifications.MAX_CHARGE_FOR_HOUR\n",
        "\t\t\tcurrent_spent += (Specifications.MAX_CHARGE_FOR_HOUR * sg_cost)\n",
        "\t\tif action == Actions.CHARGE_EV_wPV:\n",
        "\t\t\tself.ev_battery_state += pv_potential\n",
        "\t\tif action == Actions.CHARGE_EV_wSG:\n",
        "\t\t\tself.ev_battery_state += Specifications.MAX_CHARGE_FOR_HOUR\n",
        "\t\t\tcurrent_spent += (Specifications.MAX_CHARGE_FOR_HOUR * sg_cost)\n",
        "\n",
        "\t\t# Fix Values with the max battery capacity\n",
        "\t\tself.home_battery_state = min(self.home_battery_state, Specifications.HOME_CAPACITY)\n",
        "\t\tself.ev_battery_state = min(self.ev_battery_state, Specifications.EV_CAPACITY)\n",
        "\n",
        "\t\t# Negative reward for euros spent\n",
        "\t\treward = -current_spent\n",
        "\t\t# Negative reward if the EV is not ready in the morning\n",
        "\t\tif self.time == 6 and self.ev_battery_state < Specifications.EV_DAILY_CONSUME:\n",
        "\t\t\treward -= 10\n",
        "\t\t\tinfo['use_ev_fail'] = 1\n",
        "\t\t# Negative reward if try to charge the car in the working times\n",
        "\t\tif self.time >= 6 and self.time <= 18 and (action == Actions.CHARGE_EV_wPV or action == Actions.CHARGE_EV_wSG):\n",
        "\t\t\treward -= 10\n",
        "\t\t\tinfo['charge_ev_fail'] = 1\n",
        "\n",
        "\t\t# Use the daily requirement of the EV at 6am\n",
        "\t\tif self.time == 6 and self.ev_battery_state >= Specifications.EV_DAILY_CONSUME: self.ev_battery_state -= Specifications.EV_DAILY_CONSUME\n",
        "\t\t# Compute the total cost of the episode\n",
        "\t\tself.total_euros_spent += current_spent\n",
        "\n",
        "\t\t# Increase datetime by 1 hour and fix day and month\n",
        "\t\tself.max_step_hours -= 1\n",
        "\t\tself.time += 1\n",
        "\t\tif self.time > 23:\n",
        "\t\t\tself.time = 0\n",
        "\t\t\tself.day += 1\n",
        "\t\tif self.day > Constant.MONTHS_LEN[self.month-1]:\n",
        "\t\t\tself.day = 1\n",
        "\t\t\tself.month += 1\n",
        "\t\tif self.month > 12:\n",
        "\t\t\tself.month = 1\n",
        "\t\t\tself.day = 1\n",
        "\t\t\tself.time = 0\n",
        "\n",
        "\t\t# Check Done state\n",
        "\t\tif self.max_step_hours <= 0: done = True\n",
        "\n",
        "\t\treturn self.__get_normalized_state(), reward, done, info\n",
        "\n",
        "\n",
        "\tdef seed(self, seed=None):\n",
        "\t\tself.np_random, seed = seeding.np_random(seed)\n",
        "\t\treturn [seed]\n",
        "\n",
        "\n",
        "\t#####################\n",
        "\t## PRIVATE METHODS ##\n",
        "\t#####################\n",
        "\n",
        "\n",
        "\tdef __load_data_tables(self):\n",
        "\t\tPV_production_df = pd.read_csv('data/PV.csv', sep=';')\n",
        "\t\tSG_prices_df = pd.read_csv('data/Prices.csv', sep=';')\n",
        "\t\tH4_consumes_df = pd.read_csv('data/H4.csv', sep=';')\n",
        "\n",
        "\t\tPV_production = PV_production_df['P_PV_'].apply(lambda x:  x.replace(',','.')  ).to_numpy( dtype=float )\n",
        "\t\tSG_prices = SG_prices_df['Price'].apply(lambda x:  x.replace(',','.')  ).to_numpy( dtype=float )\n",
        "\t\tH4_consumes = H4_consumes_df['Power'].apply(lambda x:  x.replace(',', '.')).to_numpy( dtype=float )\n",
        "\n",
        "\t\tfor el in PV_production:\n",
        "\t\t\tself.processed_data.add_PV_entry( el )\n",
        "\t\tfor el in SG_prices:\n",
        "\t\t\tself.processed_data.add_SG_prices( el / 1000 )\n",
        "\t\tfor i in range(0, H4_consumes.shape[0], 60):\n",
        "\t\t\tel = H4_consumes[i:i+60]\n",
        "\t\t\tself.processed_data.add_H4_consumes( sum(el) )\n",
        "\n",
        "\n",
        "\tdef __get_normalized_state(self):\n",
        "\t\tnorm_month = (self.month-1) / 11\n",
        "\t\tnorm_day = (self.day-1) / 31\n",
        "\t\tnorm_time = self.time / 23\n",
        "\t\tnorm_home_battery_state = self.home_battery_state / Specifications.HOME_CAPACITY\n",
        "\t\tnorm_ev_battery_state = self.ev_battery_state / Specifications.EV_CAPACITY\n",
        "\t\treturn np.array([norm_month, norm_day, norm_time, norm_home_battery_state, norm_ev_battery_state])\n",
        "\n"
      ]
    },
    {
      "cell_type": "markdown",
      "metadata": {
        "id": "DR6yJP1U9Gbj"
      },
      "source": [
        "### RL Algorithm : DQN and mcPPO"
      ]
    },
    {
      "cell_type": "markdown",
      "metadata": {
        "id": "FVTnc-Vk9S4A"
      },
      "source": [
        "### DQN"
      ]
    },
    {
      "cell_type": "code",
      "execution_count": 43,
      "metadata": {
        "id": "mTwm_1Al9LLG"
      },
      "outputs": [],
      "source": [
        "from tensorflow import keras\n",
        "from collections import deque\n",
        "import tensorflow as tf\n",
        "import numpy as np\n",
        "import gym\n",
        "import random\n",
        "\n",
        "class DQN:\n",
        "\tdef __init__(self, env, verbose):\n",
        "\t\tself.env = env\n",
        "\t\tself.verbose = verbose\n",
        "\n",
        "\t\tself.input_shape = self.env.observation_space.shape\n",
        "\t\tself.action_space = env.action_space.n\n",
        "\t\tself.actor = self.get_actor_model(self.input_shape, self.action_space)\n",
        "\t\tself.actor_target = self.get_actor_model(self.input_shape, self.action_space)\n",
        "\t\tself.actor_target.set_weights(self.actor.get_weights())\n",
        "\n",
        "\t\tself.optimizer = keras.optimizers.Adam()\n",
        "\t\tself.gamma = 0.95\n",
        "\t\tself.memory_size = 2000\n",
        "\t\tself.batch_size = 32\n",
        "\t\tself.exploration_rate = 1.0\n",
        "\t\tself.exploration_decay = 0.995\n",
        "\t\tself.tau = 0.005\n",
        "\n",
        "\t\tself.run_id = np.random.randint(0, 1000)\n",
        "\n",
        "\n",
        "\tdef loop( self, num_episodes=1000 ):\n",
        "\t\treward_list = []\n",
        "\t\tep_reward_mean = deque(maxlen=100)\n",
        "\t\treplay_buffer = deque(maxlen=self.memory_size)\n",
        "\n",
        "\t\tfor episode in range(num_episodes):\n",
        "\t\t\tstate = self.env.reset()\n",
        "\t\t\tep_reward = 0\n",
        "\n",
        "\t\t\twhile True:\n",
        "\t\t\t\taction = self.get_action(state)\n",
        "\t\t\t\tnew_state, reward, done, _ = self.env.step(action)\n",
        "\t\t\t\tep_reward += reward\n",
        "\n",
        "\t\t\t\treplay_buffer.append([state, action, reward, new_state, done])\n",
        "\t\t\t\tif done: break\n",
        "\t\t\t\tstate = new_state\n",
        "\n",
        "\t\t\t\tself.update_networks(replay_buffer)\n",
        "\t\t\t\tself._update_target(self.actor.variables, self.actor_target.variables, tau=self.tau)\n",
        "\n",
        "\t\t\tself.exploration_rate = self.exploration_rate * self.exploration_decay if self.exploration_rate > 0.05 else 0.05\n",
        "\t\t\tep_reward_mean.append(ep_reward)\n",
        "\t\t\treward_list.append(ep_reward)\n",
        "\t\t\tif self.verbose > 0:\n",
        "\t\t\t\tprint(f\"Episode: {episode:7.0f}, reward: {ep_reward:8.2f}, mean_last_100: {np.mean(ep_reward_mean):8.2f}, exploration: {self.exploration_rate:0.2f}\")\n",
        "\t\t\tif self.verbose == 1:\n",
        "\t\t\t\tnp.savetxt(f\"data/reward_DQN_{self.run_id}.txt\", reward_list)\n",
        "\n",
        "\n",
        "\tdef _update_target(self, weights, target_weights, tau):\n",
        "\t\tfor (a, b) in zip(target_weights, weights):\n",
        "\t\t\ta.assign(b * tau + a * (1 - tau))\n",
        "\n",
        "\n",
        "\tdef get_action(self, state):\n",
        "\t\tif np.random.random() < self.exploration_rate:\n",
        "\t\t\treturn np.random.choice(self.action_space)\n",
        "\t\treturn np.argmax(self.actor(state.reshape((1, -1))))\n",
        "\n",
        "\n",
        "\tdef update_networks(self, replay_buffer):\n",
        "\t\tsamples = np.array(random.sample(replay_buffer, min(len(replay_buffer), self.batch_size)), dtype=object)\n",
        "\t\twith tf.GradientTape() as tape:\n",
        "\t\t\tobjective_function = self.actor_objective_function_double(samples) #Compute loss with custom loss function\n",
        "\t\t\tgrads = tape.gradient(objective_function, self.actor.trainable_variables) #Compute gradients actor for network\n",
        "\t\t\tself.optimizer.apply_gradients( zip(grads, self.actor.trainable_variables) ) #Apply gradients to update network weights\n",
        "\n",
        "\n",
        "\tdef actor_objective_function_double(self, replay_buffer):\n",
        "\t\tstate = np.vstack(replay_buffer[:, 0])\n",
        "\t\taction = replay_buffer[:, 1]\n",
        "\t\treward = np.vstack(replay_buffer[:, 2])\n",
        "\t\tnew_state = np.vstack(replay_buffer[:, 3])\n",
        "\t\tdone = np.vstack(replay_buffer[:, 4])\n",
        "\n",
        "\t\tnext_state_action = np.argmax(self.actor(new_state), axis=1)\n",
        "\t\ttarget_mask = self.actor_target(new_state) * tf.one_hot(next_state_action, self.action_space)\n",
        "\t\ttarget_mask = tf.reduce_sum(target_mask, axis=1, keepdims=True)\n",
        "\n",
        "\t\ttarget_value = reward + (1 - done.astype(int)) * self.gamma * target_mask\n",
        "\t\tmask = self.actor(state) * tf.one_hot(action, self.action_space)\n",
        "\t\tprediction_value = tf.reduce_sum(mask, axis=1, keepdims=True)\n",
        "\n",
        "\t\tmse = tf.math.square(prediction_value - target_value)\n",
        "\t\treturn tf.math.reduce_mean(mse)\n",
        "\n",
        "\n",
        "\tdef get_actor_model(self, input_shape, output_size):\n",
        "\t\tinputs = keras.layers.Input(shape=input_shape)\n",
        "\t\thidden_0 = keras.layers.Dense(64, activation='relu')(inputs)\n",
        "\t\thidden_1 = keras.layers.Dense(64, activation='relu')(hidden_0)\n",
        "\t\toutputs = keras.layers.Dense(output_size, activation='linear')(hidden_1)\n",
        "\n",
        "\t\treturn keras.Model(inputs, outputs)\n",
        "\n",
        "\n",
        "\t  ##########################\n",
        "    #### VANILLA METHODS #####\n",
        "    ##########################\n",
        "\n",
        "\n",
        "\tdef actor_objective_function_fixed_target(self, replay_buffer):\n",
        "\t\tstate = np.vstack(replay_buffer[:, 0])\n",
        "\t\taction = replay_buffer[:, 1]\n",
        "\t\treward = np.vstack(replay_buffer[:, 2])\n",
        "\t\tnew_state = np.vstack(replay_buffer[:, 3])\n",
        "\t\tdone = np.vstack(replay_buffer[:, 4])\n",
        "\n",
        "\t\ttarget_value = reward + (1 - done.astype(int)) * self.gamma * np.amax(self.actor_target(new_state), axis=1, keepdims=True)\n",
        "\t\tmask = self.actor(state) * tf.one_hot(action, self.action_space)\n",
        "\t\tprediction_value = tf.reduce_sum(mask, axis=1, keepdims=True)\n",
        "\n",
        "\t\tmse = tf.math.square(prediction_value - target_value)\n",
        "\t\treturn tf.math.reduce_mean(mse)\n",
        "\n",
        "\n",
        "\tdef actor_objective_function_std(self, replay_buffer):\n",
        "\t\tstate = np.vstack(replay_buffer[:, 0])\n",
        "\t\taction = replay_buffer[:, 1]\n",
        "\t\treward = np.vstack(replay_buffer[:, 2])\n",
        "\t\tnew_state = np.vstack(replay_buffer[:, 3])\n",
        "\t\tdone = np.vstack(replay_buffer[:, 4])\n",
        "\n",
        "\t\ttarget_value = reward + (1 - done.astype(int)) * self.gamma * np.amax(self.actor(new_state), axis=1, keepdims=True)\n",
        "\t\tmask = self.actor(state) * tf.one_hot(action, self.action_space)\n",
        "\t\tprediction_value = tf.reduce_sum(mask, axis=1, keepdims=True)\n",
        "\n",
        "\t\tmse = tf.math.square(prediction_value - target_value)\n",
        "\t\treturn tf.math.reduce_mean(mse)"
      ]
    },
    {
      "cell_type": "markdown",
      "metadata": {
        "id": "ky1vw7W18cib"
      },
      "source": [
        "### Train the model"
      ]
    },
    {
      "cell_type": "markdown",
      "metadata": {
        "id": "I9FOxf2PAjp3"
      },
      "source": [
        "#### Train DQN"
      ]
    },
    {
      "cell_type": "code",
      "source": [
        "import sys, os; os; os.environ[\"TF_CPP_MIN_LOG_LEVEL\"] = \"2\" # ?\n",
        "import tensorflow, numpy, glob\n",
        "import numpy as np\n",
        "#from algos.DQN import DQN\n",
        "#from pycode.smart_home import SmartHome\n",
        "\n",
        "def train_dqn( epoch=10, save_model=True ):\n",
        "\tenv = SmartHome()\n",
        "\talgo = DQN( env, verbose=1 )\n",
        "\talgo.loop( num_episodes=epoch )\n",
        "\tif save_model: algo.actor.save( f\"trained_models/neural_network_dqn_ep{epoch}.h5\" )\n",
        "\n"
      ],
      "metadata": {
        "id": "4B_D2CpCmqwM"
      },
      "execution_count": 44,
      "outputs": []
    },
    {
      "cell_type": "markdown",
      "metadata": {
        "id": "MeHNojfPAoiH"
      },
      "source": [
        "#### Test model (à revoir)"
      ]
    },
    {
      "cell_type": "code",
      "execution_count": 45,
      "metadata": {
        "id": "lqXtAr7PARBW"
      },
      "outputs": [],
      "source": [
        "\n",
        "#Function that test a model\n",
        "def test_models( _get_action, network_name, debug=False ):\n",
        "\tenv = SmartHome()\n",
        "\tneural_network = tensorflow.keras.models.load_model( network_name, compile=False )\n",
        "\tstate = env.reset()\n",
        "\n",
        "\t# Set first day of the year\n",
        "\tenv.month = 1\n",
        "\tenv.day = 1\n",
        "\tenv.time = 0\n",
        "\tenv.ev_battery_state = 0\n",
        "\tenv.home_battery_state = 0\n",
        "\n",
        "\t# Cycle for the full year\n",
        "\tcurrent_total_spent = 0\n",
        "\tcurrent_month = 1\n",
        "\tmonthly_total_list = []\n",
        "\thourly_action_list = [[] for _ in range(24)]\n",
        "\thourly_home_battery_list = [[] for _ in range(24)]\n",
        "\thourly_ev_battery_list = [[] for _ in range(24)]\n",
        "\thourly_price_list = [[] for _ in range(24)]\n",
        "\thourly_pv_list = [[] for _ in range(24)]\n",
        "\n",
        "\thourly_demands = [[] for _ in range(24)]\t# emarche\n",
        "\n",
        "\tuse_ev_fail_total = 0\n",
        "\tcharge_ev_fail_total = 0\n",
        "\n",
        "\twhile True:\n",
        "\t\taction = _get_action( neural_network, state, env )\n",
        "\t\tstate, _, _, info = env.step( action )\n",
        "\t\tuse_ev_fail_total += info['use_ev_fail']\n",
        "\t\tcharge_ev_fail_total += info['charge_ev_fail']\n",
        "\n",
        "\t\thourly_action_list[ env.time ].append(action)\n",
        "\t\thourly_home_battery_list[ env.time ].append(env.home_battery_state)\n",
        "\t\thourly_ev_battery_list[ env.time ].append(env.ev_battery_state)\n",
        "\t\thourly_price_list[ env.time ].append(env.processed_data.get_SG_prices(env.month, env.day, env.time))\n",
        "\t\thourly_pv_list[ env.time ].append(env.processed_data.get_PV_entry(env.month, env.day, env.time))\n",
        "\n",
        "\t\thourly_demands[ env.time ].append(env.processed_data.get_H4_consumes(env.month, env.day, env.time))\t# emarche\n",
        "\n",
        "\t\tif env.month > current_month:\n",
        "\t\t\tmonthly_total_list.append( env.total_euros_spent - current_total_spent )\n",
        "\t\t\tcurrent_month = env.month\n",
        "\t\t\tcurrent_total_spent = env.total_euros_spent\n",
        "\n",
        "\t\tif ( env.month == 1 and env.day == 1 and env.time == 0 ):\n",
        "\t\t\tmonthly_total_list.append( env.total_euros_spent - current_total_spent )\n",
        "\t\t\tbreak\n",
        "\n",
        "\tif debug:\n",
        "\t\tprint( f\"This years spent: {env.total_euros_spent:6.2f} euros\" )\n",
        "\t\tprint( f\"Total days with not enough charge on the EV: {use_ev_fail_total}\" )\n",
        "\t\tprint( f\"Total try to charge while EV is away: {charge_ev_fail_total}\\n\" )\n",
        "\n",
        "\thourly_home_battery = [numpy.mean( total ) for total in hourly_home_battery_list]\n",
        "\thourly_ev_battery = [numpy.mean( total ) for total in hourly_ev_battery_list]\n",
        "\thourly_price = [numpy.mean( total ) for total in hourly_price_list]\n",
        "\thourly_pv = [numpy.mean( total ) for total in hourly_pv_list]\n",
        "\thourly_mean_charge_battery = []\n",
        "\thourly_mean_charge_pv = []\n",
        "\n",
        "\tfor idx, time in enumerate(hourly_action_list):\n",
        "\t\thourly_mean_charge_battery.append( time.count(2) / len(time) * 11 )\n",
        "\t\thourly_mean_charge_battery[-1] += ( time.count(4) / len(time) * 11 )\n",
        "\n",
        "\t\thourly_mean_charge_pv.append( time.count(1) / len(time) * hourly_pv[idx] )\n",
        "\t\thourly_mean_charge_pv[-1] += ( time.count(3) / len(time) * hourly_pv[idx] )\n",
        "\n",
        "\thourly_demands = [np.mean(total) for total in hourly_demands]\n",
        "\treturn monthly_total_list, use_ev_fail_total, hourly_home_battery, hourly_ev_battery, hourly_price, hourly_mean_charge_battery, hourly_mean_charge_pv, hourly_demands\n",
        "\n"
      ]
    },
    {
      "cell_type": "code",
      "execution_count": 46,
      "metadata": {
        "id": "ajG7TqJcAz_U"
      },
      "outputs": [],
      "source": [
        "#return action for DQN\n",
        "def _get_action_dqn( net, state, env ):\n",
        "\treturn numpy.argmax(net(state.reshape((1, -1))))\n",
        "\n",
        "#return action for random action which is the baseline\n",
        "def _get_action_random( net, state, env ):\n",
        "\treturn env.action_space.sample()\n"
      ]
    },
    {
      "cell_type": "markdown",
      "metadata": {
        "id": "r_NR2jQvBEdt"
      },
      "source": []
    },
    {
      "cell_type": "markdown",
      "metadata": {
        "id": "zdBJPHAyBOE_"
      },
      "source": [
        "#### To launch the training"
      ]
    },
    {
      "cell_type": "code",
      "execution_count": 47,
      "metadata": {
        "colab": {
          "base_uri": "https://localhost:8080/"
        },
        "id": "7GUOo5qCBRmn",
        "outputId": "d3adcee7-55b9-4f46-9967-5d3c78efae5a"
      },
      "outputs": [
        {
          "output_type": "stream",
          "name": "stdout",
          "text": [
            "Starting training !\n"
          ]
        },
        {
          "output_type": "stream",
          "name": "stderr",
          "text": [
            "<ipython-input-13-7e18a2be0358>:43: DeprecationWarning: This function is deprecated. Please call randint(1, 12 + 1) instead\n",
            "  self.month = np.random.random_integers(1, 12)\n",
            "<ipython-input-13-7e18a2be0358>:44: DeprecationWarning: This function is deprecated. Please call randint(1, 30 + 1) instead\n",
            "  self.day = np.random.random_integers(1, Constant.MONTHS_LEN[self.month-1])\n",
            "<ipython-input-13-7e18a2be0358>:45: DeprecationWarning: This function is deprecated. Please call randint(0, 23 + 1) instead\n",
            "  self.time = np.random.random_integers(0, 23)\n"
          ]
        },
        {
          "output_type": "stream",
          "name": "stdout",
          "text": [
            "Episode:       0, reward: -1654.18, mean_last_100: -1654.18, exploration: 0.99\n"
          ]
        },
        {
          "output_type": "stream",
          "name": "stderr",
          "text": [
            "<ipython-input-13-7e18a2be0358>:44: DeprecationWarning: This function is deprecated. Please call randint(1, 31 + 1) instead\n",
            "  self.day = np.random.random_integers(1, Constant.MONTHS_LEN[self.month-1])\n"
          ]
        },
        {
          "output_type": "stream",
          "name": "stdout",
          "text": [
            "Episode:       1, reward: -1536.24, mean_last_100: -1595.21, exploration: 0.99\n",
            "Episode:       2, reward: -1719.92, mean_last_100: -1636.78, exploration: 0.99\n",
            "Episode:       3, reward: -1481.39, mean_last_100: -1597.93, exploration: 0.98\n",
            "Episode:       4, reward: -1665.57, mean_last_100: -1611.46, exploration: 0.98\n",
            "Episode:       5, reward: -1594.75, mean_last_100: -1608.67, exploration: 0.97\n",
            "Episode:       6, reward: -1401.04, mean_last_100: -1579.01, exploration: 0.97\n"
          ]
        },
        {
          "output_type": "stream",
          "name": "stderr",
          "text": [
            "<ipython-input-13-7e18a2be0358>:44: DeprecationWarning: This function is deprecated. Please call randint(1, 28 + 1) instead\n",
            "  self.day = np.random.random_integers(1, Constant.MONTHS_LEN[self.month-1])\n"
          ]
        },
        {
          "output_type": "stream",
          "name": "stdout",
          "text": [
            "Episode:       7, reward: -1544.21, mean_last_100: -1574.66, exploration: 0.96\n",
            "Episode:       8, reward: -1608.93, mean_last_100: -1578.47, exploration: 0.96\n",
            "Episode:       9, reward: -1559.34, mean_last_100: -1576.56, exploration: 0.95\n",
            "Episode:      10, reward: -1601.64, mean_last_100: -1578.84, exploration: 0.95\n",
            "Episode:      11, reward: -1653.88, mean_last_100: -1585.09, exploration: 0.94\n",
            "Episode:      12, reward: -1365.81, mean_last_100: -1568.22, exploration: 0.94\n",
            "Episode:      13, reward: -1541.77, mean_last_100: -1566.33, exploration: 0.93\n",
            "Episode:      14, reward: -1451.55, mean_last_100: -1558.68, exploration: 0.93\n",
            "Episode:      15, reward: -1458.14, mean_last_100: -1552.40, exploration: 0.92\n",
            "Episode:      16, reward: -1436.98, mean_last_100: -1545.61, exploration: 0.92\n",
            "Episode:      17, reward: -1638.86, mean_last_100: -1550.79, exploration: 0.91\n",
            "Episode:      18, reward: -1441.83, mean_last_100: -1545.05, exploration: 0.91\n",
            "Episode:      19, reward: -1710.53, mean_last_100: -1553.33, exploration: 0.90\n",
            "Episode:      20, reward: -1455.39, mean_last_100: -1548.66, exploration: 0.90\n",
            "Episode:      21, reward: -1401.55, mean_last_100: -1541.98, exploration: 0.90\n",
            "Episode:      22, reward: -1738.10, mean_last_100: -1550.50, exploration: 0.89\n",
            "Episode:      23, reward: -1507.68, mean_last_100: -1548.72, exploration: 0.89\n",
            "Episode:      24, reward: -1328.22, mean_last_100: -1539.90, exploration: 0.88\n",
            "Episode:      25, reward: -1554.18, mean_last_100: -1540.45, exploration: 0.88\n",
            "Episode:      26, reward: -1562.79, mean_last_100: -1541.28, exploration: 0.87\n",
            "Episode:      27, reward: -1246.31, mean_last_100: -1530.74, exploration: 0.87\n",
            "Episode:      28, reward: -1602.67, mean_last_100: -1533.22, exploration: 0.86\n",
            "Episode:      29, reward: -1147.88, mean_last_100: -1520.38, exploration: 0.86\n",
            "Episode:      30, reward: -1358.29, mean_last_100: -1515.15, exploration: 0.86\n",
            "Episode:      31, reward: -1360.63, mean_last_100: -1510.32, exploration: 0.85\n",
            "Episode:      32, reward: -1542.86, mean_last_100: -1511.31, exploration: 0.85\n",
            "Episode:      33, reward: -1514.86, mean_last_100: -1511.41, exploration: 0.84\n",
            "Episode:      34, reward: -1500.64, mean_last_100: -1511.10, exploration: 0.84\n",
            "Episode:      35, reward: -1153.68, mean_last_100: -1501.17, exploration: 0.83\n",
            "Episode:      36, reward: -1362.68, mean_last_100: -1497.43, exploration: 0.83\n",
            "Episode:      37, reward: -1122.35, mean_last_100: -1487.56, exploration: 0.83\n",
            "Episode:      38, reward: -1444.16, mean_last_100: -1486.45, exploration: 0.82\n",
            "Episode:      39, reward: -1356.52, mean_last_100: -1483.20, exploration: 0.82\n",
            "Episode:      40, reward: -1399.79, mean_last_100: -1481.16, exploration: 0.81\n",
            "Episode:      41, reward: -1444.31, mean_last_100: -1480.29, exploration: 0.81\n",
            "Episode:      42, reward: -1378.47, mean_last_100: -1477.92, exploration: 0.81\n",
            "Episode:      43, reward: -1426.47, mean_last_100: -1476.75, exploration: 0.80\n",
            "Episode:      44, reward: -1364.20, mean_last_100: -1474.25, exploration: 0.80\n",
            "Episode:      45, reward: -1193.32, mean_last_100: -1468.14, exploration: 0.79\n",
            "Episode:      46, reward: -1431.97, mean_last_100: -1467.37, exploration: 0.79\n",
            "Episode:      47, reward: -1332.20, mean_last_100: -1464.56, exploration: 0.79\n",
            "Episode:      48, reward: -1251.28, mean_last_100: -1460.20, exploration: 0.78\n",
            "Episode:      49, reward: -1172.53, mean_last_100: -1454.45, exploration: 0.78\n",
            "Episode:      50, reward: -1485.29, mean_last_100: -1455.05, exploration: 0.77\n",
            "Episode:      51, reward: -1369.21, mean_last_100: -1453.40, exploration: 0.77\n",
            "Episode:      52, reward: -1441.65, mean_last_100: -1453.18, exploration: 0.77\n",
            "Episode:      53, reward: -1183.42, mean_last_100: -1448.19, exploration: 0.76\n",
            "Episode:      54, reward: -1295.39, mean_last_100: -1445.41, exploration: 0.76\n",
            "Episode:      55, reward: -1048.23, mean_last_100: -1438.32, exploration: 0.76\n",
            "Episode:      56, reward: -1270.52, mean_last_100: -1435.37, exploration: 0.75\n",
            "Episode:      57, reward: -1389.71, mean_last_100: -1434.58, exploration: 0.75\n",
            "Episode:      58, reward: -1319.75, mean_last_100: -1432.64, exploration: 0.74\n",
            "Episode:      59, reward: -1449.57, mean_last_100: -1432.92, exploration: 0.74\n",
            "Episode:      60, reward: -1200.87, mean_last_100: -1429.12, exploration: 0.74\n",
            "Episode:      61, reward: -1123.82, mean_last_100: -1424.19, exploration: 0.73\n",
            "Episode:      62, reward: -1189.41, mean_last_100: -1420.47, exploration: 0.73\n",
            "Episode:      63, reward: -1301.67, mean_last_100: -1418.61, exploration: 0.73\n",
            "Episode:      64, reward: -1221.02, mean_last_100: -1415.57, exploration: 0.72\n",
            "Episode:      65, reward: -1109.37, mean_last_100: -1410.93, exploration: 0.72\n",
            "Episode:      66, reward: -1121.26, mean_last_100: -1406.61, exploration: 0.71\n",
            "Episode:      67, reward: -1080.78, mean_last_100: -1401.82, exploration: 0.71\n",
            "Episode:      68, reward: -1130.35, mean_last_100: -1397.88, exploration: 0.71\n",
            "Episode:      69, reward: -1320.79, mean_last_100: -1396.78, exploration: 0.70\n",
            "Episode:      70, reward: -1050.53, mean_last_100: -1391.90, exploration: 0.70\n",
            "Episode:      71, reward: -1045.43, mean_last_100: -1387.09, exploration: 0.70\n",
            "Episode:      72, reward: -1074.82, mean_last_100: -1382.81, exploration: 0.69\n",
            "Episode:      73, reward: -1147.38, mean_last_100: -1379.63, exploration: 0.69\n",
            "Episode:      74, reward: -1036.35, mean_last_100: -1375.05, exploration: 0.69\n",
            "Episode:      75, reward: -1151.58, mean_last_100: -1372.11, exploration: 0.68\n",
            "Episode:      76, reward: -1076.26, mean_last_100: -1368.27, exploration: 0.68\n",
            "Episode:      77, reward: -1075.01, mean_last_100: -1364.51, exploration: 0.68\n",
            "Episode:      78, reward: -1235.14, mean_last_100: -1362.87, exploration: 0.67\n",
            "Episode:      79, reward: -1020.80, mean_last_100: -1358.60, exploration: 0.67\n",
            "Episode:      80, reward: -1175.36, mean_last_100: -1356.34, exploration: 0.67\n",
            "Episode:      81, reward: -1114.53, mean_last_100: -1353.39, exploration: 0.66\n",
            "Episode:      82, reward: -1268.18, mean_last_100: -1352.36, exploration: 0.66\n",
            "Episode:      83, reward: -1111.28, mean_last_100: -1349.49, exploration: 0.66\n",
            "Episode:      84, reward: -1088.78, mean_last_100: -1346.42, exploration: 0.65\n",
            "Episode:      85, reward: -1068.67, mean_last_100: -1343.19, exploration: 0.65\n",
            "Episode:      86, reward: -1301.19, mean_last_100: -1342.71, exploration: 0.65\n",
            "Episode:      87, reward: -1117.78, mean_last_100: -1340.16, exploration: 0.64\n",
            "Episode:      88, reward:  -964.47, mean_last_100: -1335.93, exploration: 0.64\n",
            "Episode:      89, reward: -1233.95, mean_last_100: -1334.80, exploration: 0.64\n",
            "Episode:      90, reward: -1076.46, mean_last_100: -1331.96, exploration: 0.63\n",
            "Episode:      91, reward: -1048.86, mean_last_100: -1328.88, exploration: 0.63\n",
            "Episode:      92, reward:  -874.91, mean_last_100: -1324.00, exploration: 0.63\n",
            "Episode:      93, reward: -1096.35, mean_last_100: -1321.58, exploration: 0.62\n",
            "Episode:      94, reward: -1115.75, mean_last_100: -1319.41, exploration: 0.62\n",
            "Episode:      95, reward:  -990.62, mean_last_100: -1315.99, exploration: 0.62\n",
            "Episode:      96, reward:  -973.78, mean_last_100: -1312.46, exploration: 0.61\n",
            "Episode:      97, reward:  -931.58, mean_last_100: -1308.58, exploration: 0.61\n",
            "Episode:      98, reward: -1108.76, mean_last_100: -1306.56, exploration: 0.61\n",
            "Episode:      99, reward:  -963.26, mean_last_100: -1303.12, exploration: 0.61\n",
            "Episode:     100, reward:  -898.06, mean_last_100: -1295.56, exploration: 0.60\n",
            "Episode:     101, reward:  -869.76, mean_last_100: -1288.90, exploration: 0.60\n",
            "Episode:     102, reward: -1045.06, mean_last_100: -1282.15, exploration: 0.60\n",
            "Episode:     103, reward:  -977.80, mean_last_100: -1277.11, exploration: 0.59\n",
            "Episode:     104, reward: -1141.88, mean_last_100: -1271.88, exploration: 0.59\n",
            "Episode:     105, reward:  -957.33, mean_last_100: -1265.50, exploration: 0.59\n",
            "Episode:     106, reward:  -907.95, mean_last_100: -1260.57, exploration: 0.58\n",
            "Episode:     107, reward: -1000.68, mean_last_100: -1255.14, exploration: 0.58\n",
            "Episode:     108, reward:  -976.67, mean_last_100: -1248.81, exploration: 0.58\n",
            "Episode:     109, reward:  -943.25, mean_last_100: -1242.65, exploration: 0.58\n",
            "Episode:     110, reward: -1059.59, mean_last_100: -1237.23, exploration: 0.57\n",
            "Episode:     111, reward:  -890.45, mean_last_100: -1229.60, exploration: 0.57\n",
            "Episode:     112, reward: -1060.84, mean_last_100: -1226.55, exploration: 0.57\n",
            "Episode:     113, reward:  -820.40, mean_last_100: -1219.33, exploration: 0.56\n",
            "Episode:     114, reward:  -852.51, mean_last_100: -1213.34, exploration: 0.56\n",
            "Episode:     115, reward:  -880.97, mean_last_100: -1207.57, exploration: 0.56\n",
            "Episode:     116, reward:  -966.27, mean_last_100: -1202.87, exploration: 0.56\n",
            "Episode:     117, reward:  -846.12, mean_last_100: -1194.94, exploration: 0.55\n",
            "Episode:     118, reward:  -903.83, mean_last_100: -1189.56, exploration: 0.55\n",
            "Episode:     119, reward:  -951.90, mean_last_100: -1181.97, exploration: 0.55\n",
            "Episode:     120, reward:  -838.91, mean_last_100: -1175.81, exploration: 0.55\n",
            "Episode:     121, reward:  -901.38, mean_last_100: -1170.81, exploration: 0.54\n",
            "Episode:     122, reward:  -980.81, mean_last_100: -1163.23, exploration: 0.54\n",
            "Episode:     123, reward:  -767.34, mean_last_100: -1155.83, exploration: 0.54\n",
            "Episode:     124, reward:  -792.47, mean_last_100: -1150.47, exploration: 0.53\n",
            "Episode:     125, reward: -1010.40, mean_last_100: -1145.03, exploration: 0.53\n",
            "Episode:     126, reward:  -777.49, mean_last_100: -1137.18, exploration: 0.53\n",
            "Episode:     127, reward: -1066.26, mean_last_100: -1135.38, exploration: 0.53\n",
            "Episode:     128, reward:  -886.87, mean_last_100: -1128.22, exploration: 0.52\n",
            "Episode:     129, reward:  -721.60, mean_last_100: -1123.96, exploration: 0.52\n",
            "Episode:     130, reward:  -858.24, mean_last_100: -1118.96, exploration: 0.52\n",
            "Episode:     131, reward:  -804.82, mean_last_100: -1113.40, exploration: 0.52\n",
            "Episode:     132, reward:  -820.52, mean_last_100: -1106.18, exploration: 0.51\n",
            "Episode:     133, reward:  -702.80, mean_last_100: -1098.06, exploration: 0.51\n",
            "Episode:     134, reward:  -856.59, mean_last_100: -1091.62, exploration: 0.51\n",
            "Episode:     135, reward:  -929.37, mean_last_100: -1089.37, exploration: 0.51\n",
            "Episode:     136, reward:  -800.56, mean_last_100: -1083.75, exploration: 0.50\n",
            "Episode:     137, reward:  -873.79, mean_last_100: -1081.27, exploration: 0.50\n",
            "Episode:     138, reward:  -678.64, mean_last_100: -1073.61, exploration: 0.50\n",
            "Episode:     139, reward:  -811.93, mean_last_100: -1068.17, exploration: 0.50\n",
            "Episode:     140, reward:  -885.94, mean_last_100: -1063.03, exploration: 0.49\n",
            "Episode:     141, reward:  -735.75, mean_last_100: -1055.94, exploration: 0.49\n",
            "Episode:     142, reward:  -865.56, mean_last_100: -1050.81, exploration: 0.49\n",
            "Episode:     143, reward:  -760.65, mean_last_100: -1044.15, exploration: 0.49\n",
            "Episode:     144, reward:  -696.93, mean_last_100: -1037.48, exploration: 0.48\n",
            "Episode:     145, reward:  -664.55, mean_last_100: -1032.19, exploration: 0.48\n",
            "Episode:     146, reward:  -754.45, mean_last_100: -1025.42, exploration: 0.48\n",
            "Episode:     147, reward:  -842.63, mean_last_100: -1020.52, exploration: 0.48\n",
            "Episode:     148, reward:  -748.33, mean_last_100: -1015.49, exploration: 0.47\n",
            "Episode:     149, reward:  -839.11, mean_last_100: -1012.16, exploration: 0.47\n",
            "Episode:     150, reward:  -758.49, mean_last_100: -1004.89, exploration: 0.47\n",
            "Episode:     151, reward:  -778.47, mean_last_100:  -998.98, exploration: 0.47\n",
            "Episode:     152, reward:  -818.32, mean_last_100:  -992.75, exploration: 0.46\n",
            "Episode:     153, reward:  -742.61, mean_last_100:  -988.34, exploration: 0.46\n",
            "Episode:     154, reward:  -827.49, mean_last_100:  -983.66, exploration: 0.46\n",
            "Episode:     155, reward:  -929.07, mean_last_100:  -982.47, exploration: 0.46\n",
            "Episode:     156, reward:  -765.32, mean_last_100:  -977.42, exploration: 0.46\n",
            "Episode:     157, reward:  -815.25, mean_last_100:  -971.67, exploration: 0.45\n",
            "Episode:     158, reward:  -801.85, mean_last_100:  -966.50, exploration: 0.45\n",
            "Episode:     159, reward:  -708.86, mean_last_100:  -959.09, exploration: 0.45\n",
            "Episode:     160, reward:  -799.90, mean_last_100:  -955.08, exploration: 0.45\n",
            "Episode:     161, reward:  -748.85, mean_last_100:  -951.33, exploration: 0.44\n",
            "Episode:     162, reward:  -728.89, mean_last_100:  -946.72, exploration: 0.44\n",
            "Episode:     163, reward:  -782.14, mean_last_100:  -941.53, exploration: 0.44\n",
            "Episode:     164, reward:  -727.15, mean_last_100:  -936.59, exploration: 0.44\n",
            "Episode:     165, reward:  -820.34, mean_last_100:  -933.70, exploration: 0.44\n",
            "Episode:     166, reward:  -737.82, mean_last_100:  -929.87, exploration: 0.43\n",
            "Episode:     167, reward:  -630.04, mean_last_100:  -925.36, exploration: 0.43\n",
            "Episode:     168, reward:  -704.83, mean_last_100:  -921.10, exploration: 0.43\n",
            "Episode:     169, reward:  -551.18, mean_last_100:  -913.41, exploration: 0.43\n",
            "Episode:     170, reward:  -705.30, mean_last_100:  -909.95, exploration: 0.42\n",
            "Episode:     171, reward:  -728.48, mean_last_100:  -906.78, exploration: 0.42\n",
            "Episode:     172, reward:  -754.18, mean_last_100:  -903.58, exploration: 0.42\n",
            "Episode:     173, reward:  -635.18, mean_last_100:  -898.46, exploration: 0.42\n",
            "Episode:     174, reward:  -641.08, mean_last_100:  -894.50, exploration: 0.42\n",
            "Episode:     175, reward:  -673.77, mean_last_100:  -889.73, exploration: 0.41\n",
            "Episode:     176, reward:  -578.59, mean_last_100:  -884.75, exploration: 0.41\n",
            "Episode:     177, reward:  -659.35, mean_last_100:  -880.59, exploration: 0.41\n",
            "Episode:     178, reward:  -685.31, mean_last_100:  -875.09, exploration: 0.41\n",
            "Episode:     179, reward:  -679.00, mean_last_100:  -871.68, exploration: 0.41\n",
            "Episode:     180, reward:  -831.37, mean_last_100:  -868.24, exploration: 0.40\n",
            "Episode:     181, reward:  -586.47, mean_last_100:  -862.96, exploration: 0.40\n",
            "Episode:     182, reward:  -692.28, mean_last_100:  -857.20, exploration: 0.40\n",
            "Episode:     183, reward:  -766.60, mean_last_100:  -853.75, exploration: 0.40\n",
            "Episode:     184, reward:  -681.46, mean_last_100:  -849.68, exploration: 0.40\n",
            "Episode:     185, reward:  -653.60, mean_last_100:  -845.53, exploration: 0.39\n",
            "Episode:     186, reward:  -512.95, mean_last_100:  -837.64, exploration: 0.39\n",
            "Episode:     187, reward:  -626.77, mean_last_100:  -832.73, exploration: 0.39\n",
            "Episode:     188, reward:  -569.19, mean_last_100:  -828.78, exploration: 0.39\n",
            "Episode:     189, reward:  -496.40, mean_last_100:  -821.40, exploration: 0.39\n",
            "Episode:     190, reward:  -650.68, mean_last_100:  -817.15, exploration: 0.38\n",
            "Episode:     191, reward:  -620.33, mean_last_100:  -812.86, exploration: 0.38\n",
            "Episode:     192, reward:  -705.64, mean_last_100:  -811.17, exploration: 0.38\n",
            "Episode:     193, reward:  -763.90, mean_last_100:  -807.84, exploration: 0.38\n",
            "Episode:     194, reward:  -622.82, mean_last_100:  -802.92, exploration: 0.38\n",
            "Episode:     195, reward:  -612.75, mean_last_100:  -799.14, exploration: 0.37\n",
            "Episode:     196, reward:  -644.27, mean_last_100:  -795.84, exploration: 0.37\n",
            "Episode:     197, reward:  -642.07, mean_last_100:  -792.95, exploration: 0.37\n",
            "Episode:     198, reward:  -602.40, mean_last_100:  -787.88, exploration: 0.37\n"
          ]
        },
        {
          "output_type": "stream",
          "name": "stderr",
          "text": [
            "/usr/local/lib/python3.10/dist-packages/keras/src/engine/training.py:3079: UserWarning: You are saving your model as an HDF5 file via `model.save()`. This file format is considered legacy. We recommend using instead the native Keras format, e.g. `model.save('my_model.keras')`.\n",
            "  saving_api.save_model(\n",
            "WARNING:tensorflow:Compiled the loaded model, but the compiled metrics have yet to be built. `model.compile_metrics` will be empty until you train or evaluate the model.\n"
          ]
        },
        {
          "output_type": "stream",
          "name": "stdout",
          "text": [
            "Episode:     199, reward:  -507.50, mean_last_100:  -783.33, exploration: 0.37\n"
          ]
        }
      ],
      "source": [
        "print('Starting training !')\n",
        "epoch = 200\n",
        "train_dqn(epoch=epoch, save_model=True )"
      ]
    },
    {
      "cell_type": "markdown",
      "metadata": {
        "id": "IV_bf5qRBdjR"
      },
      "source": [
        "#### To load and test a model"
      ]
    },
    {
      "cell_type": "code",
      "execution_count": 48,
      "metadata": {
        "id": "NkPiSt03M6Y4"
      },
      "outputs": [],
      "source": [
        "%matplotlib inline"
      ]
    },
    {
      "cell_type": "code",
      "execution_count": 49,
      "metadata": {
        "id": "AWof_CWjBj58",
        "colab": {
          "base_uri": "https://localhost:8080/"
        },
        "outputId": "76c0c6d7-897f-4112-fad5-945801207c1b"
      },
      "outputs": [
        {
          "output_type": "stream",
          "name": "stdout",
          "text": [
            "Starting testing !\n"
          ]
        },
        {
          "output_type": "stream",
          "name": "stderr",
          "text": [
            "<ipython-input-13-7e18a2be0358>:43: DeprecationWarning: This function is deprecated. Please call randint(1, 12 + 1) instead\n",
            "  self.month = np.random.random_integers(1, 12)\n",
            "<ipython-input-13-7e18a2be0358>:44: DeprecationWarning: This function is deprecated. Please call randint(1, 31 + 1) instead\n",
            "  self.day = np.random.random_integers(1, Constant.MONTHS_LEN[self.month-1])\n",
            "<ipython-input-13-7e18a2be0358>:45: DeprecationWarning: This function is deprecated. Please call randint(0, 23 + 1) instead\n",
            "  self.time = np.random.random_integers(0, 23)\n"
          ]
        },
        {
          "output_type": "execute_result",
          "data": {
            "text/plain": [
              "([18.953814858430622,\n",
              "  10.772773096511415,\n",
              "  14.081073498510296,\n",
              "  13.17602756923975,\n",
              "  12.419075752146334,\n",
              "  14.692710249492933,\n",
              "  14.882390047367693,\n",
              "  16.136057454575493,\n",
              "  17.912662780503297,\n",
              "  21.103460386627944,\n",
              "  19.62117828899889,\n",
              "  42.84004699488787],\n",
              " 0,\n",
              " [0.06266517923023113,\n",
              "  0.04672806489930118,\n",
              "  0.040541503857631056,\n",
              "  0.035300358830570935,\n",
              "  0.032517372792935956,\n",
              "  0.02961074004643381,\n",
              "  0.02805153803162842,\n",
              "  0.027531972898497264,\n",
              "  0.0267555095460323,\n",
              "  0.02643415019583893,\n",
              "  0.02609765463907844,\n",
              "  0.02609765463907844,\n",
              "  0.02609765463907844,\n",
              "  0.02609765463907844,\n",
              "  0.02609765463907844,\n",
              "  0.02609765463907844,\n",
              "  0.02609765463907844,\n",
              "  0.025747773387486784,\n",
              "  0.025747773387486784,\n",
              "  0.025747773387486784,\n",
              "  0.10131744543720447,\n",
              "  0.11949438012128677,\n",
              "  0.10900785891461502,\n",
              "  0.08692359194350188],\n",
              " [58.52128454765759,\n",
              "  60.68840783532882,\n",
              "  61.17059961615074,\n",
              "  61.62265441067129,\n",
              "  61.68359844649871,\n",
              "  63.31099570677269,\n",
              "  66.38496830951242,\n",
              "  55.384968309512416,\n",
              "  55.384968309512416,\n",
              "  55.384968309512416,\n",
              "  55.384968309512416,\n",
              "  55.384968309512416,\n",
              "  55.384968309512416,\n",
              "  55.384968309512416,\n",
              "  55.384968309512416,\n",
              "  55.384968309512416,\n",
              "  55.384968309512416,\n",
              "  55.384968309512416,\n",
              "  55.384968309512416,\n",
              "  55.384968309512416,\n",
              "  55.384968309512416,\n",
              "  55.57419887999184,\n",
              "  55.65716953036245,\n",
              "  56.041532131272334],\n",
              " [0.02176676712328767,\n",
              "  0.02076712328767123,\n",
              "  0.020646821917808218,\n",
              "  0.021775753424657533,\n",
              "  0.02525731506849315,\n",
              "  0.029944109589041097,\n",
              "  0.034098219178082194,\n",
              "  0.034090684931506854,\n",
              "  0.03277468493150685,\n",
              "  0.03177712328767123,\n",
              "  0.03021295890410959,\n",
              "  0.028285397260273973,\n",
              "  0.027278684931506852,\n",
              "  0.02764235616438356,\n",
              "  0.02887142465753425,\n",
              "  0.03199104109589041,\n",
              "  0.036843616438356167,\n",
              "  0.038324000000000004,\n",
              "  0.036384931506849315,\n",
              "  0.03264389041095891,\n",
              "  0.029800027397260273,\n",
              "  0.027333917808219182,\n",
              "  0.024447643835616442,\n",
              "  0.022935506849315064],\n",
              " [2.7726027397260276,\n",
              "  2.410958904109589,\n",
              "  1.326027397260274,\n",
              "  1.2958904109589042,\n",
              "  1.115068493150685,\n",
              "  1.6273972602739726,\n",
              "  3.073972602739726,\n",
              "  0.0,\n",
              "  0.0,\n",
              "  0.0,\n",
              "  0.0,\n",
              "  0.0,\n",
              "  0.0,\n",
              "  0.0,\n",
              "  0.0,\n",
              "  0.0,\n",
              "  0.0,\n",
              "  0.0,\n",
              "  0.0,\n",
              "  0.0,\n",
              "  0.0,\n",
              "  0.0,\n",
              "  0.0,\n",
              "  0.3616438356164383],\n",
              " [0.0,\n",
              "  0.0,\n",
              "  0.0,\n",
              "  0.0,\n",
              "  0.0,\n",
              "  0.0,\n",
              "  0.0,\n",
              "  0.0,\n",
              "  0.0,\n",
              "  1.4591855882904862e-05,\n",
              "  0.0,\n",
              "  0.0,\n",
              "  0.0,\n",
              "  0.0,\n",
              "  0.0,\n",
              "  0.0,\n",
              "  0.0,\n",
              "  0.0,\n",
              "  0.0,\n",
              "  0.0,\n",
              "  0.0851025558266091,\n",
              "  0.15629194220304,\n",
              "  0.05355560142615875,\n",
              "  0.00823276412084819],\n",
              " [0.10866806793332863,\n",
              "  0.10588878848990689,\n",
              "  0.10437052588271185,\n",
              "  0.11310353184458287,\n",
              "  0.14468404600621346,\n",
              "  0.16483731266171903,\n",
              "  0.48507992774432823,\n",
              "  0.5664248871340402,\n",
              "  0.6257087243185014,\n",
              "  0.7770918499567134,\n",
              "  0.778576529833973,\n",
              "  0.5633735142318538,\n",
              "  0.5773972508327347,\n",
              "  0.7291978122709017,\n",
              "  0.6426954351537141,\n",
              "  0.3890126772880633,\n",
              "  0.2774077426796083,\n",
              "  0.3049213888013896,\n",
              "  0.6722795718150393,\n",
              "  0.8555087462256473,\n",
              "  0.5388233383116842,\n",
              "  0.3154225179685883,\n",
              "  0.18829219102867456,\n",
              "  0.11776507550261064])"
            ]
          },
          "metadata": {},
          "execution_count": 49
        }
      ],
      "source": [
        "print('Starting testing !')\n",
        "#testing on the saved model with action get_action_ppo\n",
        "test_models(_get_action_dqn, network_name=\"trained_models/neural_network_dqn_ep200.h5\", debug=False )"
      ]
    },
    {
      "cell_type": "markdown",
      "metadata": {
        "id": "9L993AhSCCSV"
      },
      "source": [
        "#### Plot graph of money spent"
      ]
    },
    {
      "cell_type": "code",
      "execution_count": 50,
      "metadata": {
        "colab": {
          "base_uri": "https://localhost:8080/",
          "height": 724
        },
        "id": "hLgDcqTuCVul",
        "outputId": "7b5a5e0d-cadd-4bc8-d781-3b6fbe341aa7"
      },
      "outputs": [
        {
          "output_type": "stream",
          "name": "stderr",
          "text": [
            "<ipython-input-13-7e18a2be0358>:43: DeprecationWarning: This function is deprecated. Please call randint(1, 12 + 1) instead\n",
            "  self.month = np.random.random_integers(1, 12)\n",
            "<ipython-input-13-7e18a2be0358>:44: DeprecationWarning: This function is deprecated. Please call randint(1, 30 + 1) instead\n",
            "  self.day = np.random.random_integers(1, Constant.MONTHS_LEN[self.month-1])\n",
            "<ipython-input-13-7e18a2be0358>:45: DeprecationWarning: This function is deprecated. Please call randint(0, 23 + 1) instead\n",
            "  self.time = np.random.random_integers(0, 23)\n",
            "<ipython-input-13-7e18a2be0358>:43: DeprecationWarning: This function is deprecated. Please call randint(1, 12 + 1) instead\n",
            "  self.month = np.random.random_integers(1, 12)\n",
            "<ipython-input-13-7e18a2be0358>:44: DeprecationWarning: This function is deprecated. Please call randint(1, 30 + 1) instead\n",
            "  self.day = np.random.random_integers(1, Constant.MONTHS_LEN[self.month-1])\n",
            "<ipython-input-13-7e18a2be0358>:45: DeprecationWarning: This function is deprecated. Please call randint(0, 23 + 1) instead\n",
            "  self.time = np.random.random_integers(0, 23)\n"
          ]
        },
        {
          "output_type": "display_data",
          "data": {
            "text/plain": [
              "<Figure size 640x480 with 1 Axes>"
            ],
            "image/png": "[encoded data removed]"
          },
          "metadata": {}
        }
      ],
      "source": [
        "\n",
        "histo_plotter = HistoPlotter()\n",
        "monthly_total_list_dqn, _, _, _, _, _, _, _ = test_models( _get_action_dqn, network_name=\"trained_models/neural_network_dqn_ep200.h5\" )\n",
        "monthly_total_list_random, _, _, _, _, _, _, _ = test_models( _get_action_random, network_name=\"trained_models/neural_network_dqn_ep200.h5\" )\n",
        "histo_plotter.trained_list = monthly_total_list_dqn\n",
        "histo_plotter.random_list = monthly_total_list_random\n",
        "histo_plotter.plot()\n"
      ]
    },
    {
      "cell_type": "markdown",
      "metadata": {
        "id": "9JVZPLBLCI8l"
      },
      "source": [
        "#### Plot graph of battery_charge"
      ]
    },
    {
      "cell_type": "code",
      "execution_count": 51,
      "metadata": {
        "colab": {
          "base_uri": "https://localhost:8080/",
          "height": 553
        },
        "id": "NwymbZmFCcBw",
        "outputId": "ea04621d-f90f-4541-b439-772a5515653b"
      },
      "outputs": [
        {
          "output_type": "stream",
          "name": "stderr",
          "text": [
            "<ipython-input-13-7e18a2be0358>:43: DeprecationWarning: This function is deprecated. Please call randint(1, 12 + 1) instead\n",
            "  self.month = np.random.random_integers(1, 12)\n",
            "<ipython-input-13-7e18a2be0358>:44: DeprecationWarning: This function is deprecated. Please call randint(1, 30 + 1) instead\n",
            "  self.day = np.random.random_integers(1, Constant.MONTHS_LEN[self.month-1])\n",
            "<ipython-input-13-7e18a2be0358>:45: DeprecationWarning: This function is deprecated. Please call randint(0, 23 + 1) instead\n",
            "  self.time = np.random.random_integers(0, 23)\n"
          ]
        },
        {
          "output_type": "display_data",
          "data": {
            "text/plain": [
              "<Figure size 640x480 with 2 Axes>"
            ],
            "image/png": "[encoded data removed]"
          },
          "metadata": {}
        }
      ],
      "source": [
        "\n",
        "_, _, hourly_home_battery__dqn, hourly_ev_battery__dqn, hourly_price_dqn, hourly_charge_dqn_sg, hourly_charge_dqn_pv, _ = test_models( _get_action_dqn, network_name=\"trained_models/neural_network_dqn_ep200.h5\" )\n",
        "line_plotter = DoubleLinePlotter( hourly_home_battery__dqn, hourly_ev_battery__dqn, hourly_price_dqn, hourly_charge_dqn_sg, hourly_charge_dqn_pv )\n",
        "line_plotter.plot()\n"
      ]
    },
    {
      "cell_type": "markdown",
      "metadata": {
        "id": "8-_1UMzMCLKP"
      },
      "source": [
        "#### Plot graph of reward function"
      ]
    },
    {
      "cell_type": "code",
      "execution_count": 100,
      "metadata": {
        "colab": {
          "base_uri": "https://localhost:8080/",
          "height": 482
        },
        "id": "OnmzcEFCCmIf",
        "outputId": "2a03deb8-7817-4c76-8818-be54cdcd4c1f"
      },
      "outputs": [
        {
          "output_type": "display_data",
          "data": {
            "text/plain": [
              "<Figure size 640x480 with 1 Axes>"
            ],
            "image/png": "[encoded data removed]"
          },
          "metadata": {}
        }
      ],
      "source": [
        "plotter = LinePlotter(x_label=\"Episode\", y_label=\"Reward\", title=\"Reward Function\")\n",
        "plotter.load_array([ glob.glob(\"data/reward_DQN_*.txt\") ])\n",
        "plotter.process_data( rolling_window=100, starting_pointer=0 )\n",
        "plotter.render( labels=[\"DQN\"], colors=[\"r\"] )"
      ]
    },
    {
      "cell_type": "markdown",
      "metadata": {
        "id": "xx_zH5DaCOxl"
      },
      "source": [
        "#### Plot graph of consumer demands"
      ]
    },
    {
      "cell_type": "code",
      "execution_count": 101,
      "metadata": {
        "colab": {
          "base_uri": "https://localhost:8080/",
          "height": 559
        },
        "id": "Pze4DObdCrSR",
        "outputId": "90ed855f-e235-4414-af59-cabcdcbe97c9"
      },
      "outputs": [
        {
          "output_type": "stream",
          "name": "stderr",
          "text": [
            "<ipython-input-13-7e18a2be0358>:43: DeprecationWarning: This function is deprecated. Please call randint(1, 12 + 1) instead\n",
            "  self.month = np.random.random_integers(1, 12)\n",
            "<ipython-input-13-7e18a2be0358>:44: DeprecationWarning: This function is deprecated. Please call randint(1, 30 + 1) instead\n",
            "  self.day = np.random.random_integers(1, Constant.MONTHS_LEN[self.month-1])\n",
            "<ipython-input-13-7e18a2be0358>:45: DeprecationWarning: This function is deprecated. Please call randint(0, 23 + 1) instead\n",
            "  self.time = np.random.random_integers(0, 23)\n"
          ]
        },
        {
          "output_type": "display_data",
          "data": {
            "text/plain": [
              "<Figure size 640x480 with 2 Axes>"
            ],
            "image/png": "[encoded data removed]"
          },
          "metadata": {}
        }
      ],
      "source": [
        "\n",
        "_, _, hourly_home_battery__dqn, hourly_ev_battery__dqn, hourly_price_dqn, hourly_charge_dqn_sg, hourly_charge_dqn_pv, house_demands = test_models( _get_action_dqn, network_name=\"trained_models/neural_network_dqn_ep200.h5\" )\n",
        "\n",
        "line_plotter = DemandsPlotter(house_demands, hourly_charge_dqn_pv)\n",
        "line_plotter.plot()\n"
      ]
    },
    {
      "cell_type": "markdown",
      "metadata": {
        "id": "G2k42BX1CSWJ"
      },
      "source": [
        "#### Plot graph of generation"
      ]
    },
    {
      "cell_type": "code",
      "execution_count": 102,
      "metadata": {
        "colab": {
          "base_uri": "https://localhost:8080/",
          "height": 683
        },
        "id": "IxKdAY8C4RS2",
        "outputId": "bcd11b4b-32e0-4076-a360-d5e40c6a251e"
      },
      "outputs": [
        {
          "output_type": "stream",
          "name": "stderr",
          "text": [
            "/usr/local/lib/python3.10/dist-packages/ipykernel/ipkernel.py:283: DeprecationWarning: `should_run_async` will not call `transform_cell` automatically in the future. Please pass the result to `transformed_cell` argument and any exception that happen during thetransform in `preprocessing_exc_tuple` in IPython 7.17 and above.\n",
            "  and should_run_async(code)\n",
            "<ipython-input-13-7e18a2be0358>:43: DeprecationWarning: This function is deprecated. Please call randint(1, 12 + 1) instead\n",
            "  self.month = np.random.random_integers(1, 12)\n",
            "<ipython-input-13-7e18a2be0358>:44: DeprecationWarning: This function is deprecated. Please call randint(1, 31 + 1) instead\n",
            "  self.day = np.random.random_integers(1, Constant.MONTHS_LEN[self.month-1])\n",
            "<ipython-input-13-7e18a2be0358>:45: DeprecationWarning: This function is deprecated. Please call randint(0, 23 + 1) instead\n",
            "  self.time = np.random.random_integers(0, 23)\n"
          ]
        },
        {
          "output_type": "stream",
          "name": "stdout",
          "text": [
            "[-49.93733482076977, -49.9532719351007, -49.95945849614237, -49.96469964116943, -49.96748262720706, -49.97038925995356, -49.971948461968374, -49.972468027101506, -49.973244490453965, -49.97356584980416, -49.97390234536092, -49.97390234536092, -49.97390234536092, -49.97390234536092, -49.97390234536092, -49.97390234536092, -49.97390234536092, -49.97425222661251, -49.97425222661251, -49.97425222661251, -49.8986825545628, -49.88050561987871, -49.890992141085384, -49.9130764080565]\n",
            "(24,)\n",
            "(24,)\n",
            "(24,)\n"
          ]
        },
        {
          "output_type": "display_data",
          "data": {
            "text/plain": [
              "<Figure size 640x480 with 2 Axes>"
            ],
            "image/png": "[encoded data removed]"
          },
          "metadata": {}
        }
      ],
      "source": [
        "\n",
        "_, _, hourly_home_battery__dqn, hourly_ev_battery__dqn, hourly_price_dqn, hourly_charge_dqn_sg, hourly_charge_dqn_pv, house_demands = test_models( _get_action_dqn, network_name=\"trained_models/neural_network_dqn_ep200.h5\" )\n",
        "\n",
        "for i in range(len(hourly_home_battery__dqn)):\n",
        "  hourly_home_battery__dqn[i] -= 50\n",
        "print(hourly_home_battery__dqn)\n",
        "print(np.array(hourly_home_battery__dqn).shape)\n",
        "print(np.array(hourly_charge_dqn_pv).shape)\n",
        "print(np.array(hourly_charge_dqn_sg).shape)\n",
        "line_plotter = GenerationPlotter(hourly_charge_dqn_pv, hourly_charge_dqn_sg, hourly_home_battery__dqn)\n",
        "line_plotter.plot()\n",
        "\n"
      ]
    },
    {
      "cell_type": "code",
      "execution_count": null,
      "metadata": {
        "id": "T6dpF117ODKG"
      },
      "outputs": [],
      "source": []
    }
  ],
  "metadata": {
    "colab": {
      "provenance": []
    },
    "kernelspec": {
      "display_name": "Python 3 (ipykernel)",
      "language": "python",
      "name": "python3"
    },
    "language_info": {
      "codemirror_mode": {
        "name": "ipython",
        "version": 3
      },
      "file_extension": ".py",
      "mimetype": "text/x-python",
      "name": "python",
      "nbconvert_exporter": "python",
      "pygments_lexer": "ipython3",
      "version": "3.11.1"
    }
  },
  "nbformat": 4,
  "nbformat_minor": 0
}